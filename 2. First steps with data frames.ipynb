{
 "cells": [
  {
   "cell_type": "markdown",
   "metadata": {},
   "source": [
    "# First steps with DataFrames.jl\n",
    "\n",
    "### Bogumił Kamiński\n",
    "\n",
    "In this notebook we will reproduce the classical Anscombe's quartert plot.\n",
    "\n",
    "Our objective is to produce a figure similar to this one (the plot is taken from https://upload.wikimedia.org/wikipedia/commons/e/ec/Anscombe%27s_quartet_3.svg):"
   ]
  },
  {
   "cell_type": "markdown",
   "metadata": {},
   "source": [
    "![Anscombe's quartet](https://upload.wikimedia.org/wikipedia/commons/e/ec/Anscombe%27s_quartet_3.svg)"
   ]
  },
  {
   "cell_type": "markdown",
   "metadata": {},
   "source": [
    "We start with loading of the required packages"
   ]
  },
  {
   "cell_type": "code",
   "execution_count": 70,
   "metadata": {},
   "outputs": [
    {
     "ename": "Base.Meta.ParseError",
     "evalue": "ParseError:\n# Error @ c:\\Users\\chadi\\OneDrive - Handelshögskolan i Stockholm\\GitHub\\JuliaAcademy\\DataFrames\\2. First steps with data frames.ipynb:1:1\n] activate .\n╙ ── unexpected `]`",
     "output_type": "error",
     "traceback": [
      "ParseError:\n",
      "# Error @ c:\\Users\\chadi\\OneDrive - Handelshögskolan i Stockholm\\GitHub\\JuliaAcademy\\DataFrames\\2. First steps with data frames.ipynb:1:1\n",
      "] activate .\n",
      "╙ ── unexpected `]`\n",
      "\n",
      "Stacktrace:\n",
      " [1] top-level scope\n",
      "   @ c:\\Users\\chadi\\OneDrive - Handelshögskolan i Stockholm\\GitHub\\JuliaAcademy\\DataFrames\\2. First steps with data frames.ipynb:1"
     ]
    }
   ],
   "source": [
    "] activate ."
   ]
  },
  {
   "cell_type": "code",
   "execution_count": 71,
   "metadata": {},
   "outputs": [],
   "source": [
    "using DataFrames"
   ]
  },
  {
   "cell_type": "code",
   "execution_count": 72,
   "metadata": {},
   "outputs": [],
   "source": [
    "using Statistics"
   ]
  },
  {
   "cell_type": "code",
   "execution_count": 105,
   "metadata": {},
   "outputs": [],
   "source": [
    "using PyPlot"
   ]
  },
  {
   "cell_type": "markdown",
   "metadata": {},
   "source": [
    "<div class=\"alert alert-block alert-info\">\n",
    "    <p><b>PyPlot.jl configuration:</b></p>\n",
    "    <p>In some environments automatic installation of PyPlot.jl might fail. If you encounter this ussue please refer to <a href=\"https://github.com/JuliaPy/PyPlot.jl#installation\">the PyPlot.jl installation instructions</a>. </p>\n",
    "</div>\n",
    "\n",
    "In particular typically executing the following commands:\n",
    "\n",
    "```\n",
    "using Pkg\n",
    "ENV[\"PYTHON\"]=\"\"\n",
    "Pkg.build(\"PyCall\")\n",
    "```\n",
    "\n",
    "should resolve the PyPlot.jl installation issues. However, on OS X sometimes more configuration steps are required. You can find the detailed instructions [here](https://github.com/JuliaPy/PyPlot.jl#os-x)."
   ]
  },
  {
   "cell_type": "code",
   "execution_count": 74,
   "metadata": {},
   "outputs": [],
   "source": [
    "using GLM"
   ]
  },
  {
   "cell_type": "markdown",
   "metadata": {},
   "source": [
    "This is a matrix in which we store 8 columns representing Anscombe's quartet data."
   ]
  },
  {
   "cell_type": "code",
   "execution_count": 75,
   "metadata": {},
   "outputs": [
    {
     "data": {
      "text/plain": [
       "11×8 Matrix{Float64}:\n",
       " 10.0   8.04  10.0  9.14  10.0   7.46   8.0   6.58\n",
       "  8.0   6.95   8.0  8.14   8.0   6.77   8.0   5.76\n",
       " 13.0   7.58  13.0  8.74  13.0  12.74   8.0   7.71\n",
       "  9.0   8.81   9.0  8.77   9.0   7.11   8.0   8.84\n",
       " 11.0   8.33  11.0  9.26  11.0   7.81   8.0   8.47\n",
       " 14.0   9.96  14.0  8.1   14.0   8.84   8.0   7.04\n",
       "  6.0   7.24   6.0  6.13   6.0   6.08   8.0   5.25\n",
       "  4.0   4.26   4.0  3.1    4.0   5.39  19.0  12.5\n",
       " 12.0  10.84  12.0  9.13  12.0   8.15   8.0   5.56\n",
       "  7.0   4.82   7.0  7.26   7.0   6.42   8.0   7.91\n",
       "  5.0   5.68   5.0  4.74   5.0   5.73   8.0   6.89"
      ]
     },
     "metadata": {},
     "output_type": "display_data"
    }
   ],
   "source": [
    "aq = [10.0   8.04  10.0  9.14  10.0   7.46   8.0   6.58\n",
    "       8.0   6.95   8.0  8.14   8.0   6.77   8.0   5.76\n",
    "      13.0   7.58  13.0  8.74  13.0  12.74   8.0   7.71\n",
    "       9.0   8.81   9.0  8.77   9.0   7.11   8.0   8.84\n",
    "      11.0   8.33  11.0  9.26  11.0   7.81   8.0   8.47\n",
    "      14.0   9.96  14.0  8.1   14.0   8.84   8.0   7.04\n",
    "       6.0   7.24   6.0  6.13   6.0   6.08   8.0   5.25\n",
    "       4.0   4.26   4.0  3.1    4.0   5.39  19.0  12.50 \n",
    "      12.0  10.84  12.0  9.13  12.0   8.15   8.0   5.56\n",
    "       7.0   4.82   7.0  7.26   7.0   6.42   8.0   7.91\n",
    "       5.0   5.68   5.0  4.74   5.0   5.73   8.0   6.89]"
   ]
  },
  {
   "cell_type": "markdown",
   "metadata": {},
   "source": [
    "We can simply convert a maxtrx to a `DataFrame` by calling its constructor"
   ]
  },
  {
   "cell_type": "code",
   "execution_count": 76,
   "metadata": {},
   "outputs": [
    {
     "data": {
      "text/html": [
       "<div><div style = \"float: left;\"><span>11×8 DataFrame</span></div><div style = \"clear: both;\"></div></div><div class = \"data-frame\" style = \"overflow-x: scroll;\"><table class = \"data-frame\" style = \"margin-bottom: 6px;\"><thead><tr class = \"header\"><th class = \"rowNumber\" style = \"font-weight: bold; text-align: right;\">Row</th><th style = \"text-align: left;\">x1</th><th style = \"text-align: left;\">x2</th><th style = \"text-align: left;\">x3</th><th style = \"text-align: left;\">x4</th><th style = \"text-align: left;\">x5</th><th style = \"text-align: left;\">x6</th><th style = \"text-align: left;\">x7</th><th style = \"text-align: left;\">x8</th></tr><tr class = \"subheader headerLastRow\"><th class = \"rowNumber\" style = \"font-weight: bold; text-align: right;\"></th><th title = \"Float64\" style = \"text-align: left;\">Float64</th><th title = \"Float64\" style = \"text-align: left;\">Float64</th><th title = \"Float64\" style = \"text-align: left;\">Float64</th><th title = \"Float64\" style = \"text-align: left;\">Float64</th><th title = \"Float64\" style = \"text-align: left;\">Float64</th><th title = \"Float64\" style = \"text-align: left;\">Float64</th><th title = \"Float64\" style = \"text-align: left;\">Float64</th><th title = \"Float64\" style = \"text-align: left;\">Float64</th></tr></thead><tbody><tr><td class = \"rowNumber\" style = \"font-weight: bold; text-align: right;\">1</td><td style = \"text-align: right;\">10.0</td><td style = \"text-align: right;\">8.04</td><td style = \"text-align: right;\">10.0</td><td style = \"text-align: right;\">9.14</td><td style = \"text-align: right;\">10.0</td><td style = \"text-align: right;\">7.46</td><td style = \"text-align: right;\">8.0</td><td style = \"text-align: right;\">6.58</td></tr><tr><td class = \"rowNumber\" style = \"font-weight: bold; text-align: right;\">2</td><td style = \"text-align: right;\">8.0</td><td style = \"text-align: right;\">6.95</td><td style = \"text-align: right;\">8.0</td><td style = \"text-align: right;\">8.14</td><td style = \"text-align: right;\">8.0</td><td style = \"text-align: right;\">6.77</td><td style = \"text-align: right;\">8.0</td><td style = \"text-align: right;\">5.76</td></tr><tr><td class = \"rowNumber\" style = \"font-weight: bold; text-align: right;\">3</td><td style = \"text-align: right;\">13.0</td><td style = \"text-align: right;\">7.58</td><td style = \"text-align: right;\">13.0</td><td style = \"text-align: right;\">8.74</td><td style = \"text-align: right;\">13.0</td><td style = \"text-align: right;\">12.74</td><td style = \"text-align: right;\">8.0</td><td style = \"text-align: right;\">7.71</td></tr><tr><td class = \"rowNumber\" style = \"font-weight: bold; text-align: right;\">4</td><td style = \"text-align: right;\">9.0</td><td style = \"text-align: right;\">8.81</td><td style = \"text-align: right;\">9.0</td><td style = \"text-align: right;\">8.77</td><td style = \"text-align: right;\">9.0</td><td style = \"text-align: right;\">7.11</td><td style = \"text-align: right;\">8.0</td><td style = \"text-align: right;\">8.84</td></tr><tr><td class = \"rowNumber\" style = \"font-weight: bold; text-align: right;\">5</td><td style = \"text-align: right;\">11.0</td><td style = \"text-align: right;\">8.33</td><td style = \"text-align: right;\">11.0</td><td style = \"text-align: right;\">9.26</td><td style = \"text-align: right;\">11.0</td><td style = \"text-align: right;\">7.81</td><td style = \"text-align: right;\">8.0</td><td style = \"text-align: right;\">8.47</td></tr><tr><td class = \"rowNumber\" style = \"font-weight: bold; text-align: right;\">6</td><td style = \"text-align: right;\">14.0</td><td style = \"text-align: right;\">9.96</td><td style = \"text-align: right;\">14.0</td><td style = \"text-align: right;\">8.1</td><td style = \"text-align: right;\">14.0</td><td style = \"text-align: right;\">8.84</td><td style = \"text-align: right;\">8.0</td><td style = \"text-align: right;\">7.04</td></tr><tr><td class = \"rowNumber\" style = \"font-weight: bold; text-align: right;\">7</td><td style = \"text-align: right;\">6.0</td><td style = \"text-align: right;\">7.24</td><td style = \"text-align: right;\">6.0</td><td style = \"text-align: right;\">6.13</td><td style = \"text-align: right;\">6.0</td><td style = \"text-align: right;\">6.08</td><td style = \"text-align: right;\">8.0</td><td style = \"text-align: right;\">5.25</td></tr><tr><td class = \"rowNumber\" style = \"font-weight: bold; text-align: right;\">8</td><td style = \"text-align: right;\">4.0</td><td style = \"text-align: right;\">4.26</td><td style = \"text-align: right;\">4.0</td><td style = \"text-align: right;\">3.1</td><td style = \"text-align: right;\">4.0</td><td style = \"text-align: right;\">5.39</td><td style = \"text-align: right;\">19.0</td><td style = \"text-align: right;\">12.5</td></tr><tr><td class = \"rowNumber\" style = \"font-weight: bold; text-align: right;\">9</td><td style = \"text-align: right;\">12.0</td><td style = \"text-align: right;\">10.84</td><td style = \"text-align: right;\">12.0</td><td style = \"text-align: right;\">9.13</td><td style = \"text-align: right;\">12.0</td><td style = \"text-align: right;\">8.15</td><td style = \"text-align: right;\">8.0</td><td style = \"text-align: right;\">5.56</td></tr><tr><td class = \"rowNumber\" style = \"font-weight: bold; text-align: right;\">10</td><td style = \"text-align: right;\">7.0</td><td style = \"text-align: right;\">4.82</td><td style = \"text-align: right;\">7.0</td><td style = \"text-align: right;\">7.26</td><td style = \"text-align: right;\">7.0</td><td style = \"text-align: right;\">6.42</td><td style = \"text-align: right;\">8.0</td><td style = \"text-align: right;\">7.91</td></tr><tr><td class = \"rowNumber\" style = \"font-weight: bold; text-align: right;\">11</td><td style = \"text-align: right;\">5.0</td><td style = \"text-align: right;\">5.68</td><td style = \"text-align: right;\">5.0</td><td style = \"text-align: right;\">4.74</td><td style = \"text-align: right;\">5.0</td><td style = \"text-align: right;\">5.73</td><td style = \"text-align: right;\">8.0</td><td style = \"text-align: right;\">6.89</td></tr></tbody></table></div>"
      ],
      "text/latex": [
       "\\begin{tabular}{r|cccccccc}\n",
       "\t& x1 & x2 & x3 & x4 & x5 & x6 & x7 & x8\\\\\n",
       "\t\\hline\n",
       "\t& Float64 & Float64 & Float64 & Float64 & Float64 & Float64 & Float64 & Float64\\\\\n",
       "\t\\hline\n",
       "\t1 & 10.0 & 8.04 & 10.0 & 9.14 & 10.0 & 7.46 & 8.0 & 6.58 \\\\\n",
       "\t2 & 8.0 & 6.95 & 8.0 & 8.14 & 8.0 & 6.77 & 8.0 & 5.76 \\\\\n",
       "\t3 & 13.0 & 7.58 & 13.0 & 8.74 & 13.0 & 12.74 & 8.0 & 7.71 \\\\\n",
       "\t4 & 9.0 & 8.81 & 9.0 & 8.77 & 9.0 & 7.11 & 8.0 & 8.84 \\\\\n",
       "\t5 & 11.0 & 8.33 & 11.0 & 9.26 & 11.0 & 7.81 & 8.0 & 8.47 \\\\\n",
       "\t6 & 14.0 & 9.96 & 14.0 & 8.1 & 14.0 & 8.84 & 8.0 & 7.04 \\\\\n",
       "\t7 & 6.0 & 7.24 & 6.0 & 6.13 & 6.0 & 6.08 & 8.0 & 5.25 \\\\\n",
       "\t8 & 4.0 & 4.26 & 4.0 & 3.1 & 4.0 & 5.39 & 19.0 & 12.5 \\\\\n",
       "\t9 & 12.0 & 10.84 & 12.0 & 9.13 & 12.0 & 8.15 & 8.0 & 5.56 \\\\\n",
       "\t10 & 7.0 & 4.82 & 7.0 & 7.26 & 7.0 & 6.42 & 8.0 & 7.91 \\\\\n",
       "\t11 & 5.0 & 5.68 & 5.0 & 4.74 & 5.0 & 5.73 & 8.0 & 6.89 \\\\\n",
       "\\end{tabular}\n"
      ],
      "text/plain": [
       "\u001b[1m11×8 DataFrame\u001b[0m\n",
       "\u001b[1m Row \u001b[0m│\u001b[1m x1      \u001b[0m\u001b[1m x2      \u001b[0m\u001b[1m x3      \u001b[0m\u001b[1m x4      \u001b[0m\u001b[1m x5      \u001b[0m\u001b[1m x6      \u001b[0m\u001b[1m x7      \u001b[0m\u001b[1m x8      \u001b[0m\n",
       "     │\u001b[90m Float64 \u001b[0m\u001b[90m Float64 \u001b[0m\u001b[90m Float64 \u001b[0m\u001b[90m Float64 \u001b[0m\u001b[90m Float64 \u001b[0m\u001b[90m Float64 \u001b[0m\u001b[90m Float64 \u001b[0m\u001b[90m Float64 \u001b[0m\n",
       "─────┼────────────────────────────────────────────────────────────────────────\n",
       "   1 │    10.0     8.04     10.0     9.14     10.0     7.46      8.0     6.58\n",
       "   2 │     8.0     6.95      8.0     8.14      8.0     6.77      8.0     5.76\n",
       "   3 │    13.0     7.58     13.0     8.74     13.0    12.74      8.0     7.71\n",
       "   4 │     9.0     8.81      9.0     8.77      9.0     7.11      8.0     8.84\n",
       "   5 │    11.0     8.33     11.0     9.26     11.0     7.81      8.0     8.47\n",
       "   6 │    14.0     9.96     14.0     8.1      14.0     8.84      8.0     7.04\n",
       "   7 │     6.0     7.24      6.0     6.13      6.0     6.08      8.0     5.25\n",
       "   8 │     4.0     4.26      4.0     3.1       4.0     5.39     19.0    12.5\n",
       "   9 │    12.0    10.84     12.0     9.13     12.0     8.15      8.0     5.56\n",
       "  10 │     7.0     4.82      7.0     7.26      7.0     6.42      8.0     7.91\n",
       "  11 │     5.0     5.68      5.0     4.74      5.0     5.73      8.0     6.89"
      ]
     },
     "metadata": {},
     "output_type": "display_data"
    }
   ],
   "source": [
    "df = DataFrame(aq, :auto)"
   ]
  },
  {
   "cell_type": "markdown",
   "metadata": {},
   "source": [
    "Note that the auto-generated column names are `x1`, `x2`, etc."
   ]
  },
  {
   "cell_type": "markdown",
   "metadata": {},
   "source": [
    "Next we replace automatically generated column names by proper ones."
   ]
  },
  {
   "cell_type": "code",
   "execution_count": 77,
   "metadata": {},
   "outputs": [
    {
     "data": {
      "text/plain": [
       "8-element Vector{String}:\n",
       " \"x1\"\n",
       " \"y1\"\n",
       " \"x2\"\n",
       " \"y2\"\n",
       " \"x3\"\n",
       " \"y3\"\n",
       " \"x4\"\n",
       " \"y4\""
      ]
     },
     "metadata": {},
     "output_type": "display_data"
    }
   ],
   "source": [
    "newnames = vec(string.([\"x\", \"y\"], [1 2 3 4]))"
   ]
  },
  {
   "cell_type": "code",
   "execution_count": 78,
   "metadata": {},
   "outputs": [
    {
     "data": {
      "text/html": [
       "<div><div style = \"float: left;\"><span>11×8 DataFrame</span></div><div style = \"clear: both;\"></div></div><div class = \"data-frame\" style = \"overflow-x: scroll;\"><table class = \"data-frame\" style = \"margin-bottom: 6px;\"><thead><tr class = \"header\"><th class = \"rowNumber\" style = \"font-weight: bold; text-align: right;\">Row</th><th style = \"text-align: left;\">x1</th><th style = \"text-align: left;\">y1</th><th style = \"text-align: left;\">x2</th><th style = \"text-align: left;\">y2</th><th style = \"text-align: left;\">x3</th><th style = \"text-align: left;\">y3</th><th style = \"text-align: left;\">x4</th><th style = \"text-align: left;\">y4</th></tr><tr class = \"subheader headerLastRow\"><th class = \"rowNumber\" style = \"font-weight: bold; text-align: right;\"></th><th title = \"Float64\" style = \"text-align: left;\">Float64</th><th title = \"Float64\" style = \"text-align: left;\">Float64</th><th title = \"Float64\" style = \"text-align: left;\">Float64</th><th title = \"Float64\" style = \"text-align: left;\">Float64</th><th title = \"Float64\" style = \"text-align: left;\">Float64</th><th title = \"Float64\" style = \"text-align: left;\">Float64</th><th title = \"Float64\" style = \"text-align: left;\">Float64</th><th title = \"Float64\" style = \"text-align: left;\">Float64</th></tr></thead><tbody><tr><td class = \"rowNumber\" style = \"font-weight: bold; text-align: right;\">1</td><td style = \"text-align: right;\">10.0</td><td style = \"text-align: right;\">8.04</td><td style = \"text-align: right;\">10.0</td><td style = \"text-align: right;\">9.14</td><td style = \"text-align: right;\">10.0</td><td style = \"text-align: right;\">7.46</td><td style = \"text-align: right;\">8.0</td><td style = \"text-align: right;\">6.58</td></tr><tr><td class = \"rowNumber\" style = \"font-weight: bold; text-align: right;\">2</td><td style = \"text-align: right;\">8.0</td><td style = \"text-align: right;\">6.95</td><td style = \"text-align: right;\">8.0</td><td style = \"text-align: right;\">8.14</td><td style = \"text-align: right;\">8.0</td><td style = \"text-align: right;\">6.77</td><td style = \"text-align: right;\">8.0</td><td style = \"text-align: right;\">5.76</td></tr><tr><td class = \"rowNumber\" style = \"font-weight: bold; text-align: right;\">3</td><td style = \"text-align: right;\">13.0</td><td style = \"text-align: right;\">7.58</td><td style = \"text-align: right;\">13.0</td><td style = \"text-align: right;\">8.74</td><td style = \"text-align: right;\">13.0</td><td style = \"text-align: right;\">12.74</td><td style = \"text-align: right;\">8.0</td><td style = \"text-align: right;\">7.71</td></tr><tr><td class = \"rowNumber\" style = \"font-weight: bold; text-align: right;\">4</td><td style = \"text-align: right;\">9.0</td><td style = \"text-align: right;\">8.81</td><td style = \"text-align: right;\">9.0</td><td style = \"text-align: right;\">8.77</td><td style = \"text-align: right;\">9.0</td><td style = \"text-align: right;\">7.11</td><td style = \"text-align: right;\">8.0</td><td style = \"text-align: right;\">8.84</td></tr><tr><td class = \"rowNumber\" style = \"font-weight: bold; text-align: right;\">5</td><td style = \"text-align: right;\">11.0</td><td style = \"text-align: right;\">8.33</td><td style = \"text-align: right;\">11.0</td><td style = \"text-align: right;\">9.26</td><td style = \"text-align: right;\">11.0</td><td style = \"text-align: right;\">7.81</td><td style = \"text-align: right;\">8.0</td><td style = \"text-align: right;\">8.47</td></tr><tr><td class = \"rowNumber\" style = \"font-weight: bold; text-align: right;\">6</td><td style = \"text-align: right;\">14.0</td><td style = \"text-align: right;\">9.96</td><td style = \"text-align: right;\">14.0</td><td style = \"text-align: right;\">8.1</td><td style = \"text-align: right;\">14.0</td><td style = \"text-align: right;\">8.84</td><td style = \"text-align: right;\">8.0</td><td style = \"text-align: right;\">7.04</td></tr><tr><td class = \"rowNumber\" style = \"font-weight: bold; text-align: right;\">7</td><td style = \"text-align: right;\">6.0</td><td style = \"text-align: right;\">7.24</td><td style = \"text-align: right;\">6.0</td><td style = \"text-align: right;\">6.13</td><td style = \"text-align: right;\">6.0</td><td style = \"text-align: right;\">6.08</td><td style = \"text-align: right;\">8.0</td><td style = \"text-align: right;\">5.25</td></tr><tr><td class = \"rowNumber\" style = \"font-weight: bold; text-align: right;\">8</td><td style = \"text-align: right;\">4.0</td><td style = \"text-align: right;\">4.26</td><td style = \"text-align: right;\">4.0</td><td style = \"text-align: right;\">3.1</td><td style = \"text-align: right;\">4.0</td><td style = \"text-align: right;\">5.39</td><td style = \"text-align: right;\">19.0</td><td style = \"text-align: right;\">12.5</td></tr><tr><td class = \"rowNumber\" style = \"font-weight: bold; text-align: right;\">9</td><td style = \"text-align: right;\">12.0</td><td style = \"text-align: right;\">10.84</td><td style = \"text-align: right;\">12.0</td><td style = \"text-align: right;\">9.13</td><td style = \"text-align: right;\">12.0</td><td style = \"text-align: right;\">8.15</td><td style = \"text-align: right;\">8.0</td><td style = \"text-align: right;\">5.56</td></tr><tr><td class = \"rowNumber\" style = \"font-weight: bold; text-align: right;\">10</td><td style = \"text-align: right;\">7.0</td><td style = \"text-align: right;\">4.82</td><td style = \"text-align: right;\">7.0</td><td style = \"text-align: right;\">7.26</td><td style = \"text-align: right;\">7.0</td><td style = \"text-align: right;\">6.42</td><td style = \"text-align: right;\">8.0</td><td style = \"text-align: right;\">7.91</td></tr><tr><td class = \"rowNumber\" style = \"font-weight: bold; text-align: right;\">11</td><td style = \"text-align: right;\">5.0</td><td style = \"text-align: right;\">5.68</td><td style = \"text-align: right;\">5.0</td><td style = \"text-align: right;\">4.74</td><td style = \"text-align: right;\">5.0</td><td style = \"text-align: right;\">5.73</td><td style = \"text-align: right;\">8.0</td><td style = \"text-align: right;\">6.89</td></tr></tbody></table></div>"
      ],
      "text/latex": [
       "\\begin{tabular}{r|cccccccc}\n",
       "\t& x1 & y1 & x2 & y2 & x3 & y3 & x4 & y4\\\\\n",
       "\t\\hline\n",
       "\t& Float64 & Float64 & Float64 & Float64 & Float64 & Float64 & Float64 & Float64\\\\\n",
       "\t\\hline\n",
       "\t1 & 10.0 & 8.04 & 10.0 & 9.14 & 10.0 & 7.46 & 8.0 & 6.58 \\\\\n",
       "\t2 & 8.0 & 6.95 & 8.0 & 8.14 & 8.0 & 6.77 & 8.0 & 5.76 \\\\\n",
       "\t3 & 13.0 & 7.58 & 13.0 & 8.74 & 13.0 & 12.74 & 8.0 & 7.71 \\\\\n",
       "\t4 & 9.0 & 8.81 & 9.0 & 8.77 & 9.0 & 7.11 & 8.0 & 8.84 \\\\\n",
       "\t5 & 11.0 & 8.33 & 11.0 & 9.26 & 11.0 & 7.81 & 8.0 & 8.47 \\\\\n",
       "\t6 & 14.0 & 9.96 & 14.0 & 8.1 & 14.0 & 8.84 & 8.0 & 7.04 \\\\\n",
       "\t7 & 6.0 & 7.24 & 6.0 & 6.13 & 6.0 & 6.08 & 8.0 & 5.25 \\\\\n",
       "\t8 & 4.0 & 4.26 & 4.0 & 3.1 & 4.0 & 5.39 & 19.0 & 12.5 \\\\\n",
       "\t9 & 12.0 & 10.84 & 12.0 & 9.13 & 12.0 & 8.15 & 8.0 & 5.56 \\\\\n",
       "\t10 & 7.0 & 4.82 & 7.0 & 7.26 & 7.0 & 6.42 & 8.0 & 7.91 \\\\\n",
       "\t11 & 5.0 & 5.68 & 5.0 & 4.74 & 5.0 & 5.73 & 8.0 & 6.89 \\\\\n",
       "\\end{tabular}\n"
      ],
      "text/plain": [
       "\u001b[1m11×8 DataFrame\u001b[0m\n",
       "\u001b[1m Row \u001b[0m│\u001b[1m x1      \u001b[0m\u001b[1m y1      \u001b[0m\u001b[1m x2      \u001b[0m\u001b[1m y2      \u001b[0m\u001b[1m x3      \u001b[0m\u001b[1m y3      \u001b[0m\u001b[1m x4      \u001b[0m\u001b[1m y4      \u001b[0m\n",
       "     │\u001b[90m Float64 \u001b[0m\u001b[90m Float64 \u001b[0m\u001b[90m Float64 \u001b[0m\u001b[90m Float64 \u001b[0m\u001b[90m Float64 \u001b[0m\u001b[90m Float64 \u001b[0m\u001b[90m Float64 \u001b[0m\u001b[90m Float64 \u001b[0m\n",
       "─────┼────────────────────────────────────────────────────────────────────────\n",
       "   1 │    10.0     8.04     10.0     9.14     10.0     7.46      8.0     6.58\n",
       "   2 │     8.0     6.95      8.0     8.14      8.0     6.77      8.0     5.76\n",
       "   3 │    13.0     7.58     13.0     8.74     13.0    12.74      8.0     7.71\n",
       "   4 │     9.0     8.81      9.0     8.77      9.0     7.11      8.0     8.84\n",
       "   5 │    11.0     8.33     11.0     9.26     11.0     7.81      8.0     8.47\n",
       "   6 │    14.0     9.96     14.0     8.1      14.0     8.84      8.0     7.04\n",
       "   7 │     6.0     7.24      6.0     6.13      6.0     6.08      8.0     5.25\n",
       "   8 │     4.0     4.26      4.0     3.1       4.0     5.39     19.0    12.5\n",
       "   9 │    12.0    10.84     12.0     9.13     12.0     8.15      8.0     5.56\n",
       "  10 │     7.0     4.82      7.0     7.26      7.0     6.42      8.0     7.91\n",
       "  11 │     5.0     5.68      5.0     4.74      5.0     5.73      8.0     6.89"
      ]
     },
     "metadata": {},
     "output_type": "display_data"
    }
   ],
   "source": [
    "rename!(df, newnames)"
   ]
  },
  {
   "cell_type": "markdown",
   "metadata": {},
   "source": [
    "We could have also assigned the names to columns at the moment of data frame creation like this:"
   ]
  },
  {
   "cell_type": "code",
   "execution_count": 79,
   "metadata": {},
   "outputs": [
    {
     "data": {
      "text/html": [
       "<div><div style = \"float: left;\"><span>11×8 DataFrame</span></div><div style = \"clear: both;\"></div></div><div class = \"data-frame\" style = \"overflow-x: scroll;\"><table class = \"data-frame\" style = \"margin-bottom: 6px;\"><thead><tr class = \"header\"><th class = \"rowNumber\" style = \"font-weight: bold; text-align: right;\">Row</th><th style = \"text-align: left;\">x1</th><th style = \"text-align: left;\">y1</th><th style = \"text-align: left;\">x2</th><th style = \"text-align: left;\">y2</th><th style = \"text-align: left;\">x3</th><th style = \"text-align: left;\">y3</th><th style = \"text-align: left;\">x4</th><th style = \"text-align: left;\">y4</th></tr><tr class = \"subheader headerLastRow\"><th class = \"rowNumber\" style = \"font-weight: bold; text-align: right;\"></th><th title = \"Float64\" style = \"text-align: left;\">Float64</th><th title = \"Float64\" style = \"text-align: left;\">Float64</th><th title = \"Float64\" style = \"text-align: left;\">Float64</th><th title = \"Float64\" style = \"text-align: left;\">Float64</th><th title = \"Float64\" style = \"text-align: left;\">Float64</th><th title = \"Float64\" style = \"text-align: left;\">Float64</th><th title = \"Float64\" style = \"text-align: left;\">Float64</th><th title = \"Float64\" style = \"text-align: left;\">Float64</th></tr></thead><tbody><tr><td class = \"rowNumber\" style = \"font-weight: bold; text-align: right;\">1</td><td style = \"text-align: right;\">10.0</td><td style = \"text-align: right;\">8.04</td><td style = \"text-align: right;\">10.0</td><td style = \"text-align: right;\">9.14</td><td style = \"text-align: right;\">10.0</td><td style = \"text-align: right;\">7.46</td><td style = \"text-align: right;\">8.0</td><td style = \"text-align: right;\">6.58</td></tr><tr><td class = \"rowNumber\" style = \"font-weight: bold; text-align: right;\">2</td><td style = \"text-align: right;\">8.0</td><td style = \"text-align: right;\">6.95</td><td style = \"text-align: right;\">8.0</td><td style = \"text-align: right;\">8.14</td><td style = \"text-align: right;\">8.0</td><td style = \"text-align: right;\">6.77</td><td style = \"text-align: right;\">8.0</td><td style = \"text-align: right;\">5.76</td></tr><tr><td class = \"rowNumber\" style = \"font-weight: bold; text-align: right;\">3</td><td style = \"text-align: right;\">13.0</td><td style = \"text-align: right;\">7.58</td><td style = \"text-align: right;\">13.0</td><td style = \"text-align: right;\">8.74</td><td style = \"text-align: right;\">13.0</td><td style = \"text-align: right;\">12.74</td><td style = \"text-align: right;\">8.0</td><td style = \"text-align: right;\">7.71</td></tr><tr><td class = \"rowNumber\" style = \"font-weight: bold; text-align: right;\">4</td><td style = \"text-align: right;\">9.0</td><td style = \"text-align: right;\">8.81</td><td style = \"text-align: right;\">9.0</td><td style = \"text-align: right;\">8.77</td><td style = \"text-align: right;\">9.0</td><td style = \"text-align: right;\">7.11</td><td style = \"text-align: right;\">8.0</td><td style = \"text-align: right;\">8.84</td></tr><tr><td class = \"rowNumber\" style = \"font-weight: bold; text-align: right;\">5</td><td style = \"text-align: right;\">11.0</td><td style = \"text-align: right;\">8.33</td><td style = \"text-align: right;\">11.0</td><td style = \"text-align: right;\">9.26</td><td style = \"text-align: right;\">11.0</td><td style = \"text-align: right;\">7.81</td><td style = \"text-align: right;\">8.0</td><td style = \"text-align: right;\">8.47</td></tr><tr><td class = \"rowNumber\" style = \"font-weight: bold; text-align: right;\">6</td><td style = \"text-align: right;\">14.0</td><td style = \"text-align: right;\">9.96</td><td style = \"text-align: right;\">14.0</td><td style = \"text-align: right;\">8.1</td><td style = \"text-align: right;\">14.0</td><td style = \"text-align: right;\">8.84</td><td style = \"text-align: right;\">8.0</td><td style = \"text-align: right;\">7.04</td></tr><tr><td class = \"rowNumber\" style = \"font-weight: bold; text-align: right;\">7</td><td style = \"text-align: right;\">6.0</td><td style = \"text-align: right;\">7.24</td><td style = \"text-align: right;\">6.0</td><td style = \"text-align: right;\">6.13</td><td style = \"text-align: right;\">6.0</td><td style = \"text-align: right;\">6.08</td><td style = \"text-align: right;\">8.0</td><td style = \"text-align: right;\">5.25</td></tr><tr><td class = \"rowNumber\" style = \"font-weight: bold; text-align: right;\">8</td><td style = \"text-align: right;\">4.0</td><td style = \"text-align: right;\">4.26</td><td style = \"text-align: right;\">4.0</td><td style = \"text-align: right;\">3.1</td><td style = \"text-align: right;\">4.0</td><td style = \"text-align: right;\">5.39</td><td style = \"text-align: right;\">19.0</td><td style = \"text-align: right;\">12.5</td></tr><tr><td class = \"rowNumber\" style = \"font-weight: bold; text-align: right;\">9</td><td style = \"text-align: right;\">12.0</td><td style = \"text-align: right;\">10.84</td><td style = \"text-align: right;\">12.0</td><td style = \"text-align: right;\">9.13</td><td style = \"text-align: right;\">12.0</td><td style = \"text-align: right;\">8.15</td><td style = \"text-align: right;\">8.0</td><td style = \"text-align: right;\">5.56</td></tr><tr><td class = \"rowNumber\" style = \"font-weight: bold; text-align: right;\">10</td><td style = \"text-align: right;\">7.0</td><td style = \"text-align: right;\">4.82</td><td style = \"text-align: right;\">7.0</td><td style = \"text-align: right;\">7.26</td><td style = \"text-align: right;\">7.0</td><td style = \"text-align: right;\">6.42</td><td style = \"text-align: right;\">8.0</td><td style = \"text-align: right;\">7.91</td></tr><tr><td class = \"rowNumber\" style = \"font-weight: bold; text-align: right;\">11</td><td style = \"text-align: right;\">5.0</td><td style = \"text-align: right;\">5.68</td><td style = \"text-align: right;\">5.0</td><td style = \"text-align: right;\">4.74</td><td style = \"text-align: right;\">5.0</td><td style = \"text-align: right;\">5.73</td><td style = \"text-align: right;\">8.0</td><td style = \"text-align: right;\">6.89</td></tr></tbody></table></div>"
      ],
      "text/latex": [
       "\\begin{tabular}{r|cccccccc}\n",
       "\t& x1 & y1 & x2 & y2 & x3 & y3 & x4 & y4\\\\\n",
       "\t\\hline\n",
       "\t& Float64 & Float64 & Float64 & Float64 & Float64 & Float64 & Float64 & Float64\\\\\n",
       "\t\\hline\n",
       "\t1 & 10.0 & 8.04 & 10.0 & 9.14 & 10.0 & 7.46 & 8.0 & 6.58 \\\\\n",
       "\t2 & 8.0 & 6.95 & 8.0 & 8.14 & 8.0 & 6.77 & 8.0 & 5.76 \\\\\n",
       "\t3 & 13.0 & 7.58 & 13.0 & 8.74 & 13.0 & 12.74 & 8.0 & 7.71 \\\\\n",
       "\t4 & 9.0 & 8.81 & 9.0 & 8.77 & 9.0 & 7.11 & 8.0 & 8.84 \\\\\n",
       "\t5 & 11.0 & 8.33 & 11.0 & 9.26 & 11.0 & 7.81 & 8.0 & 8.47 \\\\\n",
       "\t6 & 14.0 & 9.96 & 14.0 & 8.1 & 14.0 & 8.84 & 8.0 & 7.04 \\\\\n",
       "\t7 & 6.0 & 7.24 & 6.0 & 6.13 & 6.0 & 6.08 & 8.0 & 5.25 \\\\\n",
       "\t8 & 4.0 & 4.26 & 4.0 & 3.1 & 4.0 & 5.39 & 19.0 & 12.5 \\\\\n",
       "\t9 & 12.0 & 10.84 & 12.0 & 9.13 & 12.0 & 8.15 & 8.0 & 5.56 \\\\\n",
       "\t10 & 7.0 & 4.82 & 7.0 & 7.26 & 7.0 & 6.42 & 8.0 & 7.91 \\\\\n",
       "\t11 & 5.0 & 5.68 & 5.0 & 4.74 & 5.0 & 5.73 & 8.0 & 6.89 \\\\\n",
       "\\end{tabular}\n"
      ],
      "text/plain": [
       "\u001b[1m11×8 DataFrame\u001b[0m\n",
       "\u001b[1m Row \u001b[0m│\u001b[1m x1      \u001b[0m\u001b[1m y1      \u001b[0m\u001b[1m x2      \u001b[0m\u001b[1m y2      \u001b[0m\u001b[1m x3      \u001b[0m\u001b[1m y3      \u001b[0m\u001b[1m x4      \u001b[0m\u001b[1m y4      \u001b[0m\n",
       "     │\u001b[90m Float64 \u001b[0m\u001b[90m Float64 \u001b[0m\u001b[90m Float64 \u001b[0m\u001b[90m Float64 \u001b[0m\u001b[90m Float64 \u001b[0m\u001b[90m Float64 \u001b[0m\u001b[90m Float64 \u001b[0m\u001b[90m Float64 \u001b[0m\n",
       "─────┼────────────────────────────────────────────────────────────────────────\n",
       "   1 │    10.0     8.04     10.0     9.14     10.0     7.46      8.0     6.58\n",
       "   2 │     8.0     6.95      8.0     8.14      8.0     6.77      8.0     5.76\n",
       "   3 │    13.0     7.58     13.0     8.74     13.0    12.74      8.0     7.71\n",
       "   4 │     9.0     8.81      9.0     8.77      9.0     7.11      8.0     8.84\n",
       "   5 │    11.0     8.33     11.0     9.26     11.0     7.81      8.0     8.47\n",
       "   6 │    14.0     9.96     14.0     8.1      14.0     8.84      8.0     7.04\n",
       "   7 │     6.0     7.24      6.0     6.13      6.0     6.08      8.0     5.25\n",
       "   8 │     4.0     4.26      4.0     3.1       4.0     5.39     19.0    12.5\n",
       "   9 │    12.0    10.84     12.0     9.13     12.0     8.15      8.0     5.56\n",
       "  10 │     7.0     4.82      7.0     7.26      7.0     6.42      8.0     7.91\n",
       "  11 │     5.0     5.68      5.0     4.74      5.0     5.73      8.0     6.89"
      ]
     },
     "metadata": {},
     "output_type": "display_data"
    }
   ],
   "source": [
    "DataFrame(aq, [:x1, :y1, :x2, :y2, :x3, :y3, :x4, :y4])"
   ]
  },
  {
   "cell_type": "markdown",
   "metadata": {},
   "source": [
    "> You might have noticed that in the first example we used a string (e.g. `\"x1\"`) as column name and in the second one we used a `Symbol` (e.g. `:x1`). This was intentional. DataFrames.jl allows you to use either of them for column indexing.\n",
    "\n",
    "To see the above rule at work let us extract the second column `:y1` from this data frame. Here are several options how you can do it:"
   ]
  },
  {
   "cell_type": "code",
   "execution_count": 80,
   "metadata": {},
   "outputs": [
    {
     "data": {
      "text/plain": [
       "11-element Vector{Float64}:\n",
       "  8.04\n",
       "  6.95\n",
       "  7.58\n",
       "  8.81\n",
       "  8.33\n",
       "  9.96\n",
       "  7.24\n",
       "  4.26\n",
       " 10.84\n",
       "  4.82\n",
       "  5.68"
      ]
     },
     "metadata": {},
     "output_type": "display_data"
    }
   ],
   "source": [
    "df.y1"
   ]
  },
  {
   "cell_type": "code",
   "execution_count": 81,
   "metadata": {},
   "outputs": [
    {
     "data": {
      "text/plain": [
       "11-element Vector{Float64}:\n",
       "  8.04\n",
       "  6.95\n",
       "  7.58\n",
       "  8.81\n",
       "  8.33\n",
       "  9.96\n",
       "  7.24\n",
       "  4.26\n",
       " 10.84\n",
       "  4.82\n",
       "  5.68"
      ]
     },
     "metadata": {},
     "output_type": "display_data"
    }
   ],
   "source": [
    "df.\"y1\""
   ]
  },
  {
   "cell_type": "code",
   "execution_count": 82,
   "metadata": {},
   "outputs": [
    {
     "data": {
      "text/plain": [
       "11-element Vector{Float64}:\n",
       "  8.04\n",
       "  6.95\n",
       "  7.58\n",
       "  8.81\n",
       "  8.33\n",
       "  9.96\n",
       "  7.24\n",
       "  4.26\n",
       " 10.84\n",
       "  4.82\n",
       "  5.68"
      ]
     },
     "metadata": {},
     "output_type": "display_data"
    }
   ],
   "source": [
    "df[:, :y1]"
   ]
  },
  {
   "cell_type": "code",
   "execution_count": 83,
   "metadata": {},
   "outputs": [
    {
     "data": {
      "text/plain": [
       "11-element Vector{Float64}:\n",
       "  8.04\n",
       "  6.95\n",
       "  7.58\n",
       "  8.81\n",
       "  8.33\n",
       "  9.96\n",
       "  7.24\n",
       "  4.26\n",
       " 10.84\n",
       "  4.82\n",
       "  5.68"
      ]
     },
     "metadata": {},
     "output_type": "display_data"
    }
   ],
   "source": [
    "df[:, \"y1\"]"
   ]
  },
  {
   "cell_type": "markdown",
   "metadata": {},
   "source": [
    "Assume that now we want to reorder columns of the data frame `df` in-place by first grouping the \"x\"-columns and then \"y\" columns.\n",
    "\n",
    "This can be easily achieved with the `select!` function.\n",
    "\n",
    "Note that in column selection we can in particular use regular expressions like `r\"x\"` (matching all columns that have `\"x\"` in their name) and `:` which matches all columns (in this case only columns not having `\"x\"` in ther name are left)"
   ]
  },
  {
   "cell_type": "code",
   "execution_count": 84,
   "metadata": {},
   "outputs": [
    {
     "data": {
      "text/html": [
       "<div><div style = \"float: left;\"><span>11×8 DataFrame</span></div><div style = \"clear: both;\"></div></div><div class = \"data-frame\" style = \"overflow-x: scroll;\"><table class = \"data-frame\" style = \"margin-bottom: 6px;\"><thead><tr class = \"header\"><th class = \"rowNumber\" style = \"font-weight: bold; text-align: right;\">Row</th><th style = \"text-align: left;\">x1</th><th style = \"text-align: left;\">x2</th><th style = \"text-align: left;\">x3</th><th style = \"text-align: left;\">x4</th><th style = \"text-align: left;\">y1</th><th style = \"text-align: left;\">y2</th><th style = \"text-align: left;\">y3</th><th style = \"text-align: left;\">y4</th></tr><tr class = \"subheader headerLastRow\"><th class = \"rowNumber\" style = \"font-weight: bold; text-align: right;\"></th><th title = \"Float64\" style = \"text-align: left;\">Float64</th><th title = \"Float64\" style = \"text-align: left;\">Float64</th><th title = \"Float64\" style = \"text-align: left;\">Float64</th><th title = \"Float64\" style = \"text-align: left;\">Float64</th><th title = \"Float64\" style = \"text-align: left;\">Float64</th><th title = \"Float64\" style = \"text-align: left;\">Float64</th><th title = \"Float64\" style = \"text-align: left;\">Float64</th><th title = \"Float64\" style = \"text-align: left;\">Float64</th></tr></thead><tbody><tr><td class = \"rowNumber\" style = \"font-weight: bold; text-align: right;\">1</td><td style = \"text-align: right;\">10.0</td><td style = \"text-align: right;\">10.0</td><td style = \"text-align: right;\">10.0</td><td style = \"text-align: right;\">8.0</td><td style = \"text-align: right;\">8.04</td><td style = \"text-align: right;\">9.14</td><td style = \"text-align: right;\">7.46</td><td style = \"text-align: right;\">6.58</td></tr><tr><td class = \"rowNumber\" style = \"font-weight: bold; text-align: right;\">2</td><td style = \"text-align: right;\">8.0</td><td style = \"text-align: right;\">8.0</td><td style = \"text-align: right;\">8.0</td><td style = \"text-align: right;\">8.0</td><td style = \"text-align: right;\">6.95</td><td style = \"text-align: right;\">8.14</td><td style = \"text-align: right;\">6.77</td><td style = \"text-align: right;\">5.76</td></tr><tr><td class = \"rowNumber\" style = \"font-weight: bold; text-align: right;\">3</td><td style = \"text-align: right;\">13.0</td><td style = \"text-align: right;\">13.0</td><td style = \"text-align: right;\">13.0</td><td style = \"text-align: right;\">8.0</td><td style = \"text-align: right;\">7.58</td><td style = \"text-align: right;\">8.74</td><td style = \"text-align: right;\">12.74</td><td style = \"text-align: right;\">7.71</td></tr><tr><td class = \"rowNumber\" style = \"font-weight: bold; text-align: right;\">4</td><td style = \"text-align: right;\">9.0</td><td style = \"text-align: right;\">9.0</td><td style = \"text-align: right;\">9.0</td><td style = \"text-align: right;\">8.0</td><td style = \"text-align: right;\">8.81</td><td style = \"text-align: right;\">8.77</td><td style = \"text-align: right;\">7.11</td><td style = \"text-align: right;\">8.84</td></tr><tr><td class = \"rowNumber\" style = \"font-weight: bold; text-align: right;\">5</td><td style = \"text-align: right;\">11.0</td><td style = \"text-align: right;\">11.0</td><td style = \"text-align: right;\">11.0</td><td style = \"text-align: right;\">8.0</td><td style = \"text-align: right;\">8.33</td><td style = \"text-align: right;\">9.26</td><td style = \"text-align: right;\">7.81</td><td style = \"text-align: right;\">8.47</td></tr><tr><td class = \"rowNumber\" style = \"font-weight: bold; text-align: right;\">6</td><td style = \"text-align: right;\">14.0</td><td style = \"text-align: right;\">14.0</td><td style = \"text-align: right;\">14.0</td><td style = \"text-align: right;\">8.0</td><td style = \"text-align: right;\">9.96</td><td style = \"text-align: right;\">8.1</td><td style = \"text-align: right;\">8.84</td><td style = \"text-align: right;\">7.04</td></tr><tr><td class = \"rowNumber\" style = \"font-weight: bold; text-align: right;\">7</td><td style = \"text-align: right;\">6.0</td><td style = \"text-align: right;\">6.0</td><td style = \"text-align: right;\">6.0</td><td style = \"text-align: right;\">8.0</td><td style = \"text-align: right;\">7.24</td><td style = \"text-align: right;\">6.13</td><td style = \"text-align: right;\">6.08</td><td style = \"text-align: right;\">5.25</td></tr><tr><td class = \"rowNumber\" style = \"font-weight: bold; text-align: right;\">8</td><td style = \"text-align: right;\">4.0</td><td style = \"text-align: right;\">4.0</td><td style = \"text-align: right;\">4.0</td><td style = \"text-align: right;\">19.0</td><td style = \"text-align: right;\">4.26</td><td style = \"text-align: right;\">3.1</td><td style = \"text-align: right;\">5.39</td><td style = \"text-align: right;\">12.5</td></tr><tr><td class = \"rowNumber\" style = \"font-weight: bold; text-align: right;\">9</td><td style = \"text-align: right;\">12.0</td><td style = \"text-align: right;\">12.0</td><td style = \"text-align: right;\">12.0</td><td style = \"text-align: right;\">8.0</td><td style = \"text-align: right;\">10.84</td><td style = \"text-align: right;\">9.13</td><td style = \"text-align: right;\">8.15</td><td style = \"text-align: right;\">5.56</td></tr><tr><td class = \"rowNumber\" style = \"font-weight: bold; text-align: right;\">10</td><td style = \"text-align: right;\">7.0</td><td style = \"text-align: right;\">7.0</td><td style = \"text-align: right;\">7.0</td><td style = \"text-align: right;\">8.0</td><td style = \"text-align: right;\">4.82</td><td style = \"text-align: right;\">7.26</td><td style = \"text-align: right;\">6.42</td><td style = \"text-align: right;\">7.91</td></tr><tr><td class = \"rowNumber\" style = \"font-weight: bold; text-align: right;\">11</td><td style = \"text-align: right;\">5.0</td><td style = \"text-align: right;\">5.0</td><td style = \"text-align: right;\">5.0</td><td style = \"text-align: right;\">8.0</td><td style = \"text-align: right;\">5.68</td><td style = \"text-align: right;\">4.74</td><td style = \"text-align: right;\">5.73</td><td style = \"text-align: right;\">6.89</td></tr></tbody></table></div>"
      ],
      "text/latex": [
       "\\begin{tabular}{r|cccccccc}\n",
       "\t& x1 & x2 & x3 & x4 & y1 & y2 & y3 & y4\\\\\n",
       "\t\\hline\n",
       "\t& Float64 & Float64 & Float64 & Float64 & Float64 & Float64 & Float64 & Float64\\\\\n",
       "\t\\hline\n",
       "\t1 & 10.0 & 10.0 & 10.0 & 8.0 & 8.04 & 9.14 & 7.46 & 6.58 \\\\\n",
       "\t2 & 8.0 & 8.0 & 8.0 & 8.0 & 6.95 & 8.14 & 6.77 & 5.76 \\\\\n",
       "\t3 & 13.0 & 13.0 & 13.0 & 8.0 & 7.58 & 8.74 & 12.74 & 7.71 \\\\\n",
       "\t4 & 9.0 & 9.0 & 9.0 & 8.0 & 8.81 & 8.77 & 7.11 & 8.84 \\\\\n",
       "\t5 & 11.0 & 11.0 & 11.0 & 8.0 & 8.33 & 9.26 & 7.81 & 8.47 \\\\\n",
       "\t6 & 14.0 & 14.0 & 14.0 & 8.0 & 9.96 & 8.1 & 8.84 & 7.04 \\\\\n",
       "\t7 & 6.0 & 6.0 & 6.0 & 8.0 & 7.24 & 6.13 & 6.08 & 5.25 \\\\\n",
       "\t8 & 4.0 & 4.0 & 4.0 & 19.0 & 4.26 & 3.1 & 5.39 & 12.5 \\\\\n",
       "\t9 & 12.0 & 12.0 & 12.0 & 8.0 & 10.84 & 9.13 & 8.15 & 5.56 \\\\\n",
       "\t10 & 7.0 & 7.0 & 7.0 & 8.0 & 4.82 & 7.26 & 6.42 & 7.91 \\\\\n",
       "\t11 & 5.0 & 5.0 & 5.0 & 8.0 & 5.68 & 4.74 & 5.73 & 6.89 \\\\\n",
       "\\end{tabular}\n"
      ],
      "text/plain": [
       "\u001b[1m11×8 DataFrame\u001b[0m\n",
       "\u001b[1m Row \u001b[0m│\u001b[1m x1      \u001b[0m\u001b[1m x2      \u001b[0m\u001b[1m x3      \u001b[0m\u001b[1m x4      \u001b[0m\u001b[1m y1      \u001b[0m\u001b[1m y2      \u001b[0m\u001b[1m y3      \u001b[0m\u001b[1m y4      \u001b[0m\n",
       "     │\u001b[90m Float64 \u001b[0m\u001b[90m Float64 \u001b[0m\u001b[90m Float64 \u001b[0m\u001b[90m Float64 \u001b[0m\u001b[90m Float64 \u001b[0m\u001b[90m Float64 \u001b[0m\u001b[90m Float64 \u001b[0m\u001b[90m Float64 \u001b[0m\n",
       "─────┼────────────────────────────────────────────────────────────────────────\n",
       "   1 │    10.0     10.0     10.0      8.0     8.04     9.14     7.46     6.58\n",
       "   2 │     8.0      8.0      8.0      8.0     6.95     8.14     6.77     5.76\n",
       "   3 │    13.0     13.0     13.0      8.0     7.58     8.74    12.74     7.71\n",
       "   4 │     9.0      9.0      9.0      8.0     8.81     8.77     7.11     8.84\n",
       "   5 │    11.0     11.0     11.0      8.0     8.33     9.26     7.81     8.47\n",
       "   6 │    14.0     14.0     14.0      8.0     9.96     8.1      8.84     7.04\n",
       "   7 │     6.0      6.0      6.0      8.0     7.24     6.13     6.08     5.25\n",
       "   8 │     4.0      4.0      4.0     19.0     4.26     3.1      5.39    12.5\n",
       "   9 │    12.0     12.0     12.0      8.0    10.84     9.13     8.15     5.56\n",
       "  10 │     7.0      7.0      7.0      8.0     4.82     7.26     6.42     7.91\n",
       "  11 │     5.0      5.0      5.0      8.0     5.68     4.74     5.73     6.89"
      ]
     },
     "metadata": {},
     "output_type": "display_data"
    }
   ],
   "source": [
    "select!(df, r\"x\", :)"
   ]
  },
  {
   "cell_type": "markdown",
   "metadata": {},
   "source": [
    "Note that we could have used `select` instead of `select!` function to create a new data frame (instead of mutating the data frame in question in-place)."
   ]
  },
  {
   "cell_type": "markdown",
   "metadata": {},
   "source": [
    "An interesting feature of Anscombe's quartet is that its variables have the same mean and variance.\n",
    "\n",
    "We can easily check this using the `describe` function."
   ]
  },
  {
   "cell_type": "code",
   "execution_count": 85,
   "metadata": {},
   "outputs": [
    {
     "data": {
      "text/html": [
       "<div><div style = \"float: left;\"><span>8×3 DataFrame</span></div><div style = \"clear: both;\"></div></div><div class = \"data-frame\" style = \"overflow-x: scroll;\"><table class = \"data-frame\" style = \"margin-bottom: 6px;\"><thead><tr class = \"header\"><th class = \"rowNumber\" style = \"font-weight: bold; text-align: right;\">Row</th><th style = \"text-align: left;\">variable</th><th style = \"text-align: left;\">mean</th><th style = \"text-align: left;\">std</th></tr><tr class = \"subheader headerLastRow\"><th class = \"rowNumber\" style = \"font-weight: bold; text-align: right;\"></th><th title = \"Symbol\" style = \"text-align: left;\">Symbol</th><th title = \"Float64\" style = \"text-align: left;\">Float64</th><th title = \"Float64\" style = \"text-align: left;\">Float64</th></tr></thead><tbody><tr><td class = \"rowNumber\" style = \"font-weight: bold; text-align: right;\">1</td><td style = \"text-align: left;\">x1</td><td style = \"text-align: right;\">9.0</td><td style = \"text-align: right;\">3.31662</td></tr><tr><td class = \"rowNumber\" style = \"font-weight: bold; text-align: right;\">2</td><td style = \"text-align: left;\">x2</td><td style = \"text-align: right;\">9.0</td><td style = \"text-align: right;\">3.31662</td></tr><tr><td class = \"rowNumber\" style = \"font-weight: bold; text-align: right;\">3</td><td style = \"text-align: left;\">x3</td><td style = \"text-align: right;\">9.0</td><td style = \"text-align: right;\">3.31662</td></tr><tr><td class = \"rowNumber\" style = \"font-weight: bold; text-align: right;\">4</td><td style = \"text-align: left;\">x4</td><td style = \"text-align: right;\">9.0</td><td style = \"text-align: right;\">3.31662</td></tr><tr><td class = \"rowNumber\" style = \"font-weight: bold; text-align: right;\">5</td><td style = \"text-align: left;\">y1</td><td style = \"text-align: right;\">7.50091</td><td style = \"text-align: right;\">2.03157</td></tr><tr><td class = \"rowNumber\" style = \"font-weight: bold; text-align: right;\">6</td><td style = \"text-align: left;\">y2</td><td style = \"text-align: right;\">7.50091</td><td style = \"text-align: right;\">2.03166</td></tr><tr><td class = \"rowNumber\" style = \"font-weight: bold; text-align: right;\">7</td><td style = \"text-align: left;\">y3</td><td style = \"text-align: right;\">7.5</td><td style = \"text-align: right;\">2.03042</td></tr><tr><td class = \"rowNumber\" style = \"font-weight: bold; text-align: right;\">8</td><td style = \"text-align: left;\">y4</td><td style = \"text-align: right;\">7.50091</td><td style = \"text-align: right;\">2.03058</td></tr></tbody></table></div>"
      ],
      "text/latex": [
       "\\begin{tabular}{r|ccc}\n",
       "\t& variable & mean & std\\\\\n",
       "\t\\hline\n",
       "\t& Symbol & Float64 & Float64\\\\\n",
       "\t\\hline\n",
       "\t1 & x1 & 9.0 & 3.31662 \\\\\n",
       "\t2 & x2 & 9.0 & 3.31662 \\\\\n",
       "\t3 & x3 & 9.0 & 3.31662 \\\\\n",
       "\t4 & x4 & 9.0 & 3.31662 \\\\\n",
       "\t5 & y1 & 7.50091 & 2.03157 \\\\\n",
       "\t6 & y2 & 7.50091 & 2.03166 \\\\\n",
       "\t7 & y3 & 7.5 & 2.03042 \\\\\n",
       "\t8 & y4 & 7.50091 & 2.03058 \\\\\n",
       "\\end{tabular}\n"
      ],
      "text/plain": [
       "\u001b[1m8×3 DataFrame\u001b[0m\n",
       "\u001b[1m Row \u001b[0m│\u001b[1m variable \u001b[0m\u001b[1m mean    \u001b[0m\u001b[1m std     \u001b[0m\n",
       "     │\u001b[90m Symbol   \u001b[0m\u001b[90m Float64 \u001b[0m\u001b[90m Float64 \u001b[0m\n",
       "─────┼────────────────────────────\n",
       "   1 │ x1        9.0      3.31662\n",
       "   2 │ x2        9.0      3.31662\n",
       "   3 │ x3        9.0      3.31662\n",
       "   4 │ x4        9.0      3.31662\n",
       "   5 │ y1        7.50091  2.03157\n",
       "   6 │ y2        7.50091  2.03166\n",
       "   7 │ y3        7.5      2.03042\n",
       "   8 │ y4        7.50091  2.03058"
      ]
     },
     "metadata": {},
     "output_type": "display_data"
    }
   ],
   "source": [
    "describe(df, mean => :mean, std => :std)"
   ]
  },
  {
   "cell_type": "markdown",
   "metadata": {},
   "source": [
    "Just to practice the string/`Symbol` duality let us write the same using strings for column names:"
   ]
  },
  {
   "cell_type": "code",
   "execution_count": 86,
   "metadata": {},
   "outputs": [
    {
     "data": {
      "text/html": [
       "<div><div style = \"float: left;\"><span>8×3 DataFrame</span></div><div style = \"clear: both;\"></div></div><div class = \"data-frame\" style = \"overflow-x: scroll;\"><table class = \"data-frame\" style = \"margin-bottom: 6px;\"><thead><tr class = \"header\"><th class = \"rowNumber\" style = \"font-weight: bold; text-align: right;\">Row</th><th style = \"text-align: left;\">variable</th><th style = \"text-align: left;\">mean</th><th style = \"text-align: left;\">std</th></tr><tr class = \"subheader headerLastRow\"><th class = \"rowNumber\" style = \"font-weight: bold; text-align: right;\"></th><th title = \"Symbol\" style = \"text-align: left;\">Symbol</th><th title = \"Float64\" style = \"text-align: left;\">Float64</th><th title = \"Float64\" style = \"text-align: left;\">Float64</th></tr></thead><tbody><tr><td class = \"rowNumber\" style = \"font-weight: bold; text-align: right;\">1</td><td style = \"text-align: left;\">x1</td><td style = \"text-align: right;\">9.0</td><td style = \"text-align: right;\">3.31662</td></tr><tr><td class = \"rowNumber\" style = \"font-weight: bold; text-align: right;\">2</td><td style = \"text-align: left;\">x2</td><td style = \"text-align: right;\">9.0</td><td style = \"text-align: right;\">3.31662</td></tr><tr><td class = \"rowNumber\" style = \"font-weight: bold; text-align: right;\">3</td><td style = \"text-align: left;\">x3</td><td style = \"text-align: right;\">9.0</td><td style = \"text-align: right;\">3.31662</td></tr><tr><td class = \"rowNumber\" style = \"font-weight: bold; text-align: right;\">4</td><td style = \"text-align: left;\">x4</td><td style = \"text-align: right;\">9.0</td><td style = \"text-align: right;\">3.31662</td></tr><tr><td class = \"rowNumber\" style = \"font-weight: bold; text-align: right;\">5</td><td style = \"text-align: left;\">y1</td><td style = \"text-align: right;\">7.50091</td><td style = \"text-align: right;\">2.03157</td></tr><tr><td class = \"rowNumber\" style = \"font-weight: bold; text-align: right;\">6</td><td style = \"text-align: left;\">y2</td><td style = \"text-align: right;\">7.50091</td><td style = \"text-align: right;\">2.03166</td></tr><tr><td class = \"rowNumber\" style = \"font-weight: bold; text-align: right;\">7</td><td style = \"text-align: left;\">y3</td><td style = \"text-align: right;\">7.5</td><td style = \"text-align: right;\">2.03042</td></tr><tr><td class = \"rowNumber\" style = \"font-weight: bold; text-align: right;\">8</td><td style = \"text-align: left;\">y4</td><td style = \"text-align: right;\">7.50091</td><td style = \"text-align: right;\">2.03058</td></tr></tbody></table></div>"
      ],
      "text/latex": [
       "\\begin{tabular}{r|ccc}\n",
       "\t& variable & mean & std\\\\\n",
       "\t\\hline\n",
       "\t& Symbol & Float64 & Float64\\\\\n",
       "\t\\hline\n",
       "\t1 & x1 & 9.0 & 3.31662 \\\\\n",
       "\t2 & x2 & 9.0 & 3.31662 \\\\\n",
       "\t3 & x3 & 9.0 & 3.31662 \\\\\n",
       "\t4 & x4 & 9.0 & 3.31662 \\\\\n",
       "\t5 & y1 & 7.50091 & 2.03157 \\\\\n",
       "\t6 & y2 & 7.50091 & 2.03166 \\\\\n",
       "\t7 & y3 & 7.5 & 2.03042 \\\\\n",
       "\t8 & y4 & 7.50091 & 2.03058 \\\\\n",
       "\\end{tabular}\n"
      ],
      "text/plain": [
       "\u001b[1m8×3 DataFrame\u001b[0m\n",
       "\u001b[1m Row \u001b[0m│\u001b[1m variable \u001b[0m\u001b[1m mean    \u001b[0m\u001b[1m std     \u001b[0m\n",
       "     │\u001b[90m Symbol   \u001b[0m\u001b[90m Float64 \u001b[0m\u001b[90m Float64 \u001b[0m\n",
       "─────┼────────────────────────────\n",
       "   1 │ x1        9.0      3.31662\n",
       "   2 │ x2        9.0      3.31662\n",
       "   3 │ x3        9.0      3.31662\n",
       "   4 │ x4        9.0      3.31662\n",
       "   5 │ y1        7.50091  2.03157\n",
       "   6 │ y2        7.50091  2.03166\n",
       "   7 │ y3        7.5      2.03042\n",
       "   8 │ y4        7.50091  2.03058"
      ]
     },
     "metadata": {},
     "output_type": "display_data"
    }
   ],
   "source": [
    "describe(df, mean => \"mean\", std => \"std\")"
   ]
  },
  {
   "cell_type": "markdown",
   "metadata": {},
   "source": [
    "Now let us add a new column `id` to the data frame that will just index its rows from 1 to number of rows."
   ]
  },
  {
   "cell_type": "code",
   "execution_count": 87,
   "metadata": {},
   "outputs": [
    {
     "data": {
      "text/html": [
       "<div><div style = \"float: left;\"><span>11×9 DataFrame</span></div><div style = \"clear: both;\"></div></div><div class = \"data-frame\" style = \"overflow-x: scroll;\"><table class = \"data-frame\" style = \"margin-bottom: 6px;\"><thead><tr class = \"header\"><th class = \"rowNumber\" style = \"font-weight: bold; text-align: right;\">Row</th><th style = \"text-align: left;\">x1</th><th style = \"text-align: left;\">x2</th><th style = \"text-align: left;\">x3</th><th style = \"text-align: left;\">x4</th><th style = \"text-align: left;\">y1</th><th style = \"text-align: left;\">y2</th><th style = \"text-align: left;\">y3</th><th style = \"text-align: left;\">y4</th><th style = \"text-align: left;\">id</th></tr><tr class = \"subheader headerLastRow\"><th class = \"rowNumber\" style = \"font-weight: bold; text-align: right;\"></th><th title = \"Float64\" style = \"text-align: left;\">Float64</th><th title = \"Float64\" style = \"text-align: left;\">Float64</th><th title = \"Float64\" style = \"text-align: left;\">Float64</th><th title = \"Float64\" style = \"text-align: left;\">Float64</th><th title = \"Float64\" style = \"text-align: left;\">Float64</th><th title = \"Float64\" style = \"text-align: left;\">Float64</th><th title = \"Float64\" style = \"text-align: left;\">Float64</th><th title = \"Float64\" style = \"text-align: left;\">Float64</th><th title = \"Int64\" style = \"text-align: left;\">Int64</th></tr></thead><tbody><tr><td class = \"rowNumber\" style = \"font-weight: bold; text-align: right;\">1</td><td style = \"text-align: right;\">10.0</td><td style = \"text-align: right;\">10.0</td><td style = \"text-align: right;\">10.0</td><td style = \"text-align: right;\">8.0</td><td style = \"text-align: right;\">8.04</td><td style = \"text-align: right;\">9.14</td><td style = \"text-align: right;\">7.46</td><td style = \"text-align: right;\">6.58</td><td style = \"text-align: right;\">1</td></tr><tr><td class = \"rowNumber\" style = \"font-weight: bold; text-align: right;\">2</td><td style = \"text-align: right;\">8.0</td><td style = \"text-align: right;\">8.0</td><td style = \"text-align: right;\">8.0</td><td style = \"text-align: right;\">8.0</td><td style = \"text-align: right;\">6.95</td><td style = \"text-align: right;\">8.14</td><td style = \"text-align: right;\">6.77</td><td style = \"text-align: right;\">5.76</td><td style = \"text-align: right;\">2</td></tr><tr><td class = \"rowNumber\" style = \"font-weight: bold; text-align: right;\">3</td><td style = \"text-align: right;\">13.0</td><td style = \"text-align: right;\">13.0</td><td style = \"text-align: right;\">13.0</td><td style = \"text-align: right;\">8.0</td><td style = \"text-align: right;\">7.58</td><td style = \"text-align: right;\">8.74</td><td style = \"text-align: right;\">12.74</td><td style = \"text-align: right;\">7.71</td><td style = \"text-align: right;\">3</td></tr><tr><td class = \"rowNumber\" style = \"font-weight: bold; text-align: right;\">4</td><td style = \"text-align: right;\">9.0</td><td style = \"text-align: right;\">9.0</td><td style = \"text-align: right;\">9.0</td><td style = \"text-align: right;\">8.0</td><td style = \"text-align: right;\">8.81</td><td style = \"text-align: right;\">8.77</td><td style = \"text-align: right;\">7.11</td><td style = \"text-align: right;\">8.84</td><td style = \"text-align: right;\">4</td></tr><tr><td class = \"rowNumber\" style = \"font-weight: bold; text-align: right;\">5</td><td style = \"text-align: right;\">11.0</td><td style = \"text-align: right;\">11.0</td><td style = \"text-align: right;\">11.0</td><td style = \"text-align: right;\">8.0</td><td style = \"text-align: right;\">8.33</td><td style = \"text-align: right;\">9.26</td><td style = \"text-align: right;\">7.81</td><td style = \"text-align: right;\">8.47</td><td style = \"text-align: right;\">5</td></tr><tr><td class = \"rowNumber\" style = \"font-weight: bold; text-align: right;\">6</td><td style = \"text-align: right;\">14.0</td><td style = \"text-align: right;\">14.0</td><td style = \"text-align: right;\">14.0</td><td style = \"text-align: right;\">8.0</td><td style = \"text-align: right;\">9.96</td><td style = \"text-align: right;\">8.1</td><td style = \"text-align: right;\">8.84</td><td style = \"text-align: right;\">7.04</td><td style = \"text-align: right;\">6</td></tr><tr><td class = \"rowNumber\" style = \"font-weight: bold; text-align: right;\">7</td><td style = \"text-align: right;\">6.0</td><td style = \"text-align: right;\">6.0</td><td style = \"text-align: right;\">6.0</td><td style = \"text-align: right;\">8.0</td><td style = \"text-align: right;\">7.24</td><td style = \"text-align: right;\">6.13</td><td style = \"text-align: right;\">6.08</td><td style = \"text-align: right;\">5.25</td><td style = \"text-align: right;\">7</td></tr><tr><td class = \"rowNumber\" style = \"font-weight: bold; text-align: right;\">8</td><td style = \"text-align: right;\">4.0</td><td style = \"text-align: right;\">4.0</td><td style = \"text-align: right;\">4.0</td><td style = \"text-align: right;\">19.0</td><td style = \"text-align: right;\">4.26</td><td style = \"text-align: right;\">3.1</td><td style = \"text-align: right;\">5.39</td><td style = \"text-align: right;\">12.5</td><td style = \"text-align: right;\">8</td></tr><tr><td class = \"rowNumber\" style = \"font-weight: bold; text-align: right;\">9</td><td style = \"text-align: right;\">12.0</td><td style = \"text-align: right;\">12.0</td><td style = \"text-align: right;\">12.0</td><td style = \"text-align: right;\">8.0</td><td style = \"text-align: right;\">10.84</td><td style = \"text-align: right;\">9.13</td><td style = \"text-align: right;\">8.15</td><td style = \"text-align: right;\">5.56</td><td style = \"text-align: right;\">9</td></tr><tr><td class = \"rowNumber\" style = \"font-weight: bold; text-align: right;\">10</td><td style = \"text-align: right;\">7.0</td><td style = \"text-align: right;\">7.0</td><td style = \"text-align: right;\">7.0</td><td style = \"text-align: right;\">8.0</td><td style = \"text-align: right;\">4.82</td><td style = \"text-align: right;\">7.26</td><td style = \"text-align: right;\">6.42</td><td style = \"text-align: right;\">7.91</td><td style = \"text-align: right;\">10</td></tr><tr><td class = \"rowNumber\" style = \"font-weight: bold; text-align: right;\">11</td><td style = \"text-align: right;\">5.0</td><td style = \"text-align: right;\">5.0</td><td style = \"text-align: right;\">5.0</td><td style = \"text-align: right;\">8.0</td><td style = \"text-align: right;\">5.68</td><td style = \"text-align: right;\">4.74</td><td style = \"text-align: right;\">5.73</td><td style = \"text-align: right;\">6.89</td><td style = \"text-align: right;\">11</td></tr></tbody></table></div>"
      ],
      "text/latex": [
       "\\begin{tabular}{r|ccccccccc}\n",
       "\t& x1 & x2 & x3 & x4 & y1 & y2 & y3 & y4 & id\\\\\n",
       "\t\\hline\n",
       "\t& Float64 & Float64 & Float64 & Float64 & Float64 & Float64 & Float64 & Float64 & Int64\\\\\n",
       "\t\\hline\n",
       "\t1 & 10.0 & 10.0 & 10.0 & 8.0 & 8.04 & 9.14 & 7.46 & 6.58 & 1 \\\\\n",
       "\t2 & 8.0 & 8.0 & 8.0 & 8.0 & 6.95 & 8.14 & 6.77 & 5.76 & 2 \\\\\n",
       "\t3 & 13.0 & 13.0 & 13.0 & 8.0 & 7.58 & 8.74 & 12.74 & 7.71 & 3 \\\\\n",
       "\t4 & 9.0 & 9.0 & 9.0 & 8.0 & 8.81 & 8.77 & 7.11 & 8.84 & 4 \\\\\n",
       "\t5 & 11.0 & 11.0 & 11.0 & 8.0 & 8.33 & 9.26 & 7.81 & 8.47 & 5 \\\\\n",
       "\t6 & 14.0 & 14.0 & 14.0 & 8.0 & 9.96 & 8.1 & 8.84 & 7.04 & 6 \\\\\n",
       "\t7 & 6.0 & 6.0 & 6.0 & 8.0 & 7.24 & 6.13 & 6.08 & 5.25 & 7 \\\\\n",
       "\t8 & 4.0 & 4.0 & 4.0 & 19.0 & 4.26 & 3.1 & 5.39 & 12.5 & 8 \\\\\n",
       "\t9 & 12.0 & 12.0 & 12.0 & 8.0 & 10.84 & 9.13 & 8.15 & 5.56 & 9 \\\\\n",
       "\t10 & 7.0 & 7.0 & 7.0 & 8.0 & 4.82 & 7.26 & 6.42 & 7.91 & 10 \\\\\n",
       "\t11 & 5.0 & 5.0 & 5.0 & 8.0 & 5.68 & 4.74 & 5.73 & 6.89 & 11 \\\\\n",
       "\\end{tabular}\n"
      ],
      "text/plain": [
       "\u001b[1m11×9 DataFrame\u001b[0m\n",
       "\u001b[1m Row \u001b[0m│\u001b[1m x1      \u001b[0m\u001b[1m x2      \u001b[0m\u001b[1m x3      \u001b[0m\u001b[1m x4      \u001b[0m\u001b[1m y1      \u001b[0m\u001b[1m y2      \u001b[0m\u001b[1m y3      \u001b[0m\u001b[1m y4      \u001b[0m\u001b[1m\u001b[0m ⋯\n",
       "     │\u001b[90m Float64 \u001b[0m\u001b[90m Float64 \u001b[0m\u001b[90m Float64 \u001b[0m\u001b[90m Float64 \u001b[0m\u001b[90m Float64 \u001b[0m\u001b[90m Float64 \u001b[0m\u001b[90m Float64 \u001b[0m\u001b[90m Float64 \u001b[0m\u001b[90m\u001b[0m ⋯\n",
       "─────┼──────────────────────────────────────────────────────────────────────────\n",
       "   1 │    10.0     10.0     10.0      8.0     8.04     9.14     7.46     6.58  ⋯\n",
       "   2 │     8.0      8.0      8.0      8.0     6.95     8.14     6.77     5.76\n",
       "   3 │    13.0     13.0     13.0      8.0     7.58     8.74    12.74     7.71\n",
       "   4 │     9.0      9.0      9.0      8.0     8.81     8.77     7.11     8.84\n",
       "   5 │    11.0     11.0     11.0      8.0     8.33     9.26     7.81     8.47  ⋯\n",
       "   6 │    14.0     14.0     14.0      8.0     9.96     8.1      8.84     7.04\n",
       "   7 │     6.0      6.0      6.0      8.0     7.24     6.13     6.08     5.25\n",
       "   8 │     4.0      4.0      4.0     19.0     4.26     3.1      5.39    12.5\n",
       "   9 │    12.0     12.0     12.0      8.0    10.84     9.13     8.15     5.56  ⋯\n",
       "  10 │     7.0      7.0      7.0      8.0     4.82     7.26     6.42     7.91\n",
       "  11 │     5.0      5.0      5.0      8.0     5.68     4.74     5.73     6.89\n",
       "\u001b[36m                                                                1 column omitted\u001b[0m"
      ]
     },
     "metadata": {},
     "output_type": "display_data"
    }
   ],
   "source": [
    "df.id = 1:nrow(df) # also writing axes(df, 1) on the right hand side would work\n",
    "df"
   ]
  },
  {
   "cell_type": "markdown",
   "metadata": {},
   "source": [
    "Similarly to `nrow` which gives us a number of rows in a data frame, one can use `ncol` function to get its number of columns."
   ]
  },
  {
   "cell_type": "code",
   "execution_count": 88,
   "metadata": {},
   "outputs": [
    {
     "data": {
      "text/plain": [
       "9"
      ]
     },
     "metadata": {},
     "output_type": "display_data"
    }
   ],
   "source": [
    "ncol(df)"
   ]
  },
  {
   "cell_type": "markdown",
   "metadata": {},
   "source": [
    "In order to practice what we have already learnt let us create a new data frame which will have `:id` coumn in front of the remaining columns."
   ]
  },
  {
   "cell_type": "code",
   "execution_count": 89,
   "metadata": {},
   "outputs": [
    {
     "data": {
      "text/html": [
       "<div><div style = \"float: left;\"><span>11×9 DataFrame</span></div><div style = \"clear: both;\"></div></div><div class = \"data-frame\" style = \"overflow-x: scroll;\"><table class = \"data-frame\" style = \"margin-bottom: 6px;\"><thead><tr class = \"header\"><th class = \"rowNumber\" style = \"font-weight: bold; text-align: right;\">Row</th><th style = \"text-align: left;\">id</th><th style = \"text-align: left;\">x1</th><th style = \"text-align: left;\">x2</th><th style = \"text-align: left;\">x3</th><th style = \"text-align: left;\">x4</th><th style = \"text-align: left;\">y1</th><th style = \"text-align: left;\">y2</th><th style = \"text-align: left;\">y3</th><th style = \"text-align: left;\">y4</th></tr><tr class = \"subheader headerLastRow\"><th class = \"rowNumber\" style = \"font-weight: bold; text-align: right;\"></th><th title = \"Int64\" style = \"text-align: left;\">Int64</th><th title = \"Float64\" style = \"text-align: left;\">Float64</th><th title = \"Float64\" style = \"text-align: left;\">Float64</th><th title = \"Float64\" style = \"text-align: left;\">Float64</th><th title = \"Float64\" style = \"text-align: left;\">Float64</th><th title = \"Float64\" style = \"text-align: left;\">Float64</th><th title = \"Float64\" style = \"text-align: left;\">Float64</th><th title = \"Float64\" style = \"text-align: left;\">Float64</th><th title = \"Float64\" style = \"text-align: left;\">Float64</th></tr></thead><tbody><tr><td class = \"rowNumber\" style = \"font-weight: bold; text-align: right;\">1</td><td style = \"text-align: right;\">1</td><td style = \"text-align: right;\">10.0</td><td style = \"text-align: right;\">10.0</td><td style = \"text-align: right;\">10.0</td><td style = \"text-align: right;\">8.0</td><td style = \"text-align: right;\">8.04</td><td style = \"text-align: right;\">9.14</td><td style = \"text-align: right;\">7.46</td><td style = \"text-align: right;\">6.58</td></tr><tr><td class = \"rowNumber\" style = \"font-weight: bold; text-align: right;\">2</td><td style = \"text-align: right;\">2</td><td style = \"text-align: right;\">8.0</td><td style = \"text-align: right;\">8.0</td><td style = \"text-align: right;\">8.0</td><td style = \"text-align: right;\">8.0</td><td style = \"text-align: right;\">6.95</td><td style = \"text-align: right;\">8.14</td><td style = \"text-align: right;\">6.77</td><td style = \"text-align: right;\">5.76</td></tr><tr><td class = \"rowNumber\" style = \"font-weight: bold; text-align: right;\">3</td><td style = \"text-align: right;\">3</td><td style = \"text-align: right;\">13.0</td><td style = \"text-align: right;\">13.0</td><td style = \"text-align: right;\">13.0</td><td style = \"text-align: right;\">8.0</td><td style = \"text-align: right;\">7.58</td><td style = \"text-align: right;\">8.74</td><td style = \"text-align: right;\">12.74</td><td style = \"text-align: right;\">7.71</td></tr><tr><td class = \"rowNumber\" style = \"font-weight: bold; text-align: right;\">4</td><td style = \"text-align: right;\">4</td><td style = \"text-align: right;\">9.0</td><td style = \"text-align: right;\">9.0</td><td style = \"text-align: right;\">9.0</td><td style = \"text-align: right;\">8.0</td><td style = \"text-align: right;\">8.81</td><td style = \"text-align: right;\">8.77</td><td style = \"text-align: right;\">7.11</td><td style = \"text-align: right;\">8.84</td></tr><tr><td class = \"rowNumber\" style = \"font-weight: bold; text-align: right;\">5</td><td style = \"text-align: right;\">5</td><td style = \"text-align: right;\">11.0</td><td style = \"text-align: right;\">11.0</td><td style = \"text-align: right;\">11.0</td><td style = \"text-align: right;\">8.0</td><td style = \"text-align: right;\">8.33</td><td style = \"text-align: right;\">9.26</td><td style = \"text-align: right;\">7.81</td><td style = \"text-align: right;\">8.47</td></tr><tr><td class = \"rowNumber\" style = \"font-weight: bold; text-align: right;\">6</td><td style = \"text-align: right;\">6</td><td style = \"text-align: right;\">14.0</td><td style = \"text-align: right;\">14.0</td><td style = \"text-align: right;\">14.0</td><td style = \"text-align: right;\">8.0</td><td style = \"text-align: right;\">9.96</td><td style = \"text-align: right;\">8.1</td><td style = \"text-align: right;\">8.84</td><td style = \"text-align: right;\">7.04</td></tr><tr><td class = \"rowNumber\" style = \"font-weight: bold; text-align: right;\">7</td><td style = \"text-align: right;\">7</td><td style = \"text-align: right;\">6.0</td><td style = \"text-align: right;\">6.0</td><td style = \"text-align: right;\">6.0</td><td style = \"text-align: right;\">8.0</td><td style = \"text-align: right;\">7.24</td><td style = \"text-align: right;\">6.13</td><td style = \"text-align: right;\">6.08</td><td style = \"text-align: right;\">5.25</td></tr><tr><td class = \"rowNumber\" style = \"font-weight: bold; text-align: right;\">8</td><td style = \"text-align: right;\">8</td><td style = \"text-align: right;\">4.0</td><td style = \"text-align: right;\">4.0</td><td style = \"text-align: right;\">4.0</td><td style = \"text-align: right;\">19.0</td><td style = \"text-align: right;\">4.26</td><td style = \"text-align: right;\">3.1</td><td style = \"text-align: right;\">5.39</td><td style = \"text-align: right;\">12.5</td></tr><tr><td class = \"rowNumber\" style = \"font-weight: bold; text-align: right;\">9</td><td style = \"text-align: right;\">9</td><td style = \"text-align: right;\">12.0</td><td style = \"text-align: right;\">12.0</td><td style = \"text-align: right;\">12.0</td><td style = \"text-align: right;\">8.0</td><td style = \"text-align: right;\">10.84</td><td style = \"text-align: right;\">9.13</td><td style = \"text-align: right;\">8.15</td><td style = \"text-align: right;\">5.56</td></tr><tr><td class = \"rowNumber\" style = \"font-weight: bold; text-align: right;\">10</td><td style = \"text-align: right;\">10</td><td style = \"text-align: right;\">7.0</td><td style = \"text-align: right;\">7.0</td><td style = \"text-align: right;\">7.0</td><td style = \"text-align: right;\">8.0</td><td style = \"text-align: right;\">4.82</td><td style = \"text-align: right;\">7.26</td><td style = \"text-align: right;\">6.42</td><td style = \"text-align: right;\">7.91</td></tr><tr><td class = \"rowNumber\" style = \"font-weight: bold; text-align: right;\">11</td><td style = \"text-align: right;\">11</td><td style = \"text-align: right;\">5.0</td><td style = \"text-align: right;\">5.0</td><td style = \"text-align: right;\">5.0</td><td style = \"text-align: right;\">8.0</td><td style = \"text-align: right;\">5.68</td><td style = \"text-align: right;\">4.74</td><td style = \"text-align: right;\">5.73</td><td style = \"text-align: right;\">6.89</td></tr></tbody></table></div>"
      ],
      "text/latex": [
       "\\begin{tabular}{r|ccccccccc}\n",
       "\t& id & x1 & x2 & x3 & x4 & y1 & y2 & y3 & y4\\\\\n",
       "\t\\hline\n",
       "\t& Int64 & Float64 & Float64 & Float64 & Float64 & Float64 & Float64 & Float64 & Float64\\\\\n",
       "\t\\hline\n",
       "\t1 & 1 & 10.0 & 10.0 & 10.0 & 8.0 & 8.04 & 9.14 & 7.46 & 6.58 \\\\\n",
       "\t2 & 2 & 8.0 & 8.0 & 8.0 & 8.0 & 6.95 & 8.14 & 6.77 & 5.76 \\\\\n",
       "\t3 & 3 & 13.0 & 13.0 & 13.0 & 8.0 & 7.58 & 8.74 & 12.74 & 7.71 \\\\\n",
       "\t4 & 4 & 9.0 & 9.0 & 9.0 & 8.0 & 8.81 & 8.77 & 7.11 & 8.84 \\\\\n",
       "\t5 & 5 & 11.0 & 11.0 & 11.0 & 8.0 & 8.33 & 9.26 & 7.81 & 8.47 \\\\\n",
       "\t6 & 6 & 14.0 & 14.0 & 14.0 & 8.0 & 9.96 & 8.1 & 8.84 & 7.04 \\\\\n",
       "\t7 & 7 & 6.0 & 6.0 & 6.0 & 8.0 & 7.24 & 6.13 & 6.08 & 5.25 \\\\\n",
       "\t8 & 8 & 4.0 & 4.0 & 4.0 & 19.0 & 4.26 & 3.1 & 5.39 & 12.5 \\\\\n",
       "\t9 & 9 & 12.0 & 12.0 & 12.0 & 8.0 & 10.84 & 9.13 & 8.15 & 5.56 \\\\\n",
       "\t10 & 10 & 7.0 & 7.0 & 7.0 & 8.0 & 4.82 & 7.26 & 6.42 & 7.91 \\\\\n",
       "\t11 & 11 & 5.0 & 5.0 & 5.0 & 8.0 & 5.68 & 4.74 & 5.73 & 6.89 \\\\\n",
       "\\end{tabular}\n"
      ],
      "text/plain": [
       "\u001b[1m11×9 DataFrame\u001b[0m\n",
       "\u001b[1m Row \u001b[0m│\u001b[1m id    \u001b[0m\u001b[1m x1      \u001b[0m\u001b[1m x2      \u001b[0m\u001b[1m x3      \u001b[0m\u001b[1m x4      \u001b[0m\u001b[1m y1      \u001b[0m\u001b[1m y2      \u001b[0m\u001b[1m y3      \u001b[0m\u001b[1m y\u001b[0m ⋯\n",
       "     │\u001b[90m Int64 \u001b[0m\u001b[90m Float64 \u001b[0m\u001b[90m Float64 \u001b[0m\u001b[90m Float64 \u001b[0m\u001b[90m Float64 \u001b[0m\u001b[90m Float64 \u001b[0m\u001b[90m Float64 \u001b[0m\u001b[90m Float64 \u001b[0m\u001b[90m F\u001b[0m ⋯\n",
       "─────┼──────────────────────────────────────────────────────────────────────────\n",
       "   1 │     1     10.0     10.0     10.0      8.0     8.04     9.14     7.46    ⋯\n",
       "   2 │     2      8.0      8.0      8.0      8.0     6.95     8.14     6.77\n",
       "   3 │     3     13.0     13.0     13.0      8.0     7.58     8.74    12.74\n",
       "   4 │     4      9.0      9.0      9.0      8.0     8.81     8.77     7.11\n",
       "   5 │     5     11.0     11.0     11.0      8.0     8.33     9.26     7.81    ⋯\n",
       "   6 │     6     14.0     14.0     14.0      8.0     9.96     8.1      8.84\n",
       "   7 │     7      6.0      6.0      6.0      8.0     7.24     6.13     6.08\n",
       "   8 │     8      4.0      4.0      4.0     19.0     4.26     3.1      5.39\n",
       "   9 │     9     12.0     12.0     12.0      8.0    10.84     9.13     8.15    ⋯\n",
       "  10 │    10      7.0      7.0      7.0      8.0     4.82     7.26     6.42\n",
       "  11 │    11      5.0      5.0      5.0      8.0     5.68     4.74     5.73\n",
       "\u001b[36m                                                                1 column omitted\u001b[0m"
      ]
     },
     "metadata": {},
     "output_type": "display_data"
    }
   ],
   "source": [
    "select(df, \"id\", :)"
   ]
  },
  {
   "cell_type": "markdown",
   "metadata": {},
   "source": [
    "Note that this time `df` data frame was not changed, as `select` makes a copy."
   ]
  },
  {
   "cell_type": "code",
   "execution_count": 90,
   "metadata": {},
   "outputs": [
    {
     "data": {
      "text/html": [
       "<div><div style = \"float: left;\"><span>11×9 DataFrame</span></div><div style = \"clear: both;\"></div></div><div class = \"data-frame\" style = \"overflow-x: scroll;\"><table class = \"data-frame\" style = \"margin-bottom: 6px;\"><thead><tr class = \"header\"><th class = \"rowNumber\" style = \"font-weight: bold; text-align: right;\">Row</th><th style = \"text-align: left;\">x1</th><th style = \"text-align: left;\">x2</th><th style = \"text-align: left;\">x3</th><th style = \"text-align: left;\">x4</th><th style = \"text-align: left;\">y1</th><th style = \"text-align: left;\">y2</th><th style = \"text-align: left;\">y3</th><th style = \"text-align: left;\">y4</th><th style = \"text-align: left;\">id</th></tr><tr class = \"subheader headerLastRow\"><th class = \"rowNumber\" style = \"font-weight: bold; text-align: right;\"></th><th title = \"Float64\" style = \"text-align: left;\">Float64</th><th title = \"Float64\" style = \"text-align: left;\">Float64</th><th title = \"Float64\" style = \"text-align: left;\">Float64</th><th title = \"Float64\" style = \"text-align: left;\">Float64</th><th title = \"Float64\" style = \"text-align: left;\">Float64</th><th title = \"Float64\" style = \"text-align: left;\">Float64</th><th title = \"Float64\" style = \"text-align: left;\">Float64</th><th title = \"Float64\" style = \"text-align: left;\">Float64</th><th title = \"Int64\" style = \"text-align: left;\">Int64</th></tr></thead><tbody><tr><td class = \"rowNumber\" style = \"font-weight: bold; text-align: right;\">1</td><td style = \"text-align: right;\">10.0</td><td style = \"text-align: right;\">10.0</td><td style = \"text-align: right;\">10.0</td><td style = \"text-align: right;\">8.0</td><td style = \"text-align: right;\">8.04</td><td style = \"text-align: right;\">9.14</td><td style = \"text-align: right;\">7.46</td><td style = \"text-align: right;\">6.58</td><td style = \"text-align: right;\">1</td></tr><tr><td class = \"rowNumber\" style = \"font-weight: bold; text-align: right;\">2</td><td style = \"text-align: right;\">8.0</td><td style = \"text-align: right;\">8.0</td><td style = \"text-align: right;\">8.0</td><td style = \"text-align: right;\">8.0</td><td style = \"text-align: right;\">6.95</td><td style = \"text-align: right;\">8.14</td><td style = \"text-align: right;\">6.77</td><td style = \"text-align: right;\">5.76</td><td style = \"text-align: right;\">2</td></tr><tr><td class = \"rowNumber\" style = \"font-weight: bold; text-align: right;\">3</td><td style = \"text-align: right;\">13.0</td><td style = \"text-align: right;\">13.0</td><td style = \"text-align: right;\">13.0</td><td style = \"text-align: right;\">8.0</td><td style = \"text-align: right;\">7.58</td><td style = \"text-align: right;\">8.74</td><td style = \"text-align: right;\">12.74</td><td style = \"text-align: right;\">7.71</td><td style = \"text-align: right;\">3</td></tr><tr><td class = \"rowNumber\" style = \"font-weight: bold; text-align: right;\">4</td><td style = \"text-align: right;\">9.0</td><td style = \"text-align: right;\">9.0</td><td style = \"text-align: right;\">9.0</td><td style = \"text-align: right;\">8.0</td><td style = \"text-align: right;\">8.81</td><td style = \"text-align: right;\">8.77</td><td style = \"text-align: right;\">7.11</td><td style = \"text-align: right;\">8.84</td><td style = \"text-align: right;\">4</td></tr><tr><td class = \"rowNumber\" style = \"font-weight: bold; text-align: right;\">5</td><td style = \"text-align: right;\">11.0</td><td style = \"text-align: right;\">11.0</td><td style = \"text-align: right;\">11.0</td><td style = \"text-align: right;\">8.0</td><td style = \"text-align: right;\">8.33</td><td style = \"text-align: right;\">9.26</td><td style = \"text-align: right;\">7.81</td><td style = \"text-align: right;\">8.47</td><td style = \"text-align: right;\">5</td></tr><tr><td class = \"rowNumber\" style = \"font-weight: bold; text-align: right;\">6</td><td style = \"text-align: right;\">14.0</td><td style = \"text-align: right;\">14.0</td><td style = \"text-align: right;\">14.0</td><td style = \"text-align: right;\">8.0</td><td style = \"text-align: right;\">9.96</td><td style = \"text-align: right;\">8.1</td><td style = \"text-align: right;\">8.84</td><td style = \"text-align: right;\">7.04</td><td style = \"text-align: right;\">6</td></tr><tr><td class = \"rowNumber\" style = \"font-weight: bold; text-align: right;\">7</td><td style = \"text-align: right;\">6.0</td><td style = \"text-align: right;\">6.0</td><td style = \"text-align: right;\">6.0</td><td style = \"text-align: right;\">8.0</td><td style = \"text-align: right;\">7.24</td><td style = \"text-align: right;\">6.13</td><td style = \"text-align: right;\">6.08</td><td style = \"text-align: right;\">5.25</td><td style = \"text-align: right;\">7</td></tr><tr><td class = \"rowNumber\" style = \"font-weight: bold; text-align: right;\">8</td><td style = \"text-align: right;\">4.0</td><td style = \"text-align: right;\">4.0</td><td style = \"text-align: right;\">4.0</td><td style = \"text-align: right;\">19.0</td><td style = \"text-align: right;\">4.26</td><td style = \"text-align: right;\">3.1</td><td style = \"text-align: right;\">5.39</td><td style = \"text-align: right;\">12.5</td><td style = \"text-align: right;\">8</td></tr><tr><td class = \"rowNumber\" style = \"font-weight: bold; text-align: right;\">9</td><td style = \"text-align: right;\">12.0</td><td style = \"text-align: right;\">12.0</td><td style = \"text-align: right;\">12.0</td><td style = \"text-align: right;\">8.0</td><td style = \"text-align: right;\">10.84</td><td style = \"text-align: right;\">9.13</td><td style = \"text-align: right;\">8.15</td><td style = \"text-align: right;\">5.56</td><td style = \"text-align: right;\">9</td></tr><tr><td class = \"rowNumber\" style = \"font-weight: bold; text-align: right;\">10</td><td style = \"text-align: right;\">7.0</td><td style = \"text-align: right;\">7.0</td><td style = \"text-align: right;\">7.0</td><td style = \"text-align: right;\">8.0</td><td style = \"text-align: right;\">4.82</td><td style = \"text-align: right;\">7.26</td><td style = \"text-align: right;\">6.42</td><td style = \"text-align: right;\">7.91</td><td style = \"text-align: right;\">10</td></tr><tr><td class = \"rowNumber\" style = \"font-weight: bold; text-align: right;\">11</td><td style = \"text-align: right;\">5.0</td><td style = \"text-align: right;\">5.0</td><td style = \"text-align: right;\">5.0</td><td style = \"text-align: right;\">8.0</td><td style = \"text-align: right;\">5.68</td><td style = \"text-align: right;\">4.74</td><td style = \"text-align: right;\">5.73</td><td style = \"text-align: right;\">6.89</td><td style = \"text-align: right;\">11</td></tr></tbody></table></div>"
      ],
      "text/latex": [
       "\\begin{tabular}{r|ccccccccc}\n",
       "\t& x1 & x2 & x3 & x4 & y1 & y2 & y3 & y4 & id\\\\\n",
       "\t\\hline\n",
       "\t& Float64 & Float64 & Float64 & Float64 & Float64 & Float64 & Float64 & Float64 & Int64\\\\\n",
       "\t\\hline\n",
       "\t1 & 10.0 & 10.0 & 10.0 & 8.0 & 8.04 & 9.14 & 7.46 & 6.58 & 1 \\\\\n",
       "\t2 & 8.0 & 8.0 & 8.0 & 8.0 & 6.95 & 8.14 & 6.77 & 5.76 & 2 \\\\\n",
       "\t3 & 13.0 & 13.0 & 13.0 & 8.0 & 7.58 & 8.74 & 12.74 & 7.71 & 3 \\\\\n",
       "\t4 & 9.0 & 9.0 & 9.0 & 8.0 & 8.81 & 8.77 & 7.11 & 8.84 & 4 \\\\\n",
       "\t5 & 11.0 & 11.0 & 11.0 & 8.0 & 8.33 & 9.26 & 7.81 & 8.47 & 5 \\\\\n",
       "\t6 & 14.0 & 14.0 & 14.0 & 8.0 & 9.96 & 8.1 & 8.84 & 7.04 & 6 \\\\\n",
       "\t7 & 6.0 & 6.0 & 6.0 & 8.0 & 7.24 & 6.13 & 6.08 & 5.25 & 7 \\\\\n",
       "\t8 & 4.0 & 4.0 & 4.0 & 19.0 & 4.26 & 3.1 & 5.39 & 12.5 & 8 \\\\\n",
       "\t9 & 12.0 & 12.0 & 12.0 & 8.0 & 10.84 & 9.13 & 8.15 & 5.56 & 9 \\\\\n",
       "\t10 & 7.0 & 7.0 & 7.0 & 8.0 & 4.82 & 7.26 & 6.42 & 7.91 & 10 \\\\\n",
       "\t11 & 5.0 & 5.0 & 5.0 & 8.0 & 5.68 & 4.74 & 5.73 & 6.89 & 11 \\\\\n",
       "\\end{tabular}\n"
      ],
      "text/plain": [
       "\u001b[1m11×9 DataFrame\u001b[0m\n",
       "\u001b[1m Row \u001b[0m│\u001b[1m x1      \u001b[0m\u001b[1m x2      \u001b[0m\u001b[1m x3      \u001b[0m\u001b[1m x4      \u001b[0m\u001b[1m y1      \u001b[0m\u001b[1m y2      \u001b[0m\u001b[1m y3      \u001b[0m\u001b[1m y4      \u001b[0m\u001b[1m\u001b[0m ⋯\n",
       "     │\u001b[90m Float64 \u001b[0m\u001b[90m Float64 \u001b[0m\u001b[90m Float64 \u001b[0m\u001b[90m Float64 \u001b[0m\u001b[90m Float64 \u001b[0m\u001b[90m Float64 \u001b[0m\u001b[90m Float64 \u001b[0m\u001b[90m Float64 \u001b[0m\u001b[90m\u001b[0m ⋯\n",
       "─────┼──────────────────────────────────────────────────────────────────────────\n",
       "   1 │    10.0     10.0     10.0      8.0     8.04     9.14     7.46     6.58  ⋯\n",
       "   2 │     8.0      8.0      8.0      8.0     6.95     8.14     6.77     5.76\n",
       "   3 │    13.0     13.0     13.0      8.0     7.58     8.74    12.74     7.71\n",
       "   4 │     9.0      9.0      9.0      8.0     8.81     8.77     7.11     8.84\n",
       "   5 │    11.0     11.0     11.0      8.0     8.33     9.26     7.81     8.47  ⋯\n",
       "   6 │    14.0     14.0     14.0      8.0     9.96     8.1      8.84     7.04\n",
       "   7 │     6.0      6.0      6.0      8.0     7.24     6.13     6.08     5.25\n",
       "   8 │     4.0      4.0      4.0     19.0     4.26     3.1      5.39    12.5\n",
       "   9 │    12.0     12.0     12.0      8.0    10.84     9.13     8.15     5.56  ⋯\n",
       "  10 │     7.0      7.0      7.0      8.0     4.82     7.26     6.42     7.91\n",
       "  11 │     5.0      5.0      5.0      8.0     5.68     4.74     5.73     6.89\n",
       "\u001b[36m                                                                1 column omitted\u001b[0m"
      ]
     },
     "metadata": {},
     "output_type": "display_data"
    }
   ],
   "source": [
    "df"
   ]
  },
  {
   "cell_type": "markdown",
   "metadata": {},
   "source": [
    "It is also easy to transform a data frame back to a matrix using the `Matrix` function."
   ]
  },
  {
   "cell_type": "code",
   "execution_count": 91,
   "metadata": {},
   "outputs": [
    {
     "data": {
      "text/plain": [
       "11×9 Matrix{Float64}:\n",
       " 10.0  10.0  10.0   8.0   8.04  9.14   7.46   6.58   1.0\n",
       "  8.0   8.0   8.0   8.0   6.95  8.14   6.77   5.76   2.0\n",
       " 13.0  13.0  13.0   8.0   7.58  8.74  12.74   7.71   3.0\n",
       "  9.0   9.0   9.0   8.0   8.81  8.77   7.11   8.84   4.0\n",
       " 11.0  11.0  11.0   8.0   8.33  9.26   7.81   8.47   5.0\n",
       " 14.0  14.0  14.0   8.0   9.96  8.1    8.84   7.04   6.0\n",
       "  6.0   6.0   6.0   8.0   7.24  6.13   6.08   5.25   7.0\n",
       "  4.0   4.0   4.0  19.0   4.26  3.1    5.39  12.5    8.0\n",
       " 12.0  12.0  12.0   8.0  10.84  9.13   8.15   5.56   9.0\n",
       "  7.0   7.0   7.0   8.0   4.82  7.26   6.42   7.91  10.0\n",
       "  5.0   5.0   5.0   8.0   5.68  4.74   5.73   6.89  11.0"
      ]
     },
     "metadata": {},
     "output_type": "display_data"
    }
   ],
   "source": [
    "Matrix(df)"
   ]
  },
  {
   "cell_type": "markdown",
   "metadata": {},
   "source": [
    "We will use this feature to determine a plotting range for our data."
   ]
  },
  {
   "cell_type": "markdown",
   "metadata": {},
   "source": [
    " We take the extrema respectively of the \"x\" and \"y\" variables, add padding equal to 1, and finally collect them to vectors (without calling the `collect` our result would be a `Tuple`)"
   ]
  },
  {
   "cell_type": "code",
   "execution_count": 92,
   "metadata": {},
   "outputs": [
    {
     "data": {
      "text/plain": [
       "2-element Vector{Float64}:\n",
       "  3.0\n",
       " 20.0"
      ]
     },
     "metadata": {},
     "output_type": "display_data"
    }
   ],
   "source": [
    "xlims = collect(extrema(Matrix(select(df, r\"x\"))) .+ (-1, 1))"
   ]
  },
  {
   "cell_type": "code",
   "execution_count": 93,
   "metadata": {},
   "outputs": [
    {
     "data": {
      "text/plain": [
       "2-element Vector{Float64}:\n",
       "  2.1\n",
       " 13.74"
      ]
     },
     "metadata": {},
     "output_type": "display_data"
    }
   ],
   "source": [
    "ylims = collect(extrema(Matrix(select(df, r\"y\"))) .+ (-1, 1))"
   ]
  },
  {
   "cell_type": "code",
   "execution_count": 94,
   "metadata": {},
   "outputs": [
    {
     "name": "stderr",
     "output_type": "stream",
     "text": [
      "\u001b[32m\u001b[1m    Updating\u001b[22m\u001b[39m registry at `C:\\Users\\chadi\\.julia\\registries\\General.toml`\n",
      "\u001b[32m\u001b[1m  No Changes\u001b[22m\u001b[39m to `C:\\Users\\chadi\\OneDrive - Handelshögskolan i Stockholm\\GitHub\\JuliaAcademy\\DataFrames\\Project.toml`\n",
      "\u001b[32m\u001b[1m  No Changes\u001b[22m\u001b[39m to `C:\\Users\\chadi\\OneDrive - Handelshögskolan i Stockholm\\GitHub\\JuliaAcademy\\DataFrames\\Manifest.toml`\n"
     ]
    }
   ],
   "source": [
    "using Pkg\n",
    "Pkg.update(\"PyCall\")\n"
   ]
  },
  {
   "cell_type": "markdown",
   "metadata": {},
   "source": [
    "Now we are ready to produce the final plots.\n",
    "\n",
    "Note that the GLM.jl package is integrated with DataFrames.jl and in `lm` and `predict` functions we can use data frame objects to pass data.\n",
    "\n",
    "Note though that as GLM.jl in general supports other tabular types than just DataFrames.jl it is more strict and accepts only `Symbol`s as column names (this is required when we use the `term` function)."
   ]
  },
  {
   "cell_type": "code",
   "execution_count": 104,
   "metadata": {},
   "outputs": [
    {
     "ename": "ArgumentError",
     "evalue": "ArgumentError: ref of NULL PyObject",
     "output_type": "error",
     "traceback": [
      "ArgumentError: ref of NULL PyObject\n",
      "\n",
      "Stacktrace:\n",
      " [1] _getproperty(o::PyCall.PyObject, s::Symbol)\n",
      "   @ PyCall C:\\Users\\chadi\\.julia\\packages\\PyCall\\1gn3u\\src\\PyCall.jl:299\n",
      " [2] __getproperty\n",
      "   @ C:\\Users\\chadi\\.julia\\packages\\PyCall\\1gn3u\\src\\PyCall.jl:312 [inlined]\n",
      " [3] getproperty(o::PyCall.PyObject, s::Symbol)\n",
      "   @ PyCall C:\\Users\\chadi\\.julia\\packages\\PyCall\\1gn3u\\src\\PyCall.jl:318\n",
      " [4] top-level scope\n",
      "   @ c:\\Users\\chadi\\OneDrive - Handelshögskolan i Stockholm\\GitHub\\JuliaAcademy\\DataFrames\\2. First steps with data frames.ipynb:1"
     ]
    }
   ],
   "source": [
    "fig, axs = plt.subplots(2, 2)\n",
    "fig.tight_layout(pad=4.0)\n",
    "for i in 1:4\n",
    "    x = Symbol(\"x\", i)\n",
    "    y = Symbol(\"y\", i)\n",
    "    model = lm(term(y)~term(x), df)\n",
    "    axs[i].plot(xlims, predict(model, DataFrame(x => xlims)), color=\"orange\")\n",
    "    axs[i].scatter(df[:, x], df[:, y])\n",
    "    axs[i].set_xlim(xlims)\n",
    "    axs[i].set_ylim(ylims)\n",
    "    axs[i].set_xlabel(\"x$i\")\n",
    "    axs[i].set_ylabel(\"y$i\")\n",
    "    a, b = round.(coef(model), digits=2)\n",
    "    c = round(100 * r2(model), digits=2)\n",
    "    axs[i].set_title(string(\"R²=$c%, $y=$a+$b$x\"))\n",
    "end\n"
   ]
  },
  {
   "cell_type": "markdown",
   "metadata": {},
   "source": [
    "We note that in all cases the estimated models have exactly the same R² and estimated coefficients."
   ]
  },
  {
   "cell_type": "markdown",
   "metadata": {},
   "source": [
    "It is worth to highlight several important features of DataFrames.jl package functionality that we used in the above example."
   ]
  },
  {
   "cell_type": "markdown",
   "metadata": {},
   "source": [
    "First, it is easy to create a data frame from variables holding column names and values using `=>`. Here is one more example how this functionality can be used:"
   ]
  },
  {
   "cell_type": "code",
   "execution_count": 96,
   "metadata": {},
   "outputs": [
    {
     "data": {
      "text/html": [
       "<div><div style = \"float: left;\"><span>3×2 DataFrame</span></div><div style = \"clear: both;\"></div></div><div class = \"data-frame\" style = \"overflow-x: scroll;\"><table class = \"data-frame\" style = \"margin-bottom: 6px;\"><thead><tr class = \"header\"><th class = \"rowNumber\" style = \"font-weight: bold; text-align: right;\">Row</th><th style = \"text-align: left;\">var1</th><th style = \"text-align: left;\">var2</th></tr><tr class = \"subheader headerLastRow\"><th class = \"rowNumber\" style = \"font-weight: bold; text-align: right;\"></th><th title = \"Int64\" style = \"text-align: left;\">Int64</th><th title = \"Int64\" style = \"text-align: left;\">Int64</th></tr></thead><tbody><tr><td class = \"rowNumber\" style = \"font-weight: bold; text-align: right;\">1</td><td style = \"text-align: right;\">1</td><td style = \"text-align: right;\">4</td></tr><tr><td class = \"rowNumber\" style = \"font-weight: bold; text-align: right;\">2</td><td style = \"text-align: right;\">2</td><td style = \"text-align: right;\">5</td></tr><tr><td class = \"rowNumber\" style = \"font-weight: bold; text-align: right;\">3</td><td style = \"text-align: right;\">3</td><td style = \"text-align: right;\">6</td></tr></tbody></table></div>"
      ],
      "text/latex": [
       "\\begin{tabular}{r|cc}\n",
       "\t& var1 & var2\\\\\n",
       "\t\\hline\n",
       "\t& Int64 & Int64\\\\\n",
       "\t\\hline\n",
       "\t1 & 1 & 4 \\\\\n",
       "\t2 & 2 & 5 \\\\\n",
       "\t3 & 3 & 6 \\\\\n",
       "\\end{tabular}\n"
      ],
      "text/plain": [
       "\u001b[1m3×2 DataFrame\u001b[0m\n",
       "\u001b[1m Row \u001b[0m│\u001b[1m var1  \u001b[0m\u001b[1m var2  \u001b[0m\n",
       "     │\u001b[90m Int64 \u001b[0m\u001b[90m Int64 \u001b[0m\n",
       "─────┼──────────────\n",
       "   1 │     1      4\n",
       "   2 │     2      5\n",
       "   3 │     3      6"
      ]
     },
     "metadata": {},
     "output_type": "display_data"
    }
   ],
   "source": [
    "x = :var1\n",
    "y = :var2\n",
    "xc = 1:3\n",
    "yc = 4:6\n",
    "DataFrame(x => xc, y => yc)"
   ]
  },
  {
   "cell_type": "markdown",
   "metadata": {},
   "source": [
    "Note that the same effect can be achieved with passing keyword arguments directly to `DataFrame` constructor:"
   ]
  },
  {
   "cell_type": "code",
   "execution_count": 97,
   "metadata": {},
   "outputs": [
    {
     "data": {
      "text/html": [
       "<div><div style = \"float: left;\"><span>3×2 DataFrame</span></div><div style = \"clear: both;\"></div></div><div class = \"data-frame\" style = \"overflow-x: scroll;\"><table class = \"data-frame\" style = \"margin-bottom: 6px;\"><thead><tr class = \"header\"><th class = \"rowNumber\" style = \"font-weight: bold; text-align: right;\">Row</th><th style = \"text-align: left;\">var1</th><th style = \"text-align: left;\">var2</th></tr><tr class = \"subheader headerLastRow\"><th class = \"rowNumber\" style = \"font-weight: bold; text-align: right;\"></th><th title = \"Int64\" style = \"text-align: left;\">Int64</th><th title = \"Int64\" style = \"text-align: left;\">Int64</th></tr></thead><tbody><tr><td class = \"rowNumber\" style = \"font-weight: bold; text-align: right;\">1</td><td style = \"text-align: right;\">1</td><td style = \"text-align: right;\">4</td></tr><tr><td class = \"rowNumber\" style = \"font-weight: bold; text-align: right;\">2</td><td style = \"text-align: right;\">2</td><td style = \"text-align: right;\">5</td></tr><tr><td class = \"rowNumber\" style = \"font-weight: bold; text-align: right;\">3</td><td style = \"text-align: right;\">3</td><td style = \"text-align: right;\">6</td></tr></tbody></table></div>"
      ],
      "text/latex": [
       "\\begin{tabular}{r|cc}\n",
       "\t& var1 & var2\\\\\n",
       "\t\\hline\n",
       "\t& Int64 & Int64\\\\\n",
       "\t\\hline\n",
       "\t1 & 1 & 4 \\\\\n",
       "\t2 & 2 & 5 \\\\\n",
       "\t3 & 3 & 6 \\\\\n",
       "\\end{tabular}\n"
      ],
      "text/plain": [
       "\u001b[1m3×2 DataFrame\u001b[0m\n",
       "\u001b[1m Row \u001b[0m│\u001b[1m var1  \u001b[0m\u001b[1m var2  \u001b[0m\n",
       "     │\u001b[90m Int64 \u001b[0m\u001b[90m Int64 \u001b[0m\n",
       "─────┼──────────────\n",
       "   1 │     1      4\n",
       "   2 │     2      5\n",
       "   3 │     3      6"
      ]
     },
     "metadata": {},
     "output_type": "display_data"
    }
   ],
   "source": [
    "DataFrame(var1=xc, var2=yc)"
   ]
  },
  {
   "cell_type": "markdown",
   "metadata": {},
   "source": [
    "Another thing you might have noticed is the use of `df[:, x]` and `df[:, y]` indexing expressions to get columns from a data frame. Let us comment on the differences between `df.col` and `df[:, col]` syntaxes that we discussed above:"
   ]
  },
  {
   "cell_type": "code",
   "execution_count": 98,
   "metadata": {},
   "outputs": [
    {
     "data": {
      "text/plain": [
       "11-element Vector{Float64}:\n",
       " 10.0\n",
       "  8.0\n",
       " 13.0\n",
       "  9.0\n",
       " 11.0\n",
       " 14.0\n",
       "  6.0\n",
       "  4.0\n",
       " 12.0\n",
       "  7.0\n",
       "  5.0"
      ]
     },
     "metadata": {},
     "output_type": "display_data"
    }
   ],
   "source": [
    "# gives you a direct access to the column stored in `df` but x1 is a literal\n",
    "df.x1"
   ]
  },
  {
   "cell_type": "code",
   "execution_count": 99,
   "metadata": {},
   "outputs": [
    {
     "data": {
      "text/plain": [
       "11-element Vector{Float64}:\n",
       " 10.0\n",
       "  8.0\n",
       " 13.0\n",
       "  9.0\n",
       " 11.0\n",
       " 14.0\n",
       "  6.0\n",
       "  4.0\n",
       " 12.0\n",
       "  7.0\n",
       "  5.0"
      ]
     },
     "metadata": {},
     "output_type": "display_data"
    }
   ],
   "source": [
    "# now the column is copied, so this is the same as copy(df.x1)\n",
    "# in this case we could have used a variable instead of a literal for indexing\n",
    "df[:, :x1]"
   ]
  },
  {
   "cell_type": "markdown",
   "metadata": {},
   "source": [
    "So what if you want to select a column without copying it but want to use a variable holding its name. There is a special `!` row selector for this:"
   ]
  },
  {
   "cell_type": "code",
   "execution_count": 100,
   "metadata": {},
   "outputs": [
    {
     "data": {
      "text/plain": [
       ":x1"
      ]
     },
     "metadata": {},
     "output_type": "display_data"
    }
   ],
   "source": [
    "n = :x1"
   ]
  },
  {
   "cell_type": "code",
   "execution_count": 101,
   "metadata": {},
   "outputs": [
    {
     "data": {
      "text/plain": [
       "11-element Vector{Float64}:\n",
       " 10.0\n",
       "  8.0\n",
       " 13.0\n",
       "  9.0\n",
       " 11.0\n",
       " 14.0\n",
       "  6.0\n",
       "  4.0\n",
       " 12.0\n",
       "  7.0\n",
       "  5.0"
      ]
     },
     "metadata": {},
     "output_type": "display_data"
    }
   ],
   "source": [
    "v = df[!, n]"
   ]
  },
  {
   "cell_type": "markdown",
   "metadata": {},
   "source": [
    "Let us check that `!` does not copy:"
   ]
  },
  {
   "cell_type": "code",
   "execution_count": 102,
   "metadata": {},
   "outputs": [
    {
     "data": {
      "text/plain": [
       "true"
      ]
     },
     "metadata": {},
     "output_type": "display_data"
    }
   ],
   "source": [
    "v === df.x1"
   ]
  },
  {
   "cell_type": "markdown",
   "metadata": {},
   "source": [
    "Indexing of a data frame is very flexible. All rules governing this functionality can be found at https://juliadata.github.io/DataFrames.jl/stable/lib/indexing/."
   ]
  }
 ],
 "metadata": {
  "@webio": {
   "lastCommId": null,
   "lastKernelId": null
  },
  "kernelspec": {
   "display_name": "Julia 1.10.2",
   "language": "julia",
   "name": "julia-1.10"
  },
  "language_info": {
   "file_extension": ".jl",
   "mimetype": "application/julia",
   "name": "julia",
   "version": "1.10.2"
  }
 },
 "nbformat": 4,
 "nbformat_minor": 4
}
