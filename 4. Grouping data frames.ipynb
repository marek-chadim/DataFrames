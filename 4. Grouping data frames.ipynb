{
 "cells": [
  {
   "cell_type": "markdown",
   "metadata": {},
   "source": [
    "# Working with groups of rows of a data frame\n",
    "\n",
    "### Bogumił Kamiński"
   ]
  },
  {
   "cell_type": "code",
   "execution_count": 1,
   "metadata": {},
   "outputs": [
    {
     "ename": "Base.Meta.ParseError",
     "evalue": "ParseError:\n# Error @ c:\\Users\\chadi\\OneDrive - Handelshögskolan i Stockholm\\GitHub\\JuliaAcademy\\DataFrames\\4. Grouping data frames.ipynb:1:1\n] activate .\n╙ ── unexpected `]`",
     "output_type": "error",
     "traceback": [
      "ParseError:\n",
      "# Error @ c:\\Users\\chadi\\OneDrive - Handelshögskolan i Stockholm\\GitHub\\JuliaAcademy\\DataFrames\\4. Grouping data frames.ipynb:1:1\n",
      "] activate .\n",
      "╙ ── unexpected `]`\n",
      "\n",
      "Stacktrace:\n",
      " [1] top-level scope\n",
      "   @ c:\\Users\\chadi\\OneDrive - Handelshögskolan i Stockholm\\GitHub\\JuliaAcademy\\DataFrames\\4. Grouping data frames.ipynb:1"
     ]
    }
   ],
   "source": [
    "] activate ."
   ]
  },
  {
   "cell_type": "code",
   "execution_count": 2,
   "metadata": {},
   "outputs": [],
   "source": [
    "using DataFrames"
   ]
  },
  {
   "cell_type": "code",
   "execution_count": 3,
   "metadata": {},
   "outputs": [],
   "source": [
    "using CSV"
   ]
  },
  {
   "cell_type": "code",
   "execution_count": 4,
   "metadata": {},
   "outputs": [],
   "source": [
    "using Arrow"
   ]
  },
  {
   "cell_type": "code",
   "execution_count": 5,
   "metadata": {},
   "outputs": [],
   "source": [
    "using Statistics"
   ]
  },
  {
   "cell_type": "code",
   "execution_count": 6,
   "metadata": {},
   "outputs": [],
   "source": [
    "using FreqTables"
   ]
  },
  {
   "cell_type": "code",
   "execution_count": 7,
   "metadata": {},
   "outputs": [],
   "source": [
    "using Pipe"
   ]
  },
  {
   "cell_type": "markdown",
   "metadata": {},
   "source": [
    "This part of the tutorial assumes that you have run *3. Working with text files* part so that you have auto2.csv and auto2.arrow files in your working directory."
   ]
  },
  {
   "cell_type": "code",
   "execution_count": 8,
   "metadata": {},
   "outputs": [
    {
     "data": {
      "text/html": [
       "<div><div style = \"float: left;\"><span>392×10 DataFrame</span></div><div style = \"float: right;\"><span style = \"font-style: italic;\">367 rows omitted</span></div><div style = \"clear: both;\"></div></div><div class = \"data-frame\" style = \"overflow-x: scroll;\"><table class = \"data-frame\" style = \"margin-bottom: 6px;\"><thead><tr class = \"header\"><th class = \"rowNumber\" style = \"font-weight: bold; text-align: right;\">Row</th><th style = \"text-align: left;\">mpg</th><th style = \"text-align: left;\">cylinders</th><th style = \"text-align: left;\">displacement</th><th style = \"text-align: left;\">horsepower</th><th style = \"text-align: left;\">weight</th><th style = \"text-align: left;\">acceleration</th><th style = \"text-align: left;\">year</th><th style = \"text-align: left;\">origin</th><th style = \"text-align: left;\">name</th><th style = \"text-align: left;\">brand</th></tr><tr class = \"subheader headerLastRow\"><th class = \"rowNumber\" style = \"font-weight: bold; text-align: right;\"></th><th title = \"Float64\" style = \"text-align: left;\">Float64</th><th title = \"Float64\" style = \"text-align: left;\">Float64</th><th title = \"Float64\" style = \"text-align: left;\">Float64</th><th title = \"Float64\" style = \"text-align: left;\">Float64</th><th title = \"Float64\" style = \"text-align: left;\">Float64</th><th title = \"Float64\" style = \"text-align: left;\">Float64</th><th title = \"Float64\" style = \"text-align: left;\">Float64</th><th title = \"Float64\" style = \"text-align: left;\">Float64</th><th title = \"String\" style = \"text-align: left;\">String</th><th title = \"String15\" style = \"text-align: left;\">String15</th></tr></thead><tbody><tr><td class = \"rowNumber\" style = \"font-weight: bold; text-align: right;\">1</td><td style = \"text-align: right;\">18.0</td><td style = \"text-align: right;\">8.0</td><td style = \"text-align: right;\">307.0</td><td style = \"text-align: right;\">130.0</td><td style = \"text-align: right;\">3504.0</td><td style = \"text-align: right;\">12.0</td><td style = \"text-align: right;\">70.0</td><td style = \"text-align: right;\">1.0</td><td style = \"text-align: left;\">chevrolet chevelle malibu</td><td style = \"text-align: left;\">chevrolet</td></tr><tr><td class = \"rowNumber\" style = \"font-weight: bold; text-align: right;\">2</td><td style = \"text-align: right;\">15.0</td><td style = \"text-align: right;\">8.0</td><td style = \"text-align: right;\">350.0</td><td style = \"text-align: right;\">165.0</td><td style = \"text-align: right;\">3693.0</td><td style = \"text-align: right;\">11.5</td><td style = \"text-align: right;\">70.0</td><td style = \"text-align: right;\">1.0</td><td style = \"text-align: left;\">buick skylark 320</td><td style = \"text-align: left;\">buick</td></tr><tr><td class = \"rowNumber\" style = \"font-weight: bold; text-align: right;\">3</td><td style = \"text-align: right;\">18.0</td><td style = \"text-align: right;\">8.0</td><td style = \"text-align: right;\">318.0</td><td style = \"text-align: right;\">150.0</td><td style = \"text-align: right;\">3436.0</td><td style = \"text-align: right;\">11.0</td><td style = \"text-align: right;\">70.0</td><td style = \"text-align: right;\">1.0</td><td style = \"text-align: left;\">plymouth satellite</td><td style = \"text-align: left;\">plymouth</td></tr><tr><td class = \"rowNumber\" style = \"font-weight: bold; text-align: right;\">4</td><td style = \"text-align: right;\">16.0</td><td style = \"text-align: right;\">8.0</td><td style = \"text-align: right;\">304.0</td><td style = \"text-align: right;\">150.0</td><td style = \"text-align: right;\">3433.0</td><td style = \"text-align: right;\">12.0</td><td style = \"text-align: right;\">70.0</td><td style = \"text-align: right;\">1.0</td><td style = \"text-align: left;\">amc rebel sst</td><td style = \"text-align: left;\">amc</td></tr><tr><td class = \"rowNumber\" style = \"font-weight: bold; text-align: right;\">5</td><td style = \"text-align: right;\">17.0</td><td style = \"text-align: right;\">8.0</td><td style = \"text-align: right;\">302.0</td><td style = \"text-align: right;\">140.0</td><td style = \"text-align: right;\">3449.0</td><td style = \"text-align: right;\">10.5</td><td style = \"text-align: right;\">70.0</td><td style = \"text-align: right;\">1.0</td><td style = \"text-align: left;\">ford torino</td><td style = \"text-align: left;\">ford</td></tr><tr><td class = \"rowNumber\" style = \"font-weight: bold; text-align: right;\">6</td><td style = \"text-align: right;\">15.0</td><td style = \"text-align: right;\">8.0</td><td style = \"text-align: right;\">429.0</td><td style = \"text-align: right;\">198.0</td><td style = \"text-align: right;\">4341.0</td><td style = \"text-align: right;\">10.0</td><td style = \"text-align: right;\">70.0</td><td style = \"text-align: right;\">1.0</td><td style = \"text-align: left;\">ford galaxie 500</td><td style = \"text-align: left;\">ford</td></tr><tr><td class = \"rowNumber\" style = \"font-weight: bold; text-align: right;\">7</td><td style = \"text-align: right;\">14.0</td><td style = \"text-align: right;\">8.0</td><td style = \"text-align: right;\">454.0</td><td style = \"text-align: right;\">220.0</td><td style = \"text-align: right;\">4354.0</td><td style = \"text-align: right;\">9.0</td><td style = \"text-align: right;\">70.0</td><td style = \"text-align: right;\">1.0</td><td style = \"text-align: left;\">chevrolet impala</td><td style = \"text-align: left;\">chevrolet</td></tr><tr><td class = \"rowNumber\" style = \"font-weight: bold; text-align: right;\">8</td><td style = \"text-align: right;\">14.0</td><td style = \"text-align: right;\">8.0</td><td style = \"text-align: right;\">440.0</td><td style = \"text-align: right;\">215.0</td><td style = \"text-align: right;\">4312.0</td><td style = \"text-align: right;\">8.5</td><td style = \"text-align: right;\">70.0</td><td style = \"text-align: right;\">1.0</td><td style = \"text-align: left;\">plymouth fury iii</td><td style = \"text-align: left;\">plymouth</td></tr><tr><td class = \"rowNumber\" style = \"font-weight: bold; text-align: right;\">9</td><td style = \"text-align: right;\">14.0</td><td style = \"text-align: right;\">8.0</td><td style = \"text-align: right;\">455.0</td><td style = \"text-align: right;\">225.0</td><td style = \"text-align: right;\">4425.0</td><td style = \"text-align: right;\">10.0</td><td style = \"text-align: right;\">70.0</td><td style = \"text-align: right;\">1.0</td><td style = \"text-align: left;\">pontiac catalina</td><td style = \"text-align: left;\">pontiac</td></tr><tr><td class = \"rowNumber\" style = \"font-weight: bold; text-align: right;\">10</td><td style = \"text-align: right;\">15.0</td><td style = \"text-align: right;\">8.0</td><td style = \"text-align: right;\">390.0</td><td style = \"text-align: right;\">190.0</td><td style = \"text-align: right;\">3850.0</td><td style = \"text-align: right;\">8.5</td><td style = \"text-align: right;\">70.0</td><td style = \"text-align: right;\">1.0</td><td style = \"text-align: left;\">amc ambassador dpl</td><td style = \"text-align: left;\">amc</td></tr><tr><td class = \"rowNumber\" style = \"font-weight: bold; text-align: right;\">11</td><td style = \"text-align: right;\">15.0</td><td style = \"text-align: right;\">8.0</td><td style = \"text-align: right;\">383.0</td><td style = \"text-align: right;\">170.0</td><td style = \"text-align: right;\">3563.0</td><td style = \"text-align: right;\">10.0</td><td style = \"text-align: right;\">70.0</td><td style = \"text-align: right;\">1.0</td><td style = \"text-align: left;\">dodge challenger se</td><td style = \"text-align: left;\">dodge</td></tr><tr><td class = \"rowNumber\" style = \"font-weight: bold; text-align: right;\">12</td><td style = \"text-align: right;\">14.0</td><td style = \"text-align: right;\">8.0</td><td style = \"text-align: right;\">340.0</td><td style = \"text-align: right;\">160.0</td><td style = \"text-align: right;\">3609.0</td><td style = \"text-align: right;\">8.0</td><td style = \"text-align: right;\">70.0</td><td style = \"text-align: right;\">1.0</td><td style = \"text-align: left;\">plymouth &apos;cuda 340</td><td style = \"text-align: left;\">plymouth</td></tr><tr><td class = \"rowNumber\" style = \"font-weight: bold; text-align: right;\">13</td><td style = \"text-align: right;\">15.0</td><td style = \"text-align: right;\">8.0</td><td style = \"text-align: right;\">400.0</td><td style = \"text-align: right;\">150.0</td><td style = \"text-align: right;\">3761.0</td><td style = \"text-align: right;\">9.5</td><td style = \"text-align: right;\">70.0</td><td style = \"text-align: right;\">1.0</td><td style = \"text-align: left;\">chevrolet monte carlo</td><td style = \"text-align: left;\">chevrolet</td></tr><tr><td style = \"text-align: right;\">&vellip;</td><td style = \"text-align: right;\">&vellip;</td><td style = \"text-align: right;\">&vellip;</td><td style = \"text-align: right;\">&vellip;</td><td style = \"text-align: right;\">&vellip;</td><td style = \"text-align: right;\">&vellip;</td><td style = \"text-align: right;\">&vellip;</td><td style = \"text-align: right;\">&vellip;</td><td style = \"text-align: right;\">&vellip;</td><td style = \"text-align: right;\">&vellip;</td><td style = \"text-align: right;\">&vellip;</td></tr><tr><td class = \"rowNumber\" style = \"font-weight: bold; text-align: right;\">381</td><td style = \"text-align: right;\">25.0</td><td style = \"text-align: right;\">6.0</td><td style = \"text-align: right;\">181.0</td><td style = \"text-align: right;\">110.0</td><td style = \"text-align: right;\">2945.0</td><td style = \"text-align: right;\">16.4</td><td style = \"text-align: right;\">82.0</td><td style = \"text-align: right;\">1.0</td><td style = \"text-align: left;\">buick century limited</td><td style = \"text-align: left;\">buick</td></tr><tr><td class = \"rowNumber\" style = \"font-weight: bold; text-align: right;\">382</td><td style = \"text-align: right;\">38.0</td><td style = \"text-align: right;\">6.0</td><td style = \"text-align: right;\">262.0</td><td style = \"text-align: right;\">85.0</td><td style = \"text-align: right;\">3015.0</td><td style = \"text-align: right;\">17.0</td><td style = \"text-align: right;\">82.0</td><td style = \"text-align: right;\">1.0</td><td style = \"text-align: left;\">oldsmobile cutlass ciera (diesel)</td><td style = \"text-align: left;\">oldsmobile</td></tr><tr><td class = \"rowNumber\" style = \"font-weight: bold; text-align: right;\">383</td><td style = \"text-align: right;\">26.0</td><td style = \"text-align: right;\">4.0</td><td style = \"text-align: right;\">156.0</td><td style = \"text-align: right;\">92.0</td><td style = \"text-align: right;\">2585.0</td><td style = \"text-align: right;\">14.5</td><td style = \"text-align: right;\">82.0</td><td style = \"text-align: right;\">1.0</td><td style = \"text-align: left;\">chrysler lebaron medallion</td><td style = \"text-align: left;\">chrysler</td></tr><tr><td class = \"rowNumber\" style = \"font-weight: bold; text-align: right;\">384</td><td style = \"text-align: right;\">22.0</td><td style = \"text-align: right;\">6.0</td><td style = \"text-align: right;\">232.0</td><td style = \"text-align: right;\">112.0</td><td style = \"text-align: right;\">2835.0</td><td style = \"text-align: right;\">14.7</td><td style = \"text-align: right;\">82.0</td><td style = \"text-align: right;\">1.0</td><td style = \"text-align: left;\">ford granada l</td><td style = \"text-align: left;\">ford</td></tr><tr><td class = \"rowNumber\" style = \"font-weight: bold; text-align: right;\">385</td><td style = \"text-align: right;\">32.0</td><td style = \"text-align: right;\">4.0</td><td style = \"text-align: right;\">144.0</td><td style = \"text-align: right;\">96.0</td><td style = \"text-align: right;\">2665.0</td><td style = \"text-align: right;\">13.9</td><td style = \"text-align: right;\">82.0</td><td style = \"text-align: right;\">3.0</td><td style = \"text-align: left;\">toyota celica gt</td><td style = \"text-align: left;\">toyota</td></tr><tr><td class = \"rowNumber\" style = \"font-weight: bold; text-align: right;\">386</td><td style = \"text-align: right;\">36.0</td><td style = \"text-align: right;\">4.0</td><td style = \"text-align: right;\">135.0</td><td style = \"text-align: right;\">84.0</td><td style = \"text-align: right;\">2370.0</td><td style = \"text-align: right;\">13.0</td><td style = \"text-align: right;\">82.0</td><td style = \"text-align: right;\">1.0</td><td style = \"text-align: left;\">dodge charger 2.2</td><td style = \"text-align: left;\">dodge</td></tr><tr><td class = \"rowNumber\" style = \"font-weight: bold; text-align: right;\">387</td><td style = \"text-align: right;\">27.0</td><td style = \"text-align: right;\">4.0</td><td style = \"text-align: right;\">151.0</td><td style = \"text-align: right;\">90.0</td><td style = \"text-align: right;\">2950.0</td><td style = \"text-align: right;\">17.3</td><td style = \"text-align: right;\">82.0</td><td style = \"text-align: right;\">1.0</td><td style = \"text-align: left;\">chevrolet camaro</td><td style = \"text-align: left;\">chevrolet</td></tr><tr><td class = \"rowNumber\" style = \"font-weight: bold; text-align: right;\">388</td><td style = \"text-align: right;\">27.0</td><td style = \"text-align: right;\">4.0</td><td style = \"text-align: right;\">140.0</td><td style = \"text-align: right;\">86.0</td><td style = \"text-align: right;\">2790.0</td><td style = \"text-align: right;\">15.6</td><td style = \"text-align: right;\">82.0</td><td style = \"text-align: right;\">1.0</td><td style = \"text-align: left;\">ford mustang gl</td><td style = \"text-align: left;\">ford</td></tr><tr><td class = \"rowNumber\" style = \"font-weight: bold; text-align: right;\">389</td><td style = \"text-align: right;\">44.0</td><td style = \"text-align: right;\">4.0</td><td style = \"text-align: right;\">97.0</td><td style = \"text-align: right;\">52.0</td><td style = \"text-align: right;\">2130.0</td><td style = \"text-align: right;\">24.6</td><td style = \"text-align: right;\">82.0</td><td style = \"text-align: right;\">2.0</td><td style = \"text-align: left;\">vw pickup</td><td style = \"text-align: left;\">vw</td></tr><tr><td class = \"rowNumber\" style = \"font-weight: bold; text-align: right;\">390</td><td style = \"text-align: right;\">32.0</td><td style = \"text-align: right;\">4.0</td><td style = \"text-align: right;\">135.0</td><td style = \"text-align: right;\">84.0</td><td style = \"text-align: right;\">2295.0</td><td style = \"text-align: right;\">11.6</td><td style = \"text-align: right;\">82.0</td><td style = \"text-align: right;\">1.0</td><td style = \"text-align: left;\">dodge rampage</td><td style = \"text-align: left;\">dodge</td></tr><tr><td class = \"rowNumber\" style = \"font-weight: bold; text-align: right;\">391</td><td style = \"text-align: right;\">28.0</td><td style = \"text-align: right;\">4.0</td><td style = \"text-align: right;\">120.0</td><td style = \"text-align: right;\">79.0</td><td style = \"text-align: right;\">2625.0</td><td style = \"text-align: right;\">18.6</td><td style = \"text-align: right;\">82.0</td><td style = \"text-align: right;\">1.0</td><td style = \"text-align: left;\">ford ranger</td><td style = \"text-align: left;\">ford</td></tr><tr><td class = \"rowNumber\" style = \"font-weight: bold; text-align: right;\">392</td><td style = \"text-align: right;\">31.0</td><td style = \"text-align: right;\">4.0</td><td style = \"text-align: right;\">119.0</td><td style = \"text-align: right;\">82.0</td><td style = \"text-align: right;\">2720.0</td><td style = \"text-align: right;\">19.4</td><td style = \"text-align: right;\">82.0</td><td style = \"text-align: right;\">1.0</td><td style = \"text-align: left;\">chevy s-10</td><td style = \"text-align: left;\">chevy</td></tr></tbody></table></div>"
      ],
      "text/latex": [
       "\\begin{tabular}{r|ccccccccc}\n",
       "\t& mpg & cylinders & displacement & horsepower & weight & acceleration & year & origin & \\\\\n",
       "\t\\hline\n",
       "\t& Float64 & Float64 & Float64 & Float64 & Float64 & Float64 & Float64 & Float64 & \\\\\n",
       "\t\\hline\n",
       "\t1 & 18.0 & 8.0 & 307.0 & 130.0 & 3504.0 & 12.0 & 70.0 & 1.0 & $\\dots$ \\\\\n",
       "\t2 & 15.0 & 8.0 & 350.0 & 165.0 & 3693.0 & 11.5 & 70.0 & 1.0 & $\\dots$ \\\\\n",
       "\t3 & 18.0 & 8.0 & 318.0 & 150.0 & 3436.0 & 11.0 & 70.0 & 1.0 & $\\dots$ \\\\\n",
       "\t4 & 16.0 & 8.0 & 304.0 & 150.0 & 3433.0 & 12.0 & 70.0 & 1.0 & $\\dots$ \\\\\n",
       "\t5 & 17.0 & 8.0 & 302.0 & 140.0 & 3449.0 & 10.5 & 70.0 & 1.0 & $\\dots$ \\\\\n",
       "\t6 & 15.0 & 8.0 & 429.0 & 198.0 & 4341.0 & 10.0 & 70.0 & 1.0 & $\\dots$ \\\\\n",
       "\t7 & 14.0 & 8.0 & 454.0 & 220.0 & 4354.0 & 9.0 & 70.0 & 1.0 & $\\dots$ \\\\\n",
       "\t8 & 14.0 & 8.0 & 440.0 & 215.0 & 4312.0 & 8.5 & 70.0 & 1.0 & $\\dots$ \\\\\n",
       "\t9 & 14.0 & 8.0 & 455.0 & 225.0 & 4425.0 & 10.0 & 70.0 & 1.0 & $\\dots$ \\\\\n",
       "\t10 & 15.0 & 8.0 & 390.0 & 190.0 & 3850.0 & 8.5 & 70.0 & 1.0 & $\\dots$ \\\\\n",
       "\t11 & 15.0 & 8.0 & 383.0 & 170.0 & 3563.0 & 10.0 & 70.0 & 1.0 & $\\dots$ \\\\\n",
       "\t12 & 14.0 & 8.0 & 340.0 & 160.0 & 3609.0 & 8.0 & 70.0 & 1.0 & $\\dots$ \\\\\n",
       "\t13 & 15.0 & 8.0 & 400.0 & 150.0 & 3761.0 & 9.5 & 70.0 & 1.0 & $\\dots$ \\\\\n",
       "\t14 & 14.0 & 8.0 & 455.0 & 225.0 & 3086.0 & 10.0 & 70.0 & 1.0 & $\\dots$ \\\\\n",
       "\t15 & 24.0 & 4.0 & 113.0 & 95.0 & 2372.0 & 15.0 & 70.0 & 3.0 & $\\dots$ \\\\\n",
       "\t16 & 22.0 & 6.0 & 198.0 & 95.0 & 2833.0 & 15.5 & 70.0 & 1.0 & $\\dots$ \\\\\n",
       "\t17 & 18.0 & 6.0 & 199.0 & 97.0 & 2774.0 & 15.5 & 70.0 & 1.0 & $\\dots$ \\\\\n",
       "\t18 & 21.0 & 6.0 & 200.0 & 85.0 & 2587.0 & 16.0 & 70.0 & 1.0 & $\\dots$ \\\\\n",
       "\t19 & 27.0 & 4.0 & 97.0 & 88.0 & 2130.0 & 14.5 & 70.0 & 3.0 & $\\dots$ \\\\\n",
       "\t20 & 26.0 & 4.0 & 97.0 & 46.0 & 1835.0 & 20.5 & 70.0 & 2.0 & $\\dots$ \\\\\n",
       "\t21 & 25.0 & 4.0 & 110.0 & 87.0 & 2672.0 & 17.5 & 70.0 & 2.0 & $\\dots$ \\\\\n",
       "\t22 & 24.0 & 4.0 & 107.0 & 90.0 & 2430.0 & 14.5 & 70.0 & 2.0 & $\\dots$ \\\\\n",
       "\t23 & 25.0 & 4.0 & 104.0 & 95.0 & 2375.0 & 17.5 & 70.0 & 2.0 & $\\dots$ \\\\\n",
       "\t24 & 26.0 & 4.0 & 121.0 & 113.0 & 2234.0 & 12.5 & 70.0 & 2.0 & $\\dots$ \\\\\n",
       "\t$\\dots$ & $\\dots$ & $\\dots$ & $\\dots$ & $\\dots$ & $\\dots$ & $\\dots$ & $\\dots$ & $\\dots$ &  \\\\\n",
       "\\end{tabular}\n"
      ],
      "text/plain": [
       "\u001b[1m392×10 DataFrame\u001b[0m\n",
       "\u001b[1m Row \u001b[0m│\u001b[1m mpg     \u001b[0m\u001b[1m cylinders \u001b[0m\u001b[1m displacement \u001b[0m\u001b[1m horsepower \u001b[0m\u001b[1m weight  \u001b[0m\u001b[1m acceleration \u001b[0m\u001b[1m ye\u001b[0m ⋯\n",
       "     │\u001b[90m Float64 \u001b[0m\u001b[90m Float64   \u001b[0m\u001b[90m Float64      \u001b[0m\u001b[90m Float64    \u001b[0m\u001b[90m Float64 \u001b[0m\u001b[90m Float64      \u001b[0m\u001b[90m Fl\u001b[0m ⋯\n",
       "─────┼──────────────────────────────────────────────────────────────────────────\n",
       "   1 │    18.0        8.0         307.0       130.0   3504.0          12.0     ⋯\n",
       "   2 │    15.0        8.0         350.0       165.0   3693.0          11.5\n",
       "   3 │    18.0        8.0         318.0       150.0   3436.0          11.0\n",
       "   4 │    16.0        8.0         304.0       150.0   3433.0          12.0\n",
       "   5 │    17.0        8.0         302.0       140.0   3449.0          10.5     ⋯\n",
       "   6 │    15.0        8.0         429.0       198.0   4341.0          10.0\n",
       "   7 │    14.0        8.0         454.0       220.0   4354.0           9.0\n",
       "   8 │    14.0        8.0         440.0       215.0   4312.0           8.5\n",
       "  ⋮  │    ⋮         ⋮           ⋮            ⋮          ⋮          ⋮           ⋱\n",
       " 386 │    36.0        4.0         135.0        84.0   2370.0          13.0     ⋯\n",
       " 387 │    27.0        4.0         151.0        90.0   2950.0          17.3\n",
       " 388 │    27.0        4.0         140.0        86.0   2790.0          15.6\n",
       " 389 │    44.0        4.0          97.0        52.0   2130.0          24.6\n",
       " 390 │    32.0        4.0         135.0        84.0   2295.0          11.6     ⋯\n",
       " 391 │    28.0        4.0         120.0        79.0   2625.0          18.6\n",
       " 392 │    31.0        4.0         119.0        82.0   2720.0          19.4\n",
       "\u001b[36m                                                  4 columns and 377 rows omitted\u001b[0m"
      ]
     },
     "metadata": {},
     "output_type": "display_data"
    }
   ],
   "source": [
    "df = CSV.File(\"auto2.csv\") |> DataFrame"
   ]
  },
  {
   "cell_type": "code",
   "execution_count": 9,
   "metadata": {},
   "outputs": [
    {
     "data": {
      "text/html": [
       "<div><div style = \"float: left;\"><span>392×10 DataFrame</span></div><div style = \"float: right;\"><span style = \"font-style: italic;\">367 rows omitted</span></div><div style = \"clear: both;\"></div></div><div class = \"data-frame\" style = \"overflow-x: scroll;\"><table class = \"data-frame\" style = \"margin-bottom: 6px;\"><thead><tr class = \"header\"><th class = \"rowNumber\" style = \"font-weight: bold; text-align: right;\">Row</th><th style = \"text-align: left;\">mpg</th><th style = \"text-align: left;\">cylinders</th><th style = \"text-align: left;\">displacement</th><th style = \"text-align: left;\">horsepower</th><th style = \"text-align: left;\">weight</th><th style = \"text-align: left;\">acceleration</th><th style = \"text-align: left;\">year</th><th style = \"text-align: left;\">origin</th><th style = \"text-align: left;\">name</th><th style = \"text-align: left;\">brand</th></tr><tr class = \"subheader headerLastRow\"><th class = \"rowNumber\" style = \"font-weight: bold; text-align: right;\"></th><th title = \"Float64\" style = \"text-align: left;\">Float64</th><th title = \"Float64\" style = \"text-align: left;\">Float64</th><th title = \"Float64\" style = \"text-align: left;\">Float64</th><th title = \"Float64\" style = \"text-align: left;\">Float64</th><th title = \"Float64\" style = \"text-align: left;\">Float64</th><th title = \"Float64\" style = \"text-align: left;\">Float64</th><th title = \"Float64\" style = \"text-align: left;\">Float64</th><th title = \"Float64\" style = \"text-align: left;\">Float64</th><th title = \"String\" style = \"text-align: left;\">String</th><th title = \"String\" style = \"text-align: left;\">String</th></tr></thead><tbody><tr><td class = \"rowNumber\" style = \"font-weight: bold; text-align: right;\">1</td><td style = \"text-align: right;\">18.0</td><td style = \"text-align: right;\">8.0</td><td style = \"text-align: right;\">307.0</td><td style = \"text-align: right;\">130.0</td><td style = \"text-align: right;\">3504.0</td><td style = \"text-align: right;\">12.0</td><td style = \"text-align: right;\">70.0</td><td style = \"text-align: right;\">1.0</td><td style = \"text-align: left;\">chevrolet chevelle malibu</td><td style = \"text-align: left;\">chevrolet</td></tr><tr><td class = \"rowNumber\" style = \"font-weight: bold; text-align: right;\">2</td><td style = \"text-align: right;\">15.0</td><td style = \"text-align: right;\">8.0</td><td style = \"text-align: right;\">350.0</td><td style = \"text-align: right;\">165.0</td><td style = \"text-align: right;\">3693.0</td><td style = \"text-align: right;\">11.5</td><td style = \"text-align: right;\">70.0</td><td style = \"text-align: right;\">1.0</td><td style = \"text-align: left;\">buick skylark 320</td><td style = \"text-align: left;\">buick</td></tr><tr><td class = \"rowNumber\" style = \"font-weight: bold; text-align: right;\">3</td><td style = \"text-align: right;\">18.0</td><td style = \"text-align: right;\">8.0</td><td style = \"text-align: right;\">318.0</td><td style = \"text-align: right;\">150.0</td><td style = \"text-align: right;\">3436.0</td><td style = \"text-align: right;\">11.0</td><td style = \"text-align: right;\">70.0</td><td style = \"text-align: right;\">1.0</td><td style = \"text-align: left;\">plymouth satellite</td><td style = \"text-align: left;\">plymouth</td></tr><tr><td class = \"rowNumber\" style = \"font-weight: bold; text-align: right;\">4</td><td style = \"text-align: right;\">16.0</td><td style = \"text-align: right;\">8.0</td><td style = \"text-align: right;\">304.0</td><td style = \"text-align: right;\">150.0</td><td style = \"text-align: right;\">3433.0</td><td style = \"text-align: right;\">12.0</td><td style = \"text-align: right;\">70.0</td><td style = \"text-align: right;\">1.0</td><td style = \"text-align: left;\">amc rebel sst</td><td style = \"text-align: left;\">amc</td></tr><tr><td class = \"rowNumber\" style = \"font-weight: bold; text-align: right;\">5</td><td style = \"text-align: right;\">17.0</td><td style = \"text-align: right;\">8.0</td><td style = \"text-align: right;\">302.0</td><td style = \"text-align: right;\">140.0</td><td style = \"text-align: right;\">3449.0</td><td style = \"text-align: right;\">10.5</td><td style = \"text-align: right;\">70.0</td><td style = \"text-align: right;\">1.0</td><td style = \"text-align: left;\">ford torino</td><td style = \"text-align: left;\">ford</td></tr><tr><td class = \"rowNumber\" style = \"font-weight: bold; text-align: right;\">6</td><td style = \"text-align: right;\">15.0</td><td style = \"text-align: right;\">8.0</td><td style = \"text-align: right;\">429.0</td><td style = \"text-align: right;\">198.0</td><td style = \"text-align: right;\">4341.0</td><td style = \"text-align: right;\">10.0</td><td style = \"text-align: right;\">70.0</td><td style = \"text-align: right;\">1.0</td><td style = \"text-align: left;\">ford galaxie 500</td><td style = \"text-align: left;\">ford</td></tr><tr><td class = \"rowNumber\" style = \"font-weight: bold; text-align: right;\">7</td><td style = \"text-align: right;\">14.0</td><td style = \"text-align: right;\">8.0</td><td style = \"text-align: right;\">454.0</td><td style = \"text-align: right;\">220.0</td><td style = \"text-align: right;\">4354.0</td><td style = \"text-align: right;\">9.0</td><td style = \"text-align: right;\">70.0</td><td style = \"text-align: right;\">1.0</td><td style = \"text-align: left;\">chevrolet impala</td><td style = \"text-align: left;\">chevrolet</td></tr><tr><td class = \"rowNumber\" style = \"font-weight: bold; text-align: right;\">8</td><td style = \"text-align: right;\">14.0</td><td style = \"text-align: right;\">8.0</td><td style = \"text-align: right;\">440.0</td><td style = \"text-align: right;\">215.0</td><td style = \"text-align: right;\">4312.0</td><td style = \"text-align: right;\">8.5</td><td style = \"text-align: right;\">70.0</td><td style = \"text-align: right;\">1.0</td><td style = \"text-align: left;\">plymouth fury iii</td><td style = \"text-align: left;\">plymouth</td></tr><tr><td class = \"rowNumber\" style = \"font-weight: bold; text-align: right;\">9</td><td style = \"text-align: right;\">14.0</td><td style = \"text-align: right;\">8.0</td><td style = \"text-align: right;\">455.0</td><td style = \"text-align: right;\">225.0</td><td style = \"text-align: right;\">4425.0</td><td style = \"text-align: right;\">10.0</td><td style = \"text-align: right;\">70.0</td><td style = \"text-align: right;\">1.0</td><td style = \"text-align: left;\">pontiac catalina</td><td style = \"text-align: left;\">pontiac</td></tr><tr><td class = \"rowNumber\" style = \"font-weight: bold; text-align: right;\">10</td><td style = \"text-align: right;\">15.0</td><td style = \"text-align: right;\">8.0</td><td style = \"text-align: right;\">390.0</td><td style = \"text-align: right;\">190.0</td><td style = \"text-align: right;\">3850.0</td><td style = \"text-align: right;\">8.5</td><td style = \"text-align: right;\">70.0</td><td style = \"text-align: right;\">1.0</td><td style = \"text-align: left;\">amc ambassador dpl</td><td style = \"text-align: left;\">amc</td></tr><tr><td class = \"rowNumber\" style = \"font-weight: bold; text-align: right;\">11</td><td style = \"text-align: right;\">15.0</td><td style = \"text-align: right;\">8.0</td><td style = \"text-align: right;\">383.0</td><td style = \"text-align: right;\">170.0</td><td style = \"text-align: right;\">3563.0</td><td style = \"text-align: right;\">10.0</td><td style = \"text-align: right;\">70.0</td><td style = \"text-align: right;\">1.0</td><td style = \"text-align: left;\">dodge challenger se</td><td style = \"text-align: left;\">dodge</td></tr><tr><td class = \"rowNumber\" style = \"font-weight: bold; text-align: right;\">12</td><td style = \"text-align: right;\">14.0</td><td style = \"text-align: right;\">8.0</td><td style = \"text-align: right;\">340.0</td><td style = \"text-align: right;\">160.0</td><td style = \"text-align: right;\">3609.0</td><td style = \"text-align: right;\">8.0</td><td style = \"text-align: right;\">70.0</td><td style = \"text-align: right;\">1.0</td><td style = \"text-align: left;\">plymouth &apos;cuda 340</td><td style = \"text-align: left;\">plymouth</td></tr><tr><td class = \"rowNumber\" style = \"font-weight: bold; text-align: right;\">13</td><td style = \"text-align: right;\">15.0</td><td style = \"text-align: right;\">8.0</td><td style = \"text-align: right;\">400.0</td><td style = \"text-align: right;\">150.0</td><td style = \"text-align: right;\">3761.0</td><td style = \"text-align: right;\">9.5</td><td style = \"text-align: right;\">70.0</td><td style = \"text-align: right;\">1.0</td><td style = \"text-align: left;\">chevrolet monte carlo</td><td style = \"text-align: left;\">chevrolet</td></tr><tr><td style = \"text-align: right;\">&vellip;</td><td style = \"text-align: right;\">&vellip;</td><td style = \"text-align: right;\">&vellip;</td><td style = \"text-align: right;\">&vellip;</td><td style = \"text-align: right;\">&vellip;</td><td style = \"text-align: right;\">&vellip;</td><td style = \"text-align: right;\">&vellip;</td><td style = \"text-align: right;\">&vellip;</td><td style = \"text-align: right;\">&vellip;</td><td style = \"text-align: right;\">&vellip;</td><td style = \"text-align: right;\">&vellip;</td></tr><tr><td class = \"rowNumber\" style = \"font-weight: bold; text-align: right;\">381</td><td style = \"text-align: right;\">25.0</td><td style = \"text-align: right;\">6.0</td><td style = \"text-align: right;\">181.0</td><td style = \"text-align: right;\">110.0</td><td style = \"text-align: right;\">2945.0</td><td style = \"text-align: right;\">16.4</td><td style = \"text-align: right;\">82.0</td><td style = \"text-align: right;\">1.0</td><td style = \"text-align: left;\">buick century limited</td><td style = \"text-align: left;\">buick</td></tr><tr><td class = \"rowNumber\" style = \"font-weight: bold; text-align: right;\">382</td><td style = \"text-align: right;\">38.0</td><td style = \"text-align: right;\">6.0</td><td style = \"text-align: right;\">262.0</td><td style = \"text-align: right;\">85.0</td><td style = \"text-align: right;\">3015.0</td><td style = \"text-align: right;\">17.0</td><td style = \"text-align: right;\">82.0</td><td style = \"text-align: right;\">1.0</td><td style = \"text-align: left;\">oldsmobile cutlass ciera (diesel)</td><td style = \"text-align: left;\">oldsmobile</td></tr><tr><td class = \"rowNumber\" style = \"font-weight: bold; text-align: right;\">383</td><td style = \"text-align: right;\">26.0</td><td style = \"text-align: right;\">4.0</td><td style = \"text-align: right;\">156.0</td><td style = \"text-align: right;\">92.0</td><td style = \"text-align: right;\">2585.0</td><td style = \"text-align: right;\">14.5</td><td style = \"text-align: right;\">82.0</td><td style = \"text-align: right;\">1.0</td><td style = \"text-align: left;\">chrysler lebaron medallion</td><td style = \"text-align: left;\">chrysler</td></tr><tr><td class = \"rowNumber\" style = \"font-weight: bold; text-align: right;\">384</td><td style = \"text-align: right;\">22.0</td><td style = \"text-align: right;\">6.0</td><td style = \"text-align: right;\">232.0</td><td style = \"text-align: right;\">112.0</td><td style = \"text-align: right;\">2835.0</td><td style = \"text-align: right;\">14.7</td><td style = \"text-align: right;\">82.0</td><td style = \"text-align: right;\">1.0</td><td style = \"text-align: left;\">ford granada l</td><td style = \"text-align: left;\">ford</td></tr><tr><td class = \"rowNumber\" style = \"font-weight: bold; text-align: right;\">385</td><td style = \"text-align: right;\">32.0</td><td style = \"text-align: right;\">4.0</td><td style = \"text-align: right;\">144.0</td><td style = \"text-align: right;\">96.0</td><td style = \"text-align: right;\">2665.0</td><td style = \"text-align: right;\">13.9</td><td style = \"text-align: right;\">82.0</td><td style = \"text-align: right;\">3.0</td><td style = \"text-align: left;\">toyota celica gt</td><td style = \"text-align: left;\">toyota</td></tr><tr><td class = \"rowNumber\" style = \"font-weight: bold; text-align: right;\">386</td><td style = \"text-align: right;\">36.0</td><td style = \"text-align: right;\">4.0</td><td style = \"text-align: right;\">135.0</td><td style = \"text-align: right;\">84.0</td><td style = \"text-align: right;\">2370.0</td><td style = \"text-align: right;\">13.0</td><td style = \"text-align: right;\">82.0</td><td style = \"text-align: right;\">1.0</td><td style = \"text-align: left;\">dodge charger 2.2</td><td style = \"text-align: left;\">dodge</td></tr><tr><td class = \"rowNumber\" style = \"font-weight: bold; text-align: right;\">387</td><td style = \"text-align: right;\">27.0</td><td style = \"text-align: right;\">4.0</td><td style = \"text-align: right;\">151.0</td><td style = \"text-align: right;\">90.0</td><td style = \"text-align: right;\">2950.0</td><td style = \"text-align: right;\">17.3</td><td style = \"text-align: right;\">82.0</td><td style = \"text-align: right;\">1.0</td><td style = \"text-align: left;\">chevrolet camaro</td><td style = \"text-align: left;\">chevrolet</td></tr><tr><td class = \"rowNumber\" style = \"font-weight: bold; text-align: right;\">388</td><td style = \"text-align: right;\">27.0</td><td style = \"text-align: right;\">4.0</td><td style = \"text-align: right;\">140.0</td><td style = \"text-align: right;\">86.0</td><td style = \"text-align: right;\">2790.0</td><td style = \"text-align: right;\">15.6</td><td style = \"text-align: right;\">82.0</td><td style = \"text-align: right;\">1.0</td><td style = \"text-align: left;\">ford mustang gl</td><td style = \"text-align: left;\">ford</td></tr><tr><td class = \"rowNumber\" style = \"font-weight: bold; text-align: right;\">389</td><td style = \"text-align: right;\">44.0</td><td style = \"text-align: right;\">4.0</td><td style = \"text-align: right;\">97.0</td><td style = \"text-align: right;\">52.0</td><td style = \"text-align: right;\">2130.0</td><td style = \"text-align: right;\">24.6</td><td style = \"text-align: right;\">82.0</td><td style = \"text-align: right;\">2.0</td><td style = \"text-align: left;\">vw pickup</td><td style = \"text-align: left;\">vw</td></tr><tr><td class = \"rowNumber\" style = \"font-weight: bold; text-align: right;\">390</td><td style = \"text-align: right;\">32.0</td><td style = \"text-align: right;\">4.0</td><td style = \"text-align: right;\">135.0</td><td style = \"text-align: right;\">84.0</td><td style = \"text-align: right;\">2295.0</td><td style = \"text-align: right;\">11.6</td><td style = \"text-align: right;\">82.0</td><td style = \"text-align: right;\">1.0</td><td style = \"text-align: left;\">dodge rampage</td><td style = \"text-align: left;\">dodge</td></tr><tr><td class = \"rowNumber\" style = \"font-weight: bold; text-align: right;\">391</td><td style = \"text-align: right;\">28.0</td><td style = \"text-align: right;\">4.0</td><td style = \"text-align: right;\">120.0</td><td style = \"text-align: right;\">79.0</td><td style = \"text-align: right;\">2625.0</td><td style = \"text-align: right;\">18.6</td><td style = \"text-align: right;\">82.0</td><td style = \"text-align: right;\">1.0</td><td style = \"text-align: left;\">ford ranger</td><td style = \"text-align: left;\">ford</td></tr><tr><td class = \"rowNumber\" style = \"font-weight: bold; text-align: right;\">392</td><td style = \"text-align: right;\">31.0</td><td style = \"text-align: right;\">4.0</td><td style = \"text-align: right;\">119.0</td><td style = \"text-align: right;\">82.0</td><td style = \"text-align: right;\">2720.0</td><td style = \"text-align: right;\">19.4</td><td style = \"text-align: right;\">82.0</td><td style = \"text-align: right;\">1.0</td><td style = \"text-align: left;\">chevy s-10</td><td style = \"text-align: left;\">chevy</td></tr></tbody></table></div>"
      ],
      "text/latex": [
       "\\begin{tabular}{r|ccccccccc}\n",
       "\t& mpg & cylinders & displacement & horsepower & weight & acceleration & year & origin & \\\\\n",
       "\t\\hline\n",
       "\t& Float64 & Float64 & Float64 & Float64 & Float64 & Float64 & Float64 & Float64 & \\\\\n",
       "\t\\hline\n",
       "\t1 & 18.0 & 8.0 & 307.0 & 130.0 & 3504.0 & 12.0 & 70.0 & 1.0 & $\\dots$ \\\\\n",
       "\t2 & 15.0 & 8.0 & 350.0 & 165.0 & 3693.0 & 11.5 & 70.0 & 1.0 & $\\dots$ \\\\\n",
       "\t3 & 18.0 & 8.0 & 318.0 & 150.0 & 3436.0 & 11.0 & 70.0 & 1.0 & $\\dots$ \\\\\n",
       "\t4 & 16.0 & 8.0 & 304.0 & 150.0 & 3433.0 & 12.0 & 70.0 & 1.0 & $\\dots$ \\\\\n",
       "\t5 & 17.0 & 8.0 & 302.0 & 140.0 & 3449.0 & 10.5 & 70.0 & 1.0 & $\\dots$ \\\\\n",
       "\t6 & 15.0 & 8.0 & 429.0 & 198.0 & 4341.0 & 10.0 & 70.0 & 1.0 & $\\dots$ \\\\\n",
       "\t7 & 14.0 & 8.0 & 454.0 & 220.0 & 4354.0 & 9.0 & 70.0 & 1.0 & $\\dots$ \\\\\n",
       "\t8 & 14.0 & 8.0 & 440.0 & 215.0 & 4312.0 & 8.5 & 70.0 & 1.0 & $\\dots$ \\\\\n",
       "\t9 & 14.0 & 8.0 & 455.0 & 225.0 & 4425.0 & 10.0 & 70.0 & 1.0 & $\\dots$ \\\\\n",
       "\t10 & 15.0 & 8.0 & 390.0 & 190.0 & 3850.0 & 8.5 & 70.0 & 1.0 & $\\dots$ \\\\\n",
       "\t11 & 15.0 & 8.0 & 383.0 & 170.0 & 3563.0 & 10.0 & 70.0 & 1.0 & $\\dots$ \\\\\n",
       "\t12 & 14.0 & 8.0 & 340.0 & 160.0 & 3609.0 & 8.0 & 70.0 & 1.0 & $\\dots$ \\\\\n",
       "\t13 & 15.0 & 8.0 & 400.0 & 150.0 & 3761.0 & 9.5 & 70.0 & 1.0 & $\\dots$ \\\\\n",
       "\t14 & 14.0 & 8.0 & 455.0 & 225.0 & 3086.0 & 10.0 & 70.0 & 1.0 & $\\dots$ \\\\\n",
       "\t15 & 24.0 & 4.0 & 113.0 & 95.0 & 2372.0 & 15.0 & 70.0 & 3.0 & $\\dots$ \\\\\n",
       "\t16 & 22.0 & 6.0 & 198.0 & 95.0 & 2833.0 & 15.5 & 70.0 & 1.0 & $\\dots$ \\\\\n",
       "\t17 & 18.0 & 6.0 & 199.0 & 97.0 & 2774.0 & 15.5 & 70.0 & 1.0 & $\\dots$ \\\\\n",
       "\t18 & 21.0 & 6.0 & 200.0 & 85.0 & 2587.0 & 16.0 & 70.0 & 1.0 & $\\dots$ \\\\\n",
       "\t19 & 27.0 & 4.0 & 97.0 & 88.0 & 2130.0 & 14.5 & 70.0 & 3.0 & $\\dots$ \\\\\n",
       "\t20 & 26.0 & 4.0 & 97.0 & 46.0 & 1835.0 & 20.5 & 70.0 & 2.0 & $\\dots$ \\\\\n",
       "\t21 & 25.0 & 4.0 & 110.0 & 87.0 & 2672.0 & 17.5 & 70.0 & 2.0 & $\\dots$ \\\\\n",
       "\t22 & 24.0 & 4.0 & 107.0 & 90.0 & 2430.0 & 14.5 & 70.0 & 2.0 & $\\dots$ \\\\\n",
       "\t23 & 25.0 & 4.0 & 104.0 & 95.0 & 2375.0 & 17.5 & 70.0 & 2.0 & $\\dots$ \\\\\n",
       "\t24 & 26.0 & 4.0 & 121.0 & 113.0 & 2234.0 & 12.5 & 70.0 & 2.0 & $\\dots$ \\\\\n",
       "\t$\\dots$ & $\\dots$ & $\\dots$ & $\\dots$ & $\\dots$ & $\\dots$ & $\\dots$ & $\\dots$ & $\\dots$ &  \\\\\n",
       "\\end{tabular}\n"
      ],
      "text/plain": [
       "\u001b[1m392×10 DataFrame\u001b[0m\n",
       "\u001b[1m Row \u001b[0m│\u001b[1m mpg     \u001b[0m\u001b[1m cylinders \u001b[0m\u001b[1m displacement \u001b[0m\u001b[1m horsepower \u001b[0m\u001b[1m weight  \u001b[0m\u001b[1m acceleration \u001b[0m\u001b[1m ye\u001b[0m ⋯\n",
       "     │\u001b[90m Float64 \u001b[0m\u001b[90m Float64   \u001b[0m\u001b[90m Float64      \u001b[0m\u001b[90m Float64    \u001b[0m\u001b[90m Float64 \u001b[0m\u001b[90m Float64      \u001b[0m\u001b[90m Fl\u001b[0m ⋯\n",
       "─────┼──────────────────────────────────────────────────────────────────────────\n",
       "   1 │    18.0        8.0         307.0       130.0   3504.0          12.0     ⋯\n",
       "   2 │    15.0        8.0         350.0       165.0   3693.0          11.5\n",
       "   3 │    18.0        8.0         318.0       150.0   3436.0          11.0\n",
       "   4 │    16.0        8.0         304.0       150.0   3433.0          12.0\n",
       "   5 │    17.0        8.0         302.0       140.0   3449.0          10.5     ⋯\n",
       "   6 │    15.0        8.0         429.0       198.0   4341.0          10.0\n",
       "   7 │    14.0        8.0         454.0       220.0   4354.0           9.0\n",
       "   8 │    14.0        8.0         440.0       215.0   4312.0           8.5\n",
       "  ⋮  │    ⋮         ⋮           ⋮            ⋮          ⋮          ⋮           ⋱\n",
       " 386 │    36.0        4.0         135.0        84.0   2370.0          13.0     ⋯\n",
       " 387 │    27.0        4.0         151.0        90.0   2950.0          17.3\n",
       " 388 │    27.0        4.0         140.0        86.0   2790.0          15.6\n",
       " 389 │    44.0        4.0          97.0        52.0   2130.0          24.6\n",
       " 390 │    32.0        4.0         135.0        84.0   2295.0          11.6     ⋯\n",
       " 391 │    28.0        4.0         120.0        79.0   2625.0          18.6\n",
       " 392 │    31.0        4.0         119.0        82.0   2720.0          19.4\n",
       "\u001b[36m                                                  4 columns and 377 rows omitted\u001b[0m"
      ]
     },
     "metadata": {},
     "output_type": "display_data"
    }
   ],
   "source": [
    "df2 = Arrow.Table(\"auto2.arrow\") |> DataFrame"
   ]
  },
  {
   "cell_type": "code",
   "execution_count": 10,
   "metadata": {},
   "outputs": [
    {
     "data": {
      "text/plain": [
       "true"
      ]
     },
     "metadata": {},
     "output_type": "display_data"
    }
   ],
   "source": [
    "df == df2"
   ]
  },
  {
   "cell_type": "markdown",
   "metadata": {},
   "source": [
    "In general using Arrow.jl is a preferred way to store your data frames, but note that in order to ensure maximum speed it uses its own `AbstractVector` type:"
   ]
  },
  {
   "cell_type": "code",
   "execution_count": 11,
   "metadata": {},
   "outputs": [
    {
     "data": {
      "text/plain": [
       "392-element Arrow.Primitive{Float64, Vector{Float64}}:\n",
       " 18.0\n",
       " 15.0\n",
       " 18.0\n",
       " 16.0\n",
       " 17.0\n",
       " 15.0\n",
       " 14.0\n",
       " 14.0\n",
       " 14.0\n",
       " 15.0\n",
       "  ⋮\n",
       " 22.0\n",
       " 32.0\n",
       " 36.0\n",
       " 27.0\n",
       " 27.0\n",
       " 44.0\n",
       " 32.0\n",
       " 28.0\n",
       " 31.0"
      ]
     },
     "metadata": {},
     "output_type": "display_data"
    }
   ],
   "source": [
    "df2.mpg"
   ]
  },
  {
   "cell_type": "markdown",
   "metadata": {},
   "source": [
    "To materialize columns into standard `Vector`s just `copy` a data frame:"
   ]
  },
  {
   "cell_type": "code",
   "execution_count": 12,
   "metadata": {},
   "outputs": [
    {
     "data": {
      "text/html": [
       "<div><div style = \"float: left;\"><span>392×10 DataFrame</span></div><div style = \"float: right;\"><span style = \"font-style: italic;\">367 rows omitted</span></div><div style = \"clear: both;\"></div></div><div class = \"data-frame\" style = \"overflow-x: scroll;\"><table class = \"data-frame\" style = \"margin-bottom: 6px;\"><thead><tr class = \"header\"><th class = \"rowNumber\" style = \"font-weight: bold; text-align: right;\">Row</th><th style = \"text-align: left;\">mpg</th><th style = \"text-align: left;\">cylinders</th><th style = \"text-align: left;\">displacement</th><th style = \"text-align: left;\">horsepower</th><th style = \"text-align: left;\">weight</th><th style = \"text-align: left;\">acceleration</th><th style = \"text-align: left;\">year</th><th style = \"text-align: left;\">origin</th><th style = \"text-align: left;\">name</th><th style = \"text-align: left;\">brand</th></tr><tr class = \"subheader headerLastRow\"><th class = \"rowNumber\" style = \"font-weight: bold; text-align: right;\"></th><th title = \"Float64\" style = \"text-align: left;\">Float64</th><th title = \"Float64\" style = \"text-align: left;\">Float64</th><th title = \"Float64\" style = \"text-align: left;\">Float64</th><th title = \"Float64\" style = \"text-align: left;\">Float64</th><th title = \"Float64\" style = \"text-align: left;\">Float64</th><th title = \"Float64\" style = \"text-align: left;\">Float64</th><th title = \"Float64\" style = \"text-align: left;\">Float64</th><th title = \"Float64\" style = \"text-align: left;\">Float64</th><th title = \"String\" style = \"text-align: left;\">String</th><th title = \"String\" style = \"text-align: left;\">String</th></tr></thead><tbody><tr><td class = \"rowNumber\" style = \"font-weight: bold; text-align: right;\">1</td><td style = \"text-align: right;\">18.0</td><td style = \"text-align: right;\">8.0</td><td style = \"text-align: right;\">307.0</td><td style = \"text-align: right;\">130.0</td><td style = \"text-align: right;\">3504.0</td><td style = \"text-align: right;\">12.0</td><td style = \"text-align: right;\">70.0</td><td style = \"text-align: right;\">1.0</td><td style = \"text-align: left;\">chevrolet chevelle malibu</td><td style = \"text-align: left;\">chevrolet</td></tr><tr><td class = \"rowNumber\" style = \"font-weight: bold; text-align: right;\">2</td><td style = \"text-align: right;\">15.0</td><td style = \"text-align: right;\">8.0</td><td style = \"text-align: right;\">350.0</td><td style = \"text-align: right;\">165.0</td><td style = \"text-align: right;\">3693.0</td><td style = \"text-align: right;\">11.5</td><td style = \"text-align: right;\">70.0</td><td style = \"text-align: right;\">1.0</td><td style = \"text-align: left;\">buick skylark 320</td><td style = \"text-align: left;\">buick</td></tr><tr><td class = \"rowNumber\" style = \"font-weight: bold; text-align: right;\">3</td><td style = \"text-align: right;\">18.0</td><td style = \"text-align: right;\">8.0</td><td style = \"text-align: right;\">318.0</td><td style = \"text-align: right;\">150.0</td><td style = \"text-align: right;\">3436.0</td><td style = \"text-align: right;\">11.0</td><td style = \"text-align: right;\">70.0</td><td style = \"text-align: right;\">1.0</td><td style = \"text-align: left;\">plymouth satellite</td><td style = \"text-align: left;\">plymouth</td></tr><tr><td class = \"rowNumber\" style = \"font-weight: bold; text-align: right;\">4</td><td style = \"text-align: right;\">16.0</td><td style = \"text-align: right;\">8.0</td><td style = \"text-align: right;\">304.0</td><td style = \"text-align: right;\">150.0</td><td style = \"text-align: right;\">3433.0</td><td style = \"text-align: right;\">12.0</td><td style = \"text-align: right;\">70.0</td><td style = \"text-align: right;\">1.0</td><td style = \"text-align: left;\">amc rebel sst</td><td style = \"text-align: left;\">amc</td></tr><tr><td class = \"rowNumber\" style = \"font-weight: bold; text-align: right;\">5</td><td style = \"text-align: right;\">17.0</td><td style = \"text-align: right;\">8.0</td><td style = \"text-align: right;\">302.0</td><td style = \"text-align: right;\">140.0</td><td style = \"text-align: right;\">3449.0</td><td style = \"text-align: right;\">10.5</td><td style = \"text-align: right;\">70.0</td><td style = \"text-align: right;\">1.0</td><td style = \"text-align: left;\">ford torino</td><td style = \"text-align: left;\">ford</td></tr><tr><td class = \"rowNumber\" style = \"font-weight: bold; text-align: right;\">6</td><td style = \"text-align: right;\">15.0</td><td style = \"text-align: right;\">8.0</td><td style = \"text-align: right;\">429.0</td><td style = \"text-align: right;\">198.0</td><td style = \"text-align: right;\">4341.0</td><td style = \"text-align: right;\">10.0</td><td style = \"text-align: right;\">70.0</td><td style = \"text-align: right;\">1.0</td><td style = \"text-align: left;\">ford galaxie 500</td><td style = \"text-align: left;\">ford</td></tr><tr><td class = \"rowNumber\" style = \"font-weight: bold; text-align: right;\">7</td><td style = \"text-align: right;\">14.0</td><td style = \"text-align: right;\">8.0</td><td style = \"text-align: right;\">454.0</td><td style = \"text-align: right;\">220.0</td><td style = \"text-align: right;\">4354.0</td><td style = \"text-align: right;\">9.0</td><td style = \"text-align: right;\">70.0</td><td style = \"text-align: right;\">1.0</td><td style = \"text-align: left;\">chevrolet impala</td><td style = \"text-align: left;\">chevrolet</td></tr><tr><td class = \"rowNumber\" style = \"font-weight: bold; text-align: right;\">8</td><td style = \"text-align: right;\">14.0</td><td style = \"text-align: right;\">8.0</td><td style = \"text-align: right;\">440.0</td><td style = \"text-align: right;\">215.0</td><td style = \"text-align: right;\">4312.0</td><td style = \"text-align: right;\">8.5</td><td style = \"text-align: right;\">70.0</td><td style = \"text-align: right;\">1.0</td><td style = \"text-align: left;\">plymouth fury iii</td><td style = \"text-align: left;\">plymouth</td></tr><tr><td class = \"rowNumber\" style = \"font-weight: bold; text-align: right;\">9</td><td style = \"text-align: right;\">14.0</td><td style = \"text-align: right;\">8.0</td><td style = \"text-align: right;\">455.0</td><td style = \"text-align: right;\">225.0</td><td style = \"text-align: right;\">4425.0</td><td style = \"text-align: right;\">10.0</td><td style = \"text-align: right;\">70.0</td><td style = \"text-align: right;\">1.0</td><td style = \"text-align: left;\">pontiac catalina</td><td style = \"text-align: left;\">pontiac</td></tr><tr><td class = \"rowNumber\" style = \"font-weight: bold; text-align: right;\">10</td><td style = \"text-align: right;\">15.0</td><td style = \"text-align: right;\">8.0</td><td style = \"text-align: right;\">390.0</td><td style = \"text-align: right;\">190.0</td><td style = \"text-align: right;\">3850.0</td><td style = \"text-align: right;\">8.5</td><td style = \"text-align: right;\">70.0</td><td style = \"text-align: right;\">1.0</td><td style = \"text-align: left;\">amc ambassador dpl</td><td style = \"text-align: left;\">amc</td></tr><tr><td class = \"rowNumber\" style = \"font-weight: bold; text-align: right;\">11</td><td style = \"text-align: right;\">15.0</td><td style = \"text-align: right;\">8.0</td><td style = \"text-align: right;\">383.0</td><td style = \"text-align: right;\">170.0</td><td style = \"text-align: right;\">3563.0</td><td style = \"text-align: right;\">10.0</td><td style = \"text-align: right;\">70.0</td><td style = \"text-align: right;\">1.0</td><td style = \"text-align: left;\">dodge challenger se</td><td style = \"text-align: left;\">dodge</td></tr><tr><td class = \"rowNumber\" style = \"font-weight: bold; text-align: right;\">12</td><td style = \"text-align: right;\">14.0</td><td style = \"text-align: right;\">8.0</td><td style = \"text-align: right;\">340.0</td><td style = \"text-align: right;\">160.0</td><td style = \"text-align: right;\">3609.0</td><td style = \"text-align: right;\">8.0</td><td style = \"text-align: right;\">70.0</td><td style = \"text-align: right;\">1.0</td><td style = \"text-align: left;\">plymouth &apos;cuda 340</td><td style = \"text-align: left;\">plymouth</td></tr><tr><td class = \"rowNumber\" style = \"font-weight: bold; text-align: right;\">13</td><td style = \"text-align: right;\">15.0</td><td style = \"text-align: right;\">8.0</td><td style = \"text-align: right;\">400.0</td><td style = \"text-align: right;\">150.0</td><td style = \"text-align: right;\">3761.0</td><td style = \"text-align: right;\">9.5</td><td style = \"text-align: right;\">70.0</td><td style = \"text-align: right;\">1.0</td><td style = \"text-align: left;\">chevrolet monte carlo</td><td style = \"text-align: left;\">chevrolet</td></tr><tr><td style = \"text-align: right;\">&vellip;</td><td style = \"text-align: right;\">&vellip;</td><td style = \"text-align: right;\">&vellip;</td><td style = \"text-align: right;\">&vellip;</td><td style = \"text-align: right;\">&vellip;</td><td style = \"text-align: right;\">&vellip;</td><td style = \"text-align: right;\">&vellip;</td><td style = \"text-align: right;\">&vellip;</td><td style = \"text-align: right;\">&vellip;</td><td style = \"text-align: right;\">&vellip;</td><td style = \"text-align: right;\">&vellip;</td></tr><tr><td class = \"rowNumber\" style = \"font-weight: bold; text-align: right;\">381</td><td style = \"text-align: right;\">25.0</td><td style = \"text-align: right;\">6.0</td><td style = \"text-align: right;\">181.0</td><td style = \"text-align: right;\">110.0</td><td style = \"text-align: right;\">2945.0</td><td style = \"text-align: right;\">16.4</td><td style = \"text-align: right;\">82.0</td><td style = \"text-align: right;\">1.0</td><td style = \"text-align: left;\">buick century limited</td><td style = \"text-align: left;\">buick</td></tr><tr><td class = \"rowNumber\" style = \"font-weight: bold; text-align: right;\">382</td><td style = \"text-align: right;\">38.0</td><td style = \"text-align: right;\">6.0</td><td style = \"text-align: right;\">262.0</td><td style = \"text-align: right;\">85.0</td><td style = \"text-align: right;\">3015.0</td><td style = \"text-align: right;\">17.0</td><td style = \"text-align: right;\">82.0</td><td style = \"text-align: right;\">1.0</td><td style = \"text-align: left;\">oldsmobile cutlass ciera (diesel)</td><td style = \"text-align: left;\">oldsmobile</td></tr><tr><td class = \"rowNumber\" style = \"font-weight: bold; text-align: right;\">383</td><td style = \"text-align: right;\">26.0</td><td style = \"text-align: right;\">4.0</td><td style = \"text-align: right;\">156.0</td><td style = \"text-align: right;\">92.0</td><td style = \"text-align: right;\">2585.0</td><td style = \"text-align: right;\">14.5</td><td style = \"text-align: right;\">82.0</td><td style = \"text-align: right;\">1.0</td><td style = \"text-align: left;\">chrysler lebaron medallion</td><td style = \"text-align: left;\">chrysler</td></tr><tr><td class = \"rowNumber\" style = \"font-weight: bold; text-align: right;\">384</td><td style = \"text-align: right;\">22.0</td><td style = \"text-align: right;\">6.0</td><td style = \"text-align: right;\">232.0</td><td style = \"text-align: right;\">112.0</td><td style = \"text-align: right;\">2835.0</td><td style = \"text-align: right;\">14.7</td><td style = \"text-align: right;\">82.0</td><td style = \"text-align: right;\">1.0</td><td style = \"text-align: left;\">ford granada l</td><td style = \"text-align: left;\">ford</td></tr><tr><td class = \"rowNumber\" style = \"font-weight: bold; text-align: right;\">385</td><td style = \"text-align: right;\">32.0</td><td style = \"text-align: right;\">4.0</td><td style = \"text-align: right;\">144.0</td><td style = \"text-align: right;\">96.0</td><td style = \"text-align: right;\">2665.0</td><td style = \"text-align: right;\">13.9</td><td style = \"text-align: right;\">82.0</td><td style = \"text-align: right;\">3.0</td><td style = \"text-align: left;\">toyota celica gt</td><td style = \"text-align: left;\">toyota</td></tr><tr><td class = \"rowNumber\" style = \"font-weight: bold; text-align: right;\">386</td><td style = \"text-align: right;\">36.0</td><td style = \"text-align: right;\">4.0</td><td style = \"text-align: right;\">135.0</td><td style = \"text-align: right;\">84.0</td><td style = \"text-align: right;\">2370.0</td><td style = \"text-align: right;\">13.0</td><td style = \"text-align: right;\">82.0</td><td style = \"text-align: right;\">1.0</td><td style = \"text-align: left;\">dodge charger 2.2</td><td style = \"text-align: left;\">dodge</td></tr><tr><td class = \"rowNumber\" style = \"font-weight: bold; text-align: right;\">387</td><td style = \"text-align: right;\">27.0</td><td style = \"text-align: right;\">4.0</td><td style = \"text-align: right;\">151.0</td><td style = \"text-align: right;\">90.0</td><td style = \"text-align: right;\">2950.0</td><td style = \"text-align: right;\">17.3</td><td style = \"text-align: right;\">82.0</td><td style = \"text-align: right;\">1.0</td><td style = \"text-align: left;\">chevrolet camaro</td><td style = \"text-align: left;\">chevrolet</td></tr><tr><td class = \"rowNumber\" style = \"font-weight: bold; text-align: right;\">388</td><td style = \"text-align: right;\">27.0</td><td style = \"text-align: right;\">4.0</td><td style = \"text-align: right;\">140.0</td><td style = \"text-align: right;\">86.0</td><td style = \"text-align: right;\">2790.0</td><td style = \"text-align: right;\">15.6</td><td style = \"text-align: right;\">82.0</td><td style = \"text-align: right;\">1.0</td><td style = \"text-align: left;\">ford mustang gl</td><td style = \"text-align: left;\">ford</td></tr><tr><td class = \"rowNumber\" style = \"font-weight: bold; text-align: right;\">389</td><td style = \"text-align: right;\">44.0</td><td style = \"text-align: right;\">4.0</td><td style = \"text-align: right;\">97.0</td><td style = \"text-align: right;\">52.0</td><td style = \"text-align: right;\">2130.0</td><td style = \"text-align: right;\">24.6</td><td style = \"text-align: right;\">82.0</td><td style = \"text-align: right;\">2.0</td><td style = \"text-align: left;\">vw pickup</td><td style = \"text-align: left;\">vw</td></tr><tr><td class = \"rowNumber\" style = \"font-weight: bold; text-align: right;\">390</td><td style = \"text-align: right;\">32.0</td><td style = \"text-align: right;\">4.0</td><td style = \"text-align: right;\">135.0</td><td style = \"text-align: right;\">84.0</td><td style = \"text-align: right;\">2295.0</td><td style = \"text-align: right;\">11.6</td><td style = \"text-align: right;\">82.0</td><td style = \"text-align: right;\">1.0</td><td style = \"text-align: left;\">dodge rampage</td><td style = \"text-align: left;\">dodge</td></tr><tr><td class = \"rowNumber\" style = \"font-weight: bold; text-align: right;\">391</td><td style = \"text-align: right;\">28.0</td><td style = \"text-align: right;\">4.0</td><td style = \"text-align: right;\">120.0</td><td style = \"text-align: right;\">79.0</td><td style = \"text-align: right;\">2625.0</td><td style = \"text-align: right;\">18.6</td><td style = \"text-align: right;\">82.0</td><td style = \"text-align: right;\">1.0</td><td style = \"text-align: left;\">ford ranger</td><td style = \"text-align: left;\">ford</td></tr><tr><td class = \"rowNumber\" style = \"font-weight: bold; text-align: right;\">392</td><td style = \"text-align: right;\">31.0</td><td style = \"text-align: right;\">4.0</td><td style = \"text-align: right;\">119.0</td><td style = \"text-align: right;\">82.0</td><td style = \"text-align: right;\">2720.0</td><td style = \"text-align: right;\">19.4</td><td style = \"text-align: right;\">82.0</td><td style = \"text-align: right;\">1.0</td><td style = \"text-align: left;\">chevy s-10</td><td style = \"text-align: left;\">chevy</td></tr></tbody></table></div>"
      ],
      "text/latex": [
       "\\begin{tabular}{r|ccccccccc}\n",
       "\t& mpg & cylinders & displacement & horsepower & weight & acceleration & year & origin & \\\\\n",
       "\t\\hline\n",
       "\t& Float64 & Float64 & Float64 & Float64 & Float64 & Float64 & Float64 & Float64 & \\\\\n",
       "\t\\hline\n",
       "\t1 & 18.0 & 8.0 & 307.0 & 130.0 & 3504.0 & 12.0 & 70.0 & 1.0 & $\\dots$ \\\\\n",
       "\t2 & 15.0 & 8.0 & 350.0 & 165.0 & 3693.0 & 11.5 & 70.0 & 1.0 & $\\dots$ \\\\\n",
       "\t3 & 18.0 & 8.0 & 318.0 & 150.0 & 3436.0 & 11.0 & 70.0 & 1.0 & $\\dots$ \\\\\n",
       "\t4 & 16.0 & 8.0 & 304.0 & 150.0 & 3433.0 & 12.0 & 70.0 & 1.0 & $\\dots$ \\\\\n",
       "\t5 & 17.0 & 8.0 & 302.0 & 140.0 & 3449.0 & 10.5 & 70.0 & 1.0 & $\\dots$ \\\\\n",
       "\t6 & 15.0 & 8.0 & 429.0 & 198.0 & 4341.0 & 10.0 & 70.0 & 1.0 & $\\dots$ \\\\\n",
       "\t7 & 14.0 & 8.0 & 454.0 & 220.0 & 4354.0 & 9.0 & 70.0 & 1.0 & $\\dots$ \\\\\n",
       "\t8 & 14.0 & 8.0 & 440.0 & 215.0 & 4312.0 & 8.5 & 70.0 & 1.0 & $\\dots$ \\\\\n",
       "\t9 & 14.0 & 8.0 & 455.0 & 225.0 & 4425.0 & 10.0 & 70.0 & 1.0 & $\\dots$ \\\\\n",
       "\t10 & 15.0 & 8.0 & 390.0 & 190.0 & 3850.0 & 8.5 & 70.0 & 1.0 & $\\dots$ \\\\\n",
       "\t11 & 15.0 & 8.0 & 383.0 & 170.0 & 3563.0 & 10.0 & 70.0 & 1.0 & $\\dots$ \\\\\n",
       "\t12 & 14.0 & 8.0 & 340.0 & 160.0 & 3609.0 & 8.0 & 70.0 & 1.0 & $\\dots$ \\\\\n",
       "\t13 & 15.0 & 8.0 & 400.0 & 150.0 & 3761.0 & 9.5 & 70.0 & 1.0 & $\\dots$ \\\\\n",
       "\t14 & 14.0 & 8.0 & 455.0 & 225.0 & 3086.0 & 10.0 & 70.0 & 1.0 & $\\dots$ \\\\\n",
       "\t15 & 24.0 & 4.0 & 113.0 & 95.0 & 2372.0 & 15.0 & 70.0 & 3.0 & $\\dots$ \\\\\n",
       "\t16 & 22.0 & 6.0 & 198.0 & 95.0 & 2833.0 & 15.5 & 70.0 & 1.0 & $\\dots$ \\\\\n",
       "\t17 & 18.0 & 6.0 & 199.0 & 97.0 & 2774.0 & 15.5 & 70.0 & 1.0 & $\\dots$ \\\\\n",
       "\t18 & 21.0 & 6.0 & 200.0 & 85.0 & 2587.0 & 16.0 & 70.0 & 1.0 & $\\dots$ \\\\\n",
       "\t19 & 27.0 & 4.0 & 97.0 & 88.0 & 2130.0 & 14.5 & 70.0 & 3.0 & $\\dots$ \\\\\n",
       "\t20 & 26.0 & 4.0 & 97.0 & 46.0 & 1835.0 & 20.5 & 70.0 & 2.0 & $\\dots$ \\\\\n",
       "\t21 & 25.0 & 4.0 & 110.0 & 87.0 & 2672.0 & 17.5 & 70.0 & 2.0 & $\\dots$ \\\\\n",
       "\t22 & 24.0 & 4.0 & 107.0 & 90.0 & 2430.0 & 14.5 & 70.0 & 2.0 & $\\dots$ \\\\\n",
       "\t23 & 25.0 & 4.0 & 104.0 & 95.0 & 2375.0 & 17.5 & 70.0 & 2.0 & $\\dots$ \\\\\n",
       "\t24 & 26.0 & 4.0 & 121.0 & 113.0 & 2234.0 & 12.5 & 70.0 & 2.0 & $\\dots$ \\\\\n",
       "\t$\\dots$ & $\\dots$ & $\\dots$ & $\\dots$ & $\\dots$ & $\\dots$ & $\\dots$ & $\\dots$ & $\\dots$ &  \\\\\n",
       "\\end{tabular}\n"
      ],
      "text/plain": [
       "\u001b[1m392×10 DataFrame\u001b[0m\n",
       "\u001b[1m Row \u001b[0m│\u001b[1m mpg     \u001b[0m\u001b[1m cylinders \u001b[0m\u001b[1m displacement \u001b[0m\u001b[1m horsepower \u001b[0m\u001b[1m weight  \u001b[0m\u001b[1m acceleration \u001b[0m\u001b[1m ye\u001b[0m ⋯\n",
       "     │\u001b[90m Float64 \u001b[0m\u001b[90m Float64   \u001b[0m\u001b[90m Float64      \u001b[0m\u001b[90m Float64    \u001b[0m\u001b[90m Float64 \u001b[0m\u001b[90m Float64      \u001b[0m\u001b[90m Fl\u001b[0m ⋯\n",
       "─────┼──────────────────────────────────────────────────────────────────────────\n",
       "   1 │    18.0        8.0         307.0       130.0   3504.0          12.0     ⋯\n",
       "   2 │    15.0        8.0         350.0       165.0   3693.0          11.5\n",
       "   3 │    18.0        8.0         318.0       150.0   3436.0          11.0\n",
       "   4 │    16.0        8.0         304.0       150.0   3433.0          12.0\n",
       "   5 │    17.0        8.0         302.0       140.0   3449.0          10.5     ⋯\n",
       "   6 │    15.0        8.0         429.0       198.0   4341.0          10.0\n",
       "   7 │    14.0        8.0         454.0       220.0   4354.0           9.0\n",
       "   8 │    14.0        8.0         440.0       215.0   4312.0           8.5\n",
       "  ⋮  │    ⋮         ⋮           ⋮            ⋮          ⋮          ⋮           ⋱\n",
       " 386 │    36.0        4.0         135.0        84.0   2370.0          13.0     ⋯\n",
       " 387 │    27.0        4.0         151.0        90.0   2950.0          17.3\n",
       " 388 │    27.0        4.0         140.0        86.0   2790.0          15.6\n",
       " 389 │    44.0        4.0          97.0        52.0   2130.0          24.6\n",
       " 390 │    32.0        4.0         135.0        84.0   2295.0          11.6     ⋯\n",
       " 391 │    28.0        4.0         120.0        79.0   2625.0          18.6\n",
       " 392 │    31.0        4.0         119.0        82.0   2720.0          19.4\n",
       "\u001b[36m                                                  4 columns and 377 rows omitted\u001b[0m"
      ]
     },
     "metadata": {},
     "output_type": "display_data"
    }
   ],
   "source": [
    "df3 = copy(df2)"
   ]
  },
  {
   "cell_type": "code",
   "execution_count": 13,
   "metadata": {},
   "outputs": [
    {
     "data": {
      "text/plain": [
       "392-element Vector{Float64}:\n",
       " 18.0\n",
       " 15.0\n",
       " 18.0\n",
       " 16.0\n",
       " 17.0\n",
       " 15.0\n",
       " 14.0\n",
       " 14.0\n",
       " 14.0\n",
       " 15.0\n",
       "  ⋮\n",
       " 22.0\n",
       " 32.0\n",
       " 36.0\n",
       " 27.0\n",
       " 27.0\n",
       " 44.0\n",
       " 32.0\n",
       " 28.0\n",
       " 31.0"
      ]
     },
     "metadata": {},
     "output_type": "display_data"
    }
   ],
   "source": [
    "df3.mpg"
   ]
  },
  {
   "cell_type": "markdown",
   "metadata": {},
   "source": [
    "You can find more discussion about using Arrow.jl with DataFrames.jl [here](https://bkamins.github.io/julialang/2020/11/06/arrow.html)."
   ]
  },
  {
   "cell_type": "markdown",
   "metadata": {},
   "source": [
    "We want to group our data frame by `:brand` column:"
   ]
  },
  {
   "cell_type": "code",
   "execution_count": 14,
   "metadata": {},
   "outputs": [
    {
     "data": {
      "text/html": [
       "<p><b>GroupedDataFrame with 37 groups based on key: brand</b></p><div><div style = \"float: left;\"><span>First Group (43 rows): brand = &quot;chevrolet&quot;</span></div><div style = \"float: right;\"><span style = \"font-style: italic;\">18 rows omitted</span></div><div style = \"clear: both;\"></div></div><div class = \"data-frame\" style = \"overflow-x: scroll;\"><table class = \"data-frame\" style = \"margin-bottom: 6px;\"><thead><tr class = \"header\"><th class = \"rowNumber\" style = \"font-weight: bold; text-align: right;\">Row</th><th style = \"text-align: left;\">mpg</th><th style = \"text-align: left;\">cylinders</th><th style = \"text-align: left;\">displacement</th><th style = \"text-align: left;\">horsepower</th><th style = \"text-align: left;\">weight</th><th style = \"text-align: left;\">acceleration</th><th style = \"text-align: left;\">year</th><th style = \"text-align: left;\">origin</th><th style = \"text-align: left;\">name</th><th style = \"text-align: left;\">brand</th></tr><tr class = \"subheader headerLastRow\"><th class = \"rowNumber\" style = \"font-weight: bold; text-align: right;\"></th><th title = \"Float64\" style = \"text-align: left;\">Float64</th><th title = \"Float64\" style = \"text-align: left;\">Float64</th><th title = \"Float64\" style = \"text-align: left;\">Float64</th><th title = \"Float64\" style = \"text-align: left;\">Float64</th><th title = \"Float64\" style = \"text-align: left;\">Float64</th><th title = \"Float64\" style = \"text-align: left;\">Float64</th><th title = \"Float64\" style = \"text-align: left;\">Float64</th><th title = \"Float64\" style = \"text-align: left;\">Float64</th><th title = \"String\" style = \"text-align: left;\">String</th><th title = \"String15\" style = \"text-align: left;\">String15</th></tr></thead><tbody><tr><td class = \"rowNumber\" style = \"font-weight: bold; text-align: right;\">1</td><td style = \"text-align: right;\">18.0</td><td style = \"text-align: right;\">8.0</td><td style = \"text-align: right;\">307.0</td><td style = \"text-align: right;\">130.0</td><td style = \"text-align: right;\">3504.0</td><td style = \"text-align: right;\">12.0</td><td style = \"text-align: right;\">70.0</td><td style = \"text-align: right;\">1.0</td><td style = \"text-align: left;\">chevrolet chevelle malibu</td><td style = \"text-align: left;\">chevrolet</td></tr><tr><td class = \"rowNumber\" style = \"font-weight: bold; text-align: right;\">2</td><td style = \"text-align: right;\">14.0</td><td style = \"text-align: right;\">8.0</td><td style = \"text-align: right;\">454.0</td><td style = \"text-align: right;\">220.0</td><td style = \"text-align: right;\">4354.0</td><td style = \"text-align: right;\">9.0</td><td style = \"text-align: right;\">70.0</td><td style = \"text-align: right;\">1.0</td><td style = \"text-align: left;\">chevrolet impala</td><td style = \"text-align: left;\">chevrolet</td></tr><tr><td class = \"rowNumber\" style = \"font-weight: bold; text-align: right;\">3</td><td style = \"text-align: right;\">15.0</td><td style = \"text-align: right;\">8.0</td><td style = \"text-align: right;\">400.0</td><td style = \"text-align: right;\">150.0</td><td style = \"text-align: right;\">3761.0</td><td style = \"text-align: right;\">9.5</td><td style = \"text-align: right;\">70.0</td><td style = \"text-align: right;\">1.0</td><td style = \"text-align: left;\">chevrolet monte carlo</td><td style = \"text-align: left;\">chevrolet</td></tr><tr><td class = \"rowNumber\" style = \"font-weight: bold; text-align: right;\">4</td><td style = \"text-align: right;\">28.0</td><td style = \"text-align: right;\">4.0</td><td style = \"text-align: right;\">140.0</td><td style = \"text-align: right;\">90.0</td><td style = \"text-align: right;\">2264.0</td><td style = \"text-align: right;\">15.5</td><td style = \"text-align: right;\">71.0</td><td style = \"text-align: right;\">1.0</td><td style = \"text-align: left;\">chevrolet vega 2300</td><td style = \"text-align: left;\">chevrolet</td></tr><tr><td class = \"rowNumber\" style = \"font-weight: bold; text-align: right;\">5</td><td style = \"text-align: right;\">17.0</td><td style = \"text-align: right;\">6.0</td><td style = \"text-align: right;\">250.0</td><td style = \"text-align: right;\">100.0</td><td style = \"text-align: right;\">3329.0</td><td style = \"text-align: right;\">15.5</td><td style = \"text-align: right;\">71.0</td><td style = \"text-align: right;\">1.0</td><td style = \"text-align: left;\">chevrolet chevelle malibu</td><td style = \"text-align: left;\">chevrolet</td></tr><tr><td class = \"rowNumber\" style = \"font-weight: bold; text-align: right;\">6</td><td style = \"text-align: right;\">14.0</td><td style = \"text-align: right;\">8.0</td><td style = \"text-align: right;\">350.0</td><td style = \"text-align: right;\">165.0</td><td style = \"text-align: right;\">4209.0</td><td style = \"text-align: right;\">12.0</td><td style = \"text-align: right;\">71.0</td><td style = \"text-align: right;\">1.0</td><td style = \"text-align: left;\">chevrolet impala</td><td style = \"text-align: left;\">chevrolet</td></tr><tr><td class = \"rowNumber\" style = \"font-weight: bold; text-align: right;\">7</td><td style = \"text-align: right;\">22.0</td><td style = \"text-align: right;\">4.0</td><td style = \"text-align: right;\">140.0</td><td style = \"text-align: right;\">72.0</td><td style = \"text-align: right;\">2408.0</td><td style = \"text-align: right;\">19.0</td><td style = \"text-align: right;\">71.0</td><td style = \"text-align: right;\">1.0</td><td style = \"text-align: left;\">chevrolet vega (sw)</td><td style = \"text-align: left;\">chevrolet</td></tr><tr><td class = \"rowNumber\" style = \"font-weight: bold; text-align: right;\">8</td><td style = \"text-align: right;\">20.0</td><td style = \"text-align: right;\">4.0</td><td style = \"text-align: right;\">140.0</td><td style = \"text-align: right;\">90.0</td><td style = \"text-align: right;\">2408.0</td><td style = \"text-align: right;\">19.5</td><td style = \"text-align: right;\">72.0</td><td style = \"text-align: right;\">1.0</td><td style = \"text-align: left;\">chevrolet vega</td><td style = \"text-align: left;\">chevrolet</td></tr><tr><td class = \"rowNumber\" style = \"font-weight: bold; text-align: right;\">9</td><td style = \"text-align: right;\">13.0</td><td style = \"text-align: right;\">8.0</td><td style = \"text-align: right;\">350.0</td><td style = \"text-align: right;\">165.0</td><td style = \"text-align: right;\">4274.0</td><td style = \"text-align: right;\">12.0</td><td style = \"text-align: right;\">72.0</td><td style = \"text-align: right;\">1.0</td><td style = \"text-align: left;\">chevrolet impala</td><td style = \"text-align: left;\">chevrolet</td></tr><tr><td class = \"rowNumber\" style = \"font-weight: bold; text-align: right;\">10</td><td style = \"text-align: right;\">13.0</td><td style = \"text-align: right;\">8.0</td><td style = \"text-align: right;\">307.0</td><td style = \"text-align: right;\">130.0</td><td style = \"text-align: right;\">4098.0</td><td style = \"text-align: right;\">14.0</td><td style = \"text-align: right;\">72.0</td><td style = \"text-align: right;\">1.0</td><td style = \"text-align: left;\">chevrolet chevelle concours (sw)</td><td style = \"text-align: left;\">chevrolet</td></tr><tr><td class = \"rowNumber\" style = \"font-weight: bold; text-align: right;\">11</td><td style = \"text-align: right;\">13.0</td><td style = \"text-align: right;\">8.0</td><td style = \"text-align: right;\">350.0</td><td style = \"text-align: right;\">145.0</td><td style = \"text-align: right;\">3988.0</td><td style = \"text-align: right;\">13.0</td><td style = \"text-align: right;\">73.0</td><td style = \"text-align: right;\">1.0</td><td style = \"text-align: left;\">chevrolet malibu</td><td style = \"text-align: left;\">chevrolet</td></tr><tr><td class = \"rowNumber\" style = \"font-weight: bold; text-align: right;\">12</td><td style = \"text-align: right;\">13.0</td><td style = \"text-align: right;\">8.0</td><td style = \"text-align: right;\">400.0</td><td style = \"text-align: right;\">150.0</td><td style = \"text-align: right;\">4464.0</td><td style = \"text-align: right;\">12.0</td><td style = \"text-align: right;\">73.0</td><td style = \"text-align: right;\">1.0</td><td style = \"text-align: left;\">chevrolet caprice classic</td><td style = \"text-align: left;\">chevrolet</td></tr><tr><td class = \"rowNumber\" style = \"font-weight: bold; text-align: right;\">13</td><td style = \"text-align: right;\">16.0</td><td style = \"text-align: right;\">6.0</td><td style = \"text-align: right;\">250.0</td><td style = \"text-align: right;\">100.0</td><td style = \"text-align: right;\">3278.0</td><td style = \"text-align: right;\">18.0</td><td style = \"text-align: right;\">73.0</td><td style = \"text-align: right;\">1.0</td><td style = \"text-align: left;\">chevrolet nova custom</td><td style = \"text-align: left;\">chevrolet</td></tr><tr><td style = \"text-align: right;\">&vellip;</td><td style = \"text-align: right;\">&vellip;</td><td style = \"text-align: right;\">&vellip;</td><td style = \"text-align: right;\">&vellip;</td><td style = \"text-align: right;\">&vellip;</td><td style = \"text-align: right;\">&vellip;</td><td style = \"text-align: right;\">&vellip;</td><td style = \"text-align: right;\">&vellip;</td><td style = \"text-align: right;\">&vellip;</td><td style = \"text-align: right;\">&vellip;</td><td style = \"text-align: right;\">&vellip;</td></tr><tr><td class = \"rowNumber\" style = \"font-weight: bold; text-align: right;\">32</td><td style = \"text-align: right;\">19.2</td><td style = \"text-align: right;\">8.0</td><td style = \"text-align: right;\">305.0</td><td style = \"text-align: right;\">145.0</td><td style = \"text-align: right;\">3425.0</td><td style = \"text-align: right;\">13.2</td><td style = \"text-align: right;\">78.0</td><td style = \"text-align: right;\">1.0</td><td style = \"text-align: left;\">chevrolet monte carlo landau</td><td style = \"text-align: left;\">chevrolet</td></tr><tr><td class = \"rowNumber\" style = \"font-weight: bold; text-align: right;\">33</td><td style = \"text-align: right;\">30.0</td><td style = \"text-align: right;\">4.0</td><td style = \"text-align: right;\">98.0</td><td style = \"text-align: right;\">68.0</td><td style = \"text-align: right;\">2155.0</td><td style = \"text-align: right;\">16.5</td><td style = \"text-align: right;\">78.0</td><td style = \"text-align: right;\">1.0</td><td style = \"text-align: left;\">chevrolet chevette</td><td style = \"text-align: left;\">chevrolet</td></tr><tr><td class = \"rowNumber\" style = \"font-weight: bold; text-align: right;\">34</td><td style = \"text-align: right;\">17.0</td><td style = \"text-align: right;\">8.0</td><td style = \"text-align: right;\">305.0</td><td style = \"text-align: right;\">130.0</td><td style = \"text-align: right;\">3840.0</td><td style = \"text-align: right;\">15.4</td><td style = \"text-align: right;\">79.0</td><td style = \"text-align: right;\">1.0</td><td style = \"text-align: left;\">chevrolet caprice classic</td><td style = \"text-align: left;\">chevrolet</td></tr><tr><td class = \"rowNumber\" style = \"font-weight: bold; text-align: right;\">35</td><td style = \"text-align: right;\">19.2</td><td style = \"text-align: right;\">8.0</td><td style = \"text-align: right;\">267.0</td><td style = \"text-align: right;\">125.0</td><td style = \"text-align: right;\">3605.0</td><td style = \"text-align: right;\">15.0</td><td style = \"text-align: right;\">79.0</td><td style = \"text-align: right;\">1.0</td><td style = \"text-align: left;\">chevrolet malibu classic (sw)</td><td style = \"text-align: left;\">chevrolet</td></tr><tr><td class = \"rowNumber\" style = \"font-weight: bold; text-align: right;\">36</td><td style = \"text-align: right;\">28.8</td><td style = \"text-align: right;\">6.0</td><td style = \"text-align: right;\">173.0</td><td style = \"text-align: right;\">115.0</td><td style = \"text-align: right;\">2595.0</td><td style = \"text-align: right;\">11.3</td><td style = \"text-align: right;\">79.0</td><td style = \"text-align: right;\">1.0</td><td style = \"text-align: left;\">chevrolet citation</td><td style = \"text-align: left;\">chevrolet</td></tr><tr><td class = \"rowNumber\" style = \"font-weight: bold; text-align: right;\">37</td><td style = \"text-align: right;\">32.1</td><td style = \"text-align: right;\">4.0</td><td style = \"text-align: right;\">98.0</td><td style = \"text-align: right;\">70.0</td><td style = \"text-align: right;\">2120.0</td><td style = \"text-align: right;\">15.5</td><td style = \"text-align: right;\">80.0</td><td style = \"text-align: right;\">1.0</td><td style = \"text-align: left;\">chevrolet chevette</td><td style = \"text-align: left;\">chevrolet</td></tr><tr><td class = \"rowNumber\" style = \"font-weight: bold; text-align: right;\">38</td><td style = \"text-align: right;\">28.0</td><td style = \"text-align: right;\">4.0</td><td style = \"text-align: right;\">151.0</td><td style = \"text-align: right;\">90.0</td><td style = \"text-align: right;\">2678.0</td><td style = \"text-align: right;\">16.5</td><td style = \"text-align: right;\">80.0</td><td style = \"text-align: right;\">1.0</td><td style = \"text-align: left;\">chevrolet citation</td><td style = \"text-align: left;\">chevrolet</td></tr><tr><td class = \"rowNumber\" style = \"font-weight: bold; text-align: right;\">39</td><td style = \"text-align: right;\">23.5</td><td style = \"text-align: right;\">6.0</td><td style = \"text-align: right;\">173.0</td><td style = \"text-align: right;\">110.0</td><td style = \"text-align: right;\">2725.0</td><td style = \"text-align: right;\">12.6</td><td style = \"text-align: right;\">81.0</td><td style = \"text-align: right;\">1.0</td><td style = \"text-align: left;\">chevrolet citation</td><td style = \"text-align: left;\">chevrolet</td></tr><tr><td class = \"rowNumber\" style = \"font-weight: bold; text-align: right;\">40</td><td style = \"text-align: right;\">28.0</td><td style = \"text-align: right;\">4.0</td><td style = \"text-align: right;\">112.0</td><td style = \"text-align: right;\">88.0</td><td style = \"text-align: right;\">2605.0</td><td style = \"text-align: right;\">19.6</td><td style = \"text-align: right;\">82.0</td><td style = \"text-align: right;\">1.0</td><td style = \"text-align: left;\">chevrolet cavalier</td><td style = \"text-align: left;\">chevrolet</td></tr><tr><td class = \"rowNumber\" style = \"font-weight: bold; text-align: right;\">41</td><td style = \"text-align: right;\">27.0</td><td style = \"text-align: right;\">4.0</td><td style = \"text-align: right;\">112.0</td><td style = \"text-align: right;\">88.0</td><td style = \"text-align: right;\">2640.0</td><td style = \"text-align: right;\">18.6</td><td style = \"text-align: right;\">82.0</td><td style = \"text-align: right;\">1.0</td><td style = \"text-align: left;\">chevrolet cavalier wagon</td><td style = \"text-align: left;\">chevrolet</td></tr><tr><td class = \"rowNumber\" style = \"font-weight: bold; text-align: right;\">42</td><td style = \"text-align: right;\">34.0</td><td style = \"text-align: right;\">4.0</td><td style = \"text-align: right;\">112.0</td><td style = \"text-align: right;\">88.0</td><td style = \"text-align: right;\">2395.0</td><td style = \"text-align: right;\">18.0</td><td style = \"text-align: right;\">82.0</td><td style = \"text-align: right;\">1.0</td><td style = \"text-align: left;\">chevrolet cavalier 2-door</td><td style = \"text-align: left;\">chevrolet</td></tr><tr><td class = \"rowNumber\" style = \"font-weight: bold; text-align: right;\">43</td><td style = \"text-align: right;\">27.0</td><td style = \"text-align: right;\">4.0</td><td style = \"text-align: right;\">151.0</td><td style = \"text-align: right;\">90.0</td><td style = \"text-align: right;\">2950.0</td><td style = \"text-align: right;\">17.3</td><td style = \"text-align: right;\">82.0</td><td style = \"text-align: right;\">1.0</td><td style = \"text-align: left;\">chevrolet camaro</td><td style = \"text-align: left;\">chevrolet</td></tr></tbody></table></div><p>&vellip;</p><div><div style = \"float: left;\"><span>Last Group (1 row): brand = &quot;nissan&quot;</span></div><div style = \"clear: both;\"></div></div><div class = \"data-frame\" style = \"overflow-x: scroll;\"><table class = \"data-frame\" style = \"margin-bottom: 6px;\"><thead><tr class = \"header\"><th class = \"rowNumber\" style = \"font-weight: bold; text-align: right;\">Row</th><th style = \"text-align: left;\">mpg</th><th style = \"text-align: left;\">cylinders</th><th style = \"text-align: left;\">displacement</th><th style = \"text-align: left;\">horsepower</th><th style = \"text-align: left;\">weight</th><th style = \"text-align: left;\">acceleration</th><th style = \"text-align: left;\">year</th><th style = \"text-align: left;\">origin</th><th style = \"text-align: left;\">name</th><th style = \"text-align: left;\">brand</th></tr><tr class = \"subheader headerLastRow\"><th class = \"rowNumber\" style = \"font-weight: bold; text-align: right;\"></th><th title = \"Float64\" style = \"text-align: left;\">Float64</th><th title = \"Float64\" style = \"text-align: left;\">Float64</th><th title = \"Float64\" style = \"text-align: left;\">Float64</th><th title = \"Float64\" style = \"text-align: left;\">Float64</th><th title = \"Float64\" style = \"text-align: left;\">Float64</th><th title = \"Float64\" style = \"text-align: left;\">Float64</th><th title = \"Float64\" style = \"text-align: left;\">Float64</th><th title = \"Float64\" style = \"text-align: left;\">Float64</th><th title = \"String\" style = \"text-align: left;\">String</th><th title = \"String15\" style = \"text-align: left;\">String15</th></tr></thead><tbody><tr><td class = \"rowNumber\" style = \"font-weight: bold; text-align: right;\">1</td><td style = \"text-align: right;\">36.0</td><td style = \"text-align: right;\">4.0</td><td style = \"text-align: right;\">120.0</td><td style = \"text-align: right;\">88.0</td><td style = \"text-align: right;\">2160.0</td><td style = \"text-align: right;\">14.5</td><td style = \"text-align: right;\">82.0</td><td style = \"text-align: right;\">3.0</td><td style = \"text-align: left;\">nissan stanza xe</td><td style = \"text-align: left;\">nissan</td></tr></tbody></table></div>"
      ],
      "text/latex": [
       "GroupedDataFrame with 37 groups based on key: brand\n",
       "\n",
       "First Group (43 rows): brand = \"chevrolet\"\n",
       "\n",
       "\\begin{tabular}{r|ccccccccc}\n",
       "\t& mpg & cylinders & displacement & horsepower & weight & acceleration & year & origin & \\\\\n",
       "\t\\hline\n",
       "\t& Float64 & Float64 & Float64 & Float64 & Float64 & Float64 & Float64 & Float64 & \\\\\n",
       "\t\\hline\n",
       "\t1 & 18.0 & 8.0 & 307.0 & 130.0 & 3504.0 & 12.0 & 70.0 & 1.0 & $\\dots$ \\\\\n",
       "\t2 & 14.0 & 8.0 & 454.0 & 220.0 & 4354.0 & 9.0 & 70.0 & 1.0 & $\\dots$ \\\\\n",
       "\t3 & 15.0 & 8.0 & 400.0 & 150.0 & 3761.0 & 9.5 & 70.0 & 1.0 & $\\dots$ \\\\\n",
       "\t4 & 28.0 & 4.0 & 140.0 & 90.0 & 2264.0 & 15.5 & 71.0 & 1.0 & $\\dots$ \\\\\n",
       "\t5 & 17.0 & 6.0 & 250.0 & 100.0 & 3329.0 & 15.5 & 71.0 & 1.0 & $\\dots$ \\\\\n",
       "\t6 & 14.0 & 8.0 & 350.0 & 165.0 & 4209.0 & 12.0 & 71.0 & 1.0 & $\\dots$ \\\\\n",
       "\t7 & 22.0 & 4.0 & 140.0 & 72.0 & 2408.0 & 19.0 & 71.0 & 1.0 & $\\dots$ \\\\\n",
       "\t8 & 20.0 & 4.0 & 140.0 & 90.0 & 2408.0 & 19.5 & 72.0 & 1.0 & $\\dots$ \\\\\n",
       "\t9 & 13.0 & 8.0 & 350.0 & 165.0 & 4274.0 & 12.0 & 72.0 & 1.0 & $\\dots$ \\\\\n",
       "\t10 & 13.0 & 8.0 & 307.0 & 130.0 & 4098.0 & 14.0 & 72.0 & 1.0 & $\\dots$ \\\\\n",
       "\t11 & 13.0 & 8.0 & 350.0 & 145.0 & 3988.0 & 13.0 & 73.0 & 1.0 & $\\dots$ \\\\\n",
       "\t12 & 13.0 & 8.0 & 400.0 & 150.0 & 4464.0 & 12.0 & 73.0 & 1.0 & $\\dots$ \\\\\n",
       "\t13 & 16.0 & 6.0 & 250.0 & 100.0 & 3278.0 & 18.0 & 73.0 & 1.0 & $\\dots$ \\\\\n",
       "\t14 & 11.0 & 8.0 & 400.0 & 150.0 & 4997.0 & 14.0 & 73.0 & 1.0 & $\\dots$ \\\\\n",
       "\t15 & 21.0 & 4.0 & 140.0 & 72.0 & 2401.0 & 19.5 & 73.0 & 1.0 & $\\dots$ \\\\\n",
       "\t16 & 15.0 & 8.0 & 350.0 & 145.0 & 4082.0 & 13.0 & 73.0 & 1.0 & $\\dots$ \\\\\n",
       "\t17 & 15.0 & 6.0 & 250.0 & 100.0 & 3336.0 & 17.0 & 74.0 & 1.0 & $\\dots$ \\\\\n",
       "\t18 & 25.0 & 4.0 & 140.0 & 75.0 & 2542.0 & 17.0 & 74.0 & 1.0 & $\\dots$ \\\\\n",
       "\t19 & 16.0 & 6.0 & 250.0 & 100.0 & 3781.0 & 17.0 & 74.0 & 1.0 & $\\dots$ \\\\\n",
       "\t20 & 18.0 & 6.0 & 250.0 & 105.0 & 3459.0 & 16.0 & 75.0 & 1.0 & $\\dots$ \\\\\n",
       "\t21 & 15.0 & 8.0 & 350.0 & 145.0 & 4440.0 & 14.0 & 75.0 & 1.0 & $\\dots$ \\\\\n",
       "\t22 & 20.0 & 8.0 & 262.0 & 110.0 & 3221.0 & 13.5 & 75.0 & 1.0 & $\\dots$ \\\\\n",
       "\t23 & 17.5 & 8.0 & 305.0 & 140.0 & 4215.0 & 13.0 & 76.0 & 1.0 & $\\dots$ \\\\\n",
       "\t24 & 22.0 & 6.0 & 250.0 & 105.0 & 3353.0 & 14.5 & 76.0 & 1.0 & $\\dots$ \\\\\n",
       "\t$\\dots$ & $\\dots$ & $\\dots$ & $\\dots$ & $\\dots$ & $\\dots$ & $\\dots$ & $\\dots$ & $\\dots$ &  \\\\\n",
       "\\end{tabular}\n",
       "\n",
       "$\\dots$\n",
       "\n",
       "Last Group (1 row): brand = \"nissan\"\n",
       "\n",
       "\\begin{tabular}{r|ccccccccc}\n",
       "\t& mpg & cylinders & displacement & horsepower & weight & acceleration & year & origin & \\\\\n",
       "\t\\hline\n",
       "\t& Float64 & Float64 & Float64 & Float64 & Float64 & Float64 & Float64 & Float64 & \\\\\n",
       "\t\\hline\n",
       "\t1 & 36.0 & 4.0 & 120.0 & 88.0 & 2160.0 & 14.5 & 82.0 & 3.0 & $\\dots$ \\\\\n",
       "\\end{tabular}\n"
      ],
      "text/plain": [
       "GroupedDataFrame with 37 groups based on key: brand\n",
       "First Group (43 rows): brand = \"chevrolet\"\n",
       "\u001b[1m Row \u001b[0m│\u001b[1m mpg     \u001b[0m\u001b[1m cylinders \u001b[0m\u001b[1m displacement \u001b[0m\u001b[1m horsepower \u001b[0m\u001b[1m weight  \u001b[0m\u001b[1m acceleration \u001b[0m\u001b[1m ye\u001b[0m ⋯\n",
       "     │\u001b[90m Float64 \u001b[0m\u001b[90m Float64   \u001b[0m\u001b[90m Float64      \u001b[0m\u001b[90m Float64    \u001b[0m\u001b[90m Float64 \u001b[0m\u001b[90m Float64      \u001b[0m\u001b[90m Fl\u001b[0m ⋯\n",
       "─────┼──────────────────────────────────────────────────────────────────────────\n",
       "   1 │    18.0        8.0         307.0       130.0   3504.0          12.0     ⋯\n",
       "   2 │    14.0        8.0         454.0       220.0   4354.0           9.0\n",
       "   3 │    15.0        8.0         400.0       150.0   3761.0           9.5\n",
       "   4 │    28.0        4.0         140.0        90.0   2264.0          15.5\n",
       "  ⋮  │    ⋮         ⋮           ⋮            ⋮          ⋮          ⋮           ⋱\n",
       "  40 │    28.0        4.0         112.0        88.0   2605.0          19.6     ⋯\n",
       "  41 │    27.0        4.0         112.0        88.0   2640.0          18.6\n",
       "  42 │    34.0        4.0         112.0        88.0   2395.0          18.0\n",
       "  43 │    27.0        4.0         151.0        90.0   2950.0          17.3\n",
       "\u001b[36m                                                   4 columns and 35 rows omitted\u001b[0m\n",
       "⋮\n",
       "Last Group (1 row): brand = \"nissan\"\n",
       "\u001b[1m Row \u001b[0m│\u001b[1m mpg     \u001b[0m\u001b[1m cylinders \u001b[0m\u001b[1m displacement \u001b[0m\u001b[1m horsepower \u001b[0m\u001b[1m weight  \u001b[0m\u001b[1m acceleration \u001b[0m\u001b[1m ye\u001b[0m ⋯\n",
       "     │\u001b[90m Float64 \u001b[0m\u001b[90m Float64   \u001b[0m\u001b[90m Float64      \u001b[0m\u001b[90m Float64    \u001b[0m\u001b[90m Float64 \u001b[0m\u001b[90m Float64      \u001b[0m\u001b[90m Fl\u001b[0m ⋯\n",
       "  ⋮  │    ⋮         ⋮           ⋮            ⋮          ⋮          ⋮           ⋱\n",
       "\u001b[36m                                                     4 columns and 1 row omitted\u001b[0m"
      ]
     },
     "metadata": {},
     "output_type": "display_data"
    }
   ],
   "source": [
    "gdf = groupby(df, :brand)"
   ]
  },
  {
   "cell_type": "markdown",
   "metadata": {},
   "source": [
    "Note that it is easy (and fast) to find an appropriate group by passing a `Tuple` of values of grouping columns (in our case it is just one column)"
   ]
  },
  {
   "cell_type": "code",
   "execution_count": 15,
   "metadata": {},
   "outputs": [
    {
     "data": {
      "text/html": [
       "<div><div style = \"float: left;\"><span>48×10 SubDataFrame</span></div><div style = \"float: right;\"><span style = \"font-style: italic;\">23 rows omitted</span></div><div style = \"clear: both;\"></div></div><div class = \"data-frame\" style = \"overflow-x: scroll;\"><table class = \"data-frame\" style = \"margin-bottom: 6px;\"><thead><tr class = \"header\"><th class = \"rowNumber\" style = \"font-weight: bold; text-align: right;\">Row</th><th style = \"text-align: left;\">mpg</th><th style = \"text-align: left;\">cylinders</th><th style = \"text-align: left;\">displacement</th><th style = \"text-align: left;\">horsepower</th><th style = \"text-align: left;\">weight</th><th style = \"text-align: left;\">acceleration</th><th style = \"text-align: left;\">year</th><th style = \"text-align: left;\">origin</th><th style = \"text-align: left;\">name</th><th style = \"text-align: left;\">brand</th></tr><tr class = \"subheader headerLastRow\"><th class = \"rowNumber\" style = \"font-weight: bold; text-align: right;\"></th><th title = \"Float64\" style = \"text-align: left;\">Float64</th><th title = \"Float64\" style = \"text-align: left;\">Float64</th><th title = \"Float64\" style = \"text-align: left;\">Float64</th><th title = \"Float64\" style = \"text-align: left;\">Float64</th><th title = \"Float64\" style = \"text-align: left;\">Float64</th><th title = \"Float64\" style = \"text-align: left;\">Float64</th><th title = \"Float64\" style = \"text-align: left;\">Float64</th><th title = \"Float64\" style = \"text-align: left;\">Float64</th><th title = \"String\" style = \"text-align: left;\">String</th><th title = \"String15\" style = \"text-align: left;\">String15</th></tr></thead><tbody><tr><td class = \"rowNumber\" style = \"font-weight: bold; text-align: right;\">1</td><td style = \"text-align: right;\">17.0</td><td style = \"text-align: right;\">8.0</td><td style = \"text-align: right;\">302.0</td><td style = \"text-align: right;\">140.0</td><td style = \"text-align: right;\">3449.0</td><td style = \"text-align: right;\">10.5</td><td style = \"text-align: right;\">70.0</td><td style = \"text-align: right;\">1.0</td><td style = \"text-align: left;\">ford torino</td><td style = \"text-align: left;\">ford</td></tr><tr><td class = \"rowNumber\" style = \"font-weight: bold; text-align: right;\">2</td><td style = \"text-align: right;\">15.0</td><td style = \"text-align: right;\">8.0</td><td style = \"text-align: right;\">429.0</td><td style = \"text-align: right;\">198.0</td><td style = \"text-align: right;\">4341.0</td><td style = \"text-align: right;\">10.0</td><td style = \"text-align: right;\">70.0</td><td style = \"text-align: right;\">1.0</td><td style = \"text-align: left;\">ford galaxie 500</td><td style = \"text-align: left;\">ford</td></tr><tr><td class = \"rowNumber\" style = \"font-weight: bold; text-align: right;\">3</td><td style = \"text-align: right;\">21.0</td><td style = \"text-align: right;\">6.0</td><td style = \"text-align: right;\">200.0</td><td style = \"text-align: right;\">85.0</td><td style = \"text-align: right;\">2587.0</td><td style = \"text-align: right;\">16.0</td><td style = \"text-align: right;\">70.0</td><td style = \"text-align: right;\">1.0</td><td style = \"text-align: left;\">ford maverick</td><td style = \"text-align: left;\">ford</td></tr><tr><td class = \"rowNumber\" style = \"font-weight: bold; text-align: right;\">4</td><td style = \"text-align: right;\">10.0</td><td style = \"text-align: right;\">8.0</td><td style = \"text-align: right;\">360.0</td><td style = \"text-align: right;\">215.0</td><td style = \"text-align: right;\">4615.0</td><td style = \"text-align: right;\">14.0</td><td style = \"text-align: right;\">70.0</td><td style = \"text-align: right;\">1.0</td><td style = \"text-align: left;\">ford f250</td><td style = \"text-align: left;\">ford</td></tr><tr><td class = \"rowNumber\" style = \"font-weight: bold; text-align: right;\">5</td><td style = \"text-align: right;\">19.0</td><td style = \"text-align: right;\">6.0</td><td style = \"text-align: right;\">250.0</td><td style = \"text-align: right;\">88.0</td><td style = \"text-align: right;\">3302.0</td><td style = \"text-align: right;\">15.5</td><td style = \"text-align: right;\">71.0</td><td style = \"text-align: right;\">1.0</td><td style = \"text-align: left;\">ford torino 500</td><td style = \"text-align: left;\">ford</td></tr><tr><td class = \"rowNumber\" style = \"font-weight: bold; text-align: right;\">6</td><td style = \"text-align: right;\">14.0</td><td style = \"text-align: right;\">8.0</td><td style = \"text-align: right;\">351.0</td><td style = \"text-align: right;\">153.0</td><td style = \"text-align: right;\">4154.0</td><td style = \"text-align: right;\">13.5</td><td style = \"text-align: right;\">71.0</td><td style = \"text-align: right;\">1.0</td><td style = \"text-align: left;\">ford galaxie 500</td><td style = \"text-align: left;\">ford</td></tr><tr><td class = \"rowNumber\" style = \"font-weight: bold; text-align: right;\">7</td><td style = \"text-align: right;\">13.0</td><td style = \"text-align: right;\">8.0</td><td style = \"text-align: right;\">400.0</td><td style = \"text-align: right;\">170.0</td><td style = \"text-align: right;\">4746.0</td><td style = \"text-align: right;\">12.0</td><td style = \"text-align: right;\">71.0</td><td style = \"text-align: right;\">1.0</td><td style = \"text-align: left;\">ford country squire (sw)</td><td style = \"text-align: left;\">ford</td></tr><tr><td class = \"rowNumber\" style = \"font-weight: bold; text-align: right;\">8</td><td style = \"text-align: right;\">18.0</td><td style = \"text-align: right;\">6.0</td><td style = \"text-align: right;\">250.0</td><td style = \"text-align: right;\">88.0</td><td style = \"text-align: right;\">3139.0</td><td style = \"text-align: right;\">14.5</td><td style = \"text-align: right;\">71.0</td><td style = \"text-align: right;\">1.0</td><td style = \"text-align: left;\">ford mustang</td><td style = \"text-align: left;\">ford</td></tr><tr><td class = \"rowNumber\" style = \"font-weight: bold; text-align: right;\">9</td><td style = \"text-align: right;\">21.0</td><td style = \"text-align: right;\">4.0</td><td style = \"text-align: right;\">122.0</td><td style = \"text-align: right;\">86.0</td><td style = \"text-align: right;\">2226.0</td><td style = \"text-align: right;\">16.5</td><td style = \"text-align: right;\">72.0</td><td style = \"text-align: right;\">1.0</td><td style = \"text-align: left;\">ford pinto runabout</td><td style = \"text-align: left;\">ford</td></tr><tr><td class = \"rowNumber\" style = \"font-weight: bold; text-align: right;\">10</td><td style = \"text-align: right;\">14.0</td><td style = \"text-align: right;\">8.0</td><td style = \"text-align: right;\">351.0</td><td style = \"text-align: right;\">153.0</td><td style = \"text-align: right;\">4129.0</td><td style = \"text-align: right;\">13.0</td><td style = \"text-align: right;\">72.0</td><td style = \"text-align: right;\">1.0</td><td style = \"text-align: left;\">ford galaxie 500</td><td style = \"text-align: left;\">ford</td></tr><tr><td class = \"rowNumber\" style = \"font-weight: bold; text-align: right;\">11</td><td style = \"text-align: right;\">13.0</td><td style = \"text-align: right;\">8.0</td><td style = \"text-align: right;\">302.0</td><td style = \"text-align: right;\">140.0</td><td style = \"text-align: right;\">4294.0</td><td style = \"text-align: right;\">16.0</td><td style = \"text-align: right;\">72.0</td><td style = \"text-align: right;\">1.0</td><td style = \"text-align: left;\">ford gran torino (sw)</td><td style = \"text-align: left;\">ford</td></tr><tr><td class = \"rowNumber\" style = \"font-weight: bold; text-align: right;\">12</td><td style = \"text-align: right;\">22.0</td><td style = \"text-align: right;\">4.0</td><td style = \"text-align: right;\">122.0</td><td style = \"text-align: right;\">86.0</td><td style = \"text-align: right;\">2395.0</td><td style = \"text-align: right;\">16.0</td><td style = \"text-align: right;\">72.0</td><td style = \"text-align: right;\">1.0</td><td style = \"text-align: left;\">ford pinto (sw)</td><td style = \"text-align: left;\">ford</td></tr><tr><td class = \"rowNumber\" style = \"font-weight: bold; text-align: right;\">13</td><td style = \"text-align: right;\">14.0</td><td style = \"text-align: right;\">8.0</td><td style = \"text-align: right;\">302.0</td><td style = \"text-align: right;\">137.0</td><td style = \"text-align: right;\">4042.0</td><td style = \"text-align: right;\">14.5</td><td style = \"text-align: right;\">73.0</td><td style = \"text-align: right;\">1.0</td><td style = \"text-align: left;\">ford gran torino</td><td style = \"text-align: left;\">ford</td></tr><tr><td style = \"text-align: right;\">&vellip;</td><td style = \"text-align: right;\">&vellip;</td><td style = \"text-align: right;\">&vellip;</td><td style = \"text-align: right;\">&vellip;</td><td style = \"text-align: right;\">&vellip;</td><td style = \"text-align: right;\">&vellip;</td><td style = \"text-align: right;\">&vellip;</td><td style = \"text-align: right;\">&vellip;</td><td style = \"text-align: right;\">&vellip;</td><td style = \"text-align: right;\">&vellip;</td><td style = \"text-align: right;\">&vellip;</td></tr><tr><td class = \"rowNumber\" style = \"font-weight: bold; text-align: right;\">37</td><td style = \"text-align: right;\">18.1</td><td style = \"text-align: right;\">8.0</td><td style = \"text-align: right;\">302.0</td><td style = \"text-align: right;\">139.0</td><td style = \"text-align: right;\">3205.0</td><td style = \"text-align: right;\">11.2</td><td style = \"text-align: right;\">78.0</td><td style = \"text-align: right;\">1.0</td><td style = \"text-align: left;\">ford futura</td><td style = \"text-align: left;\">ford</td></tr><tr><td class = \"rowNumber\" style = \"font-weight: bold; text-align: right;\">38</td><td style = \"text-align: right;\">22.3</td><td style = \"text-align: right;\">4.0</td><td style = \"text-align: right;\">140.0</td><td style = \"text-align: right;\">88.0</td><td style = \"text-align: right;\">2890.0</td><td style = \"text-align: right;\">17.3</td><td style = \"text-align: right;\">79.0</td><td style = \"text-align: right;\">1.0</td><td style = \"text-align: left;\">ford fairmont 4</td><td style = \"text-align: left;\">ford</td></tr><tr><td class = \"rowNumber\" style = \"font-weight: bold; text-align: right;\">39</td><td style = \"text-align: right;\">17.6</td><td style = \"text-align: right;\">8.0</td><td style = \"text-align: right;\">302.0</td><td style = \"text-align: right;\">129.0</td><td style = \"text-align: right;\">3725.0</td><td style = \"text-align: right;\">13.4</td><td style = \"text-align: right;\">79.0</td><td style = \"text-align: right;\">1.0</td><td style = \"text-align: left;\">ford ltd landau</td><td style = \"text-align: left;\">ford</td></tr><tr><td class = \"rowNumber\" style = \"font-weight: bold; text-align: right;\">40</td><td style = \"text-align: right;\">15.5</td><td style = \"text-align: right;\">8.0</td><td style = \"text-align: right;\">351.0</td><td style = \"text-align: right;\">142.0</td><td style = \"text-align: right;\">4054.0</td><td style = \"text-align: right;\">14.3</td><td style = \"text-align: right;\">79.0</td><td style = \"text-align: right;\">1.0</td><td style = \"text-align: left;\">ford country squire (sw)</td><td style = \"text-align: left;\">ford</td></tr><tr><td class = \"rowNumber\" style = \"font-weight: bold; text-align: right;\">41</td><td style = \"text-align: right;\">26.4</td><td style = \"text-align: right;\">4.0</td><td style = \"text-align: right;\">140.0</td><td style = \"text-align: right;\">88.0</td><td style = \"text-align: right;\">2870.0</td><td style = \"text-align: right;\">18.1</td><td style = \"text-align: right;\">80.0</td><td style = \"text-align: right;\">1.0</td><td style = \"text-align: left;\">ford fairmont</td><td style = \"text-align: left;\">ford</td></tr><tr><td class = \"rowNumber\" style = \"font-weight: bold; text-align: right;\">42</td><td style = \"text-align: right;\">34.4</td><td style = \"text-align: right;\">4.0</td><td style = \"text-align: right;\">98.0</td><td style = \"text-align: right;\">65.0</td><td style = \"text-align: right;\">2045.0</td><td style = \"text-align: right;\">16.2</td><td style = \"text-align: right;\">81.0</td><td style = \"text-align: right;\">1.0</td><td style = \"text-align: left;\">ford escort 4w</td><td style = \"text-align: left;\">ford</td></tr><tr><td class = \"rowNumber\" style = \"font-weight: bold; text-align: right;\">43</td><td style = \"text-align: right;\">29.9</td><td style = \"text-align: right;\">4.0</td><td style = \"text-align: right;\">98.0</td><td style = \"text-align: right;\">65.0</td><td style = \"text-align: right;\">2380.0</td><td style = \"text-align: right;\">20.7</td><td style = \"text-align: right;\">81.0</td><td style = \"text-align: right;\">1.0</td><td style = \"text-align: left;\">ford escort 2h</td><td style = \"text-align: left;\">ford</td></tr><tr><td class = \"rowNumber\" style = \"font-weight: bold; text-align: right;\">44</td><td style = \"text-align: right;\">20.2</td><td style = \"text-align: right;\">6.0</td><td style = \"text-align: right;\">200.0</td><td style = \"text-align: right;\">88.0</td><td style = \"text-align: right;\">3060.0</td><td style = \"text-align: right;\">17.1</td><td style = \"text-align: right;\">81.0</td><td style = \"text-align: right;\">1.0</td><td style = \"text-align: left;\">ford granada gl</td><td style = \"text-align: left;\">ford</td></tr><tr><td class = \"rowNumber\" style = \"font-weight: bold; text-align: right;\">45</td><td style = \"text-align: right;\">24.0</td><td style = \"text-align: right;\">4.0</td><td style = \"text-align: right;\">140.0</td><td style = \"text-align: right;\">92.0</td><td style = \"text-align: right;\">2865.0</td><td style = \"text-align: right;\">16.4</td><td style = \"text-align: right;\">82.0</td><td style = \"text-align: right;\">1.0</td><td style = \"text-align: left;\">ford fairmont futura</td><td style = \"text-align: left;\">ford</td></tr><tr><td class = \"rowNumber\" style = \"font-weight: bold; text-align: right;\">46</td><td style = \"text-align: right;\">22.0</td><td style = \"text-align: right;\">6.0</td><td style = \"text-align: right;\">232.0</td><td style = \"text-align: right;\">112.0</td><td style = \"text-align: right;\">2835.0</td><td style = \"text-align: right;\">14.7</td><td style = \"text-align: right;\">82.0</td><td style = \"text-align: right;\">1.0</td><td style = \"text-align: left;\">ford granada l</td><td style = \"text-align: left;\">ford</td></tr><tr><td class = \"rowNumber\" style = \"font-weight: bold; text-align: right;\">47</td><td style = \"text-align: right;\">27.0</td><td style = \"text-align: right;\">4.0</td><td style = \"text-align: right;\">140.0</td><td style = \"text-align: right;\">86.0</td><td style = \"text-align: right;\">2790.0</td><td style = \"text-align: right;\">15.6</td><td style = \"text-align: right;\">82.0</td><td style = \"text-align: right;\">1.0</td><td style = \"text-align: left;\">ford mustang gl</td><td style = \"text-align: left;\">ford</td></tr><tr><td class = \"rowNumber\" style = \"font-weight: bold; text-align: right;\">48</td><td style = \"text-align: right;\">28.0</td><td style = \"text-align: right;\">4.0</td><td style = \"text-align: right;\">120.0</td><td style = \"text-align: right;\">79.0</td><td style = \"text-align: right;\">2625.0</td><td style = \"text-align: right;\">18.6</td><td style = \"text-align: right;\">82.0</td><td style = \"text-align: right;\">1.0</td><td style = \"text-align: left;\">ford ranger</td><td style = \"text-align: left;\">ford</td></tr></tbody></table></div>"
      ],
      "text/latex": [
       "\\begin{tabular}{r|ccccccccc}\n",
       "\t& mpg & cylinders & displacement & horsepower & weight & acceleration & year & origin & \\\\\n",
       "\t\\hline\n",
       "\t& Float64 & Float64 & Float64 & Float64 & Float64 & Float64 & Float64 & Float64 & \\\\\n",
       "\t\\hline\n",
       "\t1 & 17.0 & 8.0 & 302.0 & 140.0 & 3449.0 & 10.5 & 70.0 & 1.0 & $\\dots$ \\\\\n",
       "\t2 & 15.0 & 8.0 & 429.0 & 198.0 & 4341.0 & 10.0 & 70.0 & 1.0 & $\\dots$ \\\\\n",
       "\t3 & 21.0 & 6.0 & 200.0 & 85.0 & 2587.0 & 16.0 & 70.0 & 1.0 & $\\dots$ \\\\\n",
       "\t4 & 10.0 & 8.0 & 360.0 & 215.0 & 4615.0 & 14.0 & 70.0 & 1.0 & $\\dots$ \\\\\n",
       "\t5 & 19.0 & 6.0 & 250.0 & 88.0 & 3302.0 & 15.5 & 71.0 & 1.0 & $\\dots$ \\\\\n",
       "\t6 & 14.0 & 8.0 & 351.0 & 153.0 & 4154.0 & 13.5 & 71.0 & 1.0 & $\\dots$ \\\\\n",
       "\t7 & 13.0 & 8.0 & 400.0 & 170.0 & 4746.0 & 12.0 & 71.0 & 1.0 & $\\dots$ \\\\\n",
       "\t8 & 18.0 & 6.0 & 250.0 & 88.0 & 3139.0 & 14.5 & 71.0 & 1.0 & $\\dots$ \\\\\n",
       "\t9 & 21.0 & 4.0 & 122.0 & 86.0 & 2226.0 & 16.5 & 72.0 & 1.0 & $\\dots$ \\\\\n",
       "\t10 & 14.0 & 8.0 & 351.0 & 153.0 & 4129.0 & 13.0 & 72.0 & 1.0 & $\\dots$ \\\\\n",
       "\t11 & 13.0 & 8.0 & 302.0 & 140.0 & 4294.0 & 16.0 & 72.0 & 1.0 & $\\dots$ \\\\\n",
       "\t12 & 22.0 & 4.0 & 122.0 & 86.0 & 2395.0 & 16.0 & 72.0 & 1.0 & $\\dots$ \\\\\n",
       "\t13 & 14.0 & 8.0 & 302.0 & 137.0 & 4042.0 & 14.5 & 73.0 & 1.0 & $\\dots$ \\\\\n",
       "\t14 & 13.0 & 8.0 & 351.0 & 158.0 & 4363.0 & 13.0 & 73.0 & 1.0 & $\\dots$ \\\\\n",
       "\t15 & 18.0 & 6.0 & 250.0 & 88.0 & 3021.0 & 16.5 & 73.0 & 1.0 & $\\dots$ \\\\\n",
       "\t16 & 12.0 & 8.0 & 400.0 & 167.0 & 4906.0 & 12.5 & 73.0 & 1.0 & $\\dots$ \\\\\n",
       "\t17 & 19.0 & 4.0 & 122.0 & 85.0 & 2310.0 & 18.5 & 73.0 & 1.0 & $\\dots$ \\\\\n",
       "\t18 & 26.0 & 4.0 & 122.0 & 80.0 & 2451.0 & 16.5 & 74.0 & 1.0 & $\\dots$ \\\\\n",
       "\t19 & 16.0 & 8.0 & 302.0 & 140.0 & 4141.0 & 14.0 & 74.0 & 1.0 & $\\dots$ \\\\\n",
       "\t20 & 14.0 & 8.0 & 302.0 & 140.0 & 4638.0 & 16.0 & 74.0 & 1.0 & $\\dots$ \\\\\n",
       "\t21 & 15.0 & 6.0 & 250.0 & 72.0 & 3158.0 & 19.5 & 75.0 & 1.0 & $\\dots$ \\\\\n",
       "\t22 & 14.0 & 8.0 & 351.0 & 148.0 & 4657.0 & 13.5 & 75.0 & 1.0 & $\\dots$ \\\\\n",
       "\t23 & 13.0 & 8.0 & 302.0 & 129.0 & 3169.0 & 12.0 & 75.0 & 1.0 & $\\dots$ \\\\\n",
       "\t24 & 23.0 & 4.0 & 140.0 & 83.0 & 2639.0 & 17.0 & 75.0 & 1.0 & $\\dots$ \\\\\n",
       "\t$\\dots$ & $\\dots$ & $\\dots$ & $\\dots$ & $\\dots$ & $\\dots$ & $\\dots$ & $\\dots$ & $\\dots$ &  \\\\\n",
       "\\end{tabular}\n"
      ],
      "text/plain": [
       "\u001b[1m48×10 SubDataFrame\u001b[0m\n",
       "\u001b[1m Row \u001b[0m│\u001b[1m mpg     \u001b[0m\u001b[1m cylinders \u001b[0m\u001b[1m displacement \u001b[0m\u001b[1m horsepower \u001b[0m\u001b[1m weight  \u001b[0m\u001b[1m acceleration \u001b[0m\u001b[1m ye\u001b[0m ⋯\n",
       "     │\u001b[90m Float64 \u001b[0m\u001b[90m Float64   \u001b[0m\u001b[90m Float64      \u001b[0m\u001b[90m Float64    \u001b[0m\u001b[90m Float64 \u001b[0m\u001b[90m Float64      \u001b[0m\u001b[90m Fl\u001b[0m ⋯\n",
       "─────┼──────────────────────────────────────────────────────────────────────────\n",
       "   1 │    17.0        8.0         302.0       140.0   3449.0          10.5     ⋯\n",
       "   2 │    15.0        8.0         429.0       198.0   4341.0          10.0\n",
       "   3 │    21.0        6.0         200.0        85.0   2587.0          16.0\n",
       "   4 │    10.0        8.0         360.0       215.0   4615.0          14.0\n",
       "   5 │    19.0        6.0         250.0        88.0   3302.0          15.5     ⋯\n",
       "   6 │    14.0        8.0         351.0       153.0   4154.0          13.5\n",
       "   7 │    13.0        8.0         400.0       170.0   4746.0          12.0\n",
       "   8 │    18.0        6.0         250.0        88.0   3139.0          14.5\n",
       "  ⋮  │    ⋮         ⋮           ⋮            ⋮          ⋮          ⋮           ⋱\n",
       "  42 │    34.4        4.0          98.0        65.0   2045.0          16.2     ⋯\n",
       "  43 │    29.9        4.0          98.0        65.0   2380.0          20.7\n",
       "  44 │    20.2        6.0         200.0        88.0   3060.0          17.1\n",
       "  45 │    24.0        4.0         140.0        92.0   2865.0          16.4\n",
       "  46 │    22.0        6.0         232.0       112.0   2835.0          14.7     ⋯\n",
       "  47 │    27.0        4.0         140.0        86.0   2790.0          15.6\n",
       "  48 │    28.0        4.0         120.0        79.0   2625.0          18.6\n",
       "\u001b[36m                                                   4 columns and 33 rows omitted\u001b[0m"
      ]
     },
     "metadata": {},
     "output_type": "display_data"
    }
   ],
   "source": [
    "gdf[(\"ford\",)]"
   ]
  },
  {
   "cell_type": "markdown",
   "metadata": {},
   "source": [
    "Using the `combine` function we can easily calculate some aggregates by group:"
   ]
  },
  {
   "cell_type": "code",
   "execution_count": 16,
   "metadata": {},
   "outputs": [
    {
     "data": {
      "text/html": [
       "<div><div style = \"float: left;\"><span>37×2 DataFrame</span></div><div style = \"float: right;\"><span style = \"font-style: italic;\">12 rows omitted</span></div><div style = \"clear: both;\"></div></div><div class = \"data-frame\" style = \"overflow-x: scroll;\"><table class = \"data-frame\" style = \"margin-bottom: 6px;\"><thead><tr class = \"header\"><th class = \"rowNumber\" style = \"font-weight: bold; text-align: right;\">Row</th><th style = \"text-align: left;\">brand</th><th style = \"text-align: left;\">mpg_mean</th></tr><tr class = \"subheader headerLastRow\"><th class = \"rowNumber\" style = \"font-weight: bold; text-align: right;\"></th><th title = \"String15\" style = \"text-align: left;\">String15</th><th title = \"Float64\" style = \"text-align: left;\">Float64</th></tr></thead><tbody><tr><td class = \"rowNumber\" style = \"font-weight: bold; text-align: right;\">1</td><td style = \"text-align: left;\">chevrolet</td><td style = \"text-align: right;\">20.4721</td></tr><tr><td class = \"rowNumber\" style = \"font-weight: bold; text-align: right;\">2</td><td style = \"text-align: left;\">buick</td><td style = \"text-align: right;\">19.1824</td></tr><tr><td class = \"rowNumber\" style = \"font-weight: bold; text-align: right;\">3</td><td style = \"text-align: left;\">plymouth</td><td style = \"text-align: right;\">21.7032</td></tr><tr><td class = \"rowNumber\" style = \"font-weight: bold; text-align: right;\">4</td><td style = \"text-align: left;\">amc</td><td style = \"text-align: right;\">18.0704</td></tr><tr><td class = \"rowNumber\" style = \"font-weight: bold; text-align: right;\">5</td><td style = \"text-align: left;\">ford</td><td style = \"text-align: right;\">19.475</td></tr><tr><td class = \"rowNumber\" style = \"font-weight: bold; text-align: right;\">6</td><td style = \"text-align: left;\">pontiac</td><td style = \"text-align: right;\">20.0125</td></tr><tr><td class = \"rowNumber\" style = \"font-weight: bold; text-align: right;\">7</td><td style = \"text-align: left;\">dodge</td><td style = \"text-align: right;\">22.0607</td></tr><tr><td class = \"rowNumber\" style = \"font-weight: bold; text-align: right;\">8</td><td style = \"text-align: left;\">toyota</td><td style = \"text-align: right;\">28.372</td></tr><tr><td class = \"rowNumber\" style = \"font-weight: bold; text-align: right;\">9</td><td style = \"text-align: left;\">datsun</td><td style = \"text-align: right;\">31.113</td></tr><tr><td class = \"rowNumber\" style = \"font-weight: bold; text-align: right;\">10</td><td style = \"text-align: left;\">volkswagen</td><td style = \"text-align: right;\">29.1067</td></tr><tr><td class = \"rowNumber\" style = \"font-weight: bold; text-align: right;\">11</td><td style = \"text-align: left;\">peugeot</td><td style = \"text-align: right;\">23.6875</td></tr><tr><td class = \"rowNumber\" style = \"font-weight: bold; text-align: right;\">12</td><td style = \"text-align: left;\">audi</td><td style = \"text-align: right;\">26.7143</td></tr><tr><td class = \"rowNumber\" style = \"font-weight: bold; text-align: right;\">13</td><td style = \"text-align: left;\">saab</td><td style = \"text-align: right;\">23.9</td></tr><tr><td style = \"text-align: right;\">&vellip;</td><td style = \"text-align: right;\">&vellip;</td><td style = \"text-align: right;\">&vellip;</td></tr><tr><td class = \"rowNumber\" style = \"font-weight: bold; text-align: right;\">26</td><td style = \"text-align: left;\">maxda</td><td style = \"text-align: right;\">26.05</td></tr><tr><td class = \"rowNumber\" style = \"font-weight: bold; text-align: right;\">27</td><td style = \"text-align: left;\">honda</td><td style = \"text-align: right;\">33.7615</td></tr><tr><td class = \"rowNumber\" style = \"font-weight: bold; text-align: right;\">28</td><td style = \"text-align: left;\">subaru</td><td style = \"text-align: right;\">30.525</td></tr><tr><td class = \"rowNumber\" style = \"font-weight: bold; text-align: right;\">29</td><td style = \"text-align: left;\">chevroelt</td><td style = \"text-align: right;\">16.0</td></tr><tr><td class = \"rowNumber\" style = \"font-weight: bold; text-align: right;\">30</td><td style = \"text-align: left;\">capri</td><td style = \"text-align: right;\">25.0</td></tr><tr><td class = \"rowNumber\" style = \"font-weight: bold; text-align: right;\">31</td><td style = \"text-align: left;\">vw</td><td style = \"text-align: right;\">39.0167</td></tr><tr><td class = \"rowNumber\" style = \"font-weight: bold; text-align: right;\">32</td><td style = \"text-align: left;\">mercedes-benz</td><td style = \"text-align: right;\">23.25</td></tr><tr><td class = \"rowNumber\" style = \"font-weight: bold; text-align: right;\">33</td><td style = \"text-align: left;\">cadillac</td><td style = \"text-align: right;\">19.75</td></tr><tr><td class = \"rowNumber\" style = \"font-weight: bold; text-align: right;\">34</td><td style = \"text-align: left;\">mercedes</td><td style = \"text-align: right;\">25.4</td></tr><tr><td class = \"rowNumber\" style = \"font-weight: bold; text-align: right;\">35</td><td style = \"text-align: left;\">vokswagen</td><td style = \"text-align: right;\">29.8</td></tr><tr><td class = \"rowNumber\" style = \"font-weight: bold; text-align: right;\">36</td><td style = \"text-align: left;\">triumph</td><td style = \"text-align: right;\">35.0</td></tr><tr><td class = \"rowNumber\" style = \"font-weight: bold; text-align: right;\">37</td><td style = \"text-align: left;\">nissan</td><td style = \"text-align: right;\">36.0</td></tr></tbody></table></div>"
      ],
      "text/latex": [
       "\\begin{tabular}{r|cc}\n",
       "\t& brand & mpg\\_mean\\\\\n",
       "\t\\hline\n",
       "\t& String15 & Float64\\\\\n",
       "\t\\hline\n",
       "\t1 & chevrolet & 20.4721 \\\\\n",
       "\t2 & buick & 19.1824 \\\\\n",
       "\t3 & plymouth & 21.7032 \\\\\n",
       "\t4 & amc & 18.0704 \\\\\n",
       "\t5 & ford & 19.475 \\\\\n",
       "\t6 & pontiac & 20.0125 \\\\\n",
       "\t7 & dodge & 22.0607 \\\\\n",
       "\t8 & toyota & 28.372 \\\\\n",
       "\t9 & datsun & 31.113 \\\\\n",
       "\t10 & volkswagen & 29.1067 \\\\\n",
       "\t11 & peugeot & 23.6875 \\\\\n",
       "\t12 & audi & 26.7143 \\\\\n",
       "\t13 & saab & 23.9 \\\\\n",
       "\t14 & bmw & 23.75 \\\\\n",
       "\t15 & chevy & 18.0 \\\\\n",
       "\t16 & hi & 9.0 \\\\\n",
       "\t17 & mercury & 19.1182 \\\\\n",
       "\t18 & opel & 25.75 \\\\\n",
       "\t19 & fiat & 28.9125 \\\\\n",
       "\t20 & oldsmobile & 21.1 \\\\\n",
       "\t21 & chrysler & 17.2667 \\\\\n",
       "\t22 & mazda & 30.86 \\\\\n",
       "\t23 & volvo & 21.1167 \\\\\n",
       "\t24 & renault & 29.6667 \\\\\n",
       "\t$\\dots$ & $\\dots$ & $\\dots$ \\\\\n",
       "\\end{tabular}\n"
      ],
      "text/plain": [
       "\u001b[1m37×2 DataFrame\u001b[0m\n",
       "\u001b[1m Row \u001b[0m│\u001b[1m brand         \u001b[0m\u001b[1m mpg_mean \u001b[0m\n",
       "     │\u001b[90m String15      \u001b[0m\u001b[90m Float64  \u001b[0m\n",
       "─────┼─────────────────────────\n",
       "   1 │ chevrolet       20.4721\n",
       "   2 │ buick           19.1824\n",
       "   3 │ plymouth        21.7032\n",
       "   4 │ amc             18.0704\n",
       "   5 │ ford            19.475\n",
       "   6 │ pontiac         20.0125\n",
       "   7 │ dodge           22.0607\n",
       "   8 │ toyota          28.372\n",
       "  ⋮  │       ⋮           ⋮\n",
       "  31 │ vw              39.0167\n",
       "  32 │ mercedes-benz   23.25\n",
       "  33 │ cadillac        19.75\n",
       "  34 │ mercedes        25.4\n",
       "  35 │ vokswagen       29.8\n",
       "  36 │ triumph         35.0\n",
       "  37 │ nissan          36.0\n",
       "\u001b[36m                22 rows omitted\u001b[0m"
      ]
     },
     "metadata": {},
     "output_type": "display_data"
    }
   ],
   "source": [
    "brand_mpg = combine(gdf, :mpg => mean)"
   ]
  },
  {
   "cell_type": "markdown",
   "metadata": {},
   "source": [
    "The `:mpg => mean` syntax means that we pass a column `:mpg` to be processed by the `mean` function for each group.\n",
    "\n",
    "We could have added a target column name to the generated column in the following way:"
   ]
  },
  {
   "cell_type": "code",
   "execution_count": 17,
   "metadata": {},
   "outputs": [
    {
     "data": {
      "text/html": [
       "<div><div style = \"float: left;\"><span>37×2 DataFrame</span></div><div style = \"float: right;\"><span style = \"font-style: italic;\">12 rows omitted</span></div><div style = \"clear: both;\"></div></div><div class = \"data-frame\" style = \"overflow-x: scroll;\"><table class = \"data-frame\" style = \"margin-bottom: 6px;\"><thead><tr class = \"header\"><th class = \"rowNumber\" style = \"font-weight: bold; text-align: right;\">Row</th><th style = \"text-align: left;\">brand</th><th style = \"text-align: left;\">mean_mpg</th></tr><tr class = \"subheader headerLastRow\"><th class = \"rowNumber\" style = \"font-weight: bold; text-align: right;\"></th><th title = \"String15\" style = \"text-align: left;\">String15</th><th title = \"Float64\" style = \"text-align: left;\">Float64</th></tr></thead><tbody><tr><td class = \"rowNumber\" style = \"font-weight: bold; text-align: right;\">1</td><td style = \"text-align: left;\">chevrolet</td><td style = \"text-align: right;\">20.4721</td></tr><tr><td class = \"rowNumber\" style = \"font-weight: bold; text-align: right;\">2</td><td style = \"text-align: left;\">buick</td><td style = \"text-align: right;\">19.1824</td></tr><tr><td class = \"rowNumber\" style = \"font-weight: bold; text-align: right;\">3</td><td style = \"text-align: left;\">plymouth</td><td style = \"text-align: right;\">21.7032</td></tr><tr><td class = \"rowNumber\" style = \"font-weight: bold; text-align: right;\">4</td><td style = \"text-align: left;\">amc</td><td style = \"text-align: right;\">18.0704</td></tr><tr><td class = \"rowNumber\" style = \"font-weight: bold; text-align: right;\">5</td><td style = \"text-align: left;\">ford</td><td style = \"text-align: right;\">19.475</td></tr><tr><td class = \"rowNumber\" style = \"font-weight: bold; text-align: right;\">6</td><td style = \"text-align: left;\">pontiac</td><td style = \"text-align: right;\">20.0125</td></tr><tr><td class = \"rowNumber\" style = \"font-weight: bold; text-align: right;\">7</td><td style = \"text-align: left;\">dodge</td><td style = \"text-align: right;\">22.0607</td></tr><tr><td class = \"rowNumber\" style = \"font-weight: bold; text-align: right;\">8</td><td style = \"text-align: left;\">toyota</td><td style = \"text-align: right;\">28.372</td></tr><tr><td class = \"rowNumber\" style = \"font-weight: bold; text-align: right;\">9</td><td style = \"text-align: left;\">datsun</td><td style = \"text-align: right;\">31.113</td></tr><tr><td class = \"rowNumber\" style = \"font-weight: bold; text-align: right;\">10</td><td style = \"text-align: left;\">volkswagen</td><td style = \"text-align: right;\">29.1067</td></tr><tr><td class = \"rowNumber\" style = \"font-weight: bold; text-align: right;\">11</td><td style = \"text-align: left;\">peugeot</td><td style = \"text-align: right;\">23.6875</td></tr><tr><td class = \"rowNumber\" style = \"font-weight: bold; text-align: right;\">12</td><td style = \"text-align: left;\">audi</td><td style = \"text-align: right;\">26.7143</td></tr><tr><td class = \"rowNumber\" style = \"font-weight: bold; text-align: right;\">13</td><td style = \"text-align: left;\">saab</td><td style = \"text-align: right;\">23.9</td></tr><tr><td style = \"text-align: right;\">&vellip;</td><td style = \"text-align: right;\">&vellip;</td><td style = \"text-align: right;\">&vellip;</td></tr><tr><td class = \"rowNumber\" style = \"font-weight: bold; text-align: right;\">26</td><td style = \"text-align: left;\">maxda</td><td style = \"text-align: right;\">26.05</td></tr><tr><td class = \"rowNumber\" style = \"font-weight: bold; text-align: right;\">27</td><td style = \"text-align: left;\">honda</td><td style = \"text-align: right;\">33.7615</td></tr><tr><td class = \"rowNumber\" style = \"font-weight: bold; text-align: right;\">28</td><td style = \"text-align: left;\">subaru</td><td style = \"text-align: right;\">30.525</td></tr><tr><td class = \"rowNumber\" style = \"font-weight: bold; text-align: right;\">29</td><td style = \"text-align: left;\">chevroelt</td><td style = \"text-align: right;\">16.0</td></tr><tr><td class = \"rowNumber\" style = \"font-weight: bold; text-align: right;\">30</td><td style = \"text-align: left;\">capri</td><td style = \"text-align: right;\">25.0</td></tr><tr><td class = \"rowNumber\" style = \"font-weight: bold; text-align: right;\">31</td><td style = \"text-align: left;\">vw</td><td style = \"text-align: right;\">39.0167</td></tr><tr><td class = \"rowNumber\" style = \"font-weight: bold; text-align: right;\">32</td><td style = \"text-align: left;\">mercedes-benz</td><td style = \"text-align: right;\">23.25</td></tr><tr><td class = \"rowNumber\" style = \"font-weight: bold; text-align: right;\">33</td><td style = \"text-align: left;\">cadillac</td><td style = \"text-align: right;\">19.75</td></tr><tr><td class = \"rowNumber\" style = \"font-weight: bold; text-align: right;\">34</td><td style = \"text-align: left;\">mercedes</td><td style = \"text-align: right;\">25.4</td></tr><tr><td class = \"rowNumber\" style = \"font-weight: bold; text-align: right;\">35</td><td style = \"text-align: left;\">vokswagen</td><td style = \"text-align: right;\">29.8</td></tr><tr><td class = \"rowNumber\" style = \"font-weight: bold; text-align: right;\">36</td><td style = \"text-align: left;\">triumph</td><td style = \"text-align: right;\">35.0</td></tr><tr><td class = \"rowNumber\" style = \"font-weight: bold; text-align: right;\">37</td><td style = \"text-align: left;\">nissan</td><td style = \"text-align: right;\">36.0</td></tr></tbody></table></div>"
      ],
      "text/latex": [
       "\\begin{tabular}{r|cc}\n",
       "\t& brand & mean\\_mpg\\\\\n",
       "\t\\hline\n",
       "\t& String15 & Float64\\\\\n",
       "\t\\hline\n",
       "\t1 & chevrolet & 20.4721 \\\\\n",
       "\t2 & buick & 19.1824 \\\\\n",
       "\t3 & plymouth & 21.7032 \\\\\n",
       "\t4 & amc & 18.0704 \\\\\n",
       "\t5 & ford & 19.475 \\\\\n",
       "\t6 & pontiac & 20.0125 \\\\\n",
       "\t7 & dodge & 22.0607 \\\\\n",
       "\t8 & toyota & 28.372 \\\\\n",
       "\t9 & datsun & 31.113 \\\\\n",
       "\t10 & volkswagen & 29.1067 \\\\\n",
       "\t11 & peugeot & 23.6875 \\\\\n",
       "\t12 & audi & 26.7143 \\\\\n",
       "\t13 & saab & 23.9 \\\\\n",
       "\t14 & bmw & 23.75 \\\\\n",
       "\t15 & chevy & 18.0 \\\\\n",
       "\t16 & hi & 9.0 \\\\\n",
       "\t17 & mercury & 19.1182 \\\\\n",
       "\t18 & opel & 25.75 \\\\\n",
       "\t19 & fiat & 28.9125 \\\\\n",
       "\t20 & oldsmobile & 21.1 \\\\\n",
       "\t21 & chrysler & 17.2667 \\\\\n",
       "\t22 & mazda & 30.86 \\\\\n",
       "\t23 & volvo & 21.1167 \\\\\n",
       "\t24 & renault & 29.6667 \\\\\n",
       "\t$\\dots$ & $\\dots$ & $\\dots$ \\\\\n",
       "\\end{tabular}\n"
      ],
      "text/plain": [
       "\u001b[1m37×2 DataFrame\u001b[0m\n",
       "\u001b[1m Row \u001b[0m│\u001b[1m brand         \u001b[0m\u001b[1m mean_mpg \u001b[0m\n",
       "     │\u001b[90m String15      \u001b[0m\u001b[90m Float64  \u001b[0m\n",
       "─────┼─────────────────────────\n",
       "   1 │ chevrolet       20.4721\n",
       "   2 │ buick           19.1824\n",
       "   3 │ plymouth        21.7032\n",
       "   4 │ amc             18.0704\n",
       "   5 │ ford            19.475\n",
       "   6 │ pontiac         20.0125\n",
       "   7 │ dodge           22.0607\n",
       "   8 │ toyota          28.372\n",
       "  ⋮  │       ⋮           ⋮\n",
       "  31 │ vw              39.0167\n",
       "  32 │ mercedes-benz   23.25\n",
       "  33 │ cadillac        19.75\n",
       "  34 │ mercedes        25.4\n",
       "  35 │ vokswagen       29.8\n",
       "  36 │ triumph         35.0\n",
       "  37 │ nissan          36.0\n",
       "\u001b[36m                22 rows omitted\u001b[0m"
      ]
     },
     "metadata": {},
     "output_type": "display_data"
    }
   ],
   "source": [
    "combine(gdf, :mpg => mean => :mean_mpg)"
   ]
  },
  {
   "cell_type": "markdown",
   "metadata": {},
   "source": [
    "Now let us see how one can sort a data frame."
   ]
  },
  {
   "cell_type": "code",
   "execution_count": 18,
   "metadata": {
    "scrolled": false
   },
   "outputs": [
    {
     "data": {
      "text/html": [
       "<div><div style = \"float: left;\"><span>37×2 DataFrame</span></div><div style = \"float: right;\"><span style = \"font-style: italic;\">12 rows omitted</span></div><div style = \"clear: both;\"></div></div><div class = \"data-frame\" style = \"overflow-x: scroll;\"><table class = \"data-frame\" style = \"margin-bottom: 6px;\"><thead><tr class = \"header\"><th class = \"rowNumber\" style = \"font-weight: bold; text-align: right;\">Row</th><th style = \"text-align: left;\">brand</th><th style = \"text-align: left;\">mpg_mean</th></tr><tr class = \"subheader headerLastRow\"><th class = \"rowNumber\" style = \"font-weight: bold; text-align: right;\"></th><th title = \"String15\" style = \"text-align: left;\">String15</th><th title = \"Float64\" style = \"text-align: left;\">Float64</th></tr></thead><tbody><tr><td class = \"rowNumber\" style = \"font-weight: bold; text-align: right;\">1</td><td style = \"text-align: left;\">vw</td><td style = \"text-align: right;\">39.0167</td></tr><tr><td class = \"rowNumber\" style = \"font-weight: bold; text-align: right;\">2</td><td style = \"text-align: left;\">nissan</td><td style = \"text-align: right;\">36.0</td></tr><tr><td class = \"rowNumber\" style = \"font-weight: bold; text-align: right;\">3</td><td style = \"text-align: left;\">triumph</td><td style = \"text-align: right;\">35.0</td></tr><tr><td class = \"rowNumber\" style = \"font-weight: bold; text-align: right;\">4</td><td style = \"text-align: left;\">honda</td><td style = \"text-align: right;\">33.7615</td></tr><tr><td class = \"rowNumber\" style = \"font-weight: bold; text-align: right;\">5</td><td style = \"text-align: left;\">datsun</td><td style = \"text-align: right;\">31.113</td></tr><tr><td class = \"rowNumber\" style = \"font-weight: bold; text-align: right;\">6</td><td style = \"text-align: left;\">mazda</td><td style = \"text-align: right;\">30.86</td></tr><tr><td class = \"rowNumber\" style = \"font-weight: bold; text-align: right;\">7</td><td style = \"text-align: left;\">subaru</td><td style = \"text-align: right;\">30.525</td></tr><tr><td class = \"rowNumber\" style = \"font-weight: bold; text-align: right;\">8</td><td style = \"text-align: left;\">vokswagen</td><td style = \"text-align: right;\">29.8</td></tr><tr><td class = \"rowNumber\" style = \"font-weight: bold; text-align: right;\">9</td><td style = \"text-align: left;\">renault</td><td style = \"text-align: right;\">29.6667</td></tr><tr><td class = \"rowNumber\" style = \"font-weight: bold; text-align: right;\">10</td><td style = \"text-align: left;\">volkswagen</td><td style = \"text-align: right;\">29.1067</td></tr><tr><td class = \"rowNumber\" style = \"font-weight: bold; text-align: right;\">11</td><td style = \"text-align: left;\">fiat</td><td style = \"text-align: right;\">28.9125</td></tr><tr><td class = \"rowNumber\" style = \"font-weight: bold; text-align: right;\">12</td><td style = \"text-align: left;\">toyota</td><td style = \"text-align: right;\">28.372</td></tr><tr><td class = \"rowNumber\" style = \"font-weight: bold; text-align: right;\">13</td><td style = \"text-align: left;\">audi</td><td style = \"text-align: right;\">26.7143</td></tr><tr><td style = \"text-align: right;\">&vellip;</td><td style = \"text-align: right;\">&vellip;</td><td style = \"text-align: right;\">&vellip;</td></tr><tr><td class = \"rowNumber\" style = \"font-weight: bold; text-align: right;\">26</td><td style = \"text-align: left;\">oldsmobile</td><td style = \"text-align: right;\">21.1</td></tr><tr><td class = \"rowNumber\" style = \"font-weight: bold; text-align: right;\">27</td><td style = \"text-align: left;\">chevrolet</td><td style = \"text-align: right;\">20.4721</td></tr><tr><td class = \"rowNumber\" style = \"font-weight: bold; text-align: right;\">28</td><td style = \"text-align: left;\">pontiac</td><td style = \"text-align: right;\">20.0125</td></tr><tr><td class = \"rowNumber\" style = \"font-weight: bold; text-align: right;\">29</td><td style = \"text-align: left;\">cadillac</td><td style = \"text-align: right;\">19.75</td></tr><tr><td class = \"rowNumber\" style = \"font-weight: bold; text-align: right;\">30</td><td style = \"text-align: left;\">ford</td><td style = \"text-align: right;\">19.475</td></tr><tr><td class = \"rowNumber\" style = \"font-weight: bold; text-align: right;\">31</td><td style = \"text-align: left;\">buick</td><td style = \"text-align: right;\">19.1824</td></tr><tr><td class = \"rowNumber\" style = \"font-weight: bold; text-align: right;\">32</td><td style = \"text-align: left;\">mercury</td><td style = \"text-align: right;\">19.1182</td></tr><tr><td class = \"rowNumber\" style = \"font-weight: bold; text-align: right;\">33</td><td style = \"text-align: left;\">amc</td><td style = \"text-align: right;\">18.0704</td></tr><tr><td class = \"rowNumber\" style = \"font-weight: bold; text-align: right;\">34</td><td style = \"text-align: left;\">chevy</td><td style = \"text-align: right;\">18.0</td></tr><tr><td class = \"rowNumber\" style = \"font-weight: bold; text-align: right;\">35</td><td style = \"text-align: left;\">chrysler</td><td style = \"text-align: right;\">17.2667</td></tr><tr><td class = \"rowNumber\" style = \"font-weight: bold; text-align: right;\">36</td><td style = \"text-align: left;\">chevroelt</td><td style = \"text-align: right;\">16.0</td></tr><tr><td class = \"rowNumber\" style = \"font-weight: bold; text-align: right;\">37</td><td style = \"text-align: left;\">hi</td><td style = \"text-align: right;\">9.0</td></tr></tbody></table></div>"
      ],
      "text/latex": [
       "\\begin{tabular}{r|cc}\n",
       "\t& brand & mpg\\_mean\\\\\n",
       "\t\\hline\n",
       "\t& String15 & Float64\\\\\n",
       "\t\\hline\n",
       "\t1 & vw & 39.0167 \\\\\n",
       "\t2 & nissan & 36.0 \\\\\n",
       "\t3 & triumph & 35.0 \\\\\n",
       "\t4 & honda & 33.7615 \\\\\n",
       "\t5 & datsun & 31.113 \\\\\n",
       "\t6 & mazda & 30.86 \\\\\n",
       "\t7 & subaru & 30.525 \\\\\n",
       "\t8 & vokswagen & 29.8 \\\\\n",
       "\t9 & renault & 29.6667 \\\\\n",
       "\t10 & volkswagen & 29.1067 \\\\\n",
       "\t11 & fiat & 28.9125 \\\\\n",
       "\t12 & toyota & 28.372 \\\\\n",
       "\t13 & audi & 26.7143 \\\\\n",
       "\t14 & maxda & 26.05 \\\\\n",
       "\t15 & opel & 25.75 \\\\\n",
       "\t16 & mercedes & 25.4 \\\\\n",
       "\t17 & capri & 25.0 \\\\\n",
       "\t18 & saab & 23.9 \\\\\n",
       "\t19 & bmw & 23.75 \\\\\n",
       "\t20 & peugeot & 23.6875 \\\\\n",
       "\t21 & mercedes-benz & 23.25 \\\\\n",
       "\t22 & toyouta & 23.0 \\\\\n",
       "\t23 & dodge & 22.0607 \\\\\n",
       "\t24 & plymouth & 21.7032 \\\\\n",
       "\t$\\dots$ & $\\dots$ & $\\dots$ \\\\\n",
       "\\end{tabular}\n"
      ],
      "text/plain": [
       "\u001b[1m37×2 DataFrame\u001b[0m\n",
       "\u001b[1m Row \u001b[0m│\u001b[1m brand      \u001b[0m\u001b[1m mpg_mean \u001b[0m\n",
       "     │\u001b[90m String15   \u001b[0m\u001b[90m Float64  \u001b[0m\n",
       "─────┼──────────────────────\n",
       "   1 │ vw           39.0167\n",
       "   2 │ nissan       36.0\n",
       "   3 │ triumph      35.0\n",
       "   4 │ honda        33.7615\n",
       "   5 │ datsun       31.113\n",
       "   6 │ mazda        30.86\n",
       "   7 │ subaru       30.525\n",
       "   8 │ vokswagen    29.8\n",
       "  ⋮  │     ⋮          ⋮\n",
       "  31 │ buick        19.1824\n",
       "  32 │ mercury      19.1182\n",
       "  33 │ amc          18.0704\n",
       "  34 │ chevy        18.0\n",
       "  35 │ chrysler     17.2667\n",
       "  36 │ chevroelt    16.0\n",
       "  37 │ hi            9.0\n",
       "\u001b[36m             22 rows omitted\u001b[0m"
      ]
     },
     "metadata": {},
     "output_type": "display_data"
    }
   ],
   "source": [
    "sort!(brand_mpg, :mpg_mean, rev=true) # sort! performs an in-place operation"
   ]
  },
  {
   "cell_type": "markdown",
   "metadata": {},
   "source": [
    "A typical data cleaning task is to check its consistency. In this case it would be making sure that each brand has a unique origin. We will do it in several ways."
   ]
  },
  {
   "cell_type": "markdown",
   "metadata": {},
   "source": [
    "First we use FreqTables.jl:"
   ]
  },
  {
   "cell_type": "code",
   "execution_count": 19,
   "metadata": {},
   "outputs": [
    {
     "data": {
      "text/plain": [
       "37×3 Named Matrix{Int64}\n",
       "brand ╲ origin │ 1.0  2.0  3.0\n",
       "───────────────┼──────────────\n",
       "amc            │  27    0    0\n",
       "audi           │   0    7    0\n",
       "bmw            │   0    2    0\n",
       "buick          │  17    0    0\n",
       "cadillac       │   2    0    0\n",
       "capri          │   1    0    0\n",
       "chevroelt      │   1    0    0\n",
       "chevrolet      │  43    0    0\n",
       "⋮                  ⋮    ⋮    ⋮\n",
       "subaru         │   0    0    4\n",
       "toyota         │   0    0   25\n",
       "toyouta        │   0    0    1\n",
       "triumph        │   0    1    0\n",
       "vokswagen      │   0    1    0\n",
       "volkswagen     │   0   15    0\n",
       "volvo          │   0    6    0\n",
       "vw             │   0    6    0"
      ]
     },
     "metadata": {},
     "output_type": "display_data"
    }
   ],
   "source": [
    "freqtable(df, :brand, :origin)"
   ]
  },
  {
   "cell_type": "markdown",
   "metadata": {},
   "source": [
    "Now let us create a chain of operations using Pipe.jl. Here `_` denotes the position of the argument passed from the previous step in the chain."
   ]
  },
  {
   "cell_type": "code",
   "execution_count": 20,
   "metadata": {},
   "outputs": [
    {
     "data": {
      "text/html": [
       "<div><div style = \"float: left;\"><span>37×2 DataFrame</span></div><div style = \"float: right;\"><span style = \"font-style: italic;\">12 rows omitted</span></div><div style = \"clear: both;\"></div></div><div class = \"data-frame\" style = \"overflow-x: scroll;\"><table class = \"data-frame\" style = \"margin-bottom: 6px;\"><thead><tr class = \"header\"><th class = \"rowNumber\" style = \"font-weight: bold; text-align: right;\">Row</th><th style = \"text-align: left;\">brand</th><th style = \"text-align: left;\">origin_function</th></tr><tr class = \"subheader headerLastRow\"><th class = \"rowNumber\" style = \"font-weight: bold; text-align: right;\"></th><th title = \"String15\" style = \"text-align: left;\">String15</th><th title = \"Int64\" style = \"text-align: left;\">Int64</th></tr></thead><tbody><tr><td class = \"rowNumber\" style = \"font-weight: bold; text-align: right;\">1</td><td style = \"text-align: left;\">chevrolet</td><td style = \"text-align: right;\">1</td></tr><tr><td class = \"rowNumber\" style = \"font-weight: bold; text-align: right;\">2</td><td style = \"text-align: left;\">buick</td><td style = \"text-align: right;\">1</td></tr><tr><td class = \"rowNumber\" style = \"font-weight: bold; text-align: right;\">3</td><td style = \"text-align: left;\">plymouth</td><td style = \"text-align: right;\">1</td></tr><tr><td class = \"rowNumber\" style = \"font-weight: bold; text-align: right;\">4</td><td style = \"text-align: left;\">amc</td><td style = \"text-align: right;\">1</td></tr><tr><td class = \"rowNumber\" style = \"font-weight: bold; text-align: right;\">5</td><td style = \"text-align: left;\">ford</td><td style = \"text-align: right;\">1</td></tr><tr><td class = \"rowNumber\" style = \"font-weight: bold; text-align: right;\">6</td><td style = \"text-align: left;\">pontiac</td><td style = \"text-align: right;\">1</td></tr><tr><td class = \"rowNumber\" style = \"font-weight: bold; text-align: right;\">7</td><td style = \"text-align: left;\">dodge</td><td style = \"text-align: right;\">1</td></tr><tr><td class = \"rowNumber\" style = \"font-weight: bold; text-align: right;\">8</td><td style = \"text-align: left;\">toyota</td><td style = \"text-align: right;\">1</td></tr><tr><td class = \"rowNumber\" style = \"font-weight: bold; text-align: right;\">9</td><td style = \"text-align: left;\">datsun</td><td style = \"text-align: right;\">1</td></tr><tr><td class = \"rowNumber\" style = \"font-weight: bold; text-align: right;\">10</td><td style = \"text-align: left;\">volkswagen</td><td style = \"text-align: right;\">1</td></tr><tr><td class = \"rowNumber\" style = \"font-weight: bold; text-align: right;\">11</td><td style = \"text-align: left;\">peugeot</td><td style = \"text-align: right;\">1</td></tr><tr><td class = \"rowNumber\" style = \"font-weight: bold; text-align: right;\">12</td><td style = \"text-align: left;\">audi</td><td style = \"text-align: right;\">1</td></tr><tr><td class = \"rowNumber\" style = \"font-weight: bold; text-align: right;\">13</td><td style = \"text-align: left;\">saab</td><td style = \"text-align: right;\">1</td></tr><tr><td style = \"text-align: right;\">&vellip;</td><td style = \"text-align: right;\">&vellip;</td><td style = \"text-align: right;\">&vellip;</td></tr><tr><td class = \"rowNumber\" style = \"font-weight: bold; text-align: right;\">26</td><td style = \"text-align: left;\">maxda</td><td style = \"text-align: right;\">1</td></tr><tr><td class = \"rowNumber\" style = \"font-weight: bold; text-align: right;\">27</td><td style = \"text-align: left;\">honda</td><td style = \"text-align: right;\">1</td></tr><tr><td class = \"rowNumber\" style = \"font-weight: bold; text-align: right;\">28</td><td style = \"text-align: left;\">subaru</td><td style = \"text-align: right;\">1</td></tr><tr><td class = \"rowNumber\" style = \"font-weight: bold; text-align: right;\">29</td><td style = \"text-align: left;\">chevroelt</td><td style = \"text-align: right;\">1</td></tr><tr><td class = \"rowNumber\" style = \"font-weight: bold; text-align: right;\">30</td><td style = \"text-align: left;\">capri</td><td style = \"text-align: right;\">1</td></tr><tr><td class = \"rowNumber\" style = \"font-weight: bold; text-align: right;\">31</td><td style = \"text-align: left;\">vw</td><td style = \"text-align: right;\">1</td></tr><tr><td class = \"rowNumber\" style = \"font-weight: bold; text-align: right;\">32</td><td style = \"text-align: left;\">mercedes-benz</td><td style = \"text-align: right;\">1</td></tr><tr><td class = \"rowNumber\" style = \"font-weight: bold; text-align: right;\">33</td><td style = \"text-align: left;\">cadillac</td><td style = \"text-align: right;\">1</td></tr><tr><td class = \"rowNumber\" style = \"font-weight: bold; text-align: right;\">34</td><td style = \"text-align: left;\">mercedes</td><td style = \"text-align: right;\">1</td></tr><tr><td class = \"rowNumber\" style = \"font-weight: bold; text-align: right;\">35</td><td style = \"text-align: left;\">vokswagen</td><td style = \"text-align: right;\">1</td></tr><tr><td class = \"rowNumber\" style = \"font-weight: bold; text-align: right;\">36</td><td style = \"text-align: left;\">triumph</td><td style = \"text-align: right;\">1</td></tr><tr><td class = \"rowNumber\" style = \"font-weight: bold; text-align: right;\">37</td><td style = \"text-align: left;\">nissan</td><td style = \"text-align: right;\">1</td></tr></tbody></table></div>"
      ],
      "text/latex": [
       "\\begin{tabular}{r|cc}\n",
       "\t& brand & origin\\_function\\\\\n",
       "\t\\hline\n",
       "\t& String15 & Int64\\\\\n",
       "\t\\hline\n",
       "\t1 & chevrolet & 1 \\\\\n",
       "\t2 & buick & 1 \\\\\n",
       "\t3 & plymouth & 1 \\\\\n",
       "\t4 & amc & 1 \\\\\n",
       "\t5 & ford & 1 \\\\\n",
       "\t6 & pontiac & 1 \\\\\n",
       "\t7 & dodge & 1 \\\\\n",
       "\t8 & toyota & 1 \\\\\n",
       "\t9 & datsun & 1 \\\\\n",
       "\t10 & volkswagen & 1 \\\\\n",
       "\t11 & peugeot & 1 \\\\\n",
       "\t12 & audi & 1 \\\\\n",
       "\t13 & saab & 1 \\\\\n",
       "\t14 & bmw & 1 \\\\\n",
       "\t15 & chevy & 1 \\\\\n",
       "\t16 & hi & 1 \\\\\n",
       "\t17 & mercury & 1 \\\\\n",
       "\t18 & opel & 1 \\\\\n",
       "\t19 & fiat & 1 \\\\\n",
       "\t20 & oldsmobile & 1 \\\\\n",
       "\t21 & chrysler & 1 \\\\\n",
       "\t22 & mazda & 1 \\\\\n",
       "\t23 & volvo & 1 \\\\\n",
       "\t24 & renault & 1 \\\\\n",
       "\t$\\dots$ & $\\dots$ & $\\dots$ \\\\\n",
       "\\end{tabular}\n"
      ],
      "text/plain": [
       "\u001b[1m37×2 DataFrame\u001b[0m\n",
       "\u001b[1m Row \u001b[0m│\u001b[1m brand         \u001b[0m\u001b[1m origin_function \u001b[0m\n",
       "     │\u001b[90m String15      \u001b[0m\u001b[90m Int64           \u001b[0m\n",
       "─────┼────────────────────────────────\n",
       "   1 │ chevrolet                    1\n",
       "   2 │ buick                        1\n",
       "   3 │ plymouth                     1\n",
       "   4 │ amc                          1\n",
       "   5 │ ford                         1\n",
       "   6 │ pontiac                      1\n",
       "   7 │ dodge                        1\n",
       "   8 │ toyota                       1\n",
       "  ⋮  │       ⋮               ⋮\n",
       "  31 │ vw                           1\n",
       "  32 │ mercedes-benz                1\n",
       "  33 │ cadillac                     1\n",
       "  34 │ mercedes                     1\n",
       "  35 │ vokswagen                    1\n",
       "  36 │ triumph                      1\n",
       "  37 │ nissan                       1\n",
       "\u001b[36m                       22 rows omitted\u001b[0m"
      ]
     },
     "metadata": {},
     "output_type": "display_data"
    }
   ],
   "source": [
    "orig_brand = @pipe df |>\n",
    "                   groupby(_, :brand) |>\n",
    "                   combine(_, :origin => x -> length(unique(x)))"
   ]
  },
  {
   "cell_type": "markdown",
   "metadata": {},
   "source": [
    "Let us make sure that we always get exactly one origin:"
   ]
  },
  {
   "cell_type": "code",
   "execution_count": 21,
   "metadata": {},
   "outputs": [
    {
     "data": {
      "text/plain": [
       "(1, 1)"
      ]
     },
     "metadata": {},
     "output_type": "display_data"
    }
   ],
   "source": [
    "extrema(orig_brand.origin_function)"
   ]
  },
  {
   "cell_type": "markdown",
   "metadata": {},
   "source": [
    "We also could have grouped our data frame by two columns:"
   ]
  },
  {
   "cell_type": "code",
   "execution_count": 22,
   "metadata": {},
   "outputs": [
    {
     "data": {
      "text/html": [
       "<div><div style = \"float: left;\"><span>37×3 DataFrame</span></div><div style = \"float: right;\"><span style = \"font-style: italic;\">12 rows omitted</span></div><div style = \"clear: both;\"></div></div><div class = \"data-frame\" style = \"overflow-x: scroll;\"><table class = \"data-frame\" style = \"margin-bottom: 6px;\"><thead><tr class = \"header\"><th class = \"rowNumber\" style = \"font-weight: bold; text-align: right;\">Row</th><th style = \"text-align: left;\">origin</th><th style = \"text-align: left;\">brand</th><th style = \"text-align: left;\">nrow</th></tr><tr class = \"subheader headerLastRow\"><th class = \"rowNumber\" style = \"font-weight: bold; text-align: right;\"></th><th title = \"Float64\" style = \"text-align: left;\">Float64</th><th title = \"String15\" style = \"text-align: left;\">String15</th><th title = \"Int64\" style = \"text-align: left;\">Int64</th></tr></thead><tbody><tr><td class = \"rowNumber\" style = \"font-weight: bold; text-align: right;\">1</td><td style = \"text-align: right;\">1.0</td><td style = \"text-align: left;\">chevrolet</td><td style = \"text-align: right;\">43</td></tr><tr><td class = \"rowNumber\" style = \"font-weight: bold; text-align: right;\">2</td><td style = \"text-align: right;\">1.0</td><td style = \"text-align: left;\">buick</td><td style = \"text-align: right;\">17</td></tr><tr><td class = \"rowNumber\" style = \"font-weight: bold; text-align: right;\">3</td><td style = \"text-align: right;\">1.0</td><td style = \"text-align: left;\">plymouth</td><td style = \"text-align: right;\">31</td></tr><tr><td class = \"rowNumber\" style = \"font-weight: bold; text-align: right;\">4</td><td style = \"text-align: right;\">1.0</td><td style = \"text-align: left;\">amc</td><td style = \"text-align: right;\">27</td></tr><tr><td class = \"rowNumber\" style = \"font-weight: bold; text-align: right;\">5</td><td style = \"text-align: right;\">1.0</td><td style = \"text-align: left;\">ford</td><td style = \"text-align: right;\">48</td></tr><tr><td class = \"rowNumber\" style = \"font-weight: bold; text-align: right;\">6</td><td style = \"text-align: right;\">1.0</td><td style = \"text-align: left;\">pontiac</td><td style = \"text-align: right;\">16</td></tr><tr><td class = \"rowNumber\" style = \"font-weight: bold; text-align: right;\">7</td><td style = \"text-align: right;\">1.0</td><td style = \"text-align: left;\">dodge</td><td style = \"text-align: right;\">28</td></tr><tr><td class = \"rowNumber\" style = \"font-weight: bold; text-align: right;\">8</td><td style = \"text-align: right;\">1.0</td><td style = \"text-align: left;\">chevy</td><td style = \"text-align: right;\">3</td></tr><tr><td class = \"rowNumber\" style = \"font-weight: bold; text-align: right;\">9</td><td style = \"text-align: right;\">1.0</td><td style = \"text-align: left;\">hi</td><td style = \"text-align: right;\">1</td></tr><tr><td class = \"rowNumber\" style = \"font-weight: bold; text-align: right;\">10</td><td style = \"text-align: right;\">1.0</td><td style = \"text-align: left;\">mercury</td><td style = \"text-align: right;\">11</td></tr><tr><td class = \"rowNumber\" style = \"font-weight: bold; text-align: right;\">11</td><td style = \"text-align: right;\">1.0</td><td style = \"text-align: left;\">oldsmobile</td><td style = \"text-align: right;\">10</td></tr><tr><td class = \"rowNumber\" style = \"font-weight: bold; text-align: right;\">12</td><td style = \"text-align: right;\">1.0</td><td style = \"text-align: left;\">chrysler</td><td style = \"text-align: right;\">6</td></tr><tr><td class = \"rowNumber\" style = \"font-weight: bold; text-align: right;\">13</td><td style = \"text-align: right;\">1.0</td><td style = \"text-align: left;\">chevroelt</td><td style = \"text-align: right;\">1</td></tr><tr><td style = \"text-align: right;\">&vellip;</td><td style = \"text-align: right;\">&vellip;</td><td style = \"text-align: right;\">&vellip;</td><td style = \"text-align: right;\">&vellip;</td></tr><tr><td class = \"rowNumber\" style = \"font-weight: bold; text-align: right;\">26</td><td style = \"text-align: right;\">2.0</td><td style = \"text-align: left;\">mercedes-benz</td><td style = \"text-align: right;\">2</td></tr><tr><td class = \"rowNumber\" style = \"font-weight: bold; text-align: right;\">27</td><td style = \"text-align: right;\">2.0</td><td style = \"text-align: left;\">mercedes</td><td style = \"text-align: right;\">1</td></tr><tr><td class = \"rowNumber\" style = \"font-weight: bold; text-align: right;\">28</td><td style = \"text-align: right;\">2.0</td><td style = \"text-align: left;\">vokswagen</td><td style = \"text-align: right;\">1</td></tr><tr><td class = \"rowNumber\" style = \"font-weight: bold; text-align: right;\">29</td><td style = \"text-align: right;\">2.0</td><td style = \"text-align: left;\">triumph</td><td style = \"text-align: right;\">1</td></tr><tr><td class = \"rowNumber\" style = \"font-weight: bold; text-align: right;\">30</td><td style = \"text-align: right;\">3.0</td><td style = \"text-align: left;\">toyota</td><td style = \"text-align: right;\">25</td></tr><tr><td class = \"rowNumber\" style = \"font-weight: bold; text-align: right;\">31</td><td style = \"text-align: right;\">3.0</td><td style = \"text-align: left;\">datsun</td><td style = \"text-align: right;\">23</td></tr><tr><td class = \"rowNumber\" style = \"font-weight: bold; text-align: right;\">32</td><td style = \"text-align: right;\">3.0</td><td style = \"text-align: left;\">mazda</td><td style = \"text-align: right;\">10</td></tr><tr><td class = \"rowNumber\" style = \"font-weight: bold; text-align: right;\">33</td><td style = \"text-align: right;\">3.0</td><td style = \"text-align: left;\">toyouta</td><td style = \"text-align: right;\">1</td></tr><tr><td class = \"rowNumber\" style = \"font-weight: bold; text-align: right;\">34</td><td style = \"text-align: right;\">3.0</td><td style = \"text-align: left;\">maxda</td><td style = \"text-align: right;\">2</td></tr><tr><td class = \"rowNumber\" style = \"font-weight: bold; text-align: right;\">35</td><td style = \"text-align: right;\">3.0</td><td style = \"text-align: left;\">honda</td><td style = \"text-align: right;\">13</td></tr><tr><td class = \"rowNumber\" style = \"font-weight: bold; text-align: right;\">36</td><td style = \"text-align: right;\">3.0</td><td style = \"text-align: left;\">subaru</td><td style = \"text-align: right;\">4</td></tr><tr><td class = \"rowNumber\" style = \"font-weight: bold; text-align: right;\">37</td><td style = \"text-align: right;\">3.0</td><td style = \"text-align: left;\">nissan</td><td style = \"text-align: right;\">1</td></tr></tbody></table></div>"
      ],
      "text/latex": [
       "\\begin{tabular}{r|ccc}\n",
       "\t& origin & brand & nrow\\\\\n",
       "\t\\hline\n",
       "\t& Float64 & String15 & Int64\\\\\n",
       "\t\\hline\n",
       "\t1 & 1.0 & chevrolet & 43 \\\\\n",
       "\t2 & 1.0 & buick & 17 \\\\\n",
       "\t3 & 1.0 & plymouth & 31 \\\\\n",
       "\t4 & 1.0 & amc & 27 \\\\\n",
       "\t5 & 1.0 & ford & 48 \\\\\n",
       "\t6 & 1.0 & pontiac & 16 \\\\\n",
       "\t7 & 1.0 & dodge & 28 \\\\\n",
       "\t8 & 1.0 & chevy & 3 \\\\\n",
       "\t9 & 1.0 & hi & 1 \\\\\n",
       "\t10 & 1.0 & mercury & 11 \\\\\n",
       "\t11 & 1.0 & oldsmobile & 10 \\\\\n",
       "\t12 & 1.0 & chrysler & 6 \\\\\n",
       "\t13 & 1.0 & chevroelt & 1 \\\\\n",
       "\t14 & 1.0 & capri & 1 \\\\\n",
       "\t15 & 1.0 & cadillac & 2 \\\\\n",
       "\t16 & 2.0 & volkswagen & 15 \\\\\n",
       "\t17 & 2.0 & peugeot & 8 \\\\\n",
       "\t18 & 2.0 & audi & 7 \\\\\n",
       "\t19 & 2.0 & saab & 4 \\\\\n",
       "\t20 & 2.0 & bmw & 2 \\\\\n",
       "\t21 & 2.0 & opel & 4 \\\\\n",
       "\t22 & 2.0 & fiat & 8 \\\\\n",
       "\t23 & 2.0 & volvo & 6 \\\\\n",
       "\t24 & 2.0 & renault & 3 \\\\\n",
       "\t$\\dots$ & $\\dots$ & $\\dots$ & $\\dots$ \\\\\n",
       "\\end{tabular}\n"
      ],
      "text/plain": [
       "\u001b[1m37×3 DataFrame\u001b[0m\n",
       "\u001b[1m Row \u001b[0m│\u001b[1m origin  \u001b[0m\u001b[1m brand      \u001b[0m\u001b[1m nrow  \u001b[0m\n",
       "     │\u001b[90m Float64 \u001b[0m\u001b[90m String15   \u001b[0m\u001b[90m Int64 \u001b[0m\n",
       "─────┼────────────────────────────\n",
       "   1 │     1.0  chevrolet      43\n",
       "   2 │     1.0  buick          17\n",
       "   3 │     1.0  plymouth       31\n",
       "   4 │     1.0  amc            27\n",
       "   5 │     1.0  ford           48\n",
       "   6 │     1.0  pontiac        16\n",
       "   7 │     1.0  dodge          28\n",
       "   8 │     1.0  chevy           3\n",
       "  ⋮  │    ⋮         ⋮         ⋮\n",
       "  31 │     3.0  datsun         23\n",
       "  32 │     3.0  mazda          10\n",
       "  33 │     3.0  toyouta         1\n",
       "  34 │     3.0  maxda           2\n",
       "  35 │     3.0  honda          13\n",
       "  36 │     3.0  subaru          4\n",
       "  37 │     3.0  nissan          1\n",
       "\u001b[36m                   22 rows omitted\u001b[0m"
      ]
     },
     "metadata": {},
     "output_type": "display_data"
    }
   ],
   "source": [
    "origin_brand2 = @pipe df |>\n",
    "                      groupby(_, [:origin, :brand]) |>\n",
    "                      combine(_, nrow)"
   ]
  },
  {
   "cell_type": "markdown",
   "metadata": {},
   "source": [
    "Note that passing `nrow` as a combining operation gives us the number of rows per group."
   ]
  },
  {
   "cell_type": "markdown",
   "metadata": {},
   "source": [
    "Now we can do the `unstack` operation on the result to get a similar table that we got with `freqtable`:"
   ]
  },
  {
   "cell_type": "code",
   "execution_count": 23,
   "metadata": {},
   "outputs": [
    {
     "data": {
      "text/html": [
       "<div><div style = \"float: left;\"><span>37×4 DataFrame</span></div><div style = \"float: right;\"><span style = \"font-style: italic;\">12 rows omitted</span></div><div style = \"clear: both;\"></div></div><div class = \"data-frame\" style = \"overflow-x: scroll;\"><table class = \"data-frame\" style = \"margin-bottom: 6px;\"><thead><tr class = \"header\"><th class = \"rowNumber\" style = \"font-weight: bold; text-align: right;\">Row</th><th style = \"text-align: left;\">brand</th><th style = \"text-align: left;\">1.0</th><th style = \"text-align: left;\">2.0</th><th style = \"text-align: left;\">3.0</th></tr><tr class = \"subheader headerLastRow\"><th class = \"rowNumber\" style = \"font-weight: bold; text-align: right;\"></th><th title = \"String15\" style = \"text-align: left;\">String15</th><th title = \"Union{Missing, Int64}\" style = \"text-align: left;\">Int64?</th><th title = \"Union{Missing, Int64}\" style = \"text-align: left;\">Int64?</th><th title = \"Union{Missing, Int64}\" style = \"text-align: left;\">Int64?</th></tr></thead><tbody><tr><td class = \"rowNumber\" style = \"font-weight: bold; text-align: right;\">1</td><td style = \"text-align: left;\">chevrolet</td><td style = \"text-align: right;\">43</td><td style = \"font-style: italic; text-align: right;\">missing</td><td style = \"font-style: italic; text-align: right;\">missing</td></tr><tr><td class = \"rowNumber\" style = \"font-weight: bold; text-align: right;\">2</td><td style = \"text-align: left;\">buick</td><td style = \"text-align: right;\">17</td><td style = \"font-style: italic; text-align: right;\">missing</td><td style = \"font-style: italic; text-align: right;\">missing</td></tr><tr><td class = \"rowNumber\" style = \"font-weight: bold; text-align: right;\">3</td><td style = \"text-align: left;\">plymouth</td><td style = \"text-align: right;\">31</td><td style = \"font-style: italic; text-align: right;\">missing</td><td style = \"font-style: italic; text-align: right;\">missing</td></tr><tr><td class = \"rowNumber\" style = \"font-weight: bold; text-align: right;\">4</td><td style = \"text-align: left;\">amc</td><td style = \"text-align: right;\">27</td><td style = \"font-style: italic; text-align: right;\">missing</td><td style = \"font-style: italic; text-align: right;\">missing</td></tr><tr><td class = \"rowNumber\" style = \"font-weight: bold; text-align: right;\">5</td><td style = \"text-align: left;\">ford</td><td style = \"text-align: right;\">48</td><td style = \"font-style: italic; text-align: right;\">missing</td><td style = \"font-style: italic; text-align: right;\">missing</td></tr><tr><td class = \"rowNumber\" style = \"font-weight: bold; text-align: right;\">6</td><td style = \"text-align: left;\">pontiac</td><td style = \"text-align: right;\">16</td><td style = \"font-style: italic; text-align: right;\">missing</td><td style = \"font-style: italic; text-align: right;\">missing</td></tr><tr><td class = \"rowNumber\" style = \"font-weight: bold; text-align: right;\">7</td><td style = \"text-align: left;\">dodge</td><td style = \"text-align: right;\">28</td><td style = \"font-style: italic; text-align: right;\">missing</td><td style = \"font-style: italic; text-align: right;\">missing</td></tr><tr><td class = \"rowNumber\" style = \"font-weight: bold; text-align: right;\">8</td><td style = \"text-align: left;\">chevy</td><td style = \"text-align: right;\">3</td><td style = \"font-style: italic; text-align: right;\">missing</td><td style = \"font-style: italic; text-align: right;\">missing</td></tr><tr><td class = \"rowNumber\" style = \"font-weight: bold; text-align: right;\">9</td><td style = \"text-align: left;\">hi</td><td style = \"text-align: right;\">1</td><td style = \"font-style: italic; text-align: right;\">missing</td><td style = \"font-style: italic; text-align: right;\">missing</td></tr><tr><td class = \"rowNumber\" style = \"font-weight: bold; text-align: right;\">10</td><td style = \"text-align: left;\">mercury</td><td style = \"text-align: right;\">11</td><td style = \"font-style: italic; text-align: right;\">missing</td><td style = \"font-style: italic; text-align: right;\">missing</td></tr><tr><td class = \"rowNumber\" style = \"font-weight: bold; text-align: right;\">11</td><td style = \"text-align: left;\">oldsmobile</td><td style = \"text-align: right;\">10</td><td style = \"font-style: italic; text-align: right;\">missing</td><td style = \"font-style: italic; text-align: right;\">missing</td></tr><tr><td class = \"rowNumber\" style = \"font-weight: bold; text-align: right;\">12</td><td style = \"text-align: left;\">chrysler</td><td style = \"text-align: right;\">6</td><td style = \"font-style: italic; text-align: right;\">missing</td><td style = \"font-style: italic; text-align: right;\">missing</td></tr><tr><td class = \"rowNumber\" style = \"font-weight: bold; text-align: right;\">13</td><td style = \"text-align: left;\">chevroelt</td><td style = \"text-align: right;\">1</td><td style = \"font-style: italic; text-align: right;\">missing</td><td style = \"font-style: italic; text-align: right;\">missing</td></tr><tr><td style = \"text-align: right;\">&vellip;</td><td style = \"text-align: right;\">&vellip;</td><td style = \"text-align: right;\">&vellip;</td><td style = \"text-align: right;\">&vellip;</td><td style = \"text-align: right;\">&vellip;</td></tr><tr><td class = \"rowNumber\" style = \"font-weight: bold; text-align: right;\">26</td><td style = \"text-align: left;\">mercedes-benz</td><td style = \"font-style: italic; text-align: right;\">missing</td><td style = \"text-align: right;\">2</td><td style = \"font-style: italic; text-align: right;\">missing</td></tr><tr><td class = \"rowNumber\" style = \"font-weight: bold; text-align: right;\">27</td><td style = \"text-align: left;\">mercedes</td><td style = \"font-style: italic; text-align: right;\">missing</td><td style = \"text-align: right;\">1</td><td style = \"font-style: italic; text-align: right;\">missing</td></tr><tr><td class = \"rowNumber\" style = \"font-weight: bold; text-align: right;\">28</td><td style = \"text-align: left;\">vokswagen</td><td style = \"font-style: italic; text-align: right;\">missing</td><td style = \"text-align: right;\">1</td><td style = \"font-style: italic; text-align: right;\">missing</td></tr><tr><td class = \"rowNumber\" style = \"font-weight: bold; text-align: right;\">29</td><td style = \"text-align: left;\">triumph</td><td style = \"font-style: italic; text-align: right;\">missing</td><td style = \"text-align: right;\">1</td><td style = \"font-style: italic; text-align: right;\">missing</td></tr><tr><td class = \"rowNumber\" style = \"font-weight: bold; text-align: right;\">30</td><td style = \"text-align: left;\">toyota</td><td style = \"font-style: italic; text-align: right;\">missing</td><td style = \"font-style: italic; text-align: right;\">missing</td><td style = \"text-align: right;\">25</td></tr><tr><td class = \"rowNumber\" style = \"font-weight: bold; text-align: right;\">31</td><td style = \"text-align: left;\">datsun</td><td style = \"font-style: italic; text-align: right;\">missing</td><td style = \"font-style: italic; text-align: right;\">missing</td><td style = \"text-align: right;\">23</td></tr><tr><td class = \"rowNumber\" style = \"font-weight: bold; text-align: right;\">32</td><td style = \"text-align: left;\">mazda</td><td style = \"font-style: italic; text-align: right;\">missing</td><td style = \"font-style: italic; text-align: right;\">missing</td><td style = \"text-align: right;\">10</td></tr><tr><td class = \"rowNumber\" style = \"font-weight: bold; text-align: right;\">33</td><td style = \"text-align: left;\">toyouta</td><td style = \"font-style: italic; text-align: right;\">missing</td><td style = \"font-style: italic; text-align: right;\">missing</td><td style = \"text-align: right;\">1</td></tr><tr><td class = \"rowNumber\" style = \"font-weight: bold; text-align: right;\">34</td><td style = \"text-align: left;\">maxda</td><td style = \"font-style: italic; text-align: right;\">missing</td><td style = \"font-style: italic; text-align: right;\">missing</td><td style = \"text-align: right;\">2</td></tr><tr><td class = \"rowNumber\" style = \"font-weight: bold; text-align: right;\">35</td><td style = \"text-align: left;\">honda</td><td style = \"font-style: italic; text-align: right;\">missing</td><td style = \"font-style: italic; text-align: right;\">missing</td><td style = \"text-align: right;\">13</td></tr><tr><td class = \"rowNumber\" style = \"font-weight: bold; text-align: right;\">36</td><td style = \"text-align: left;\">subaru</td><td style = \"font-style: italic; text-align: right;\">missing</td><td style = \"font-style: italic; text-align: right;\">missing</td><td style = \"text-align: right;\">4</td></tr><tr><td class = \"rowNumber\" style = \"font-weight: bold; text-align: right;\">37</td><td style = \"text-align: left;\">nissan</td><td style = \"font-style: italic; text-align: right;\">missing</td><td style = \"font-style: italic; text-align: right;\">missing</td><td style = \"text-align: right;\">1</td></tr></tbody></table></div>"
      ],
      "text/latex": [
       "\\begin{tabular}{r|cccc}\n",
       "\t& brand & 1.0 & 2.0 & 3.0\\\\\n",
       "\t\\hline\n",
       "\t& String15 & Int64? & Int64? & Int64?\\\\\n",
       "\t\\hline\n",
       "\t1 & chevrolet & 43 & \\emph{missing} & \\emph{missing} \\\\\n",
       "\t2 & buick & 17 & \\emph{missing} & \\emph{missing} \\\\\n",
       "\t3 & plymouth & 31 & \\emph{missing} & \\emph{missing} \\\\\n",
       "\t4 & amc & 27 & \\emph{missing} & \\emph{missing} \\\\\n",
       "\t5 & ford & 48 & \\emph{missing} & \\emph{missing} \\\\\n",
       "\t6 & pontiac & 16 & \\emph{missing} & \\emph{missing} \\\\\n",
       "\t7 & dodge & 28 & \\emph{missing} & \\emph{missing} \\\\\n",
       "\t8 & chevy & 3 & \\emph{missing} & \\emph{missing} \\\\\n",
       "\t9 & hi & 1 & \\emph{missing} & \\emph{missing} \\\\\n",
       "\t10 & mercury & 11 & \\emph{missing} & \\emph{missing} \\\\\n",
       "\t11 & oldsmobile & 10 & \\emph{missing} & \\emph{missing} \\\\\n",
       "\t12 & chrysler & 6 & \\emph{missing} & \\emph{missing} \\\\\n",
       "\t13 & chevroelt & 1 & \\emph{missing} & \\emph{missing} \\\\\n",
       "\t14 & capri & 1 & \\emph{missing} & \\emph{missing} \\\\\n",
       "\t15 & cadillac & 2 & \\emph{missing} & \\emph{missing} \\\\\n",
       "\t16 & volkswagen & \\emph{missing} & 15 & \\emph{missing} \\\\\n",
       "\t17 & peugeot & \\emph{missing} & 8 & \\emph{missing} \\\\\n",
       "\t18 & audi & \\emph{missing} & 7 & \\emph{missing} \\\\\n",
       "\t19 & saab & \\emph{missing} & 4 & \\emph{missing} \\\\\n",
       "\t20 & bmw & \\emph{missing} & 2 & \\emph{missing} \\\\\n",
       "\t21 & opel & \\emph{missing} & 4 & \\emph{missing} \\\\\n",
       "\t22 & fiat & \\emph{missing} & 8 & \\emph{missing} \\\\\n",
       "\t23 & volvo & \\emph{missing} & 6 & \\emph{missing} \\\\\n",
       "\t24 & renault & \\emph{missing} & 3 & \\emph{missing} \\\\\n",
       "\t$\\dots$ & $\\dots$ & $\\dots$ & $\\dots$ & $\\dots$ \\\\\n",
       "\\end{tabular}\n"
      ],
      "text/plain": [
       "\u001b[1m37×4 DataFrame\u001b[0m\n",
       "\u001b[1m Row \u001b[0m│\u001b[1m brand      \u001b[0m\u001b[1m 1.0     \u001b[0m\u001b[1m 2.0     \u001b[0m\u001b[1m 3.0     \u001b[0m\n",
       "     │\u001b[90m String15   \u001b[0m\u001b[90m Int64?  \u001b[0m\u001b[90m Int64?  \u001b[0m\u001b[90m Int64?  \u001b[0m\n",
       "─────┼───────────────────────────────────────\n",
       "   1 │ chevrolet        43 \u001b[90m missing \u001b[0m\u001b[90m missing \u001b[0m\n",
       "   2 │ buick            17 \u001b[90m missing \u001b[0m\u001b[90m missing \u001b[0m\n",
       "   3 │ plymouth         31 \u001b[90m missing \u001b[0m\u001b[90m missing \u001b[0m\n",
       "   4 │ amc              27 \u001b[90m missing \u001b[0m\u001b[90m missing \u001b[0m\n",
       "   5 │ ford             48 \u001b[90m missing \u001b[0m\u001b[90m missing \u001b[0m\n",
       "   6 │ pontiac          16 \u001b[90m missing \u001b[0m\u001b[90m missing \u001b[0m\n",
       "   7 │ dodge            28 \u001b[90m missing \u001b[0m\u001b[90m missing \u001b[0m\n",
       "   8 │ chevy             3 \u001b[90m missing \u001b[0m\u001b[90m missing \u001b[0m\n",
       "  ⋮  │     ⋮          ⋮        ⋮        ⋮\n",
       "  31 │ datsun     \u001b[90m missing \u001b[0m\u001b[90m missing \u001b[0m      23\n",
       "  32 │ mazda      \u001b[90m missing \u001b[0m\u001b[90m missing \u001b[0m      10\n",
       "  33 │ toyouta    \u001b[90m missing \u001b[0m\u001b[90m missing \u001b[0m       1\n",
       "  34 │ maxda      \u001b[90m missing \u001b[0m\u001b[90m missing \u001b[0m       2\n",
       "  35 │ honda      \u001b[90m missing \u001b[0m\u001b[90m missing \u001b[0m      13\n",
       "  36 │ subaru     \u001b[90m missing \u001b[0m\u001b[90m missing \u001b[0m       4\n",
       "  37 │ nissan     \u001b[90m missing \u001b[0m\u001b[90m missing \u001b[0m       1\n",
       "\u001b[36m                              22 rows omitted\u001b[0m"
      ]
     },
     "metadata": {},
     "output_type": "display_data"
    }
   ],
   "source": [
    "origin_vs_brand = unstack(origin_brand2, :brand, :origin, :nrow)"
   ]
  },
  {
   "cell_type": "markdown",
   "metadata": {},
   "source": [
    "The only difference is that missing combinations are given as `missing` and `freqtable` produced `0` there. It is easy to fix using broadcasting:"
   ]
  },
  {
   "cell_type": "code",
   "execution_count": 24,
   "metadata": {},
   "outputs": [
    {
     "data": {
      "text/html": [
       "<div><div style = \"float: left;\"><span>37×4 DataFrame</span></div><div style = \"float: right;\"><span style = \"font-style: italic;\">12 rows omitted</span></div><div style = \"clear: both;\"></div></div><div class = \"data-frame\" style = \"overflow-x: scroll;\"><table class = \"data-frame\" style = \"margin-bottom: 6px;\"><thead><tr class = \"header\"><th class = \"rowNumber\" style = \"font-weight: bold; text-align: right;\">Row</th><th style = \"text-align: left;\">brand</th><th style = \"text-align: left;\">1.0</th><th style = \"text-align: left;\">2.0</th><th style = \"text-align: left;\">3.0</th></tr><tr class = \"subheader headerLastRow\"><th class = \"rowNumber\" style = \"font-weight: bold; text-align: right;\"></th><th title = \"String15\" style = \"text-align: left;\">String15</th><th title = \"Int64\" style = \"text-align: left;\">Int64</th><th title = \"Int64\" style = \"text-align: left;\">Int64</th><th title = \"Int64\" style = \"text-align: left;\">Int64</th></tr></thead><tbody><tr><td class = \"rowNumber\" style = \"font-weight: bold; text-align: right;\">1</td><td style = \"text-align: left;\">chevrolet</td><td style = \"text-align: right;\">43</td><td style = \"text-align: right;\">0</td><td style = \"text-align: right;\">0</td></tr><tr><td class = \"rowNumber\" style = \"font-weight: bold; text-align: right;\">2</td><td style = \"text-align: left;\">buick</td><td style = \"text-align: right;\">17</td><td style = \"text-align: right;\">0</td><td style = \"text-align: right;\">0</td></tr><tr><td class = \"rowNumber\" style = \"font-weight: bold; text-align: right;\">3</td><td style = \"text-align: left;\">plymouth</td><td style = \"text-align: right;\">31</td><td style = \"text-align: right;\">0</td><td style = \"text-align: right;\">0</td></tr><tr><td class = \"rowNumber\" style = \"font-weight: bold; text-align: right;\">4</td><td style = \"text-align: left;\">amc</td><td style = \"text-align: right;\">27</td><td style = \"text-align: right;\">0</td><td style = \"text-align: right;\">0</td></tr><tr><td class = \"rowNumber\" style = \"font-weight: bold; text-align: right;\">5</td><td style = \"text-align: left;\">ford</td><td style = \"text-align: right;\">48</td><td style = \"text-align: right;\">0</td><td style = \"text-align: right;\">0</td></tr><tr><td class = \"rowNumber\" style = \"font-weight: bold; text-align: right;\">6</td><td style = \"text-align: left;\">pontiac</td><td style = \"text-align: right;\">16</td><td style = \"text-align: right;\">0</td><td style = \"text-align: right;\">0</td></tr><tr><td class = \"rowNumber\" style = \"font-weight: bold; text-align: right;\">7</td><td style = \"text-align: left;\">dodge</td><td style = \"text-align: right;\">28</td><td style = \"text-align: right;\">0</td><td style = \"text-align: right;\">0</td></tr><tr><td class = \"rowNumber\" style = \"font-weight: bold; text-align: right;\">8</td><td style = \"text-align: left;\">chevy</td><td style = \"text-align: right;\">3</td><td style = \"text-align: right;\">0</td><td style = \"text-align: right;\">0</td></tr><tr><td class = \"rowNumber\" style = \"font-weight: bold; text-align: right;\">9</td><td style = \"text-align: left;\">hi</td><td style = \"text-align: right;\">1</td><td style = \"text-align: right;\">0</td><td style = \"text-align: right;\">0</td></tr><tr><td class = \"rowNumber\" style = \"font-weight: bold; text-align: right;\">10</td><td style = \"text-align: left;\">mercury</td><td style = \"text-align: right;\">11</td><td style = \"text-align: right;\">0</td><td style = \"text-align: right;\">0</td></tr><tr><td class = \"rowNumber\" style = \"font-weight: bold; text-align: right;\">11</td><td style = \"text-align: left;\">oldsmobile</td><td style = \"text-align: right;\">10</td><td style = \"text-align: right;\">0</td><td style = \"text-align: right;\">0</td></tr><tr><td class = \"rowNumber\" style = \"font-weight: bold; text-align: right;\">12</td><td style = \"text-align: left;\">chrysler</td><td style = \"text-align: right;\">6</td><td style = \"text-align: right;\">0</td><td style = \"text-align: right;\">0</td></tr><tr><td class = \"rowNumber\" style = \"font-weight: bold; text-align: right;\">13</td><td style = \"text-align: left;\">chevroelt</td><td style = \"text-align: right;\">1</td><td style = \"text-align: right;\">0</td><td style = \"text-align: right;\">0</td></tr><tr><td style = \"text-align: right;\">&vellip;</td><td style = \"text-align: right;\">&vellip;</td><td style = \"text-align: right;\">&vellip;</td><td style = \"text-align: right;\">&vellip;</td><td style = \"text-align: right;\">&vellip;</td></tr><tr><td class = \"rowNumber\" style = \"font-weight: bold; text-align: right;\">26</td><td style = \"text-align: left;\">mercedes-benz</td><td style = \"text-align: right;\">0</td><td style = \"text-align: right;\">2</td><td style = \"text-align: right;\">0</td></tr><tr><td class = \"rowNumber\" style = \"font-weight: bold; text-align: right;\">27</td><td style = \"text-align: left;\">mercedes</td><td style = \"text-align: right;\">0</td><td style = \"text-align: right;\">1</td><td style = \"text-align: right;\">0</td></tr><tr><td class = \"rowNumber\" style = \"font-weight: bold; text-align: right;\">28</td><td style = \"text-align: left;\">vokswagen</td><td style = \"text-align: right;\">0</td><td style = \"text-align: right;\">1</td><td style = \"text-align: right;\">0</td></tr><tr><td class = \"rowNumber\" style = \"font-weight: bold; text-align: right;\">29</td><td style = \"text-align: left;\">triumph</td><td style = \"text-align: right;\">0</td><td style = \"text-align: right;\">1</td><td style = \"text-align: right;\">0</td></tr><tr><td class = \"rowNumber\" style = \"font-weight: bold; text-align: right;\">30</td><td style = \"text-align: left;\">toyota</td><td style = \"text-align: right;\">0</td><td style = \"text-align: right;\">0</td><td style = \"text-align: right;\">25</td></tr><tr><td class = \"rowNumber\" style = \"font-weight: bold; text-align: right;\">31</td><td style = \"text-align: left;\">datsun</td><td style = \"text-align: right;\">0</td><td style = \"text-align: right;\">0</td><td style = \"text-align: right;\">23</td></tr><tr><td class = \"rowNumber\" style = \"font-weight: bold; text-align: right;\">32</td><td style = \"text-align: left;\">mazda</td><td style = \"text-align: right;\">0</td><td style = \"text-align: right;\">0</td><td style = \"text-align: right;\">10</td></tr><tr><td class = \"rowNumber\" style = \"font-weight: bold; text-align: right;\">33</td><td style = \"text-align: left;\">toyouta</td><td style = \"text-align: right;\">0</td><td style = \"text-align: right;\">0</td><td style = \"text-align: right;\">1</td></tr><tr><td class = \"rowNumber\" style = \"font-weight: bold; text-align: right;\">34</td><td style = \"text-align: left;\">maxda</td><td style = \"text-align: right;\">0</td><td style = \"text-align: right;\">0</td><td style = \"text-align: right;\">2</td></tr><tr><td class = \"rowNumber\" style = \"font-weight: bold; text-align: right;\">35</td><td style = \"text-align: left;\">honda</td><td style = \"text-align: right;\">0</td><td style = \"text-align: right;\">0</td><td style = \"text-align: right;\">13</td></tr><tr><td class = \"rowNumber\" style = \"font-weight: bold; text-align: right;\">36</td><td style = \"text-align: left;\">subaru</td><td style = \"text-align: right;\">0</td><td style = \"text-align: right;\">0</td><td style = \"text-align: right;\">4</td></tr><tr><td class = \"rowNumber\" style = \"font-weight: bold; text-align: right;\">37</td><td style = \"text-align: left;\">nissan</td><td style = \"text-align: right;\">0</td><td style = \"text-align: right;\">0</td><td style = \"text-align: right;\">1</td></tr></tbody></table></div>"
      ],
      "text/latex": [
       "\\begin{tabular}{r|cccc}\n",
       "\t& brand & 1.0 & 2.0 & 3.0\\\\\n",
       "\t\\hline\n",
       "\t& String15 & Int64 & Int64 & Int64\\\\\n",
       "\t\\hline\n",
       "\t1 & chevrolet & 43 & 0 & 0 \\\\\n",
       "\t2 & buick & 17 & 0 & 0 \\\\\n",
       "\t3 & plymouth & 31 & 0 & 0 \\\\\n",
       "\t4 & amc & 27 & 0 & 0 \\\\\n",
       "\t5 & ford & 48 & 0 & 0 \\\\\n",
       "\t6 & pontiac & 16 & 0 & 0 \\\\\n",
       "\t7 & dodge & 28 & 0 & 0 \\\\\n",
       "\t8 & chevy & 3 & 0 & 0 \\\\\n",
       "\t9 & hi & 1 & 0 & 0 \\\\\n",
       "\t10 & mercury & 11 & 0 & 0 \\\\\n",
       "\t11 & oldsmobile & 10 & 0 & 0 \\\\\n",
       "\t12 & chrysler & 6 & 0 & 0 \\\\\n",
       "\t13 & chevroelt & 1 & 0 & 0 \\\\\n",
       "\t14 & capri & 1 & 0 & 0 \\\\\n",
       "\t15 & cadillac & 2 & 0 & 0 \\\\\n",
       "\t16 & volkswagen & 0 & 15 & 0 \\\\\n",
       "\t17 & peugeot & 0 & 8 & 0 \\\\\n",
       "\t18 & audi & 0 & 7 & 0 \\\\\n",
       "\t19 & saab & 0 & 4 & 0 \\\\\n",
       "\t20 & bmw & 0 & 2 & 0 \\\\\n",
       "\t21 & opel & 0 & 4 & 0 \\\\\n",
       "\t22 & fiat & 0 & 8 & 0 \\\\\n",
       "\t23 & volvo & 0 & 6 & 0 \\\\\n",
       "\t24 & renault & 0 & 3 & 0 \\\\\n",
       "\t$\\dots$ & $\\dots$ & $\\dots$ & $\\dots$ & $\\dots$ \\\\\n",
       "\\end{tabular}\n"
      ],
      "text/plain": [
       "\u001b[1m37×4 DataFrame\u001b[0m\n",
       "\u001b[1m Row \u001b[0m│\u001b[1m brand      \u001b[0m\u001b[1m 1.0   \u001b[0m\u001b[1m 2.0   \u001b[0m\u001b[1m 3.0   \u001b[0m\n",
       "     │\u001b[90m String15   \u001b[0m\u001b[90m Int64 \u001b[0m\u001b[90m Int64 \u001b[0m\u001b[90m Int64 \u001b[0m\n",
       "─────┼─────────────────────────────────\n",
       "   1 │ chevrolet      43      0      0\n",
       "   2 │ buick          17      0      0\n",
       "   3 │ plymouth       31      0      0\n",
       "   4 │ amc            27      0      0\n",
       "   5 │ ford           48      0      0\n",
       "   6 │ pontiac        16      0      0\n",
       "   7 │ dodge          28      0      0\n",
       "   8 │ chevy           3      0      0\n",
       "  ⋮  │     ⋮         ⋮      ⋮      ⋮\n",
       "  31 │ datsun          0      0     23\n",
       "  32 │ mazda           0      0     10\n",
       "  33 │ toyouta         0      0      1\n",
       "  34 │ maxda           0      0      2\n",
       "  35 │ honda           0      0     13\n",
       "  36 │ subaru          0      0      4\n",
       "  37 │ nissan          0      0      1\n",
       "\u001b[36m                        22 rows omitted\u001b[0m"
      ]
     },
     "metadata": {},
     "output_type": "display_data"
    }
   ],
   "source": [
    "coalesce.(origin_vs_brand, 0)"
   ]
  },
  {
   "cell_type": "markdown",
   "metadata": {},
   "source": [
    "Note that column names of a data frame can be any sequence of characters as in this case:"
   ]
  },
  {
   "cell_type": "code",
   "execution_count": 25,
   "metadata": {},
   "outputs": [
    {
     "data": {
      "text/plain": [
       "4-element Vector{String}:\n",
       " \"brand\"\n",
       " \"1.0\"\n",
       " \"2.0\"\n",
       " \"3.0\""
      ]
     },
     "metadata": {},
     "output_type": "display_data"
    }
   ],
   "source": [
    "names(origin_vs_brand)"
   ]
  },
  {
   "cell_type": "code",
   "execution_count": 26,
   "metadata": {},
   "outputs": [
    {
     "data": {
      "text/plain": [
       "4-element Vector{Symbol}:\n",
       " :brand\n",
       " Symbol(\"1.0\")\n",
       " Symbol(\"2.0\")\n",
       " Symbol(\"3.0\")"
      ]
     },
     "metadata": {},
     "output_type": "display_data"
    }
   ],
   "source": [
    "propertynames(origin_vs_brand)"
   ]
  },
  {
   "cell_type": "markdown",
   "metadata": {},
   "source": [
    "In such situations it is easiest to refer to such columns using strings, as `Symbol`s are not super easy to write when they have to represent sequences that are not allowed as variable names as you can see above."
   ]
  },
  {
   "cell_type": "code",
   "execution_count": 27,
   "metadata": {},
   "outputs": [
    {
     "data": {
      "text/plain": [
       "37-element Vector{Union{Missing, Int64}}:\n",
       " 43\n",
       " 17\n",
       " 31\n",
       " 27\n",
       " 48\n",
       " 16\n",
       " 28\n",
       "  3\n",
       "  1\n",
       " 11\n",
       "  ⋮\n",
       "   missing\n",
       "   missing\n",
       "   missing\n",
       "   missing\n",
       "   missing\n",
       "   missing\n",
       "   missing\n",
       "   missing\n",
       "   missing"
      ]
     },
     "metadata": {},
     "output_type": "display_data"
    }
   ],
   "source": [
    "origin_vs_brand.\"1.0\""
   ]
  },
  {
   "cell_type": "markdown",
   "metadata": {},
   "source": [
    "Finally let us show that columns of a data frame can hold any data type."
   ]
  },
  {
   "cell_type": "code",
   "execution_count": 28,
   "metadata": {},
   "outputs": [
    {
     "data": {
      "text/html": [
       "<div><div style = \"float: left;\"><span>3×2 DataFrame</span></div><div style = \"clear: both;\"></div></div><div class = \"data-frame\" style = \"overflow-x: scroll;\"><table class = \"data-frame\" style = \"margin-bottom: 6px;\"><thead><tr class = \"header\"><th class = \"rowNumber\" style = \"font-weight: bold; text-align: right;\">Row</th><th style = \"text-align: left;\">origin</th><th style = \"text-align: left;\">brand_function</th></tr><tr class = \"subheader headerLastRow\"><th class = \"rowNumber\" style = \"font-weight: bold; text-align: right;\"></th><th title = \"Float64\" style = \"text-align: left;\">Float64</th><th title = \"Vector{String15}\" style = \"text-align: left;\">Array…</th></tr></thead><tbody><tr><td class = \"rowNumber\" style = \"font-weight: bold; text-align: right;\">1</td><td style = \"text-align: right;\">1.0</td><td style = \"text-align: left;\">String15[&quot;chevrolet&quot;, &quot;buick&quot;, &quot;plymouth&quot;, &quot;amc&quot;, &quot;ford&quot;, &quot;pontiac&quot;, &quot;dodge&quot;, &quot;chevy&quot;, &quot;hi&quot;, &quot;mercury&quot;, &quot;oldsmobile&quot;, &quot;chrysler&quot;, &quot;chevroelt&quot;, &quot;capri&quot;, &quot;cadillac&quot;]</td></tr><tr><td class = \"rowNumber\" style = \"font-weight: bold; text-align: right;\">2</td><td style = \"text-align: right;\">2.0</td><td style = \"text-align: left;\">String15[&quot;volkswagen&quot;, &quot;peugeot&quot;, &quot;audi&quot;, &quot;saab&quot;, &quot;bmw&quot;, &quot;opel&quot;, &quot;fiat&quot;, &quot;volvo&quot;, &quot;renault&quot;, &quot;vw&quot;, &quot;mercedes-benz&quot;, &quot;mercedes&quot;, &quot;vokswagen&quot;, &quot;triumph&quot;]</td></tr><tr><td class = \"rowNumber\" style = \"font-weight: bold; text-align: right;\">3</td><td style = \"text-align: right;\">3.0</td><td style = \"text-align: left;\">String15[&quot;toyota&quot;, &quot;datsun&quot;, &quot;mazda&quot;, &quot;toyouta&quot;, &quot;maxda&quot;, &quot;honda&quot;, &quot;subaru&quot;, &quot;nissan&quot;]</td></tr></tbody></table></div>"
      ],
      "text/latex": [
       "\\begin{tabular}{r|cc}\n",
       "\t& origin & brand\\_function\\\\\n",
       "\t\\hline\n",
       "\t& Float64 & Array…\\\\\n",
       "\t\\hline\n",
       "\t1 & 1.0 & [\"chevrolet\", \"buick\", \"plymouth\", \"amc\", \"ford\", \"pontiac\", \"dodge\", \"chevy\", \"hi\", \"mercury\", \"oldsmobile\", \"chrysler\", \"chevroelt\", \"capri\", \"cadillac\"] \\\\\n",
       "\t2 & 2.0 & [\"volkswagen\", \"peugeot\", \"audi\", \"saab\", \"bmw\", \"opel\", \"fiat\", \"volvo\", \"renault\", \"vw\", \"mercedes-benz\", \"mercedes\", \"vokswagen\", \"triumph\"] \\\\\n",
       "\t3 & 3.0 & [\"toyota\", \"datsun\", \"mazda\", \"toyouta\", \"maxda\", \"honda\", \"subaru\", \"nissan\"] \\\\\n",
       "\\end{tabular}\n"
      ],
      "text/plain": [
       "\u001b[1m3×2 DataFrame\u001b[0m\n",
       "\u001b[1m Row \u001b[0m│\u001b[1m origin  \u001b[0m\u001b[1m brand_function                    \u001b[0m\n",
       "     │\u001b[90m Float64 \u001b[0m\u001b[90m Array…                            \u001b[0m\n",
       "─────┼────────────────────────────────────────────\n",
       "   1 │     1.0  String15[\"chevrolet\", \"buick\", \"…\n",
       "   2 │     2.0  String15[\"volkswagen\", \"peugeot\"…\n",
       "   3 │     3.0  String15[\"toyota\", \"datsun\", \"ma…"
      ]
     },
     "metadata": {},
     "output_type": "display_data"
    }
   ],
   "source": [
    "origin_brand3 = @pipe df |>\n",
    "                      groupby(_, :origin) |>\n",
    "                      combine(_, :brand => x -> Ref(unique(x)))"
   ]
  },
  {
   "cell_type": "markdown",
   "metadata": {},
   "source": [
    "Note that we used `Ref` to protect the return value of our function to be broadcasted (this is the same trick as in standard broadcasting in Julia). Otherwise we would get:"
   ]
  },
  {
   "cell_type": "code",
   "execution_count": 29,
   "metadata": {},
   "outputs": [
    {
     "data": {
      "text/html": [
       "<div><div style = \"float: left;\"><span>37×2 DataFrame</span></div><div style = \"float: right;\"><span style = \"font-style: italic;\">12 rows omitted</span></div><div style = \"clear: both;\"></div></div><div class = \"data-frame\" style = \"overflow-x: scroll;\"><table class = \"data-frame\" style = \"margin-bottom: 6px;\"><thead><tr class = \"header\"><th class = \"rowNumber\" style = \"font-weight: bold; text-align: right;\">Row</th><th style = \"text-align: left;\">origin</th><th style = \"text-align: left;\">brand_unique</th></tr><tr class = \"subheader headerLastRow\"><th class = \"rowNumber\" style = \"font-weight: bold; text-align: right;\"></th><th title = \"Float64\" style = \"text-align: left;\">Float64</th><th title = \"String15\" style = \"text-align: left;\">String15</th></tr></thead><tbody><tr><td class = \"rowNumber\" style = \"font-weight: bold; text-align: right;\">1</td><td style = \"text-align: right;\">1.0</td><td style = \"text-align: left;\">chevrolet</td></tr><tr><td class = \"rowNumber\" style = \"font-weight: bold; text-align: right;\">2</td><td style = \"text-align: right;\">1.0</td><td style = \"text-align: left;\">buick</td></tr><tr><td class = \"rowNumber\" style = \"font-weight: bold; text-align: right;\">3</td><td style = \"text-align: right;\">1.0</td><td style = \"text-align: left;\">plymouth</td></tr><tr><td class = \"rowNumber\" style = \"font-weight: bold; text-align: right;\">4</td><td style = \"text-align: right;\">1.0</td><td style = \"text-align: left;\">amc</td></tr><tr><td class = \"rowNumber\" style = \"font-weight: bold; text-align: right;\">5</td><td style = \"text-align: right;\">1.0</td><td style = \"text-align: left;\">ford</td></tr><tr><td class = \"rowNumber\" style = \"font-weight: bold; text-align: right;\">6</td><td style = \"text-align: right;\">1.0</td><td style = \"text-align: left;\">pontiac</td></tr><tr><td class = \"rowNumber\" style = \"font-weight: bold; text-align: right;\">7</td><td style = \"text-align: right;\">1.0</td><td style = \"text-align: left;\">dodge</td></tr><tr><td class = \"rowNumber\" style = \"font-weight: bold; text-align: right;\">8</td><td style = \"text-align: right;\">1.0</td><td style = \"text-align: left;\">chevy</td></tr><tr><td class = \"rowNumber\" style = \"font-weight: bold; text-align: right;\">9</td><td style = \"text-align: right;\">1.0</td><td style = \"text-align: left;\">hi</td></tr><tr><td class = \"rowNumber\" style = \"font-weight: bold; text-align: right;\">10</td><td style = \"text-align: right;\">1.0</td><td style = \"text-align: left;\">mercury</td></tr><tr><td class = \"rowNumber\" style = \"font-weight: bold; text-align: right;\">11</td><td style = \"text-align: right;\">1.0</td><td style = \"text-align: left;\">oldsmobile</td></tr><tr><td class = \"rowNumber\" style = \"font-weight: bold; text-align: right;\">12</td><td style = \"text-align: right;\">1.0</td><td style = \"text-align: left;\">chrysler</td></tr><tr><td class = \"rowNumber\" style = \"font-weight: bold; text-align: right;\">13</td><td style = \"text-align: right;\">1.0</td><td style = \"text-align: left;\">chevroelt</td></tr><tr><td style = \"text-align: right;\">&vellip;</td><td style = \"text-align: right;\">&vellip;</td><td style = \"text-align: right;\">&vellip;</td></tr><tr><td class = \"rowNumber\" style = \"font-weight: bold; text-align: right;\">26</td><td style = \"text-align: right;\">2.0</td><td style = \"text-align: left;\">mercedes-benz</td></tr><tr><td class = \"rowNumber\" style = \"font-weight: bold; text-align: right;\">27</td><td style = \"text-align: right;\">2.0</td><td style = \"text-align: left;\">mercedes</td></tr><tr><td class = \"rowNumber\" style = \"font-weight: bold; text-align: right;\">28</td><td style = \"text-align: right;\">2.0</td><td style = \"text-align: left;\">vokswagen</td></tr><tr><td class = \"rowNumber\" style = \"font-weight: bold; text-align: right;\">29</td><td style = \"text-align: right;\">2.0</td><td style = \"text-align: left;\">triumph</td></tr><tr><td class = \"rowNumber\" style = \"font-weight: bold; text-align: right;\">30</td><td style = \"text-align: right;\">3.0</td><td style = \"text-align: left;\">toyota</td></tr><tr><td class = \"rowNumber\" style = \"font-weight: bold; text-align: right;\">31</td><td style = \"text-align: right;\">3.0</td><td style = \"text-align: left;\">datsun</td></tr><tr><td class = \"rowNumber\" style = \"font-weight: bold; text-align: right;\">32</td><td style = \"text-align: right;\">3.0</td><td style = \"text-align: left;\">mazda</td></tr><tr><td class = \"rowNumber\" style = \"font-weight: bold; text-align: right;\">33</td><td style = \"text-align: right;\">3.0</td><td style = \"text-align: left;\">toyouta</td></tr><tr><td class = \"rowNumber\" style = \"font-weight: bold; text-align: right;\">34</td><td style = \"text-align: right;\">3.0</td><td style = \"text-align: left;\">maxda</td></tr><tr><td class = \"rowNumber\" style = \"font-weight: bold; text-align: right;\">35</td><td style = \"text-align: right;\">3.0</td><td style = \"text-align: left;\">honda</td></tr><tr><td class = \"rowNumber\" style = \"font-weight: bold; text-align: right;\">36</td><td style = \"text-align: right;\">3.0</td><td style = \"text-align: left;\">subaru</td></tr><tr><td class = \"rowNumber\" style = \"font-weight: bold; text-align: right;\">37</td><td style = \"text-align: right;\">3.0</td><td style = \"text-align: left;\">nissan</td></tr></tbody></table></div>"
      ],
      "text/latex": [
       "\\begin{tabular}{r|cc}\n",
       "\t& origin & brand\\_unique\\\\\n",
       "\t\\hline\n",
       "\t& Float64 & String15\\\\\n",
       "\t\\hline\n",
       "\t1 & 1.0 & chevrolet \\\\\n",
       "\t2 & 1.0 & buick \\\\\n",
       "\t3 & 1.0 & plymouth \\\\\n",
       "\t4 & 1.0 & amc \\\\\n",
       "\t5 & 1.0 & ford \\\\\n",
       "\t6 & 1.0 & pontiac \\\\\n",
       "\t7 & 1.0 & dodge \\\\\n",
       "\t8 & 1.0 & chevy \\\\\n",
       "\t9 & 1.0 & hi \\\\\n",
       "\t10 & 1.0 & mercury \\\\\n",
       "\t11 & 1.0 & oldsmobile \\\\\n",
       "\t12 & 1.0 & chrysler \\\\\n",
       "\t13 & 1.0 & chevroelt \\\\\n",
       "\t14 & 1.0 & capri \\\\\n",
       "\t15 & 1.0 & cadillac \\\\\n",
       "\t16 & 2.0 & volkswagen \\\\\n",
       "\t17 & 2.0 & peugeot \\\\\n",
       "\t18 & 2.0 & audi \\\\\n",
       "\t19 & 2.0 & saab \\\\\n",
       "\t20 & 2.0 & bmw \\\\\n",
       "\t21 & 2.0 & opel \\\\\n",
       "\t22 & 2.0 & fiat \\\\\n",
       "\t23 & 2.0 & volvo \\\\\n",
       "\t24 & 2.0 & renault \\\\\n",
       "\t$\\dots$ & $\\dots$ & $\\dots$ \\\\\n",
       "\\end{tabular}\n"
      ],
      "text/plain": [
       "\u001b[1m37×2 DataFrame\u001b[0m\n",
       "\u001b[1m Row \u001b[0m│\u001b[1m origin  \u001b[0m\u001b[1m brand_unique \u001b[0m\n",
       "     │\u001b[90m Float64 \u001b[0m\u001b[90m String15     \u001b[0m\n",
       "─────┼───────────────────────\n",
       "   1 │     1.0  chevrolet\n",
       "   2 │     1.0  buick\n",
       "   3 │     1.0  plymouth\n",
       "   4 │     1.0  amc\n",
       "   5 │     1.0  ford\n",
       "   6 │     1.0  pontiac\n",
       "   7 │     1.0  dodge\n",
       "   8 │     1.0  chevy\n",
       "  ⋮  │    ⋮          ⋮\n",
       "  31 │     3.0  datsun\n",
       "  32 │     3.0  mazda\n",
       "  33 │     3.0  toyouta\n",
       "  34 │     3.0  maxda\n",
       "  35 │     3.0  honda\n",
       "  36 │     3.0  subaru\n",
       "  37 │     3.0  nissan\n",
       "\u001b[36m              22 rows omitted\u001b[0m"
      ]
     },
     "metadata": {},
     "output_type": "display_data"
    }
   ],
   "source": [
    "@pipe df |> groupby(_, :origin) |> combine(_, :brand => unique)"
   ]
  },
  {
   "cell_type": "markdown",
   "metadata": {},
   "source": [
    "Now we check if the groups are pairwise disjoint (this is a bit tricky, but it is much fun to be able to write such code in Julia):"
   ]
  },
  {
   "cell_type": "code",
   "execution_count": 30,
   "metadata": {},
   "outputs": [
    {
     "name": "stdout",
     "output_type": "stream",
     "text": [
      "1 vs 2 => String15[]\n",
      "1 vs 3 => String15[]\n",
      "2 vs 3 => String15[]\n"
     ]
    }
   ],
   "source": [
    "for i in axes(origin_brand3, 1)\n",
    "    for j in i+1:nrow(origin_brand3)\n",
    "        println(\"$i vs $j => \", intersect(origin_brand3.brand_function[[i,j]]...))\n",
    "    end\n",
    "end"
   ]
  },
  {
   "cell_type": "markdown",
   "metadata": {},
   "source": [
    "We can also easily flatten the `origin_brand3` data frame so that `brand_function` column is expanded to span multiple rows (the case we have seen above when we omitted writing `Ref` in `combine`)"
   ]
  },
  {
   "cell_type": "code",
   "execution_count": 31,
   "metadata": {},
   "outputs": [
    {
     "data": {
      "text/html": [
       "<div><div style = \"float: left;\"><span>37×2 DataFrame</span></div><div style = \"float: right;\"><span style = \"font-style: italic;\">12 rows omitted</span></div><div style = \"clear: both;\"></div></div><div class = \"data-frame\" style = \"overflow-x: scroll;\"><table class = \"data-frame\" style = \"margin-bottom: 6px;\"><thead><tr class = \"header\"><th class = \"rowNumber\" style = \"font-weight: bold; text-align: right;\">Row</th><th style = \"text-align: left;\">origin</th><th style = \"text-align: left;\">brand_function</th></tr><tr class = \"subheader headerLastRow\"><th class = \"rowNumber\" style = \"font-weight: bold; text-align: right;\"></th><th title = \"Float64\" style = \"text-align: left;\">Float64</th><th title = \"String15\" style = \"text-align: left;\">String15</th></tr></thead><tbody><tr><td class = \"rowNumber\" style = \"font-weight: bold; text-align: right;\">1</td><td style = \"text-align: right;\">1.0</td><td style = \"text-align: left;\">chevrolet</td></tr><tr><td class = \"rowNumber\" style = \"font-weight: bold; text-align: right;\">2</td><td style = \"text-align: right;\">1.0</td><td style = \"text-align: left;\">buick</td></tr><tr><td class = \"rowNumber\" style = \"font-weight: bold; text-align: right;\">3</td><td style = \"text-align: right;\">1.0</td><td style = \"text-align: left;\">plymouth</td></tr><tr><td class = \"rowNumber\" style = \"font-weight: bold; text-align: right;\">4</td><td style = \"text-align: right;\">1.0</td><td style = \"text-align: left;\">amc</td></tr><tr><td class = \"rowNumber\" style = \"font-weight: bold; text-align: right;\">5</td><td style = \"text-align: right;\">1.0</td><td style = \"text-align: left;\">ford</td></tr><tr><td class = \"rowNumber\" style = \"font-weight: bold; text-align: right;\">6</td><td style = \"text-align: right;\">1.0</td><td style = \"text-align: left;\">pontiac</td></tr><tr><td class = \"rowNumber\" style = \"font-weight: bold; text-align: right;\">7</td><td style = \"text-align: right;\">1.0</td><td style = \"text-align: left;\">dodge</td></tr><tr><td class = \"rowNumber\" style = \"font-weight: bold; text-align: right;\">8</td><td style = \"text-align: right;\">1.0</td><td style = \"text-align: left;\">chevy</td></tr><tr><td class = \"rowNumber\" style = \"font-weight: bold; text-align: right;\">9</td><td style = \"text-align: right;\">1.0</td><td style = \"text-align: left;\">hi</td></tr><tr><td class = \"rowNumber\" style = \"font-weight: bold; text-align: right;\">10</td><td style = \"text-align: right;\">1.0</td><td style = \"text-align: left;\">mercury</td></tr><tr><td class = \"rowNumber\" style = \"font-weight: bold; text-align: right;\">11</td><td style = \"text-align: right;\">1.0</td><td style = \"text-align: left;\">oldsmobile</td></tr><tr><td class = \"rowNumber\" style = \"font-weight: bold; text-align: right;\">12</td><td style = \"text-align: right;\">1.0</td><td style = \"text-align: left;\">chrysler</td></tr><tr><td class = \"rowNumber\" style = \"font-weight: bold; text-align: right;\">13</td><td style = \"text-align: right;\">1.0</td><td style = \"text-align: left;\">chevroelt</td></tr><tr><td style = \"text-align: right;\">&vellip;</td><td style = \"text-align: right;\">&vellip;</td><td style = \"text-align: right;\">&vellip;</td></tr><tr><td class = \"rowNumber\" style = \"font-weight: bold; text-align: right;\">26</td><td style = \"text-align: right;\">2.0</td><td style = \"text-align: left;\">mercedes-benz</td></tr><tr><td class = \"rowNumber\" style = \"font-weight: bold; text-align: right;\">27</td><td style = \"text-align: right;\">2.0</td><td style = \"text-align: left;\">mercedes</td></tr><tr><td class = \"rowNumber\" style = \"font-weight: bold; text-align: right;\">28</td><td style = \"text-align: right;\">2.0</td><td style = \"text-align: left;\">vokswagen</td></tr><tr><td class = \"rowNumber\" style = \"font-weight: bold; text-align: right;\">29</td><td style = \"text-align: right;\">2.0</td><td style = \"text-align: left;\">triumph</td></tr><tr><td class = \"rowNumber\" style = \"font-weight: bold; text-align: right;\">30</td><td style = \"text-align: right;\">3.0</td><td style = \"text-align: left;\">toyota</td></tr><tr><td class = \"rowNumber\" style = \"font-weight: bold; text-align: right;\">31</td><td style = \"text-align: right;\">3.0</td><td style = \"text-align: left;\">datsun</td></tr><tr><td class = \"rowNumber\" style = \"font-weight: bold; text-align: right;\">32</td><td style = \"text-align: right;\">3.0</td><td style = \"text-align: left;\">mazda</td></tr><tr><td class = \"rowNumber\" style = \"font-weight: bold; text-align: right;\">33</td><td style = \"text-align: right;\">3.0</td><td style = \"text-align: left;\">toyouta</td></tr><tr><td class = \"rowNumber\" style = \"font-weight: bold; text-align: right;\">34</td><td style = \"text-align: right;\">3.0</td><td style = \"text-align: left;\">maxda</td></tr><tr><td class = \"rowNumber\" style = \"font-weight: bold; text-align: right;\">35</td><td style = \"text-align: right;\">3.0</td><td style = \"text-align: left;\">honda</td></tr><tr><td class = \"rowNumber\" style = \"font-weight: bold; text-align: right;\">36</td><td style = \"text-align: right;\">3.0</td><td style = \"text-align: left;\">subaru</td></tr><tr><td class = \"rowNumber\" style = \"font-weight: bold; text-align: right;\">37</td><td style = \"text-align: right;\">3.0</td><td style = \"text-align: left;\">nissan</td></tr></tbody></table></div>"
      ],
      "text/latex": [
       "\\begin{tabular}{r|cc}\n",
       "\t& origin & brand\\_function\\\\\n",
       "\t\\hline\n",
       "\t& Float64 & String15\\\\\n",
       "\t\\hline\n",
       "\t1 & 1.0 & chevrolet \\\\\n",
       "\t2 & 1.0 & buick \\\\\n",
       "\t3 & 1.0 & plymouth \\\\\n",
       "\t4 & 1.0 & amc \\\\\n",
       "\t5 & 1.0 & ford \\\\\n",
       "\t6 & 1.0 & pontiac \\\\\n",
       "\t7 & 1.0 & dodge \\\\\n",
       "\t8 & 1.0 & chevy \\\\\n",
       "\t9 & 1.0 & hi \\\\\n",
       "\t10 & 1.0 & mercury \\\\\n",
       "\t11 & 1.0 & oldsmobile \\\\\n",
       "\t12 & 1.0 & chrysler \\\\\n",
       "\t13 & 1.0 & chevroelt \\\\\n",
       "\t14 & 1.0 & capri \\\\\n",
       "\t15 & 1.0 & cadillac \\\\\n",
       "\t16 & 2.0 & volkswagen \\\\\n",
       "\t17 & 2.0 & peugeot \\\\\n",
       "\t18 & 2.0 & audi \\\\\n",
       "\t19 & 2.0 & saab \\\\\n",
       "\t20 & 2.0 & bmw \\\\\n",
       "\t21 & 2.0 & opel \\\\\n",
       "\t22 & 2.0 & fiat \\\\\n",
       "\t23 & 2.0 & volvo \\\\\n",
       "\t24 & 2.0 & renault \\\\\n",
       "\t$\\dots$ & $\\dots$ & $\\dots$ \\\\\n",
       "\\end{tabular}\n"
      ],
      "text/plain": [
       "\u001b[1m37×2 DataFrame\u001b[0m\n",
       "\u001b[1m Row \u001b[0m│\u001b[1m origin  \u001b[0m\u001b[1m brand_function \u001b[0m\n",
       "     │\u001b[90m Float64 \u001b[0m\u001b[90m String15       \u001b[0m\n",
       "─────┼─────────────────────────\n",
       "   1 │     1.0  chevrolet\n",
       "   2 │     1.0  buick\n",
       "   3 │     1.0  plymouth\n",
       "   4 │     1.0  amc\n",
       "   5 │     1.0  ford\n",
       "   6 │     1.0  pontiac\n",
       "   7 │     1.0  dodge\n",
       "   8 │     1.0  chevy\n",
       "  ⋮  │    ⋮           ⋮\n",
       "  31 │     3.0  datsun\n",
       "  32 │     3.0  mazda\n",
       "  33 │     3.0  toyouta\n",
       "  34 │     3.0  maxda\n",
       "  35 │     3.0  honda\n",
       "  36 │     3.0  subaru\n",
       "  37 │     3.0  nissan\n",
       "\u001b[36m                22 rows omitted\u001b[0m"
      ]
     },
     "metadata": {},
     "output_type": "display_data"
    }
   ],
   "source": [
    "flatten(origin_brand3, :brand_function)"
   ]
  }
 ],
 "metadata": {
  "kernelspec": {
   "display_name": "Julia 1.10.2",
   "language": "julia",
   "name": "julia-1.10"
  },
  "language_info": {
   "file_extension": ".jl",
   "mimetype": "application/julia",
   "name": "julia",
   "version": "1.10.2"
  }
 },
 "nbformat": 4,
 "nbformat_minor": 4
}
