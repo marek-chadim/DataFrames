{
 "cells": [
  {
   "cell_type": "markdown",
   "metadata": {},
   "source": [
    "# Collecting experiments data in a data frame\n",
    "\n",
    "### Bogumił Kamiński"
   ]
  },
  {
   "cell_type": "code",
   "execution_count": 1,
   "metadata": {},
   "outputs": [
    {
     "ename": "Base.Meta.ParseError",
     "evalue": "ParseError:\n# Error @ c:\\Users\\chadi\\OneDrive - Handelshögskolan i Stockholm\\GitHub\\JuliaAcademy\\DataFrames\\5. Collecting experiments data in a data frame.ipynb:1:1\n] activate .\n╙ ── unexpected `]`",
     "output_type": "error",
     "traceback": [
      "ParseError:\n",
      "# Error @ c:\\Users\\chadi\\OneDrive - Handelshögskolan i Stockholm\\GitHub\\JuliaAcademy\\DataFrames\\5. Collecting experiments data in a data frame.ipynb:1:1\n",
      "] activate .\n",
      "╙ ── unexpected `]`\n",
      "\n",
      "Stacktrace:\n",
      " [1] top-level scope\n",
      "   @ c:\\Users\\chadi\\OneDrive - Handelshögskolan i Stockholm\\GitHub\\JuliaAcademy\\DataFrames\\5. Collecting experiments data in a data frame.ipynb:1"
     ]
    }
   ],
   "source": [
    "] activate ."
   ]
  },
  {
   "cell_type": "code",
   "execution_count": 24,
   "metadata": {},
   "outputs": [],
   "source": [
    "using DataFrames"
   ]
  },
  {
   "cell_type": "code",
   "execution_count": 48,
   "metadata": {},
   "outputs": [],
   "source": [
    "using Statistics"
   ]
  },
  {
   "cell_type": "code",
   "execution_count": 27,
   "metadata": {},
   "outputs": [],
   "source": [
    "using PyPlot"
   ]
  },
  {
   "cell_type": "markdown",
   "metadata": {},
   "source": [
    "<div class=\"alert alert-block alert-info\">\n",
    "    <p><b>PyPlot.jl configuration:</b></p>\n",
    "    <p>In some environments automatic installation of PyPlot.jl might fail. If you encounter this ussue please refer to <a href=\"https://github.com/JuliaPy/PyPlot.jl#installation\">the PyPlot.jl installation instructions</a>. </p>\n",
    "</div>\n",
    "\n",
    "In particular typically executing the following commands:\n",
    "\n",
    "```\n",
    "using Pkg\n",
    "ENV[\"PYTHON\"]=\"\"\n",
    "Pkg.build(\"PyCall\")\n",
    "```\n",
    "\n",
    "should resolve the PyPlot.jl installation issues. However, on OS X sometimes more configuration steps are required. You can find the detailed instructions [here](https://github.com/JuliaPy/PyPlot.jl#os-x)."
   ]
  },
  {
   "cell_type": "code",
   "execution_count": 28,
   "metadata": {},
   "outputs": [],
   "source": [
    "using Random"
   ]
  },
  {
   "cell_type": "code",
   "execution_count": 29,
   "metadata": {},
   "outputs": [],
   "source": [
    "using Pipe"
   ]
  },
  {
   "cell_type": "markdown",
   "metadata": {},
   "source": [
    "In this part we will run a simple Monte Carlo simulation so show examples how one can work with data frames."
   ]
  },
  {
   "cell_type": "markdown",
   "metadata": {},
   "source": [
    "Consider the following puzzle.\n",
    "\n",
    "We draw independent random numbers from $U(0,1)$ distribution. On the average, how many draws do we need, till the sum of these numbers exceeds $1$?"
   ]
  },
  {
   "cell_type": "markdown",
   "metadata": {},
   "source": [
    "Here is the code that runs this experiment once. For tutorial reasons we keep all the generated random numbers and recalculate their sum in each iteration (you can try to improve the efficiency of this code as an exercise)."
   ]
  },
  {
   "cell_type": "code",
   "execution_count": 30,
   "metadata": {},
   "outputs": [
    {
     "data": {
      "text/plain": [
       "sim_e (generic function with 1 method)"
      ]
     },
     "metadata": {},
     "output_type": "display_data"
    }
   ],
   "source": [
    "function sim_e()\n",
    "    draw = Float64[]\n",
    "    while true\n",
    "        push!(draw, rand())\n",
    "        sum(draw) > 1.0 && return draw\n",
    "    end\n",
    "end"
   ]
  },
  {
   "cell_type": "code",
   "execution_count": 31,
   "metadata": {},
   "outputs": [],
   "source": [
    "Random.seed!(1234); # just to make sure we get the same results if we are on the same version of Julia"
   ]
  },
  {
   "cell_type": "markdown",
   "metadata": {},
   "source": [
    "Let us run our simulation several times:"
   ]
  },
  {
   "cell_type": "code",
   "execution_count": 32,
   "metadata": {},
   "outputs": [
    {
     "data": {
      "text/plain": [
       "5-element Vector{Vector{Float64}}:\n",
       " [0.32597672886359486, 0.5490511363155669, 0.21858665481883066]\n",
       " [0.8942454282009883, 0.35311164439921205]\n",
       " [0.39425536741585077, 0.9531246272848422]\n",
       " [0.7955469475347194, 0.4942498668904206]\n",
       " [0.7484150218874741, 0.5782319465613976]"
      ]
     },
     "metadata": {},
     "output_type": "display_data"
    }
   ],
   "source": [
    "res = [sim_e() for _ in 1:5]"
   ]
  },
  {
   "cell_type": "markdown",
   "metadata": {},
   "source": [
    "and check that each time we finished just when we exceeded $1$:"
   ]
  },
  {
   "cell_type": "code",
   "execution_count": 33,
   "metadata": {},
   "outputs": [
    {
     "data": {
      "text/plain": [
       "5-element Vector{Float64}:\n",
       " 1.0936145199979923\n",
       " 1.2473570726002003\n",
       " 1.347379994700693\n",
       " 1.2897968144251402\n",
       " 1.3266469684488718"
      ]
     },
     "metadata": {},
     "output_type": "display_data"
    }
   ],
   "source": [
    "sum.(res)"
   ]
  },
  {
   "cell_type": "code",
   "execution_count": 35,
   "metadata": {},
   "outputs": [
    {
     "data": {
      "text/plain": [
       "5-element Vector{Float64}:\n",
       " 0.8750278651791616\n",
       " 0.8942454282009883\n",
       " 0.3942553674158509\n",
       " 0.7955469475347196\n",
       " 0.7484150218874741"
      ]
     },
     "metadata": {},
     "output_type": "display_data"
    }
   ],
   "source": [
    "@. sum(res) - last(res)"
   ]
  },
  {
   "cell_type": "markdown",
   "metadata": {},
   "source": [
    "All looks good so far! (and as a bonus we have just made a small exercise in broadcasting)"
   ]
  },
  {
   "cell_type": "markdown",
   "metadata": {},
   "source": [
    "Now let us populate a data frame with the results of our experiments"
   ]
  },
  {
   "cell_type": "code",
   "execution_count": 36,
   "metadata": {},
   "outputs": [
    {
     "name": "stdout",
     "output_type": "stream",
     "text": [
      " 13.634973 seconds (120.00 M allocations: 4.012 GiB, 28.01% gc time)\n"
     ]
    }
   ],
   "source": [
    "df = DataFrame()\n",
    "\n",
    "@time for i in 1:10^7\n",
    "    push!(df, (id=i, pos=sim_e()))\n",
    "end"
   ]
  },
  {
   "cell_type": "markdown",
   "metadata": {},
   "source": [
    "As you can see the process was quite fast, `push!`-ing data to a `DataFrame` is efficient."
   ]
  },
  {
   "cell_type": "code",
   "execution_count": 13,
   "metadata": {},
   "outputs": [
    {
     "data": {
      "text/html": [
       "<div><div style = \"float: left;\"><span>10000000×2 DataFrame</span></div><div style = \"float: right;\"><span style = \"font-style: italic;\">9999975 rows omitted</span></div><div style = \"clear: both;\"></div></div><div class = \"data-frame\" style = \"overflow-x: scroll;\"><table class = \"data-frame\" style = \"margin-bottom: 6px;\"><thead><tr class = \"header\"><th class = \"rowNumber\" style = \"font-weight: bold; text-align: right;\">Row</th><th style = \"text-align: left;\">id</th><th style = \"text-align: left;\">pos</th></tr><tr class = \"subheader headerLastRow\"><th class = \"rowNumber\" style = \"font-weight: bold; text-align: right;\"></th><th title = \"Int64\" style = \"text-align: left;\">Int64</th><th title = \"Vector{Float64}\" style = \"text-align: left;\">Array…</th></tr></thead><tbody><tr><td class = \"rowNumber\" style = \"font-weight: bold; text-align: right;\">1</td><td style = \"text-align: right;\">1</td><td style = \"text-align: left;\">[0.727935, 0.00744801, 0.199377, 0.439243]</td></tr><tr><td class = \"rowNumber\" style = \"font-weight: bold; text-align: right;\">2</td><td style = \"text-align: right;\">2</td><td style = \"text-align: left;\">[0.682533, 0.956741]</td></tr><tr><td class = \"rowNumber\" style = \"font-weight: bold; text-align: right;\">3</td><td style = \"text-align: right;\">3</td><td style = \"text-align: left;\">[0.647855, 0.996665]</td></tr><tr><td class = \"rowNumber\" style = \"font-weight: bold; text-align: right;\">4</td><td style = \"text-align: right;\">4</td><td style = \"text-align: left;\">[0.749194, 0.110084, 0.491383]</td></tr><tr><td class = \"rowNumber\" style = \"font-weight: bold; text-align: right;\">5</td><td style = \"text-align: right;\">5</td><td style = \"text-align: left;\">[0.565145, 0.253812, 0.626794]</td></tr><tr><td class = \"rowNumber\" style = \"font-weight: bold; text-align: right;\">6</td><td style = \"text-align: right;\">6</td><td style = \"text-align: left;\">[0.234105, 0.124792, 0.609875, 0.672793]</td></tr><tr><td class = \"rowNumber\" style = \"font-weight: bold; text-align: right;\">7</td><td style = \"text-align: right;\">7</td><td style = \"text-align: left;\">[0.761916, 0.588872]</td></tr><tr><td class = \"rowNumber\" style = \"font-weight: bold; text-align: right;\">8</td><td style = \"text-align: right;\">8</td><td style = \"text-align: left;\">[0.365854, 0.131026, 0.946453]</td></tr><tr><td class = \"rowNumber\" style = \"font-weight: bold; text-align: right;\">9</td><td style = \"text-align: right;\">9</td><td style = \"text-align: left;\">[0.574323, 0.67765]</td></tr><tr><td class = \"rowNumber\" style = \"font-weight: bold; text-align: right;\">10</td><td style = \"text-align: right;\">10</td><td style = \"text-align: left;\">[0.571586, 0.0727161, 0.701116]</td></tr><tr><td class = \"rowNumber\" style = \"font-weight: bold; text-align: right;\">11</td><td style = \"text-align: right;\">11</td><td style = \"text-align: left;\">[0.0952175, 0.845515, 0.348995]</td></tr><tr><td class = \"rowNumber\" style = \"font-weight: bold; text-align: right;\">12</td><td style = \"text-align: right;\">12</td><td style = \"text-align: left;\">[0.768308, 0.26906]</td></tr><tr><td class = \"rowNumber\" style = \"font-weight: bold; text-align: right;\">13</td><td style = \"text-align: right;\">13</td><td style = \"text-align: left;\">[0.539631, 0.293905, 0.242195]</td></tr><tr><td style = \"text-align: right;\">&vellip;</td><td style = \"text-align: right;\">&vellip;</td><td style = \"text-align: right;\">&vellip;</td></tr><tr><td class = \"rowNumber\" style = \"font-weight: bold; text-align: right;\">9999989</td><td style = \"text-align: right;\">9999989</td><td style = \"text-align: left;\">[0.383955, 0.70686]</td></tr><tr><td class = \"rowNumber\" style = \"font-weight: bold; text-align: right;\">9999990</td><td style = \"text-align: right;\">9999990</td><td style = \"text-align: left;\">[0.193813, 0.649544, 0.539589]</td></tr><tr><td class = \"rowNumber\" style = \"font-weight: bold; text-align: right;\">9999991</td><td style = \"text-align: right;\">9999991</td><td style = \"text-align: left;\">[0.382258, 0.901623]</td></tr><tr><td class = \"rowNumber\" style = \"font-weight: bold; text-align: right;\">9999992</td><td style = \"text-align: right;\">9999992</td><td style = \"text-align: left;\">[0.640595, 0.916399]</td></tr><tr><td class = \"rowNumber\" style = \"font-weight: bold; text-align: right;\">9999993</td><td style = \"text-align: right;\">9999993</td><td style = \"text-align: left;\">[0.963508, 0.301685]</td></tr><tr><td class = \"rowNumber\" style = \"font-weight: bold; text-align: right;\">9999994</td><td style = \"text-align: right;\">9999994</td><td style = \"text-align: left;\">[0.846778, 0.328575]</td></tr><tr><td class = \"rowNumber\" style = \"font-weight: bold; text-align: right;\">9999995</td><td style = \"text-align: right;\">9999995</td><td style = \"text-align: left;\">[0.251749, 0.28344, 0.16416, 0.618446]</td></tr><tr><td class = \"rowNumber\" style = \"font-weight: bold; text-align: right;\">9999996</td><td style = \"text-align: right;\">9999996</td><td style = \"text-align: left;\">[0.383316, 0.352557, 0.470778]</td></tr><tr><td class = \"rowNumber\" style = \"font-weight: bold; text-align: right;\">9999997</td><td style = \"text-align: right;\">9999997</td><td style = \"text-align: left;\">[0.362197, 0.639499]</td></tr><tr><td class = \"rowNumber\" style = \"font-weight: bold; text-align: right;\">9999998</td><td style = \"text-align: right;\">9999998</td><td style = \"text-align: left;\">[0.046897, 0.552855, 0.172669, 0.156109, 0.799254]</td></tr><tr><td class = \"rowNumber\" style = \"font-weight: bold; text-align: right;\">9999999</td><td style = \"text-align: right;\">9999999</td><td style = \"text-align: left;\">[0.815608, 0.663247]</td></tr><tr><td class = \"rowNumber\" style = \"font-weight: bold; text-align: right;\">10000000</td><td style = \"text-align: right;\">10000000</td><td style = \"text-align: left;\">[0.61177, 0.5798]</td></tr></tbody></table></div>"
      ],
      "text/latex": [
       "\\begin{tabular}{r|cc}\n",
       "\t& id & pos\\\\\n",
       "\t\\hline\n",
       "\t& Int64 & Array…\\\\\n",
       "\t\\hline\n",
       "\t1 & 1 & [0.727935, 0.00744801, 0.199377, 0.439243] \\\\\n",
       "\t2 & 2 & [0.682533, 0.956741] \\\\\n",
       "\t3 & 3 & [0.647855, 0.996665] \\\\\n",
       "\t4 & 4 & [0.749194, 0.110084, 0.491383] \\\\\n",
       "\t5 & 5 & [0.565145, 0.253812, 0.626794] \\\\\n",
       "\t6 & 6 & [0.234105, 0.124792, 0.609875, 0.672793] \\\\\n",
       "\t7 & 7 & [0.761916, 0.588872] \\\\\n",
       "\t8 & 8 & [0.365854, 0.131026, 0.946453] \\\\\n",
       "\t9 & 9 & [0.574323, 0.67765] \\\\\n",
       "\t10 & 10 & [0.571586, 0.0727161, 0.701116] \\\\\n",
       "\t11 & 11 & [0.0952175, 0.845515, 0.348995] \\\\\n",
       "\t12 & 12 & [0.768308, 0.26906] \\\\\n",
       "\t13 & 13 & [0.539631, 0.293905, 0.242195] \\\\\n",
       "\t14 & 14 & [0.97807, 0.853242] \\\\\n",
       "\t15 & 15 & [0.706065, 0.442139] \\\\\n",
       "\t16 & 16 & [0.884577, 0.520741] \\\\\n",
       "\t17 & 17 & [0.941831, 0.810699] \\\\\n",
       "\t18 & 18 & [0.464849, 0.977012] \\\\\n",
       "\t19 & 19 & [0.500161, 0.715846] \\\\\n",
       "\t20 & 20 & [0.18985, 0.376441, 0.565864] \\\\\n",
       "\t21 & 21 & [0.172236, 0.327351, 0.632108] \\\\\n",
       "\t22 & 22 & [0.374141, 0.728543] \\\\\n",
       "\t23 & 23 & [0.00277646, 0.134685, 0.531899, 0.0731709, 0.501756] \\\\\n",
       "\t24 & 24 & [0.906939, 0.116769] \\\\\n",
       "\t$\\dots$ & $\\dots$ & $\\dots$ \\\\\n",
       "\\end{tabular}\n"
      ],
      "text/plain": [
       "\u001b[1m10000000×2 DataFrame\u001b[0m\n",
       "\u001b[1m      Row \u001b[0m│\u001b[1m id       \u001b[0m\u001b[1m pos                               \u001b[0m\n",
       "          │\u001b[90m Int64    \u001b[0m\u001b[90m Array…                            \u001b[0m\n",
       "──────────┼─────────────────────────────────────────────\n",
       "        1 │        1  [0.727935, 0.00744801, 0.199377,…\n",
       "        2 │        2  [0.682533, 0.956741]\n",
       "        3 │        3  [0.647855, 0.996665]\n",
       "        4 │        4  [0.749194, 0.110084, 0.491383]\n",
       "        5 │        5  [0.565145, 0.253812, 0.626794]\n",
       "        6 │        6  [0.234105, 0.124792, 0.609875, 0…\n",
       "        7 │        7  [0.761916, 0.588872]\n",
       "        8 │        8  [0.365854, 0.131026, 0.946453]\n",
       "    ⋮     │    ⋮                      ⋮\n",
       "  9999994 │  9999994  [0.846778, 0.328575]\n",
       "  9999995 │  9999995  [0.251749, 0.28344, 0.16416, 0.6…\n",
       "  9999996 │  9999996  [0.383316, 0.352557, 0.470778]\n",
       "  9999997 │  9999997  [0.362197, 0.639499]\n",
       "  9999998 │  9999998  [0.046897, 0.552855, 0.172669, 0…\n",
       "  9999999 │  9999999  [0.815608, 0.663247]\n",
       " 10000000 │ 10000000  [0.61177, 0.5798]\n",
       "\u001b[36m                                    9999985 rows omitted\u001b[0m"
      ]
     },
     "metadata": {},
     "output_type": "display_data"
    }
   ],
   "source": [
    "df"
   ]
  },
  {
   "cell_type": "markdown",
   "metadata": {},
   "source": [
    "Let us count the number of jumps we have made in each step using the `transform!` function:"
   ]
  },
  {
   "cell_type": "code",
   "execution_count": 39,
   "metadata": {
    "scrolled": false
   },
   "outputs": [
    {
     "data": {
      "text/html": [
       "<div><div style = \"float: left;\"><span>10000000×3 DataFrame</span></div><div style = \"float: right;\"><span style = \"font-style: italic;\">9999975 rows omitted</span></div><div style = \"clear: both;\"></div></div><div class = \"data-frame\" style = \"overflow-x: scroll;\"><table class = \"data-frame\" style = \"margin-bottom: 6px;\"><thead><tr class = \"header\"><th class = \"rowNumber\" style = \"font-weight: bold; text-align: right;\">Row</th><th style = \"text-align: left;\">id</th><th style = \"text-align: left;\">pos</th><th style = \"text-align: left;\">jumps</th></tr><tr class = \"subheader headerLastRow\"><th class = \"rowNumber\" style = \"font-weight: bold; text-align: right;\"></th><th title = \"Int64\" style = \"text-align: left;\">Int64</th><th title = \"Vector{Float64}\" style = \"text-align: left;\">Array…</th><th title = \"Int64\" style = \"text-align: left;\">Int64</th></tr></thead><tbody><tr><td class = \"rowNumber\" style = \"font-weight: bold; text-align: right;\">1</td><td style = \"text-align: right;\">1</td><td style = \"text-align: left;\">[0.727935, 0.00744801, 0.199377, 0.439243]</td><td style = \"text-align: right;\">4</td></tr><tr><td class = \"rowNumber\" style = \"font-weight: bold; text-align: right;\">2</td><td style = \"text-align: right;\">2</td><td style = \"text-align: left;\">[0.682533, 0.956741]</td><td style = \"text-align: right;\">2</td></tr><tr><td class = \"rowNumber\" style = \"font-weight: bold; text-align: right;\">3</td><td style = \"text-align: right;\">3</td><td style = \"text-align: left;\">[0.647855, 0.996665]</td><td style = \"text-align: right;\">2</td></tr><tr><td class = \"rowNumber\" style = \"font-weight: bold; text-align: right;\">4</td><td style = \"text-align: right;\">4</td><td style = \"text-align: left;\">[0.749194, 0.110084, 0.491383]</td><td style = \"text-align: right;\">3</td></tr><tr><td class = \"rowNumber\" style = \"font-weight: bold; text-align: right;\">5</td><td style = \"text-align: right;\">5</td><td style = \"text-align: left;\">[0.565145, 0.253812, 0.626794]</td><td style = \"text-align: right;\">3</td></tr><tr><td class = \"rowNumber\" style = \"font-weight: bold; text-align: right;\">6</td><td style = \"text-align: right;\">6</td><td style = \"text-align: left;\">[0.234105, 0.124792, 0.609875, 0.672793]</td><td style = \"text-align: right;\">4</td></tr><tr><td class = \"rowNumber\" style = \"font-weight: bold; text-align: right;\">7</td><td style = \"text-align: right;\">7</td><td style = \"text-align: left;\">[0.761916, 0.588872]</td><td style = \"text-align: right;\">2</td></tr><tr><td class = \"rowNumber\" style = \"font-weight: bold; text-align: right;\">8</td><td style = \"text-align: right;\">8</td><td style = \"text-align: left;\">[0.365854, 0.131026, 0.946453]</td><td style = \"text-align: right;\">3</td></tr><tr><td class = \"rowNumber\" style = \"font-weight: bold; text-align: right;\">9</td><td style = \"text-align: right;\">9</td><td style = \"text-align: left;\">[0.574323, 0.67765]</td><td style = \"text-align: right;\">2</td></tr><tr><td class = \"rowNumber\" style = \"font-weight: bold; text-align: right;\">10</td><td style = \"text-align: right;\">10</td><td style = \"text-align: left;\">[0.571586, 0.0727161, 0.701116]</td><td style = \"text-align: right;\">3</td></tr><tr><td class = \"rowNumber\" style = \"font-weight: bold; text-align: right;\">11</td><td style = \"text-align: right;\">11</td><td style = \"text-align: left;\">[0.0952175, 0.845515, 0.348995]</td><td style = \"text-align: right;\">3</td></tr><tr><td class = \"rowNumber\" style = \"font-weight: bold; text-align: right;\">12</td><td style = \"text-align: right;\">12</td><td style = \"text-align: left;\">[0.768308, 0.26906]</td><td style = \"text-align: right;\">2</td></tr><tr><td class = \"rowNumber\" style = \"font-weight: bold; text-align: right;\">13</td><td style = \"text-align: right;\">13</td><td style = \"text-align: left;\">[0.539631, 0.293905, 0.242195]</td><td style = \"text-align: right;\">3</td></tr><tr><td style = \"text-align: right;\">&vellip;</td><td style = \"text-align: right;\">&vellip;</td><td style = \"text-align: right;\">&vellip;</td><td style = \"text-align: right;\">&vellip;</td></tr><tr><td class = \"rowNumber\" style = \"font-weight: bold; text-align: right;\">9999989</td><td style = \"text-align: right;\">9999989</td><td style = \"text-align: left;\">[0.383955, 0.70686]</td><td style = \"text-align: right;\">2</td></tr><tr><td class = \"rowNumber\" style = \"font-weight: bold; text-align: right;\">9999990</td><td style = \"text-align: right;\">9999990</td><td style = \"text-align: left;\">[0.193813, 0.649544, 0.539589]</td><td style = \"text-align: right;\">3</td></tr><tr><td class = \"rowNumber\" style = \"font-weight: bold; text-align: right;\">9999991</td><td style = \"text-align: right;\">9999991</td><td style = \"text-align: left;\">[0.382258, 0.901623]</td><td style = \"text-align: right;\">2</td></tr><tr><td class = \"rowNumber\" style = \"font-weight: bold; text-align: right;\">9999992</td><td style = \"text-align: right;\">9999992</td><td style = \"text-align: left;\">[0.640595, 0.916399]</td><td style = \"text-align: right;\">2</td></tr><tr><td class = \"rowNumber\" style = \"font-weight: bold; text-align: right;\">9999993</td><td style = \"text-align: right;\">9999993</td><td style = \"text-align: left;\">[0.963508, 0.301685]</td><td style = \"text-align: right;\">2</td></tr><tr><td class = \"rowNumber\" style = \"font-weight: bold; text-align: right;\">9999994</td><td style = \"text-align: right;\">9999994</td><td style = \"text-align: left;\">[0.846778, 0.328575]</td><td style = \"text-align: right;\">2</td></tr><tr><td class = \"rowNumber\" style = \"font-weight: bold; text-align: right;\">9999995</td><td style = \"text-align: right;\">9999995</td><td style = \"text-align: left;\">[0.251749, 0.28344, 0.16416, 0.618446]</td><td style = \"text-align: right;\">4</td></tr><tr><td class = \"rowNumber\" style = \"font-weight: bold; text-align: right;\">9999996</td><td style = \"text-align: right;\">9999996</td><td style = \"text-align: left;\">[0.383316, 0.352557, 0.470778]</td><td style = \"text-align: right;\">3</td></tr><tr><td class = \"rowNumber\" style = \"font-weight: bold; text-align: right;\">9999997</td><td style = \"text-align: right;\">9999997</td><td style = \"text-align: left;\">[0.362197, 0.639499]</td><td style = \"text-align: right;\">2</td></tr><tr><td class = \"rowNumber\" style = \"font-weight: bold; text-align: right;\">9999998</td><td style = \"text-align: right;\">9999998</td><td style = \"text-align: left;\">[0.046897, 0.552855, 0.172669, 0.156109, 0.799254]</td><td style = \"text-align: right;\">5</td></tr><tr><td class = \"rowNumber\" style = \"font-weight: bold; text-align: right;\">9999999</td><td style = \"text-align: right;\">9999999</td><td style = \"text-align: left;\">[0.815608, 0.663247]</td><td style = \"text-align: right;\">2</td></tr><tr><td class = \"rowNumber\" style = \"font-weight: bold; text-align: right;\">10000000</td><td style = \"text-align: right;\">10000000</td><td style = \"text-align: left;\">[0.61177, 0.5798]</td><td style = \"text-align: right;\">2</td></tr></tbody></table></div>"
      ],
      "text/latex": [
       "\\begin{tabular}{r|ccc}\n",
       "\t& id & pos & jumps\\\\\n",
       "\t\\hline\n",
       "\t& Int64 & Array… & Int64\\\\\n",
       "\t\\hline\n",
       "\t1 & 1 & [0.727935, 0.00744801, 0.199377, 0.439243] & 4 \\\\\n",
       "\t2 & 2 & [0.682533, 0.956741] & 2 \\\\\n",
       "\t3 & 3 & [0.647855, 0.996665] & 2 \\\\\n",
       "\t4 & 4 & [0.749194, 0.110084, 0.491383] & 3 \\\\\n",
       "\t5 & 5 & [0.565145, 0.253812, 0.626794] & 3 \\\\\n",
       "\t6 & 6 & [0.234105, 0.124792, 0.609875, 0.672793] & 4 \\\\\n",
       "\t7 & 7 & [0.761916, 0.588872] & 2 \\\\\n",
       "\t8 & 8 & [0.365854, 0.131026, 0.946453] & 3 \\\\\n",
       "\t9 & 9 & [0.574323, 0.67765] & 2 \\\\\n",
       "\t10 & 10 & [0.571586, 0.0727161, 0.701116] & 3 \\\\\n",
       "\t11 & 11 & [0.0952175, 0.845515, 0.348995] & 3 \\\\\n",
       "\t12 & 12 & [0.768308, 0.26906] & 2 \\\\\n",
       "\t13 & 13 & [0.539631, 0.293905, 0.242195] & 3 \\\\\n",
       "\t14 & 14 & [0.97807, 0.853242] & 2 \\\\\n",
       "\t15 & 15 & [0.706065, 0.442139] & 2 \\\\\n",
       "\t16 & 16 & [0.884577, 0.520741] & 2 \\\\\n",
       "\t17 & 17 & [0.941831, 0.810699] & 2 \\\\\n",
       "\t18 & 18 & [0.464849, 0.977012] & 2 \\\\\n",
       "\t19 & 19 & [0.500161, 0.715846] & 2 \\\\\n",
       "\t20 & 20 & [0.18985, 0.376441, 0.565864] & 3 \\\\\n",
       "\t21 & 21 & [0.172236, 0.327351, 0.632108] & 3 \\\\\n",
       "\t22 & 22 & [0.374141, 0.728543] & 2 \\\\\n",
       "\t23 & 23 & [0.00277646, 0.134685, 0.531899, 0.0731709, 0.501756] & 5 \\\\\n",
       "\t24 & 24 & [0.906939, 0.116769] & 2 \\\\\n",
       "\t$\\dots$ & $\\dots$ & $\\dots$ & $\\dots$ \\\\\n",
       "\\end{tabular}\n"
      ],
      "text/plain": [
       "\u001b[1m10000000×3 DataFrame\u001b[0m\n",
       "\u001b[1m      Row \u001b[0m│\u001b[1m id       \u001b[0m\u001b[1m pos                               \u001b[0m\u001b[1m jumps \u001b[0m\n",
       "          │\u001b[90m Int64    \u001b[0m\u001b[90m Array…                            \u001b[0m\u001b[90m Int64 \u001b[0m\n",
       "──────────┼────────────────────────────────────────────────────\n",
       "        1 │        1  [0.727935, 0.00744801, 0.199377,…      4\n",
       "        2 │        2  [0.682533, 0.956741]                   2\n",
       "        3 │        3  [0.647855, 0.996665]                   2\n",
       "        4 │        4  [0.749194, 0.110084, 0.491383]         3\n",
       "        5 │        5  [0.565145, 0.253812, 0.626794]         3\n",
       "        6 │        6  [0.234105, 0.124792, 0.609875, 0…      4\n",
       "        7 │        7  [0.761916, 0.588872]                   2\n",
       "        8 │        8  [0.365854, 0.131026, 0.946453]         3\n",
       "    ⋮     │    ⋮                      ⋮                    ⋮\n",
       "  9999994 │  9999994  [0.846778, 0.328575]                   2\n",
       "  9999995 │  9999995  [0.251749, 0.28344, 0.16416, 0.6…      4\n",
       "  9999996 │  9999996  [0.383316, 0.352557, 0.470778]         3\n",
       "  9999997 │  9999997  [0.362197, 0.639499]                   2\n",
       "  9999998 │  9999998  [0.046897, 0.552855, 0.172669, 0…      5\n",
       "  9999999 │  9999999  [0.815608, 0.663247]                   2\n",
       " 10000000 │ 10000000  [0.61177, 0.5798]                      2\n",
       "\u001b[36m                                           9999985 rows omitted\u001b[0m"
      ]
     },
     "metadata": {},
     "output_type": "display_data"
    }
   ],
   "source": [
    "transform!(df, :pos => ByRow(length) => :jumps)"
   ]
  },
  {
   "cell_type": "markdown",
   "metadata": {},
   "source": [
    "Let us dissect what we have written above:\n",
    "* `transform!` adds columns to a data frame in-place\n",
    "* `:pos` is a source column\n",
    "* `ByRow(length)` tells us that we want to apply `length` function to each element for `:pos` column (without it `length` would be applied to the whole column - can you guess what would be the result?)\n",
    "* `:jumps` is the name of the column that should be created"
   ]
  },
  {
   "cell_type": "markdown",
   "metadata": {},
   "source": [
    "Now we are ready to find the average number of jumps that are made:"
   ]
  },
  {
   "cell_type": "code",
   "execution_count": 40,
   "metadata": {},
   "outputs": [
    {
     "data": {
      "text/plain": [
       "2.7183826"
      ]
     },
     "metadata": {},
     "output_type": "display_data"
    }
   ],
   "source": [
    "mean(df.jumps)"
   ]
  },
  {
   "cell_type": "markdown",
   "metadata": {},
   "source": [
    "or"
   ]
  },
  {
   "cell_type": "code",
   "execution_count": 41,
   "metadata": {},
   "outputs": [
    {
     "data": {
      "text/html": [
       "<div><div style = \"float: left;\"><span>1×1 DataFrame</span></div><div style = \"clear: both;\"></div></div><div class = \"data-frame\" style = \"overflow-x: scroll;\"><table class = \"data-frame\" style = \"margin-bottom: 6px;\"><thead><tr class = \"header\"><th class = \"rowNumber\" style = \"font-weight: bold; text-align: right;\">Row</th><th style = \"text-align: left;\">jumps_mean</th></tr><tr class = \"subheader headerLastRow\"><th class = \"rowNumber\" style = \"font-weight: bold; text-align: right;\"></th><th title = \"Float64\" style = \"text-align: left;\">Float64</th></tr></thead><tbody><tr><td class = \"rowNumber\" style = \"font-weight: bold; text-align: right;\">1</td><td style = \"text-align: right;\">2.71838</td></tr></tbody></table></div>"
      ],
      "text/latex": [
       "\\begin{tabular}{r|c}\n",
       "\t& jumps\\_mean\\\\\n",
       "\t\\hline\n",
       "\t& Float64\\\\\n",
       "\t\\hline\n",
       "\t1 & 2.71838 \\\\\n",
       "\\end{tabular}\n"
      ],
      "text/plain": [
       "\u001b[1m1×1 DataFrame\u001b[0m\n",
       "\u001b[1m Row \u001b[0m│\u001b[1m jumps_mean \u001b[0m\n",
       "     │\u001b[90m Float64    \u001b[0m\n",
       "─────┼────────────\n",
       "   1 │    2.71838"
      ]
     },
     "metadata": {},
     "output_type": "display_data"
    }
   ],
   "source": [
    "combine(df, :jumps => mean)"
   ]
  },
  {
   "cell_type": "markdown",
   "metadata": {},
   "source": [
    "which happens to be very close to:"
   ]
  },
  {
   "cell_type": "code",
   "execution_count": 42,
   "metadata": {},
   "outputs": [
    {
     "data": {
      "text/plain": [
       "ℯ = 2.7182818284590..."
      ]
     },
     "metadata": {},
     "output_type": "display_data"
    }
   ],
   "source": [
    "MathConstants.e"
   ]
  },
  {
   "cell_type": "markdown",
   "metadata": {},
   "source": [
    "Let us now find a distribution of number of jumps:"
   ]
  },
  {
   "cell_type": "code",
   "execution_count": 43,
   "metadata": {},
   "outputs": [
    {
     "data": {
      "text/html": [
       "<div><div style = \"float: left;\"><span>10×2 DataFrame</span></div><div style = \"clear: both;\"></div></div><div class = \"data-frame\" style = \"overflow-x: scroll;\"><table class = \"data-frame\" style = \"margin-bottom: 6px;\"><thead><tr class = \"header\"><th class = \"rowNumber\" style = \"font-weight: bold; text-align: right;\">Row</th><th style = \"text-align: left;\">jumps</th><th style = \"text-align: left;\">jumps_length</th></tr><tr class = \"subheader headerLastRow\"><th class = \"rowNumber\" style = \"font-weight: bold; text-align: right;\"></th><th title = \"Int64\" style = \"text-align: left;\">Int64</th><th title = \"Int64\" style = \"text-align: left;\">Int64</th></tr></thead><tbody><tr><td class = \"rowNumber\" style = \"font-weight: bold; text-align: right;\">1</td><td style = \"text-align: right;\">2</td><td style = \"text-align: right;\">5000265</td></tr><tr><td class = \"rowNumber\" style = \"font-weight: bold; text-align: right;\">2</td><td style = \"text-align: right;\">3</td><td style = \"text-align: right;\">3332702</td></tr><tr><td class = \"rowNumber\" style = \"font-weight: bold; text-align: right;\">3</td><td style = \"text-align: right;\">4</td><td style = \"text-align: right;\">1249879</td></tr><tr><td class = \"rowNumber\" style = \"font-weight: bold; text-align: right;\">4</td><td style = \"text-align: right;\">5</td><td style = \"text-align: right;\">333412</td></tr><tr><td class = \"rowNumber\" style = \"font-weight: bold; text-align: right;\">5</td><td style = \"text-align: right;\">6</td><td style = \"text-align: right;\">69869</td></tr><tr><td class = \"rowNumber\" style = \"font-weight: bold; text-align: right;\">6</td><td style = \"text-align: right;\">7</td><td style = \"text-align: right;\">11866</td></tr><tr><td class = \"rowNumber\" style = \"font-weight: bold; text-align: right;\">7</td><td style = \"text-align: right;\">8</td><td style = \"text-align: right;\">1754</td></tr><tr><td class = \"rowNumber\" style = \"font-weight: bold; text-align: right;\">8</td><td style = \"text-align: right;\">9</td><td style = \"text-align: right;\">227</td></tr><tr><td class = \"rowNumber\" style = \"font-weight: bold; text-align: right;\">9</td><td style = \"text-align: right;\">10</td><td style = \"text-align: right;\">23</td></tr><tr><td class = \"rowNumber\" style = \"font-weight: bold; text-align: right;\">10</td><td style = \"text-align: right;\">11</td><td style = \"text-align: right;\">3</td></tr></tbody></table></div>"
      ],
      "text/latex": [
       "\\begin{tabular}{r|cc}\n",
       "\t& jumps & jumps\\_length\\\\\n",
       "\t\\hline\n",
       "\t& Int64 & Int64\\\\\n",
       "\t\\hline\n",
       "\t1 & 2 & 5000265 \\\\\n",
       "\t2 & 3 & 3332702 \\\\\n",
       "\t3 & 4 & 1249879 \\\\\n",
       "\t4 & 5 & 333412 \\\\\n",
       "\t5 & 6 & 69869 \\\\\n",
       "\t6 & 7 & 11866 \\\\\n",
       "\t7 & 8 & 1754 \\\\\n",
       "\t8 & 9 & 227 \\\\\n",
       "\t9 & 10 & 23 \\\\\n",
       "\t10 & 11 & 3 \\\\\n",
       "\\end{tabular}\n"
      ],
      "text/plain": [
       "\u001b[1m10×2 DataFrame\u001b[0m\n",
       "\u001b[1m Row \u001b[0m│\u001b[1m jumps \u001b[0m\u001b[1m jumps_length \u001b[0m\n",
       "     │\u001b[90m Int64 \u001b[0m\u001b[90m Int64        \u001b[0m\n",
       "─────┼─────────────────────\n",
       "   1 │     2       5000265\n",
       "   2 │     3       3332702\n",
       "   3 │     4       1249879\n",
       "   4 │     5        333412\n",
       "   5 │     6         69869\n",
       "   6 │     7         11866\n",
       "   7 │     8          1754\n",
       "   8 │     9           227\n",
       "   9 │    10            23\n",
       "  10 │    11             3"
      ]
     },
     "metadata": {},
     "output_type": "display_data"
    }
   ],
   "source": [
    "jumps_agg = @pipe df |>\n",
    "                  groupby(_, :jumps, sort=true) |>\n",
    "                  combine(_, :jumps => length)"
   ]
  },
  {
   "cell_type": "markdown",
   "metadata": {},
   "source": [
    "and normalize it as a fraction (and at the same time calculate some theoretical result that we have *guessed* :)):"
   ]
  },
  {
   "cell_type": "code",
   "execution_count": 53,
   "metadata": {},
   "outputs": [
    {
     "data": {
      "text/html": [
       "<div><div style = \"float: left;\"><span>10×4 DataFrame</span></div><div style = \"clear: both;\"></div></div><div class = \"data-frame\" style = \"overflow-x: scroll;\"><table class = \"data-frame\" style = \"margin-bottom: 6px;\"><thead><tr class = \"header\"><th class = \"rowNumber\" style = \"font-weight: bold; text-align: right;\">Row</th><th style = \"text-align: left;\">jumps</th><th style = \"text-align: left;\">jumps_length</th><th style = \"text-align: left;\">simulation</th><th style = \"text-align: left;\">theory</th></tr><tr class = \"subheader headerLastRow\"><th class = \"rowNumber\" style = \"font-weight: bold; text-align: right;\"></th><th title = \"Int64\" style = \"text-align: left;\">Int64</th><th title = \"Int64\" style = \"text-align: left;\">Int64</th><th title = \"Float64\" style = \"text-align: left;\">Float64</th><th title = \"Float64\" style = \"text-align: left;\">Float64</th></tr></thead><tbody><tr><td class = \"rowNumber\" style = \"font-weight: bold; text-align: right;\">1</td><td style = \"text-align: right;\">2</td><td style = \"text-align: right;\">5000265</td><td style = \"text-align: right;\">0.500027</td><td style = \"text-align: right;\">0.5</td></tr><tr><td class = \"rowNumber\" style = \"font-weight: bold; text-align: right;\">2</td><td style = \"text-align: right;\">3</td><td style = \"text-align: right;\">3332702</td><td style = \"text-align: right;\">0.33327</td><td style = \"text-align: right;\">0.333333</td></tr><tr><td class = \"rowNumber\" style = \"font-weight: bold; text-align: right;\">3</td><td style = \"text-align: right;\">4</td><td style = \"text-align: right;\">1249879</td><td style = \"text-align: right;\">0.124988</td><td style = \"text-align: right;\">0.125</td></tr><tr><td class = \"rowNumber\" style = \"font-weight: bold; text-align: right;\">4</td><td style = \"text-align: right;\">5</td><td style = \"text-align: right;\">333412</td><td style = \"text-align: right;\">0.0333412</td><td style = \"text-align: right;\">0.0333333</td></tr><tr><td class = \"rowNumber\" style = \"font-weight: bold; text-align: right;\">5</td><td style = \"text-align: right;\">6</td><td style = \"text-align: right;\">69869</td><td style = \"text-align: right;\">0.0069869</td><td style = \"text-align: right;\">0.00694444</td></tr><tr><td class = \"rowNumber\" style = \"font-weight: bold; text-align: right;\">6</td><td style = \"text-align: right;\">7</td><td style = \"text-align: right;\">11866</td><td style = \"text-align: right;\">0.0011866</td><td style = \"text-align: right;\">0.00119048</td></tr><tr><td class = \"rowNumber\" style = \"font-weight: bold; text-align: right;\">7</td><td style = \"text-align: right;\">8</td><td style = \"text-align: right;\">1754</td><td style = \"text-align: right;\">0.0001754</td><td style = \"text-align: right;\">0.000173611</td></tr><tr><td class = \"rowNumber\" style = \"font-weight: bold; text-align: right;\">8</td><td style = \"text-align: right;\">9</td><td style = \"text-align: right;\">227</td><td style = \"text-align: right;\">2.27e-5</td><td style = \"text-align: right;\">2.20459e-5</td></tr><tr><td class = \"rowNumber\" style = \"font-weight: bold; text-align: right;\">9</td><td style = \"text-align: right;\">10</td><td style = \"text-align: right;\">23</td><td style = \"text-align: right;\">2.3e-6</td><td style = \"text-align: right;\">2.48016e-6</td></tr><tr><td class = \"rowNumber\" style = \"font-weight: bold; text-align: right;\">10</td><td style = \"text-align: right;\">11</td><td style = \"text-align: right;\">3</td><td style = \"text-align: right;\">3.0e-7</td><td style = \"text-align: right;\">2.50521e-7</td></tr></tbody></table></div>"
      ],
      "text/latex": [
       "\\begin{tabular}{r|cccc}\n",
       "\t& jumps & jumps\\_length & simulation & theory\\\\\n",
       "\t\\hline\n",
       "\t& Int64 & Int64 & Float64 & Float64\\\\\n",
       "\t\\hline\n",
       "\t1 & 2 & 5000265 & 0.500027 & 0.5 \\\\\n",
       "\t2 & 3 & 3332702 & 0.33327 & 0.333333 \\\\\n",
       "\t3 & 4 & 1249879 & 0.124988 & 0.125 \\\\\n",
       "\t4 & 5 & 333412 & 0.0333412 & 0.0333333 \\\\\n",
       "\t5 & 6 & 69869 & 0.0069869 & 0.00694444 \\\\\n",
       "\t6 & 7 & 11866 & 0.0011866 & 0.00119048 \\\\\n",
       "\t7 & 8 & 1754 & 0.0001754 & 0.000173611 \\\\\n",
       "\t8 & 9 & 227 & 2.27e-5 & 2.20459e-5 \\\\\n",
       "\t9 & 10 & 23 & 2.3e-6 & 2.48016e-6 \\\\\n",
       "\t10 & 11 & 3 & 3.0e-7 & 2.50521e-7 \\\\\n",
       "\\end{tabular}\n"
      ],
      "text/plain": [
       "\u001b[1m10×4 DataFrame\u001b[0m\n",
       "\u001b[1m Row \u001b[0m│\u001b[1m jumps \u001b[0m\u001b[1m jumps_length \u001b[0m\u001b[1m simulation \u001b[0m\u001b[1m theory      \u001b[0m\n",
       "     │\u001b[90m Int64 \u001b[0m\u001b[90m Int64        \u001b[0m\u001b[90m Float64    \u001b[0m\u001b[90m Float64     \u001b[0m\n",
       "─────┼──────────────────────────────────────────────\n",
       "   1 │     2       5000265   0.500027   0.5\n",
       "   2 │     3       3332702   0.33327    0.333333\n",
       "   3 │     4       1249879   0.124988   0.125\n",
       "   4 │     5        333412   0.0333412  0.0333333\n",
       "   5 │     6         69869   0.0069869  0.00694444\n",
       "   6 │     7         11866   0.0011866  0.00119048\n",
       "   7 │     8          1754   0.0001754  0.000173611\n",
       "   8 │     9           227   2.27e-5    2.20459e-5\n",
       "   9 │    10            23   2.3e-6     2.48016e-6\n",
       "  10 │    11             3   3.0e-7     2.50521e-7"
      ]
     },
     "metadata": {},
     "output_type": "display_data"
    }
   ],
   "source": [
    "transform!(jumps_agg,\n",
    "           :jumps_length => (x -> x ./ sum(x)) => :simulation,\n",
    "           :jumps => ByRow(x -> (x-1) / factorial(x)) => :theory)"
   ]
  },
  {
   "cell_type": "markdown",
   "metadata": {},
   "source": [
    "Let us briefly justify how we have guessed it (you can safely skip the derivation):\n",
    "\n",
    "Formula\n",
    "$$\n",
    "p_n = \\frac{n-1}{n!}\n",
    "$$\n",
    "\n",
    "$$\n",
    "\\sum_{n=2}^{+\\infty}p_n=\\sum_{n=2}^{+\\infty} \\frac{n-1}{n!} = \\sum_{n=1}^{+\\infty} \\frac{1}{n!} - \\sum_{n=2}^{+\\infty} \\frac{1}{n!} = 1\n",
    "$$\n",
    "\n",
    "$$\n",
    "\\sum_{n=2}^{+\\infty}n\\cdot p_n=\\sum_{n=2}^{+\\infty} n\\frac{n-1}{n!} = \\sum_{n=2}^{+\\infty} \\frac{1}{(n-2)!} = e\n",
    "$$\n",
    "\n",
    "Now we note that:\n",
    "\n",
    "$$\n",
    "1-\\sum_{n=2}^k p_n = \\frac{1}{k!}\n",
    "$$\n",
    "which can be most easily justified by a geometric argument."
   ]
  },
  {
   "cell_type": "markdown",
   "metadata": {},
   "source": [
    "To finish this section of the tutorial let us check if random numbers generated using `rand()` were indeed $U(0,1)$."
   ]
  },
  {
   "cell_type": "markdown",
   "metadata": {},
   "source": [
    "To do this we will add some columns to `df` data frame."
   ]
  },
  {
   "cell_type": "code",
   "execution_count": 54,
   "metadata": {
    "scrolled": false
   },
   "outputs": [
    {
     "data": {
      "text/html": [
       "<div><div style = \"float: left;\"><span>10000000×3 DataFrame</span></div><div style = \"float: right;\"><span style = \"font-style: italic;\">9999975 rows omitted</span></div><div style = \"clear: both;\"></div></div><div class = \"data-frame\" style = \"overflow-x: scroll;\"><table class = \"data-frame\" style = \"margin-bottom: 6px;\"><thead><tr class = \"header\"><th class = \"rowNumber\" style = \"font-weight: bold; text-align: right;\">Row</th><th style = \"text-align: left;\">id</th><th style = \"text-align: left;\">pos</th><th style = \"text-align: left;\">jumps</th></tr><tr class = \"subheader headerLastRow\"><th class = \"rowNumber\" style = \"font-weight: bold; text-align: right;\"></th><th title = \"Int64\" style = \"text-align: left;\">Int64</th><th title = \"Vector{Float64}\" style = \"text-align: left;\">Array…</th><th title = \"Int64\" style = \"text-align: left;\">Int64</th></tr></thead><tbody><tr><td class = \"rowNumber\" style = \"font-weight: bold; text-align: right;\">1</td><td style = \"text-align: right;\">1</td><td style = \"text-align: left;\">[0.727935, 0.00744801, 0.199377, 0.439243]</td><td style = \"text-align: right;\">4</td></tr><tr><td class = \"rowNumber\" style = \"font-weight: bold; text-align: right;\">2</td><td style = \"text-align: right;\">2</td><td style = \"text-align: left;\">[0.682533, 0.956741]</td><td style = \"text-align: right;\">2</td></tr><tr><td class = \"rowNumber\" style = \"font-weight: bold; text-align: right;\">3</td><td style = \"text-align: right;\">3</td><td style = \"text-align: left;\">[0.647855, 0.996665]</td><td style = \"text-align: right;\">2</td></tr><tr><td class = \"rowNumber\" style = \"font-weight: bold; text-align: right;\">4</td><td style = \"text-align: right;\">4</td><td style = \"text-align: left;\">[0.749194, 0.110084, 0.491383]</td><td style = \"text-align: right;\">3</td></tr><tr><td class = \"rowNumber\" style = \"font-weight: bold; text-align: right;\">5</td><td style = \"text-align: right;\">5</td><td style = \"text-align: left;\">[0.565145, 0.253812, 0.626794]</td><td style = \"text-align: right;\">3</td></tr><tr><td class = \"rowNumber\" style = \"font-weight: bold; text-align: right;\">6</td><td style = \"text-align: right;\">6</td><td style = \"text-align: left;\">[0.234105, 0.124792, 0.609875, 0.672793]</td><td style = \"text-align: right;\">4</td></tr><tr><td class = \"rowNumber\" style = \"font-weight: bold; text-align: right;\">7</td><td style = \"text-align: right;\">7</td><td style = \"text-align: left;\">[0.761916, 0.588872]</td><td style = \"text-align: right;\">2</td></tr><tr><td class = \"rowNumber\" style = \"font-weight: bold; text-align: right;\">8</td><td style = \"text-align: right;\">8</td><td style = \"text-align: left;\">[0.365854, 0.131026, 0.946453]</td><td style = \"text-align: right;\">3</td></tr><tr><td class = \"rowNumber\" style = \"font-weight: bold; text-align: right;\">9</td><td style = \"text-align: right;\">9</td><td style = \"text-align: left;\">[0.574323, 0.67765]</td><td style = \"text-align: right;\">2</td></tr><tr><td class = \"rowNumber\" style = \"font-weight: bold; text-align: right;\">10</td><td style = \"text-align: right;\">10</td><td style = \"text-align: left;\">[0.571586, 0.0727161, 0.701116]</td><td style = \"text-align: right;\">3</td></tr><tr><td class = \"rowNumber\" style = \"font-weight: bold; text-align: right;\">11</td><td style = \"text-align: right;\">11</td><td style = \"text-align: left;\">[0.0952175, 0.845515, 0.348995]</td><td style = \"text-align: right;\">3</td></tr><tr><td class = \"rowNumber\" style = \"font-weight: bold; text-align: right;\">12</td><td style = \"text-align: right;\">12</td><td style = \"text-align: left;\">[0.768308, 0.26906]</td><td style = \"text-align: right;\">2</td></tr><tr><td class = \"rowNumber\" style = \"font-weight: bold; text-align: right;\">13</td><td style = \"text-align: right;\">13</td><td style = \"text-align: left;\">[0.539631, 0.293905, 0.242195]</td><td style = \"text-align: right;\">3</td></tr><tr><td style = \"text-align: right;\">&vellip;</td><td style = \"text-align: right;\">&vellip;</td><td style = \"text-align: right;\">&vellip;</td><td style = \"text-align: right;\">&vellip;</td></tr><tr><td class = \"rowNumber\" style = \"font-weight: bold; text-align: right;\">9999989</td><td style = \"text-align: right;\">9999989</td><td style = \"text-align: left;\">[0.383955, 0.70686]</td><td style = \"text-align: right;\">2</td></tr><tr><td class = \"rowNumber\" style = \"font-weight: bold; text-align: right;\">9999990</td><td style = \"text-align: right;\">9999990</td><td style = \"text-align: left;\">[0.193813, 0.649544, 0.539589]</td><td style = \"text-align: right;\">3</td></tr><tr><td class = \"rowNumber\" style = \"font-weight: bold; text-align: right;\">9999991</td><td style = \"text-align: right;\">9999991</td><td style = \"text-align: left;\">[0.382258, 0.901623]</td><td style = \"text-align: right;\">2</td></tr><tr><td class = \"rowNumber\" style = \"font-weight: bold; text-align: right;\">9999992</td><td style = \"text-align: right;\">9999992</td><td style = \"text-align: left;\">[0.640595, 0.916399]</td><td style = \"text-align: right;\">2</td></tr><tr><td class = \"rowNumber\" style = \"font-weight: bold; text-align: right;\">9999993</td><td style = \"text-align: right;\">9999993</td><td style = \"text-align: left;\">[0.963508, 0.301685]</td><td style = \"text-align: right;\">2</td></tr><tr><td class = \"rowNumber\" style = \"font-weight: bold; text-align: right;\">9999994</td><td style = \"text-align: right;\">9999994</td><td style = \"text-align: left;\">[0.846778, 0.328575]</td><td style = \"text-align: right;\">2</td></tr><tr><td class = \"rowNumber\" style = \"font-weight: bold; text-align: right;\">9999995</td><td style = \"text-align: right;\">9999995</td><td style = \"text-align: left;\">[0.251749, 0.28344, 0.16416, 0.618446]</td><td style = \"text-align: right;\">4</td></tr><tr><td class = \"rowNumber\" style = \"font-weight: bold; text-align: right;\">9999996</td><td style = \"text-align: right;\">9999996</td><td style = \"text-align: left;\">[0.383316, 0.352557, 0.470778]</td><td style = \"text-align: right;\">3</td></tr><tr><td class = \"rowNumber\" style = \"font-weight: bold; text-align: right;\">9999997</td><td style = \"text-align: right;\">9999997</td><td style = \"text-align: left;\">[0.362197, 0.639499]</td><td style = \"text-align: right;\">2</td></tr><tr><td class = \"rowNumber\" style = \"font-weight: bold; text-align: right;\">9999998</td><td style = \"text-align: right;\">9999998</td><td style = \"text-align: left;\">[0.046897, 0.552855, 0.172669, 0.156109, 0.799254]</td><td style = \"text-align: right;\">5</td></tr><tr><td class = \"rowNumber\" style = \"font-weight: bold; text-align: right;\">9999999</td><td style = \"text-align: right;\">9999999</td><td style = \"text-align: left;\">[0.815608, 0.663247]</td><td style = \"text-align: right;\">2</td></tr><tr><td class = \"rowNumber\" style = \"font-weight: bold; text-align: right;\">10000000</td><td style = \"text-align: right;\">10000000</td><td style = \"text-align: left;\">[0.61177, 0.5798]</td><td style = \"text-align: right;\">2</td></tr></tbody></table></div>"
      ],
      "text/latex": [
       "\\begin{tabular}{r|ccc}\n",
       "\t& id & pos & jumps\\\\\n",
       "\t\\hline\n",
       "\t& Int64 & Array… & Int64\\\\\n",
       "\t\\hline\n",
       "\t1 & 1 & [0.727935, 0.00744801, 0.199377, 0.439243] & 4 \\\\\n",
       "\t2 & 2 & [0.682533, 0.956741] & 2 \\\\\n",
       "\t3 & 3 & [0.647855, 0.996665] & 2 \\\\\n",
       "\t4 & 4 & [0.749194, 0.110084, 0.491383] & 3 \\\\\n",
       "\t5 & 5 & [0.565145, 0.253812, 0.626794] & 3 \\\\\n",
       "\t6 & 6 & [0.234105, 0.124792, 0.609875, 0.672793] & 4 \\\\\n",
       "\t7 & 7 & [0.761916, 0.588872] & 2 \\\\\n",
       "\t8 & 8 & [0.365854, 0.131026, 0.946453] & 3 \\\\\n",
       "\t9 & 9 & [0.574323, 0.67765] & 2 \\\\\n",
       "\t10 & 10 & [0.571586, 0.0727161, 0.701116] & 3 \\\\\n",
       "\t11 & 11 & [0.0952175, 0.845515, 0.348995] & 3 \\\\\n",
       "\t12 & 12 & [0.768308, 0.26906] & 2 \\\\\n",
       "\t13 & 13 & [0.539631, 0.293905, 0.242195] & 3 \\\\\n",
       "\t14 & 14 & [0.97807, 0.853242] & 2 \\\\\n",
       "\t15 & 15 & [0.706065, 0.442139] & 2 \\\\\n",
       "\t16 & 16 & [0.884577, 0.520741] & 2 \\\\\n",
       "\t17 & 17 & [0.941831, 0.810699] & 2 \\\\\n",
       "\t18 & 18 & [0.464849, 0.977012] & 2 \\\\\n",
       "\t19 & 19 & [0.500161, 0.715846] & 2 \\\\\n",
       "\t20 & 20 & [0.18985, 0.376441, 0.565864] & 3 \\\\\n",
       "\t21 & 21 & [0.172236, 0.327351, 0.632108] & 3 \\\\\n",
       "\t22 & 22 & [0.374141, 0.728543] & 2 \\\\\n",
       "\t23 & 23 & [0.00277646, 0.134685, 0.531899, 0.0731709, 0.501756] & 5 \\\\\n",
       "\t24 & 24 & [0.906939, 0.116769] & 2 \\\\\n",
       "\t$\\dots$ & $\\dots$ & $\\dots$ & $\\dots$ \\\\\n",
       "\\end{tabular}\n"
      ],
      "text/plain": [
       "\u001b[1m10000000×3 DataFrame\u001b[0m\n",
       "\u001b[1m      Row \u001b[0m│\u001b[1m id       \u001b[0m\u001b[1m pos                               \u001b[0m\u001b[1m jumps \u001b[0m\n",
       "          │\u001b[90m Int64    \u001b[0m\u001b[90m Array…                            \u001b[0m\u001b[90m Int64 \u001b[0m\n",
       "──────────┼────────────────────────────────────────────────────\n",
       "        1 │        1  [0.727935, 0.00744801, 0.199377,…      4\n",
       "        2 │        2  [0.682533, 0.956741]                   2\n",
       "        3 │        3  [0.647855, 0.996665]                   2\n",
       "        4 │        4  [0.749194, 0.110084, 0.491383]         3\n",
       "        5 │        5  [0.565145, 0.253812, 0.626794]         3\n",
       "        6 │        6  [0.234105, 0.124792, 0.609875, 0…      4\n",
       "        7 │        7  [0.761916, 0.588872]                   2\n",
       "        8 │        8  [0.365854, 0.131026, 0.946453]         3\n",
       "    ⋮     │    ⋮                      ⋮                    ⋮\n",
       "  9999994 │  9999994  [0.846778, 0.328575]                   2\n",
       "  9999995 │  9999995  [0.251749, 0.28344, 0.16416, 0.6…      4\n",
       "  9999996 │  9999996  [0.383316, 0.352557, 0.470778]         3\n",
       "  9999997 │  9999997  [0.362197, 0.639499]                   2\n",
       "  9999998 │  9999998  [0.046897, 0.552855, 0.172669, 0…      5\n",
       "  9999999 │  9999999  [0.815608, 0.663247]                   2\n",
       " 10000000 │ 10000000  [0.61177, 0.5798]                      2\n",
       "\u001b[36m                                           9999985 rows omitted\u001b[0m"
      ]
     },
     "metadata": {},
     "output_type": "display_data"
    }
   ],
   "source": [
    "df"
   ]
  },
  {
   "cell_type": "code",
   "execution_count": 55,
   "metadata": {},
   "outputs": [
    {
     "data": {
      "text/html": [
       "<div><div style = \"float: left;\"><span>10000000×2 DataFrame</span></div><div style = \"float: right;\"><span style = \"font-style: italic;\">9999975 rows omitted</span></div><div style = \"clear: both;\"></div></div><div class = \"data-frame\" style = \"overflow-x: scroll;\"><table class = \"data-frame\" style = \"margin-bottom: 6px;\"><thead><tr class = \"header\"><th class = \"rowNumber\" style = \"font-weight: bold; text-align: right;\">Row</th><th style = \"text-align: left;\">first</th><th style = \"text-align: left;\">last</th></tr><tr class = \"subheader headerLastRow\"><th class = \"rowNumber\" style = \"font-weight: bold; text-align: right;\"></th><th title = \"Float64\" style = \"text-align: left;\">Float64</th><th title = \"Float64\" style = \"text-align: left;\">Float64</th></tr></thead><tbody><tr><td class = \"rowNumber\" style = \"font-weight: bold; text-align: right;\">1</td><td style = \"text-align: right;\">0.727935</td><td style = \"text-align: right;\">0.439243</td></tr><tr><td class = \"rowNumber\" style = \"font-weight: bold; text-align: right;\">2</td><td style = \"text-align: right;\">0.682533</td><td style = \"text-align: right;\">0.956741</td></tr><tr><td class = \"rowNumber\" style = \"font-weight: bold; text-align: right;\">3</td><td style = \"text-align: right;\">0.647855</td><td style = \"text-align: right;\">0.996665</td></tr><tr><td class = \"rowNumber\" style = \"font-weight: bold; text-align: right;\">4</td><td style = \"text-align: right;\">0.749194</td><td style = \"text-align: right;\">0.491383</td></tr><tr><td class = \"rowNumber\" style = \"font-weight: bold; text-align: right;\">5</td><td style = \"text-align: right;\">0.565145</td><td style = \"text-align: right;\">0.626794</td></tr><tr><td class = \"rowNumber\" style = \"font-weight: bold; text-align: right;\">6</td><td style = \"text-align: right;\">0.234105</td><td style = \"text-align: right;\">0.672793</td></tr><tr><td class = \"rowNumber\" style = \"font-weight: bold; text-align: right;\">7</td><td style = \"text-align: right;\">0.761916</td><td style = \"text-align: right;\">0.588872</td></tr><tr><td class = \"rowNumber\" style = \"font-weight: bold; text-align: right;\">8</td><td style = \"text-align: right;\">0.365854</td><td style = \"text-align: right;\">0.946453</td></tr><tr><td class = \"rowNumber\" style = \"font-weight: bold; text-align: right;\">9</td><td style = \"text-align: right;\">0.574323</td><td style = \"text-align: right;\">0.67765</td></tr><tr><td class = \"rowNumber\" style = \"font-weight: bold; text-align: right;\">10</td><td style = \"text-align: right;\">0.571586</td><td style = \"text-align: right;\">0.701116</td></tr><tr><td class = \"rowNumber\" style = \"font-weight: bold; text-align: right;\">11</td><td style = \"text-align: right;\">0.0952175</td><td style = \"text-align: right;\">0.348995</td></tr><tr><td class = \"rowNumber\" style = \"font-weight: bold; text-align: right;\">12</td><td style = \"text-align: right;\">0.768308</td><td style = \"text-align: right;\">0.26906</td></tr><tr><td class = \"rowNumber\" style = \"font-weight: bold; text-align: right;\">13</td><td style = \"text-align: right;\">0.539631</td><td style = \"text-align: right;\">0.242195</td></tr><tr><td style = \"text-align: right;\">&vellip;</td><td style = \"text-align: right;\">&vellip;</td><td style = \"text-align: right;\">&vellip;</td></tr><tr><td class = \"rowNumber\" style = \"font-weight: bold; text-align: right;\">9999989</td><td style = \"text-align: right;\">0.383955</td><td style = \"text-align: right;\">0.70686</td></tr><tr><td class = \"rowNumber\" style = \"font-weight: bold; text-align: right;\">9999990</td><td style = \"text-align: right;\">0.193813</td><td style = \"text-align: right;\">0.539589</td></tr><tr><td class = \"rowNumber\" style = \"font-weight: bold; text-align: right;\">9999991</td><td style = \"text-align: right;\">0.382258</td><td style = \"text-align: right;\">0.901623</td></tr><tr><td class = \"rowNumber\" style = \"font-weight: bold; text-align: right;\">9999992</td><td style = \"text-align: right;\">0.640595</td><td style = \"text-align: right;\">0.916399</td></tr><tr><td class = \"rowNumber\" style = \"font-weight: bold; text-align: right;\">9999993</td><td style = \"text-align: right;\">0.963508</td><td style = \"text-align: right;\">0.301685</td></tr><tr><td class = \"rowNumber\" style = \"font-weight: bold; text-align: right;\">9999994</td><td style = \"text-align: right;\">0.846778</td><td style = \"text-align: right;\">0.328575</td></tr><tr><td class = \"rowNumber\" style = \"font-weight: bold; text-align: right;\">9999995</td><td style = \"text-align: right;\">0.251749</td><td style = \"text-align: right;\">0.618446</td></tr><tr><td class = \"rowNumber\" style = \"font-weight: bold; text-align: right;\">9999996</td><td style = \"text-align: right;\">0.383316</td><td style = \"text-align: right;\">0.470778</td></tr><tr><td class = \"rowNumber\" style = \"font-weight: bold; text-align: right;\">9999997</td><td style = \"text-align: right;\">0.362197</td><td style = \"text-align: right;\">0.639499</td></tr><tr><td class = \"rowNumber\" style = \"font-weight: bold; text-align: right;\">9999998</td><td style = \"text-align: right;\">0.046897</td><td style = \"text-align: right;\">0.799254</td></tr><tr><td class = \"rowNumber\" style = \"font-weight: bold; text-align: right;\">9999999</td><td style = \"text-align: right;\">0.815608</td><td style = \"text-align: right;\">0.663247</td></tr><tr><td class = \"rowNumber\" style = \"font-weight: bold; text-align: right;\">10000000</td><td style = \"text-align: right;\">0.61177</td><td style = \"text-align: right;\">0.5798</td></tr></tbody></table></div>"
      ],
      "text/latex": [
       "\\begin{tabular}{r|cc}\n",
       "\t& first & last\\\\\n",
       "\t\\hline\n",
       "\t& Float64 & Float64\\\\\n",
       "\t\\hline\n",
       "\t1 & 0.727935 & 0.439243 \\\\\n",
       "\t2 & 0.682533 & 0.956741 \\\\\n",
       "\t3 & 0.647855 & 0.996665 \\\\\n",
       "\t4 & 0.749194 & 0.491383 \\\\\n",
       "\t5 & 0.565145 & 0.626794 \\\\\n",
       "\t6 & 0.234105 & 0.672793 \\\\\n",
       "\t7 & 0.761916 & 0.588872 \\\\\n",
       "\t8 & 0.365854 & 0.946453 \\\\\n",
       "\t9 & 0.574323 & 0.67765 \\\\\n",
       "\t10 & 0.571586 & 0.701116 \\\\\n",
       "\t11 & 0.0952175 & 0.348995 \\\\\n",
       "\t12 & 0.768308 & 0.26906 \\\\\n",
       "\t13 & 0.539631 & 0.242195 \\\\\n",
       "\t14 & 0.97807 & 0.853242 \\\\\n",
       "\t15 & 0.706065 & 0.442139 \\\\\n",
       "\t16 & 0.884577 & 0.520741 \\\\\n",
       "\t17 & 0.941831 & 0.810699 \\\\\n",
       "\t18 & 0.464849 & 0.977012 \\\\\n",
       "\t19 & 0.500161 & 0.715846 \\\\\n",
       "\t20 & 0.18985 & 0.565864 \\\\\n",
       "\t21 & 0.172236 & 0.632108 \\\\\n",
       "\t22 & 0.374141 & 0.728543 \\\\\n",
       "\t23 & 0.00277646 & 0.501756 \\\\\n",
       "\t24 & 0.906939 & 0.116769 \\\\\n",
       "\t$\\dots$ & $\\dots$ & $\\dots$ \\\\\n",
       "\\end{tabular}\n"
      ],
      "text/plain": [
       "\u001b[1m10000000×2 DataFrame\u001b[0m\n",
       "\u001b[1m      Row \u001b[0m│\u001b[1m first     \u001b[0m\u001b[1m last     \u001b[0m\n",
       "          │\u001b[90m Float64   \u001b[0m\u001b[90m Float64  \u001b[0m\n",
       "──────────┼─────────────────────\n",
       "        1 │ 0.727935   0.439243\n",
       "        2 │ 0.682533   0.956741\n",
       "        3 │ 0.647855   0.996665\n",
       "        4 │ 0.749194   0.491383\n",
       "        5 │ 0.565145   0.626794\n",
       "        6 │ 0.234105   0.672793\n",
       "        7 │ 0.761916   0.588872\n",
       "        8 │ 0.365854   0.946453\n",
       "    ⋮     │     ⋮         ⋮\n",
       "  9999994 │ 0.846778   0.328575\n",
       "  9999995 │ 0.251749   0.618446\n",
       "  9999996 │ 0.383316   0.470778\n",
       "  9999997 │ 0.362197   0.639499\n",
       "  9999998 │ 0.046897   0.799254\n",
       "  9999999 │ 0.815608   0.663247\n",
       " 10000000 │ 0.61177    0.5798\n",
       "\u001b[36m            9999985 rows omitted\u001b[0m"
      ]
     },
     "metadata": {},
     "output_type": "display_data"
    }
   ],
   "source": [
    "df_test = select(df, :pos => ByRow(first) => :first, :pos => ByRow(last) => :last)"
   ]
  },
  {
   "cell_type": "code",
   "execution_count": 56,
   "metadata": {},
   "outputs": [
    {
     "ename": "ArgumentError",
     "evalue": "ArgumentError: hasproperty of NULL PyObject",
     "output_type": "error",
     "traceback": [
      "ArgumentError: hasproperty of NULL PyObject\n",
      "\n",
      "Stacktrace:\n",
      " [1] pyhasproperty(o::PyCall.PyObject, s::String)\n",
      "   @ PyCall C:\\Users\\chadi\\.julia\\packages\\PyCall\\1gn3u\\src\\PyCall.jl:371\n",
      " [2] hasproperty\n",
      "   @ C:\\Users\\chadi\\.julia\\packages\\PyCall\\1gn3u\\src\\PyCall.jl:377 [inlined]\n",
      " [3] hist(::Vector{Float64}, ::Vararg{Any}; kws::@Kwargs{})\n",
      "   @ PyPlot C:\\Users\\chadi\\.julia\\packages\\PyPlot\\2MlrT\\src\\PyPlot.jl:191\n",
      " [4] hist(::Vector{Float64}, ::Vararg{Any})\n",
      "   @ PyPlot C:\\Users\\chadi\\.julia\\packages\\PyPlot\\2MlrT\\src\\PyPlot.jl:190\n",
      " [5] top-level scope\n",
      "   @ c:\\Users\\chadi\\OneDrive - Handelshögskolan i Stockholm\\GitHub\\JuliaAcademy\\DataFrames\\5. Collecting experiments data in a data frame.ipynb:1"
     ]
    }
   ],
   "source": [
    "hist(df_test.first, 100);"
   ]
  },
  {
   "cell_type": "markdown",
   "metadata": {},
   "source": [
    "So far all looks good. But let us look at the distribution of the last dawn random number:"
   ]
  },
  {
   "cell_type": "code",
   "execution_count": 57,
   "metadata": {},
   "outputs": [
    {
     "ename": "ArgumentError",
     "evalue": "ArgumentError: hasproperty of NULL PyObject",
     "output_type": "error",
     "traceback": [
      "ArgumentError: hasproperty of NULL PyObject\n",
      "\n",
      "Stacktrace:\n",
      " [1] pyhasproperty(o::PyCall.PyObject, s::String)\n",
      "   @ PyCall C:\\Users\\chadi\\.julia\\packages\\PyCall\\1gn3u\\src\\PyCall.jl:371\n",
      " [2] hasproperty\n",
      "   @ C:\\Users\\chadi\\.julia\\packages\\PyCall\\1gn3u\\src\\PyCall.jl:377 [inlined]\n",
      " [3] hist(::Vector{Float64}, ::Vararg{Any}; kws::@Kwargs{})\n",
      "   @ PyPlot C:\\Users\\chadi\\.julia\\packages\\PyPlot\\2MlrT\\src\\PyPlot.jl:191\n",
      " [4] hist(::Vector{Float64}, ::Vararg{Any})\n",
      "   @ PyPlot C:\\Users\\chadi\\.julia\\packages\\PyPlot\\2MlrT\\src\\PyPlot.jl:190\n",
      " [5] top-level scope\n",
      "   @ c:\\Users\\chadi\\OneDrive - Handelshögskolan i Stockholm\\GitHub\\JuliaAcademy\\DataFrames\\5. Collecting experiments data in a data frame.ipynb:1"
     ]
    }
   ],
   "source": [
    "hist(df_test.last, 100);"
   ]
  },
  {
   "cell_type": "markdown",
   "metadata": {},
   "source": [
    "So - is the `rand()` function broken for the last generated random number in each sequence or something else has made the distribution stop being uniform?"
   ]
  },
  {
   "cell_type": "markdown",
   "metadata": {},
   "source": []
  },
  {
   "cell_type": "markdown",
   "metadata": {},
   "source": []
  },
  {
   "cell_type": "markdown",
   "metadata": {},
   "source": []
  },
  {
   "cell_type": "markdown",
   "metadata": {},
   "source": []
  }
 ],
 "metadata": {
  "kernelspec": {
   "display_name": "Julia 1.10.2",
   "language": "julia",
   "name": "julia-1.10"
  },
  "language_info": {
   "file_extension": ".jl",
   "mimetype": "application/julia",
   "name": "julia",
   "version": "1.10.2"
  }
 },
 "nbformat": 4,
 "nbformat_minor": 4
}
